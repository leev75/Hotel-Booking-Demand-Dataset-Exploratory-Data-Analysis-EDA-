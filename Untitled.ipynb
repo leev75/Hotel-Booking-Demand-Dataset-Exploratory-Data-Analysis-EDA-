{
 "cells": [
  {
   "cell_type": "markdown",
   "id": "981c5957-2dc9-4659-a613-25cc3547acce",
   "metadata": {},
   "source": [
    "# Import the dataset"
   ]
  },
  {
   "cell_type": "code",
   "execution_count": null,
   "id": "bbe0bc06-6787-4a85-8776-7e59475f1742",
   "metadata": {},
   "outputs": [],
   "source": [
    "import pandas as pd\n",
    "import numpy as np\n",
    "from scipy.stats import norm\n",
    "import seaborn as sns\n",
    "import matplotlib.pyplot as plt\n",
    "from scipy.stats import lognorm\n",
    "from sklearn.preprocessing import LabelEncoder\n",
    "\n",
    "df = pd.read_csv("hotel_booking.csv")"
   ]
  },
  {
   "cell_type": "markdown",
   "id": "d0f922b3-1fc8-463b-9514-634efb903022",
   "metadata": {},
   "source": [
    "## Overview of the dataset"
   ]
  },
  {
   "cell_type": "code",
   "execution_count": 4,
   "id": "a36915f6-6c81-49c2-bc56-fd29b247f81c",
   "metadata": {},
   "outputs": [
    {
     "name": "stdout",
     "output_type": "stream",
     "text": [
      "(119390, 36)\n"
     ]
    }
   ],
   "source": [
    "print(df.shape)"
   ]
  },
  {
   "cell_type": "markdown",
   "id": "f9b71eba-ad43-41ff-b38d-fb0691df54e8",
   "metadata": {},
   "source": [
    "#### Interpretation\n",
    "we can see that our dataset has 119390 rows and 36 columns.\n",
    "\n",
    "the column names in the dataset : "
   ]
  },
  {
   "cell_type": "code",
   "execution_count": 6,
   "id": "240f0253-4bb4-4a29-a9ff-1da18d5dabd2",
   "metadata": {},
   "outputs": [
    {
     "name": "stdout",
     "output_type": "stream",
     "text": [
      "Index(['hotel', 'is_canceled', 'lead_time', 'arrival_date_year',\n",
      "       'arrival_date_month', 'arrival_date_week_number',\n",
      "       'arrival_date_day_of_month', 'stays_in_weekend_nights',\n",
      "       'stays_in_week_nights', 'adults', 'children', 'babies', 'meal',\n",
      "       'country', 'market_segment', 'distribution_channel',\n",
      "       'is_repeated_guest', 'previous_cancellations',\n",
      "       'previous_bookings_not_canceled', 'reserved_room_type',\n",
      "       'assigned_room_type', 'booking_changes', 'deposit_type', 'agent',\n",
      "       'company', 'days_in_waiting_list', 'customer_type', 'adr',\n",
      "       'required_car_parking_spaces', 'total_of_special_requests',\n",
      "       'reservation_status', 'reservation_status_date', 'name', 'email',\n",
      "       'phone-number', 'credit_card'],\n",
      "      dtype='object')\n"
     ]
    }
   ],
   "source": [
    "print(df.columns)\n"
   ]
  },
  {
   "cell_type": "code",
   "execution_count": 7,
   "id": "f43e470a-d127-4770-bbca-f792989c9ad8",
   "metadata": {},
   "outputs": [
    {
     "data": {
      "text/html": [
       "<div>\n",
       "<style scoped>\n",
       "    .dataframe tbody tr th:only-of-type {\n",
       "        vertical-align: middle;\n",
       "    }\n",
       "\n",
       "    .dataframe tbody tr th {\n",
       "        vertical-align: top;\n",
       "    }\n",
       "\n",
       "    .dataframe thead th {\n",
       "        text-align: right;\n",
       "    }\n",
       "</style>\n",
       "<table border=\"1\" class=\"dataframe\">\n",
       "  <thead>\n",
       "    <tr style=\"text-align: right;\">\n",
       "      <th></th>\n",
       "      <th>hotel</th>\n",
       "      <th>is_canceled</th>\n",
       "      <th>lead_time</th>\n",
       "      <th>arrival_date_year</th>\n",
       "      <th>arrival_date_month</th>\n",
       "      <th>arrival_date_week_number</th>\n",
       "      <th>arrival_date_day_of_month</th>\n",
       "      <th>stays_in_weekend_nights</th>\n",
       "      <th>stays_in_week_nights</th>\n",
       "      <th>adults</th>\n",
       "      <th>...</th>\n",
       "      <th>customer_type</th>\n",
       "      <th>adr</th>\n",
       "      <th>required_car_parking_spaces</th>\n",
       "      <th>total_of_special_requests</th>\n",
       "      <th>reservation_status</th>\n",
       "      <th>reservation_status_date</th>\n",
       "      <th>name</th>\n",
       "      <th>email</th>\n",
       "      <th>phone-number</th>\n",
       "      <th>credit_card</th>\n",
       "    </tr>\n",
       "  </thead>\n",
       "  <tbody>\n",
       "    <tr>\n",
       "      <th>0</th>\n",
       "      <td>Resort Hotel</td>\n",
       "      <td>0</td>\n",
       "      <td>342</td>\n",
       "      <td>2015</td>\n",
       "      <td>July</td>\n",
       "      <td>27</td>\n",
       "      <td>1</td>\n",
       "      <td>0</td>\n",
       "      <td>0</td>\n",
       "      <td>2</td>\n",
       "      <td>...</td>\n",
       "      <td>Transient</td>\n",
       "      <td>0.0</td>\n",
       "      <td>0</td>\n",
       "      <td>0</td>\n",
       "      <td>Check-Out</td>\n",
       "      <td>2015-07-01</td>\n",
       "      <td>Ernest Barnes</td>\n",
       "      <td>Ernest.Barnes31@outlook.com</td>\n",
       "      <td>669-792-1661</td>\n",
       "      <td>************4322</td>\n",
       "    </tr>\n",
       "    <tr>\n",
       "      <th>1</th>\n",
       "      <td>Resort Hotel</td>\n",
       "      <td>0</td>\n",
       "      <td>737</td>\n",
       "      <td>2015</td>\n",
       "      <td>July</td>\n",
       "      <td>27</td>\n",
       "      <td>1</td>\n",
       "      <td>0</td>\n",
       "      <td>0</td>\n",
       "      <td>2</td>\n",
       "      <td>...</td>\n",
       "      <td>Transient</td>\n",
       "      <td>0.0</td>\n",
       "      <td>0</td>\n",
       "      <td>0</td>\n",
       "      <td>Check-Out</td>\n",
       "      <td>2015-07-01</td>\n",
       "      <td>Andrea Baker</td>\n",
       "      <td>Andrea_Baker94@aol.com</td>\n",
       "      <td>858-637-6955</td>\n",
       "      <td>************9157</td>\n",
       "    </tr>\n",
       "    <tr>\n",
       "      <th>2</th>\n",
       "      <td>Resort Hotel</td>\n",
       "      <td>0</td>\n",
       "      <td>7</td>\n",
       "      <td>2015</td>\n",
       "      <td>July</td>\n",
       "      <td>27</td>\n",
       "      <td>1</td>\n",
       "      <td>0</td>\n",
       "      <td>1</td>\n",
       "      <td>1</td>\n",
       "      <td>...</td>\n",
       "      <td>Transient</td>\n",
       "      <td>75.0</td>\n",
       "      <td>0</td>\n",
       "      <td>0</td>\n",
       "      <td>Check-Out</td>\n",
       "      <td>2015-07-02</td>\n",
       "      <td>Rebecca Parker</td>\n",
       "      <td>Rebecca_Parker@comcast.net</td>\n",
       "      <td>652-885-2745</td>\n",
       "      <td>************3734</td>\n",
       "    </tr>\n",
       "    <tr>\n",
       "      <th>3</th>\n",
       "      <td>Resort Hotel</td>\n",
       "      <td>0</td>\n",
       "      <td>13</td>\n",
       "      <td>2015</td>\n",
       "      <td>July</td>\n",
       "      <td>27</td>\n",
       "      <td>1</td>\n",
       "      <td>0</td>\n",
       "      <td>1</td>\n",
       "      <td>1</td>\n",
       "      <td>...</td>\n",
       "      <td>Transient</td>\n",
       "      <td>75.0</td>\n",
       "      <td>0</td>\n",
       "      <td>0</td>\n",
       "      <td>Check-Out</td>\n",
       "      <td>2015-07-02</td>\n",
       "      <td>Laura Murray</td>\n",
       "      <td>Laura_M@gmail.com</td>\n",
       "      <td>364-656-8427</td>\n",
       "      <td>************5677</td>\n",
       "    </tr>\n",
       "    <tr>\n",
       "      <th>4</th>\n",
       "      <td>Resort Hotel</td>\n",
       "      <td>0</td>\n",
       "      <td>14</td>\n",
       "      <td>2015</td>\n",
       "      <td>July</td>\n",
       "      <td>27</td>\n",
       "      <td>1</td>\n",
       "      <td>0</td>\n",
       "      <td>2</td>\n",
       "      <td>2</td>\n",
       "      <td>...</td>\n",
       "      <td>Transient</td>\n",
       "      <td>98.0</td>\n",
       "      <td>0</td>\n",
       "      <td>1</td>\n",
       "      <td>Check-Out</td>\n",
       "      <td>2015-07-03</td>\n",
       "      <td>Linda Hines</td>\n",
       "      <td>LHines@verizon.com</td>\n",
       "      <td>713-226-5883</td>\n",
       "      <td>************5498</td>\n",
       "    </tr>\n",
       "  </tbody>\n",
       "</table>\n",
       "<p>5 rows × 36 columns</p>\n",
       "</div>"
      ],
      "text/plain": [
       "          hotel  is_canceled  lead_time  arrival_date_year arrival_date_month  \\\n",
       "0  Resort Hotel            0        342               2015               July   \n",
       "1  Resort Hotel            0        737               2015               July   \n",
       "2  Resort Hotel            0          7               2015               July   \n",
       "3  Resort Hotel            0         13               2015               July   \n",
       "4  Resort Hotel            0         14               2015               July   \n",
       "\n",
       "   arrival_date_week_number  arrival_date_day_of_month  \\\n",
       "0                        27                          1   \n",
       "1                        27                          1   \n",
       "2                        27                          1   \n",
       "3                        27                          1   \n",
       "4                        27                          1   \n",
       "\n",
       "   stays_in_weekend_nights  stays_in_week_nights  adults  ...  customer_type  \\\n",
       "0                        0                     0       2  ...      Transient   \n",
       "1                        0                     0       2  ...      Transient   \n",
       "2                        0                     1       1  ...      Transient   \n",
       "3                        0                     1       1  ...      Transient   \n",
       "4                        0                     2       2  ...      Transient   \n",
       "\n",
       "    adr required_car_parking_spaces total_of_special_requests  \\\n",
       "0   0.0                           0                         0   \n",
       "1   0.0                           0                         0   \n",
       "2  75.0                           0                         0   \n",
       "3  75.0                           0                         0   \n",
       "4  98.0                           0                         1   \n",
       "\n",
       "  reservation_status reservation_status_date            name  \\\n",
       "0          Check-Out              2015-07-01   Ernest Barnes   \n",
       "1          Check-Out              2015-07-01    Andrea Baker   \n",
       "2          Check-Out              2015-07-02  Rebecca Parker   \n",
       "3          Check-Out              2015-07-02    Laura Murray   \n",
       "4          Check-Out              2015-07-03     Linda Hines   \n",
       "\n",
       "                         email  phone-number       credit_card  \n",
       "0  Ernest.Barnes31@outlook.com  669-792-1661  ************4322  \n",
       "1       Andrea_Baker94@aol.com  858-637-6955  ************9157  \n",
       "2   Rebecca_Parker@comcast.net  652-885-2745  ************3734  \n",
       "3            Laura_M@gmail.com  364-656-8427  ************5677  \n",
       "4           LHines@verizon.com  713-226-5883  ************5498  \n",
       "\n",
       "[5 rows x 36 columns]"
      ]
     },
     "execution_count": 7,
     "metadata": {},
     "output_type": "execute_result"
    }
   ],
   "source": [
    "df.head(5)\n"
   ]
  },
  {
   "cell_type": "markdown",
   "id": "e1748bfd-0bbe-4211-84bf-89195d466400",
   "metadata": {},
   "source": [
    "## summary of the dataset"
   ]
  },
  {
   "cell_type": "code",
   "execution_count": 9,
   "id": "96def4ad-7dab-4c01-8a1d-5fe4298346ee",
   "metadata": {},
   "outputs": [
    {
     "name": "stdout",
     "output_type": "stream",
     "text": [
      "<class 'pandas.core.frame.DataFrame'>\n",
      "RangeIndex: 119390 entries, 0 to 119389\n",
      "Data columns (total 36 columns):\n",
      " #   Column                          Non-Null Count   Dtype  \n",
      "---  ------                          --------------   -----  \n",
      " 0   hotel                           119390 non-null  object \n",
      " 1   is_canceled                     119390 non-null  int64  \n",
      " 2   lead_time                       119390 non-null  int64  \n",
      " 3   arrival_date_year               119390 non-null  int64  \n",
      " 4   arrival_date_month              119390 non-null  object \n",
      " 5   arrival_date_week_number        119390 non-null  int64  \n",
      " 6   arrival_date_day_of_month       119390 non-null  int64  \n",
      " 7   stays_in_weekend_nights         119390 non-null  int64  \n",
      " 8   stays_in_week_nights            119390 non-null  int64  \n",
      " 9   adults                          119390 non-null  int64  \n",
      " 10  children                        119386 non-null  float64\n",
      " 11  babies                          119390 non-null  int64  \n",
      " 12  meal                            119390 non-null  object \n",
      " 13  country                         118902 non-null  object \n",
      " 14  market_segment                  119390 non-null  object \n",
      " 15  distribution_channel            119390 non-null  object \n",
      " 16  is_repeated_guest               119390 non-null  int64  \n",
      " 17  previous_cancellations          119390 non-null  int64  \n",
      " 18  previous_bookings_not_canceled  119390 non-null  int64  \n",
      " 19  reserved_room_type              119390 non-null  object \n",
      " 20  assigned_room_type              119390 non-null  object \n",
      " 21  booking_changes                 119390 non-null  int64  \n",
      " 22  deposit_type                    119390 non-null  object \n",
      " 23  agent                           103050 non-null  float64\n",
      " 24  company                         6797 non-null    float64\n",
      " 25  days_in_waiting_list            119390 non-null  int64  \n",
      " 26  customer_type                   119390 non-null  object \n",
      " 27  adr                             119390 non-null  float64\n",
      " 28  required_car_parking_spaces     119390 non-null  int64  \n",
      " 29  total_of_special_requests       119390 non-null  int64  \n",
      " 30  reservation_status              119390 non-null  object \n",
      " 31  reservation_status_date         119390 non-null  object \n",
      " 32  name                            119390 non-null  object \n",
      " 33  email                           119390 non-null  object \n",
      " 34  phone-number                    119390 non-null  object \n",
      " 35  credit_card                     119390 non-null  object \n",
      "dtypes: float64(4), int64(16), object(16)\n",
      "memory usage: 32.8+ MB\n",
      "None\n"
     ]
    }
   ],
   "source": [
    "print(df.info())"
   ]
  },
  {
   "cell_type": "markdown",
   "id": "00adff3b-677b-4ab1-ac86-a14ad3559386",
   "metadata": {},
   "source": [
    "**Key Features** \n",
    "\n",
    "-------------------------------------\n",
    "\n",
    "**Numerical Attriutes:**\n",
    "\n",
    "- **is_canceled**: Indicates whether the booking was canceled (1) or not (0).  \n",
    "- **lead_time**: Number of days between booking and arrival.  \n",
    "- **arrival_date_year**: Year of arrival date.  \n",
    "- **arrival_date_week_number**: Week number of the arrival date.  \n",
    "- **arrival_date_day_of_month**: Day of the month for the arrival date.  \n",
    "- **stays_in_weekend_nights**: Number of weekend nights (Saturday or Sunday) the guest stayed or booked to stay.  \n",
    "- **stays_in_week_nights**: Number of weekday nights (Monday to Friday) the guest stayed or booked to stay.  \n",
    "- **adults**: Number of adults included in the booking.  \n",
    "- **children**: Number of children included in the booking .  \n",
    "- **babies**: Number of babies included in the booking.  \n",
    "- **previous_cancellations**: Number of previous bookings by the customer that were canceled.  \n",
    "- **previous_bookings_not_canceled**: Number of previous bookings by the customer that were not canceled.  \n",
    "- **booking_changes**: Number of changes made to the booking.  \n",
    "- **days_in_waiting_list**: Number of days the booking was on the waiting list.  \n",
    "- **adr**: Average daily rate (price per night).  \n",
    "- **required_car_parking_spaces**: Number of car parking spaces required by the guest.  \n",
    "- **total_of_special_requests**: Number of by t requests mad\n",
    " **u**.  \n",
    "\n",
    "---\n",
    "\n",
    "**Categorical Attributes**:\n",
    "\n",
    "- **hotel** 🏨: Type of hotel (e.g., City Hotel or Resort Hotel).  \n",
    "- **arrival_date_month**: Month of arrival date.  \n",
    "- **meal**: Type of meal plan booked.  \n",
    "- **country** 🌍: Country of origin of the guest.  \n",
    "- **market_segment**: Market segment designation (e.g., Online TA, Groups).  \n",
    "- **distribution_channel**: Booking distribution channel (e.g., Direct, Corporate).  \n",
    "- **is_repeated_guest**: Whether the guest has previously stayed at the hotel (1 = Yes, 0 = No).  \n",
    "- **reserved_room_type**: Type of room reserved.  \n",
    "- **assigned_room_type**: Type of room assigned to the guest.  \n",
    "- **deposit_type**: Type of deposit made for the booking (e.g., No Deposit, Refundable).  \n",
    "- **customer_type**: Type of customer (e.g., Transient, Group).  \n",
    "- **reservation_status**: Current status of the reservation (e.g., Canceled, No-Show, Checked-Out).  \n",
    "- **reservation_status_date**: Date when reservation was last updanted.\n",
    "\n",
    "---\n",
    "\n",
    "**Additional Attributes** :\n",
    "\n",
    "- **agent**: ID of the travel agent .  \n",
    "- **company**: ID of the company making the booking.  \n",
    "- **name**: Name of the guest.  \n",
    "- **email**: Email address of the guest.  \n",
    "- **phone-number** 📞: Phone  :umber of the guest.  \n",
    "- **credit_card** 💳 read and visually appealing for a Jupyter Notebook."
   ]
  },
  {
   "cell_type": "markdown",
   "id": "0e805f3d-4712-4d57-ad24-cd845d693955",
   "metadata": {
    "jp-MarkdownHeadingCollapsed": true
   },
   "source": [
    "`Interpretation`\n",
    "\n",
    "The data types of `is_repeated_guest`,`is_canceled` should be boolean. But, the above cell shows that they have integer data type. So, we need to convert their data types into bool."
   ]
  },
  {
   "cell_type": "code",
   "execution_count": 12,
   "id": "c52c57b7-57af-40af-a11e-3e1c4f118e98",
   "metadata": {},
   "outputs": [
    {
     "name": "stdout",
     "output_type": "stream",
     "text": [
      "bool\n"
     ]
    }
   ],
   "source": [
    "df[['is_repeated_guest','is_canceled']] = df[['is_repeated_guest','is_canceled']].astype(bool)\n",
    "print(df['is_repeated_guest'].dtype)"
   ]
  },
  {
   "cell_type": "markdown",
   "id": "c7918d2d-a0e8-4a07-93eb-fa3d3715a10a",
   "metadata": {},
   "source": [
    "There are some columns like `name`,`email`و`credit_card` which have no correlation with the target variables buisest booking peroid and canculation rate and factors booking lead time . So, we should drop these columns"
   ]
  },
  {
   "cell_type": "code",
   "execution_count": 14,
   "id": "4808d99b-6434-431b-93d3-7e56ee8ae2ab",
   "metadata": {},
   "outputs": [],
   "source": [
    "columns_to_drop = ['name', 'email', 'credit_card', 'company', 'phone-number', 'reservation_status_date']\n",
    "df.drop(columns=[col for col in columns_to_drop if col in df.columns], inplace=True)"
   ]
  },
  {
   "cell_type": "markdown",
   "id": "6a373356-d0ad-4993-9dd8-19af68395c35",
   "metadata": {},
   "source": [
    "### Check for anomalies in the dataset\n"
   ]
  },
  {
   "cell_type": "markdown",
   "id": "0f04599e-3764-44b8-bc0e-0a67e916eb03",
   "metadata": {},
   "source": [
    "#### Check for missing values :"
   ]
  },
  {
   "cell_type": "code",
   "execution_count": 17,
   "id": "88fc9db1-7bb4-405e-8a82-2fe466957c4b",
   "metadata": {},
   "outputs": [
    {
     "name": "stdout",
     "output_type": "stream",
     "text": [
      "hotel                                 0\n",
      "is_canceled                           0\n",
      "lead_time                             0\n",
      "arrival_date_year                     0\n",
      "arrival_date_month                    0\n",
      "arrival_date_week_number              0\n",
      "arrival_date_day_of_month             0\n",
      "stays_in_weekend_nights               0\n",
      "stays_in_week_nights                  0\n",
      "adults                                0\n",
      "children                              4\n",
      "babies                                0\n",
      "meal                                  0\n",
      "country                             488\n",
      "market_segment                        0\n",
      "distribution_channel                  0\n",
      "is_repeated_guest                     0\n",
      "previous_cancellations                0\n",
      "previous_bookings_not_canceled        0\n",
      "reserved_room_type                    0\n",
      "assigned_room_type                    0\n",
      "booking_changes                       0\n",
      "deposit_type                          0\n",
      "agent                             16340\n",
      "days_in_waiting_list                  0\n",
      "customer_type                         0\n",
      "adr                                   0\n",
      "required_car_parking_spaces           0\n",
      "total_of_special_requests             0\n",
      "reservation_status                    0\n",
      "dtype: int64\n"
     ]
    }
   ],
   "source": [
    "print(df.isnull().sum())"
   ]
  },
  {
   "cell_type": "markdown",
   "id": "e5b9067c-d5ed-4d05-8459-b478f2d86abe",
   "metadata": {},
   "source": [
    " **Interpretation**\n",
    "\n",
    "Columns with Missing Values:\n",
    "\n",
    "`country`: 488 missing values.\n",
    "`agent`: 16,340 missing values.\n",
    "`company`: 112,593 missing values.\n"
   ]
  },
  {
   "cell_type": "markdown",
   "id": "7ec2b901-fe82-4c14-89c6-c8b140e81e82",
   "metadata": {},
   "source": [
    "**Univariate analysis** : \n"
   ]
  },
  {
   "cell_type": "markdown",
   "id": "ce801d22-0bb5-4231-8eea-3cfacfa0bf21",
   "metadata": {},
   "source": [
    "#### duplicates detaction : "
   ]
  },
  {
   "cell_type": "code",
   "execution_count": 21,
   "id": "e84b2ea0-4a30-4dcb-9c9b-56a6ab39dfd0",
   "metadata": {},
   "outputs": [
    {
     "name": "stdout",
     "output_type": "stream",
     "text": [
      "hotel                             32247\n",
      "is_canceled                       32247\n",
      "lead_time                         32247\n",
      "arrival_date_year                 32247\n",
      "arrival_date_month                32247\n",
      "arrival_date_week_number          32247\n",
      "arrival_date_day_of_month         32247\n",
      "stays_in_weekend_nights           32247\n",
      "stays_in_week_nights              32247\n",
      "adults                            32247\n",
      "children                          32247\n",
      "babies                            32247\n",
      "meal                              32247\n",
      "country                           32210\n",
      "market_segment                    32247\n",
      "distribution_channel              32247\n",
      "is_repeated_guest                 32247\n",
      "previous_cancellations            32247\n",
      "previous_bookings_not_canceled    32247\n",
      "reserved_room_type                32247\n",
      "assigned_room_type                32247\n",
      "booking_changes                   32247\n",
      "deposit_type                      32247\n",
      "agent                             28066\n",
      "days_in_waiting_list              32247\n",
      "customer_type                     32247\n",
      "adr                               32247\n",
      "required_car_parking_spaces       32247\n",
      "total_of_special_requests         32247\n",
      "reservation_status                32247\n",
      "dtype: int64\n"
     ]
    }
   ],
   "source": [
    "dpDf = df[df.duplicated()]\n",
    "print(dpDf.count())"
   ]
  },
  {
   "cell_type": "markdown",
   "id": "bef7ad68-39b4-4a28-ac79-18636b3323b2",
   "metadata": {
    "jp-MarkdownHeadingCollapsed": true
   },
   "source": [
    "there is no duplicated values "
   ]
  },
  {
   "cell_type": "markdown",
   "id": "71b3fd03-1317-4a8f-a70a-ecbb51cbcf60",
   "metadata": {},
   "source": [
    "#### outliers detection "
   ]
  },
  {
   "cell_type": "code",
   "execution_count": 24,
   "id": "1de3f64b-bfac-4c5a-ac0a-5df8993895ce",
   "metadata": {},
   "outputs": [
    {
     "data": {
      "image/png": "iVBORw0KGgoAAAANSUhEUgAABfYAAAnPCAYAAAAiqMU8AAAAOXRFWHRTb2Z0d2FyZQBNYXRwbG90bGliIHZlcnNpb24zLjguNCwgaHR0cHM6Ly9tYXRwbG90bGliLm9yZy8fJSN1AAAACXBIWXMAAA9hAAAPYQGoP6dpAAEAAElEQVR4nOzdeVxV1f7/8fdBRglQUCZFRHNIxRwztSs4pmWT3SatxKwsZ40sMxPT4OaYaVo2oKZmkzanYgpW2s0xpy6aOWSBlAM4ICCs3x/+OF+PoB4VOAyv5+OxH7LXXmftzz7g58DnrLO2xRhjBAAAAAAAAAAAygQnRwcAAAAAAAAAAADsR2EfAAAAAAAAAIAyhMI+AAAAAAAAAABlCIV9AAAAAAAAAADKEAr7AAAAAAAAAACUIRT2AQAAAAAAAAAoQyjsAwAAAAAAAABQhlDYBwAAAAAAAACgDKGwDwAAAAAAAABAGUJhH5c1b948WSwWm6169eqKjIzUV1995ejwrGrXrq2oqKgrftzp06cVExOjxMTEIo9p//79uv322+Xr6yuLxaLhw4dftO/Vxl8UIiMjFRkZeUWPmT17tubNm1egff/+/bJYLIUeA1D8yNlX70pydnEqiTyamJgoi8VSJM/jtYy1bt06xcTE6Pjx49ccB3AtyJ1Xj9xZ8mNVpNyZ/32dMmWKo0MpFpGRkWrSpImjwyh1yMlXj5xc8mM5MicX5XNQEkrLz2dRiI2N1WeffVagPT9/bdy4sUTicC6Rs6BciI+PV8OGDWWMUWpqqmbNmqU77rhDX3zxhe644w5Hh3fVTp8+rfHjx0vSFRe3L2fEiBH673//q/fee0+BgYEKCgoq0vEdafbs2apWrVqBX2SCgoK0fv161a1b1zGBAZBEzr4apSVnV6Q8um7dOo0fP15RUVGqUqWKo8MByJ1XgdxZ8sidqCjIyVeOnFzyyMn2Ky0/n0UhNjZW//73v3X33Xc7NA4K+7BbkyZN1KpVK+t+9+7dVbVqVX3wwQdl+kW1OO3YsUM33XSTw/+jlyQ3NzfdfPPNjg4DqPDI2VeupHL26dOnVbly5QLtubm5Onv2LHm0nMvMzJSHh4ejw8BFkDuvHLkTKP3K6msPOfnKkZNRmlXEGllxYykeXDV3d3e5urrKxcXFpv3o0aMaOHCgatSoIVdXV9WpU0djxoxRVlaWJOnMmTNq3ry5rr/+eqWnp1sfl5qaqsDAQEVGRio3N1eSFBUVpeuuu047d+5U586d5enpqerVq2vw4ME6ffr0ZWM8ePCgHn74Yfn7+8vNzU033HCDpk6dqry8PEnnPgZUvXp1SdL48eOtH/O73MfpLjdu/sehfvvtN3377bfWcffv32/Xc5svIyND0dHRCgsLk6urq2rUqKHhw4fr1KlTNv3eeOMNdejQQf7+/vL09FR4eLgmTZqknJwcm37GGE2aNEmhoaFyd3dXixYt9O23315RTNK5jxzu3LlTSUlJ1murXbu2pMI/chcTEyOLxaJt27bpvvvuk4+Pj3x9fTVy5EidPXtWycnJ6t69u7y8vFS7dm1NmjTpqp8LAIUjZxdtzrY37+Z/xH7t2rVq166dKleurMcee8yaKydNmqSJEycqLCxMbm5uWrNmTYE8+tlnn8lisei7774rEMecOXOs+VWSNm7cqAcffFC1a9eWh4eHateurYceekgHDhy47PNvj//973/q3r27KleurGrVqumpp57SiRMnCvRLSEjQXXfdpZo1a8rd3V3XX3+9BgwYoH/++cfaJyYmRs8++6wkKSwszPq8n/9R4g8//FBt27aVp6enrrvuOt16663asmWL3fGePHlSVapU0YABAwoc279/vypVqqTJkydb21JTUzVgwADVrFlTrq6uCgsL0/jx43X27Fmbx44fP15t2rSRr6+vvL291aJFC7377rsyxtj0q127tnr27KmlS5eqefPmcnd3t87QQ9lA7iR3FoWyljuNMQoICNCgQYOsbbm5uapataqcnJx0+PBha/u0adPk7OxsswTFxo0bdeedd8rX11fu7u5q3ry5PvroowLnsTfnXignJ0d9+/bVddddd0XLslgsFg0ePFjvv/++brjhBlWuXFk33nhjgTGioqKsf9ucL/9vmsLGjI+PV4MGDeTh4aFWrVrpp59+kjFGkydPVlhYmK677jp16tRJv/32W6Gxff/997r55pvl4eGhGjVqaOzYsdYckS87O1sTJ05Uw4YN5ebmpurVq6tfv376+++/bfqV59cecjI5uSiUtZxcHHF///33slgs+uCDDwo8fsGCBbJYLNqwYYPdsRV3jSw/r3311Vdq3ry5PDw8dMMNN1jz97x583TDDTfI09NTN910U6HL4HzxxRdq27atKleuLC8vL3Xt2lXr16+36ZOf53fu3KmHHnpIPj4+CggI0GOPPWaTOywWi06dOqX58+dbr+XCT9+cOHFCTz/9tKpVqyY/Pz/16tVLf/31l93Pqd0McBnx8fFGkvnpp59MTk6Oyc7ONn/88YcZOnSocXJyMsuXL7f2zczMNE2bNjWenp5mypQpZuXKlWbs2LHG2dnZ3HbbbdZ+u3fvNl5eXqZXr17GGGNyc3NNp06djL+/v/nrr7+s/fr27WtcXV1NrVq1zCuvvGJWrlxpYmJijLOzs+nZs6dNnKGhoaZv377W/bS0NFOjRg1TvXp18+abb5rly5ebwYMHG0nm6aefNsYYc+bMGbN8+XIjyfTv39+sX7/erF+/3vz2228XfT7sGTc9Pd2sX7/eBAYGmvbt21vHPXPmzEXHvTD+U6dOmWbNmplq1aqZadOmmVWrVpkZM2YYHx8f06lTJ5OXl2ftO2LECDNnzhyzfPlys3r1ajN9+nRTrVo1069fP5tzjBs3znqt3377rZk7d66pUaOGCQwMNBEREReN7UKbN282derUMc2bN7de2+bNm40xxuzbt89IMvHx8QXO26BBAzNhwgSTkJBgRo0aZSSZwYMHm4YNG5rXX3/dJCQkmH79+hlJ5tNPP72q5wKo6MjZtoorZ9ubdyMiIoyvr68JCQkxM2fONGvWrDFJSUnWXFmjRg3TsWNH88knn5iVK1eaffv2FcijOTk5xt/f3/Tp06dAHDfddJNp0aKFdf/jjz82L730klm2bJlJSkoyS5YsMREREaZ69erm77//tvZbs2aNkWTWrFlz0Wu8UGpqqvH39zc1atQw8fHx5ptvvjF9+vQxtWrVKjDWnDlzTFxcnPniiy9MUlKSmT9/vrnxxhtNgwYNTHZ2tjHGmD/++MMMGTLESDJLly61Pu/p6enGGGNeeeUVY7FYzGOPPWa++uors3TpUtO2bVvj6elpdu7caXfcI0aMMJ6enub48eM27c8++6xxd3c3//zzjzHGmJSUFBMSEmJCQ0PNW2+9ZVatWmUmTJhg3NzcTFRUlM1jo6KizLvvvmsSEhJMQkKCmTBhgvHw8DDjx4+36RcaGmqCgoJMnTp1zHvvvWfWrFljfv75Z7tjR8khd9oid5I7H3zwQVO/fn3r/k8//WQkGQ8PD7No0SJre48ePcxNN91k3V+9erVxdXU1//rXv8yHH35oli9fbqKiogr8fWBvzs3/vk6ePNkYY8yxY8dMx44dTWBgoNm4caPd12OMMZJM7dq1zU033WQ++ugj880335jIyEjj7Oxs9u7da+3Xt29fExoaWuDx+X/TXDhmaGioadeunVm6dKlZtmyZqV+/vvH19TUjRowwd911l/nqq6/MokWLTEBAgGnatKnN3y4RERHGz8/PBAcHm9dff92sWLHCDB061EgygwYNsvbLzc013bt3N56enmb8+PEmISHBvPPOO6ZGjRqmUaNG5vTp09a+5eG1h5xsi5xMTi7quI0xpnnz5qZ9+/YFztW6dWvTunVru2Mrrp/P84WGhpqaNWuaJk2amA8++MB88803pk2bNsbFxcW89NJLpn379jY5OCAgwCYvLlq0yEgy3bp1M5999pn58MMPTcuWLY2rq6v5/vvvrf3Or1299NJLJiEhwUybNs24ubnZ/L9Yv3698fDwMLfddpv1WvK/n/n5q06dOmbIkCFmxYoV5p133jFVq1Y1HTt2tPt5tReFfVxW/g/lhZubm5uZPXu2Td8333zTSDIfffSRTfurr75qJJmVK1da2z788EMjybz22mvmpZdeMk5OTjbHjTn3oirJzJgxw6b9lVdeMZLMDz/8YG278EX1+eefN5LMf//7X5vHPv3008ZisZjk5GRjjDF///23kWTGjRtn1/Nh77j5Md1+++12jXth/HFxccbJycls2LDBpt8nn3xiJJlvvvmm0HFyc3NNTk6OWbBggalUqZI5evSoMebcL8Hu7u7mnnvusen/448/GklXVNg3xpjGjRsX+phLFfanTp1q07dZs2bWF8B8OTk5pnr16tZfuIy5+ucCqIjI2baKK2ef72J515hzfwhJMt99953NY/JzZd26dW1+wT7/2Pl5dOTIkcbDw8OmOL1r1y4jycycOfOisZ09e9acPHnSeHp62nxfruYPoeeee85YLBazdetWm/auXbtecqy8vDyTk5NjDhw4YCSZzz//3Hps8uTJRpLZt2+fzWMOHjxonJ2dzZAhQ2zaT5w4YQIDA839999vd9x79+41Tk5OZvr06da2zMxM4+fnZ/ML+oABA8x1111nDhw4YPP4KVOmGEkX/eMr//v/8ssvGz8/P5uCTWhoqKlUqZLNzxlKJ3KnLXInufOdd94xkszBgweNMcZMnDjRNGzY0Nx5553W3JmdnW08PT3NCy+8YH1cw4YNTfPmzU1OTo7NeD179jRBQUEmNzfXGGN/zj2/sL9v3z7TqFEj06hRI7N//367ryWfJBMQEGAyMjKsbampqcbJycnExcVZ2660sB8YGGhOnjxpbfvss8+MJNOsWTOb14TXXnvNSDLbtm2ztuX/rJ///TXGmCeeeMI4OTlZn58PPvigwOQnY4zZsGGDkWSTp8rDaw852RY5mZxcHHHn/z/bsmWLte3nn382ksz8+fPtjq0kfj5DQ0ONh4eHOXTokLVt69atRpIJCgoyp06dsrbn5+AvvvjCGHPuZzs4ONiEh4dbX4OMOfd98Pf3N+3atbO25ef5SZMm2Zx/4MCBxt3d3Sane3p62vz/z5f/vA4cONCmfdKkSUaSSUlJueLrvxSW4oHdFixYoA0bNmjDhg369ttv1bdvXw0aNEizZs2y9lm9erU8PT3173//2+ax+R8rO/9jV/fff7+efvppPfvss5o4caJeeOEFde3atdBz9+nTx2a/d+/ekqQ1a9ZcNN7Vq1erUaNGuummmwrEYozR6tWrL3/RJTjuhb766is1adJEzZo109mzZ63brbfeWuCjXVu2bNGdd94pPz8/VapUSS4uLnr00UeVm5ur3bt3S5LWr1+vM2fOFHgu27Vrp9DQ0CKJ+XJ69uxps3/DDTfIYrGoR48e1jZnZ2ddf/31Nh+zu5LnAsA55OziHdeevJuvatWq6tSpU6Hj3HnnnQU+Tl6Yxx57TJmZmfrwww+tbfHx8XJzc7M+v9K5pWeee+45XX/99XJ2dpazs7Ouu+46nTp1Sr/++utVXWu+NWvWqHHjxrrxxhtt2s8/f760tDQ99dRTCgkJkbOzs1xcXKyvNfbEsWLFCp09e1aPPvqoTd53d3dXRETEFeX9OnXqqGfPnpo9e7Z1qZzFixfryJEjGjx4sLXfV199pY4dOyo4ONjmnPmvUUlJSda+q1evVpcuXeTj42P9/r/00ks6cuSI0tLSbM7ftGlT1a9f3+544VjkzuIdl9z5f0p77uzSpYskadWqVZLOLe3QtWtXdenSRQkJCZLO/X1x6tQpa9/ffvtN//vf/6w/y+fHcNtttyklJUXJycmSriznStLmzZt18803KyAgQD/++ONV//3SsWNHeXl5WfcDAgLk7+9/TUt8dOzYUZ6entb9G264QZLUo0cPm6V78tsvPJeXl5fuvPNOm7bevXsrLy9Pa9eulXTu+apSpYruuOMOm+erWbNmCgwMLPC9LS+vPeTk4h2XnPx/SntOLo64H3roIfn7++uNN96wts2cOVPVq1fXAw88YHdsJVUja9asmWrUqGHdz8+pkZGRNvd7uDDXJicn66+//tIjjzwiJ6f/K4Nfd911uvfee/XTTz8VWGbrwpzctGlTnTlzpsDv+ZdS2Bjnx1VUuHku7HbDDTcUuHHNgQMHNGrUKD388MOqUqWKjhw5osDAwAJrD/r7+8vZ2VlHjhyxaX/sscc0Z84cubq6aujQoYWe19nZWX5+fjZtgYGBklRgvPMdOXKk0LURg4ODL/vYSymucS90+PBh/fbbbxd9gcxfH+3gwYP617/+pQYNGmjGjBmqXbu23N3d9fPPP2vQoEHKzMy0iSv/uTtfYW3FwdfX12bf1dVVlStXlru7e4H2jIwM6769zwWA/0POLr5x7c27+YKCgi461qWOna9x48Zq3bq14uPj9eSTTyo3N1cLFy7UXXfdZZNbe/fure+++05jx45V69at5e3tLYvFottuu61AXFfqyJEjCgsLK9B+4WtIXl6eunXrpr/++ktjx45VeHi4PD09lZeXp5tvvtmuOPLXb27dunWhx8//pdwew4YNU+fOnZWQkKBu3brpjTfeUNu2bdWiRQubc3755ZeXfa35+eef1a1bN0VGRurtt9+2rg392Wef6ZVXXrmi7z9KH3Jn8Y1L7rRV2nNnaGio6tatq1WrVumBBx7Q+vXr9cwzz+j666/X0KFDlZycrFWrVsnDw0Pt2rWzOX90dLSio6MLHTc/l9qbc/MlJCTon3/+0bRp01SlShW7r+NCF/4/kyQ3N7dr+j4X9jfOpdrPnDlj0x4QEFBgzAv//x8+fFjHjx+3jnGhC5+v8vLaQ04uvnHJybZKe04ujrjd3Nw0YMAATZ06VZMnT1ZOTo4++ugjjRw5Um5ublcUW0nUyK421+afv7Cf0+DgYOXl5enYsWM2bw5c+P8///m4kp+/ohjDHhT2cU2aNm2qFStWaPfu3brpppvk5+en//73vzLG2LywpqWl6ezZs6pWrZq17dSpU3rkkUdUv359HT58WI8//rg+//zzAuc4e/asjhw5YvOfIjU1VVLhv5jl8/PzU0pKSoH2/JtVnB/LlSiucS9UrVo1eXh46L333rvocencTWhOnTqlpUuX2sxc2bp1a4G4pf977s6XmppaaCIuLex9LgBcGjm7aMa1N+/mu/APTXuPXahfv34aOHCgfv31V/3+++9KSUlRv379rMfT09P11Vdfady4cXr++eet7VlZWTp69Kjd57kYPz+/i76GnG/Hjh365ZdfNG/ePPXt29fafrEbBhYm//vyySefFMmnyjp16qQmTZpo1qxZuu6667R582YtXLiwwDmbNm2qV155pdAx8v84WbJkiVxcXPTVV1/ZvDH92WefFfq4K/keo3QidxbNuOROW2Uhd3bu3Fmff/65kpKSlJeXp8jISHl5eSk4OFgJCQlatWqV/vWvf1mLFfnnHz16tHr16lXomA0aNLD2tSfn5nv22We1d+9e68zXRx999Jqv72Lc3d2tN109X3FNJjr/ZsT5Lvz/n3/zxeXLlxc6xvmfQpDK92sPObloxiUn2yrtObm44n766af1n//8R++9957OnDmjs2fP6qmnnrri2EqiRna18v/PXixGJycnVa1ataTDKjIsxYNrkp/08+/q3rlzZ508ebLAH7cLFiywHs/31FNP6eDBg1q6dKneffddffHFF5o+fXqh51m0aJHN/uLFiyWpwF2nz9e5c2ft2rVLmzdvLhCLxWJRx44dJV35u2b2jnutevbsqb1798rPz0+tWrUqsOUX4vNfRM9/R9UYo7fffttmvJtvvlnu7u4Fnst169Zd1UeBrnVmy5Ww97kAcGnk7IuPeyXszbtF7aGHHpK7u7vmzZunefPmqUaNGurWrZtNXMaYAjNs3nnnHeXm5l7z+Tt27KidO3fql19+sWnP//6eH4ekAnG89dZbBca82Pfz1ltvlbOzs/bu3Vto3j9/9p69hg4dqq+//lqjR49WQECA7rvvPpvjPXv21I4dO1S3bt1Cz5dfZLJYLHJ2dlalSpWsj83MzNT7779/xTGhbCB3XnzcK0HuLHu5s0uXLjp8+LBee+013XzzzdbicefOnbVs2TJt2LDBugyPdK5oX69ePf3yyy8XPX/+GPbm3HxOTk566623NGzYMEVFRWnOnDlXdC1Xonbt2kpLS7MpuGdnZ2vFihXFcr4TJ07oiy++sGlbvHixnJyc1KFDB0nnnq8jR44oNze30Ocr/w2TioCcfPFxrwQ5uWzl5OKIWzo3i/2+++7T7Nmz9eabb+qOO+5QrVq17I5LKrka2dVq0KCBatSoocWLF1uX5ZTOvdH36aefqm3btjaz9e1VkjWxS2HGPuy2Y8cOnT17VtK5j7IsXbpUCQkJuueee6wfCXr00Uf1xhtvqG/fvtq/f7/Cw8P1ww8/KDY2Vrfddpv1F7933nlHCxcuVHx8vBo3bqzGjRtr8ODBeu6559S+fXubtblcXV01depUnTx5Uq1bt9a6des0ceJE9ejRQ7fccstF4x0xYoQWLFig22+/XS+//LJCQ0P19ddfa/bs2Xr66aetaw56eXkpNDRUn3/+uTp37ixfX19Vq1btosVie8e9VsOHD9enn36qDh06aMSIEWratKny8vJ08OBBrVy5Us8884zatGmjrl27ytXVVQ899JBGjRqlM2fOaM6cOTp27JjNeFWrVlV0dLQmTpyoxx9/XPfdd5/++OMPxcTEXNVSPOHh4VqyZIk+/PBD1alTR+7u7goPDy+Sa7+Qvc8FgP9Dzr6yca+EvXm3qFWpUkX33HOP5s2bp+PHjys6OtrmI7ze3t7q0KGDJk+ebH1OkpKS9O67717TsgX5hg8frvfee0+33367Jk6cqICAAC1atEj/+9//bPo1bNhQdevW1fPPPy9jjHx9ffXll19a12Q+X/7rxowZM9S3b1+5uLioQYMGql27tl5++WWNGTNGv//+u7p3766qVavq8OHD+vnnn+Xp6anx48dfUfwPP/ywRo8erbVr1+rFF18ssJzByy+/rISEBLVr105Dhw5VgwYNdObMGe3fv1/ffPON3nzzTdWsWVO33367pk2bpt69e+vJJ5/UkSNHNGXKlCv6yDJKL3LnlY17JcidZS93durUSRaLRStXrrR5XJcuXawzQc8v7Evnikc9evTQrbfeqqioKNWoUUNHjx7Vr7/+qs2bN+vjjz+WZH/OvdDUqVPl5eWlgQMH6uTJk3r22Wftvh57PfDAA3rppZf04IMP6tlnn9WZM2f0+uuvF0lRsTB+fn56+umndfDgQdWvX1/ffPON3n77bT399NPWAtuDDz6oRYsW6bbbbtOwYcN00003ycXFRYcOHdKaNWt011136Z577imW+ByJnHxl414JcnLZysnFEXe+YcOGWesp8fHxdsVzvpKqkV0tJycnTZo0SX369FHPnj01YMAAZWVlafLkyTp+/Lj+85//XNW44eHhSkxM1JdffqmgoCB5eXk55k3WIr0VL8qlwu5I7+PjY5o1a2amTZtmzpw5Y9P/yJEj5qmnnjJBQUHG2dnZhIaGmtGjR1v7bdu2zXh4eBS4e/SZM2dMy5YtTe3atc2xY8eMMefuSO/p6Wm2bdtmIiMjjYeHh/H19TVPP/20OXnypM3jL7wjvTHGHDhwwPTu3dv4+fkZFxcX06BBAzN58mSbO2EbY8yqVatM8+bNjZubm5FU6J2tr2bcK7njd2Hxnzx50rz44oumQYMGxtXV1fj4+Jjw8HAzYsQIk5qaau335ZdfmhtvvNG4u7ubGjVqmGeffdZ8++23Be6OnpeXZ+Li4kxISIhxdXU1TZs2NV9++aWJiIgwERERdsWZb//+/aZbt27Gy8vLSDKhoaHGGGP27dtnJJn4+Hhr3/w7i//99982Y+R/fy8UERFhGjdufFXPBVDRkbMLKo6cbW/eLSyfGfN/uXLy5MkXPXZ+Hs23cuVK6/d19+7dBY4fOnTI3HvvvaZq1arGy8vLdO/e3ezYsaPA871mzZoCsdpj165dpmvXrsbd3d34+vqa/v37m88//7zAWPn9vLy8TNWqVc19991nDh48aCSZcePG2Yw5evRoExwcbJycnAqM89lnn5mOHTsab29v4+bmZkJDQ82///1vs2rVqiuKO19UVJRxdnY2hw4dKvT433//bYYOHWrCwsKMi4uL8fX1NS1btjRjxoyx+Rl+7733TIMGDYybm5upU6eOiYuLM++++66RZPbt22ftdyU/U3AscmdB5E5ypzHGNG/e3EgyP/74o7Xtzz//NJKMn5+fycvLK/CYX375xdx///3G39/fuLi4mMDAQNOpUyfz5ptv2vSzJ+de7Hs+efJkI8m89NJLdl+LJDNo0KAC7YX9v/rmm29Ms2bNjIeHh6lTp46ZNWuW9W+ay415sZjzf34+/vhja1v+z3piYqJp1aqVcXNzM0FBQeaFF14wOTk5No/PyckxU6ZMsf4fuu6660zDhg3NgAEDzJ49e2yup6y/9pCTCyInk5OLI+58tWvXNjfccMMVxXO+4vj5tOdxV5KDP/vsM9OmTRvj7u5uPD09TefOnW1e24y5eO0qPyed/3v+1q1bTfv27U3lypWNJGtNLb/vhg0bbMa42p/Xy7EYc97nEIBSJioqSp988olOnjzp6FAAAJdBzkZplp2drdq1a+uWW27RRx995OhwACtyJwCUHuRkVDTbtm3TjTfeqDfeeEMDBw50dDi4QizFAwAAgHLr77//VnJysuLj43X48GGbG7EBAAAAFdHevXt14MABvfDCCwoKClJUVJSjQ8JVoLAPwEZubq4u9UEei8Vic8NAAEDZZoy57LrBlSpVst6Mq7SwN+6vv/5a/fr1U1BQkGbPnq0WLVqUUIQAyrPynjtLW9yXkr8G+8U4OTnZrOENoPwpq7nNkXFPmDBB77//vm644QZ9/PHHBW4gWxKxUX+6dry6oVSbN28eH4ErYXXr1pWLi8tFt86dOzs6RAClFDm7bEpKSrpk3ndxcdH8+fMdHWYB9sYdFRUlY4z++usvDRgwwNFhAwWQO8um8p47y5LLXc9jjz3m6BBRhpCTy6aymtscGfe8efOUm5urHTt2qH379g6JjfrTtWONfQA2tm/frqysrIsed9idvgEAxeLEiRNKTk6+ZJ+wsDD5+fmVUET2KatxAygfymoOKqtxX8rGjRsvebxatWqqXbt2yQQDwCHKam4rzXGXRGzUn64dhX0AAAAAAAAAAMoQluIBAAAAAAAAAKAM4ea5hcjLy9Nff/0lLy+vUndjDQAojDFGJ06cUHBwMDcHcwBeNwCUJbxm2IfcDqAsKe+5nZwMoKwpibxMYb8Qf/31l0JCQhwdBgBcsT/++EM1a9Z0dBgVDq8bAMoiXjMujdwOoCwqr7mdnAygrCrOvExhvxBeXl6Szj3x3t7eDo4GAC4vIyNDISEh1vyFksXrBoCyhNcM+5DbAZQl5T23k5MBlDUlkZcp7Bci/2Nd3t7evGAAKFP4WKpj8LoBoCziNePSyO0AyqLymtvJyQDKquLMy+Vv4TUAAAAAAAAAAMoxCvsAAAAAAAAAAJQhFPYBAAAAAAAAAChDKOwDAAAAAAAAAFCGUNgHAAAAAAAAAKAMobAPAAAAAAAAAEAZQmEfAAAAAAAAAIAyhMI+AAAAAAAAAABlCIV9AAAAAAAAAADKEAr7AAAAAAAAAACUIRT2AQAAAAAAAAAoQyjsAwAAAAAAAABQhlDYBwAAAAAAAACgDHF2dABARZGbm6tt27bp6NGj8vX1VdOmTVWpUiVHhwUAAAAAAACgjGHGPlAC1q5dqz59+mjEiBGaMGGCRowYoT59+mjt2rWODg24JnFxcWrdurW8vLzk7++vu+++W8nJyTZ9jDGKiYlRcHCwPDw8FBkZqZ07d9r0mTt3riIjI+Xt7S2LxaLjx4/bHE9MTJTFYil027Bhw0Xjs+fcWVlZGjJkiKpVqyZPT0/deeedOnTo0LU9MQAAAAAAAMWIwj5QzNauXatx48apTp06euONN/TNN9/ojTfeUJ06dTRu3DiK+yjTkpKSNGjQIP30009KSEjQ2bNn1a1bN506dcraZ9KkSZo2bZpmzZqlDRs2KDAwUF27dtWJEyesfU6fPq3u3bvrhRdeKPQ87dq1U0pKis32+OOPq3bt2mrVqtVF47Pn3MOHD9eyZcu0ZMkS/fDDDzp58qR69uyp3NzcIniGAAAAAAAAip7FGGMcHURpk5GRIR8fH6Wnp8vb29vR4aAMy83NVZ8+fVSnTh1NnDhRTk7/915aXl6eXnzxRe3bt08LFy5kWR5ck9KSt/7++2/5+/srKSlJHTp0kDFGwcHBGj58uJ577jlJ52bIBwQE6NVXX9WAAQNsHp+YmKiOHTvq2LFjqlKlykXPk5OTo5o1a2rw4MEaO3ZsoX3sOXd6erqqV6+u999/Xw888IAk6a+//lJISIi++eYb3XrrrXZdd2l5/gHAHuQs+/A8AShLynvOKu/XB6D8KYm8xRr7QDHatm2bUlNTNXbsWJuiviQ5OTmpT58+GjRokLZt26bmzZs7KEqg6KSnp0uSfH19JUn79u1TamqqunXrZu3j5uamiIgIrVu3rkBh315ffPGF/vnnH0VFRV20jz3n3rRpk3Jycmz6BAcHq0mTJlq3bt1FC/tZWVnKysqy7mdkZFzVdRSFw4cPW5/38i4rK0upqamODgMlIDAwUG5ubo4Oo0T4+PgoICDA0WEADnPmzBkdPHjQ0WGgBNSqVUvu7u6ODgPAJZCTKw5ycvlAYR8oRkePHpUkhYWFFXo8vz2/H1CWGWM0cuRI3XLLLWrSpIkkWYuwFxatAgICdODAgas+17vvvqtbb71VISEhF+1jz7lTU1Pl6uqqqlWrFuhzqQJyXFycxo8ff7XhF5nDhw/r4UceVU521uU7AyiVXFzdtPD9BRT3UWEdPHhQTz75pKPDQAmYO3eu6tev7+gwAFwCObniICeXDxT2gWJ0/qzlxo0bFzi+b98+m35AWTZ48GBt27ZNP/zwQ4FjFovFZt8YU6DNXocOHdKKFSv00Ucf2dX/as59uT6jR4/WyJEjrfsZGRmXfJOhuKSnpysnO0uZdSKU5+5T4ucvcXln5ZR10tFRoATkuV0nOZX/X1OdzqRLvycpPT2dwj4qrFq1amnu3LmODqPEHDhwQK+88orGjBmj0NBQR4dTomrVquXoEABcRkXLyVLFzcvk5PKh/P/FBDhQ06ZNFRgYqEWLFhW6xv6iRYsUFBSkpk2bOjBK4NoNGTJEX3zxhdauXauaNWta2wMDAyWdmxkfFBRkbU9LS7vqIlZ8fLz8/Px05513XrKfPecODAxUdna2jh07ZjNrPy0tTe3atbvo2G5ubqVqmZA8dx/leVZzdBglIs/L0REAAIqSu7t7hZwxGBoaWiGvG0DpVlFzskReRtnkdPkuAK5WpUqVNHDgQK1fv14vvviidu7cqdOnT2vnzp168cUXtX79ej399NPcOBdlljFGgwcP1tKlS7V69eoCy06FhYUpMDBQCQkJ1rbs7GwlJSVdsnB+qfPFx8fr0UcflYuLyyX72nPuli1bysXFxaZPSkqKduzYcVXxAQAAAAAAlARm7APFrEOHDho/frxmz56tQYMGWduDgoI0fvx4dejQwYHRAddm0KBBWrx4sT7//HN5eXlZ16X38fGRh4eHLBaLhg8frtjYWNWrV0/16tVTbGysKleurN69e1vHSU1NVWpqqn777TdJ0vbt2+Xl5aVatWrZLFW1evVq7du3T/379y80noYNGyouLk733HOPXef28fFR//799cwzz8jPz0++vr6Kjo5WeHi4unTpUlxPGwAAAAAAwDWhsA+UgA4dOqh9+/batm2bjh49Kl9fXzVt2pSZ+ijz5syZI0mKjIy0aY+Pj1dUVJQkadSoUcrMzNTAgQN17NgxtWnTRitXrpSX1/+tqfLmm2/a3Iw2/w2v88eRzt00t127drrhhhsKjSc5OVnp6enWfXvOPX36dDk7O+v+++9XZmamOnfurHnz5vH/EwAAAAAAlFoU9oESUqlSJTVv3tzRYQBFyhhz2T4Wi0UxMTGKiYm5aJ/LHc+3ePHiK4rHnnO7u7tr5syZmjlz5mXPDwAAAAAAUBqwxj4AAAAAAAAAAGUIhX0AAAAAAAAAAMoQCvsAAAAAAAAAAJQhFPYBAAAAAABwxebMmaOmTZvK29tb3t7eatu2rb799lvrcWOMYmJiFBwcLA8PD0VGRmrnzp0OjBgAyg8K+0AJyc3N1ZYtW/Tdd99py5Ytys3NdXRIAAAAAABctZo1a+o///mPNm7cqI0bN6pTp0666667rMX7SZMmadq0aZo1a5Y2bNigwMBAde3aVSdOnHBw5ABQ9jk7OgCgIli7dq1mz56t1NRUa1tgYKAGDhyoDh06ODAyAAAAAACuzh133GGz/8orr2jOnDn66aef1KhRI7322msaM2aMevXqJUmaP3++AgICtHjxYg0YMMARIQNAucGMfaCYrV27VuPGjVOdOnX0xhtv6JtvvtEbb7yhOnXqaNy4cVq7dq2jQwQAAAAA4Jrk5uZqyZIlOnXqlNq2bat9+/YpNTVV3bp1s/Zxc3NTRESE1q1bd8mxsrKylJGRYbMBAGxR2AeKUW5urmbPnq22bdtq4sSJaty4sSpXrqzGjRtr4sSJatu2rebMmcOyPAAAAACAMmn79u267rrr5ObmpqeeekrLli1To0aNrJ9YDwgIsOkfEBBg82n2wsTFxcnHx8e6hYSEFFv8AFBWUdgHitG2bduUmpqqPn36yMnJ9r+bk5OT+vTpo5SUFG3bts1BEQIAAAAAcPUaNGigrVu36qefftLTTz+tvn37ateuXdbjFovFpr8xpkDbhUaPHq309HTr9scffxRL7ABQlrHGPlCMjh49KkkKCwsr9Hh+e34/AAAAAADKEldXV11//fWSpFatWmnDhg2aMWOGnnvuOUlSamqqgoKCrP3T0tIKzOK/kJubm9zc3IovaAAoB0rVjP3atWvLYrEU2AYNGiTp3Lu6MTExCg4OloeHhyIjI613Ws+XlZWlIUOGqFq1avL09NSdd96pQ4cOOeJyAPn6+kqS9u3bV+jx/Pb8fgAAAAAAlGXGGGVlZSksLEyBgYFKSEiwHsvOzlZSUpLatWvnwAgBoHwoVYX9DRs2KCUlxbrlJ//77rtPkjRp0iRNmzZNs2bN0oYNGxQYGKiuXbvqxIkT1jGGDx+uZcuWacmSJfrhhx908uRJ9ezZkzXM4RBNmzZVYGCgFi1apLy8PJtjeXl5WrRokYKCgtS0aVMHRQgAAAAAwNV54YUX9P3332v//v3avn27xowZo8TERPXp00cWi0XDhw9XbGysli1bph07digqKkqVK1dW7969HR06AJR5pWopnurVq9vs/+c//1HdunUVEREhY4xee+01jRkzRr169ZIkzZ8/XwEBAVq8eLEGDBig9PR0vfvuu3r//ffVpUsXSdLChQsVEhKiVatW6dZbby3xa0LFVqlSJQ0cOFDjxo3Tiy++qD59+igsLEz79u3TokWLtH79eo0fP16VKlVydKgAAAAAAFyRw4cP65FHHlFKSop8fHzUtGlTLV++XF27dpUkjRo1SpmZmRo4cKCOHTumNm3aaOXKlfLy8nJw5ABQ9pWqGfvny87O1sKFC/XYY4/JYrFo3759Sk1NVbdu3ax93NzcFBERoXXr1kmSNm3apJycHJs+wcHBatKkibVPYbKyspSRkWGzAUWlQ4cOGj9+vH7//XcNGjRIt912mwYNGqR9+/Zp/Pjx6tChg6NDBAAAKDNiYmIKLN0ZGBhoPW7P8p0AgKLx7rvvav/+/crKylJaWppWrVplLepL526cGxMTo5SUFJ05c0ZJSUlq0qSJAyMGgPKjVM3YP99nn32m48ePKyoqStK5m61IKnCDlYCAAB04cMDax9XVVVWrVi3QJ//xhYmLi9P48eOLMHrAVocOHdS+fXtt27ZNR48ela+vr5o2bcpMfQAAgKvQuHFjrVq1yrp//u9U+ct3zps3T/Xr19fEiRPVtWtXJScnM0MUAAAA5UapLey/++676tGjh4KDg23aLRaLzb4xpkDbhS7XZ/To0Ro5cqR1PyMjQyEhIVcRNXBxlSpVUvPmzR0dBgAAQJnn7OxsM0s/nz3LdwIAAADlQalciufAgQNatWqVHn/8cWtb/i/uF868T0tLs87iDwwMVHZ2to4dO3bRPoVxc3OTt7e3zQYAAACgdNqzZ4+Cg4MVFhamBx98UL///rsk2bV858WwPCcAAADKklJZ2I+Pj5e/v79uv/12a1tYWJgCAwOVkJBgbcvOzlZSUpLatWsnSWrZsqVcXFxs+qSkpGjHjh3WPgAAAADKrjZt2mjBggVasWKF3n77baWmpqpdu3Y6cuTIJZfvvNTSnNK55Tl9fHysG5/gBQAAQGlW6pbiycvLU3x8vPr27Stn5/8Lz2KxaPjw4YqNjVW9evVUr149xcbGqnLlyurdu7ckycfHR/3799czzzwjPz8/+fr6Kjo6WuHh4erSpYujLgkAAABAEenRo4f16/DwcLVt21Z169bV/PnzdfPNN0u6uuU7WZ4TAAAAZUmpK+yvWrVKBw8e1GOPPVbg2KhRo5SZmamBAwfq2LFjatOmjVauXGlzE6zp06fL2dlZ999/vzIzM9W5c2fNmzePm5QCAAAA5ZCnp6fCw8O1Z88e3X333ZLOLd8ZFBRk7XO5pTmlc0v2uLm5FWeoAAAAQJEpdUvxdOvWTcYY1a9fv8Axi8WimJgYpaSk6MyZM0pKSlKTJk1s+ri7u2vmzJk6cuSITp8+rS+//JKZNgAAAEA5lZWVpV9//VVBQUF2Ld8JAAAAlAelbsY+AAAAAFxMdHS07rjjDtWqVUtpaWmaOHGiMjIy1LdvX7uW7wQAAADKAwr7AAAAAMqMQ4cO6aGHHtI///yj6tWr6+abb9ZPP/2k0NBQSfYt3wkAAACUdRT2AQAAAJQZS5YsueTx/OU7Y2JiSiYgAAAAwAFK3Rr7AAAAAAAAAADg4ijsAwAAAAAAAABQhlDYBwAAAAAAAACgDKGwDwAAAAAAAABAGUJhHwAAAAAAAACAMoTCPgAAAAAAAAAAZQiFfQAAAAAAAAAAyhAK+wAAAAAAAAAAlCEU9gEAAAAAAAAAKEMo7AMAAAAAAAAAUIZQ2AcAAAAAAAAAoAyhsA8AAAAAAAAAQBlCYR8AAAAAAAAAgDKEwj4AAAAAAAAAAGUIhX0AAAAAAAAAAMoQCvsAAAAAAAAAAJQhFPYBAAAAAAAAAChDKOwDAAAAAAAAAFCGUNgHAFy1uLg4tW7dWl5eXvL399fdd9+t5ORkmz7GGMXExCg4OFgeHh6KjIzUzp07bfrMnTtXkZGR8vb2lsVi0fHjxws939dff602bdrIw8ND1apVU69evS4Zn8ViKXSbPHmytU9kZGSB4w8++ODVPSEAAAAAAAAlgMI+AOCqJSUladCgQfrpp5+UkJCgs2fPqlu3bjp16pS1z6RJkzRt2jTNmjVLGzZsUGBgoLp27aoTJ05Y+5w+fVrdu3fXCy+8cNFzffrpp3rkkUfUr18//fLLL/rxxx/Vu3fvS8aXkpJis7333nuyWCy69957bfo98cQTNv3eeuutq3xGAAAAAAAAip+zowMAAJRdy5cvt9mPj4+Xv7+/Nm3apA4dOsgYo9dee01jxoyxzq6fP3++AgICtHjxYg0YMECSNHz4cElSYmJioec5e/ashg0bpsmTJ6t///7W9gYNGlwyvsDAQJv9zz//XB07dlSdOnVs2itXrlygLwAAAAAAQGnFjH0AQJFJT0+XJPn6+kqS9u3bp9TUVHXr1s3ax83NTREREVq3bp3d427evFl//vmnnJyc1Lx5cwUFBalHjx4FlvS5lMOHD+vrr7+2eWMg36JFi1StWjU1btxY0dHRNp8mKExWVpYyMjJsNgAAAAAAgJJCYR8AUCSMMRo5cqRuueUWNWnSRJKUmpoqSQoICLDpGxAQYD1mj99//12SFBMToxdffFFfffWVqlatqoiICB09etSuMebPny8vL68C6/L36dNHH3zwgRITEzV27Fh9+umnl127Py4uTj4+PtYtJCTE7msBAAAAAAC4VizFAwAoEoMHD9a2bdv0ww8/FDhmsVhs9o0xBdouJS8vT5I0ZswY6/r48fHxqlmzpj7++GPrkj6X8t5776lPnz5yd3e3aX/iiSesXzdp0kT16tVTq1attHnzZrVo0aLQsUaPHq2RI0da9zMyMijuAwAAAACAEsOMfQDANRsyZIi++OILrVmzRjVr1rS2569bf+Hs/LS0tAKz+C8lKChIktSoUSNrm5ubm+rUqaODBw9e9vHff/+9kpOT9fjjj1+2b4sWLeTi4qI9e/ZctI+bm5u8vb1tNgAAAAAAgJJCYR8AcNWMMRo8eLCWLl2q1atXKywszOZ4WFiYAgMDlZCQYG3Lzs5WUlKS2rVrZ/d5WrZsKTc3NyUnJ1vbcnJytH//foWGhl728e+++65atmypG2+88bJ9d+7cqZycHOubCQAAAAAAAKUNhX2ghOzatUuRkZHWbdeuXY4OCbhmgwYN0sKFC7V48WJ5eXkpNTVVqampyszMlHRuCZ7hw4crNjZWy5Yt044dOxQVFaXKlSurd+/e1nFSU1O1detW/fbbb5Kk7du3a+vWrdb18729vfXUU09p3LhxWrlypZKTk/X0009Lku677z7rOA0bNtSyZctsYszIyNDHH39c6Gz9vXv36uWXX9bGjRu1f/9+ffPNN7rvvvvUvHlztW/fvmifLAAAAAAAgCLCGvtACYiMjCzQNnDgQElSYmJiyQYDFKE5c+ZIKvgzHh8fr6ioKEnSqFGjlJmZqYEDB+rYsWNq06aNVq5cKS8vL2v/N998U+PHj7fud+jQocA4kydPlrOzsx555BFlZmaqTZs2Wr16tapWrWp9XHJystLT021iWbJkiYwxeuihhwrE7+rqqu+++04zZszQyZMnFRISottvv13jxo1TpUqVrvp5AQAAAAAAKE4U9oFiVlhR/8LjFPdRVhljLtvHYrEoJiZGMTExF+1zueOS5OLioilTpmjKlClXFM+TTz6pJ598stD+ISEhSkpKuuR5AQAAAAAAShuW4gGKUWHL7dSvX9+ufgAAAAAAAABQGAr7QDHKX25Hkh577DFJ0u7du232L+wHAAAAAAAAAJdCYR8oIe+9994l9wEAAAAAAADAHhT2gRJ21113OToEAAAAAAAAAGUYhX2ghIwdO1aJiYkaMWKEEhMTNXbsWEeHBAAAAAAAAKAMcnZ0AEBFMWHCBE2YMMHRYQAAAAAAAAAo45ixDwAAAAAAAABAGUJhHwAAAAAAAACAMoTCPlCMoqOjrV/37t3b5tj5++f3AwAAAAAAAIBLobAPFKMpU6ZYv168eLHNsfP3z+8HAAAAAAAAAJdCYR8AAAAAAAAAgDKEwj4AAAAAAAAAAGUIhX2gGNm7dj5r7AMAAAAAAACwF4V9oBjZu3Y+a+wDAAAAAAAAsBeFfQAAAAAAAAAAypBSV9j/888/9fDDD8vPz0+VK1dWs2bNtGnTJutxY4xiYmIUHBwsDw8PRUZGaufOnTZjZGVlaciQIapWrZo8PT1155136tChQyV9KQAAAAAAAAAAFLlSVdg/duyY2rdvLxcXF3377bfatWuXpk6dqipVqlj7TJo0SdOmTdOsWbO0YcMGBQYGqmvXrjpx4oS1z/Dhw7Vs2TItWbJEP/zwg06ePKmePXsqNzfXAVcFnDN27FglJiZat7Fjxzo6JAAAAAAAAABlkLOjAzjfq6++qpCQEMXHx1vbateubf3aGKPXXntNY8aMUa9evSRJ8+fPV0BAgBYvXqwBAwYoPT1d7777rt5//3116dJFkrRw4UKFhIRo1apVuvXWWwucNysrS1lZWdb9jIyMYrpCVGQTJkzQhAkTHB0GAAAAAAAAgDKuVM3Y/+KLL9SqVSvdd9998vf3V/PmzfX2229bj+/bt0+pqanq1q2btc3NzU0RERFat26dJGnTpk3Kycmx6RMcHKwmTZpY+1woLi5OPj4+1i0kJKSYrhAAAAAAAAAAgGtTqgr7v//+u+bMmaN69eppxYoVeuqppzR06FAtWLBAkpSamipJCggIsHlcQECA9VhqaqpcXV1VtWrVi/a50OjRo5Wenm7d/vjjj6K+NAAAAAAAAAAAikSpKuzn5eWpRYsWio2NVfPmzTVgwAA98cQTmjNnjk0/i8Vis2+MKdB2oUv1cXNzk7e3t80GFIXo6Ogi7QcAAAAAAAAApaqwHxQUpEaNGtm03XDDDTp48KAkKTAwUJIKzLxPS0uzzuIPDAxUdna2jh07dtE+QEmZMmVKkfYDAAAAAKC0iIuLU+vWreXl5SV/f3/dfffdSk5OtukTFRUli8Vis918880OihgAyo9SVdhv3759gReA3bt3KzQ0VJIUFhamwMBAJSQkWI9nZ2crKSlJ7dq1kyS1bNlSLi4uNn1SUlK0Y8cOax8AAAAAAABcm6SkJA0aNEg//fSTEhISdPbsWXXr1k2nTp2y6de9e3elpKRYt2+++cZBEQNA+eHs6ADON2LECLVr106xsbG6//779fPPP2vu3LmaO3eupHNL8AwfPlyxsbGqV6+e6tWrp9jYWFWuXFm9e/eWJPn4+Kh///565pln5OfnJ19fX0VHRys8PFxdunRx5OUBAAAAAACUG8uXL7fZj4+Pl7+/vzZt2qQOHTpY293c3KyrMNgjKytLWVlZ1v2MjIxrDxYAyplSNWO/devWWrZsmT744AM1adJEEyZM0GuvvaY+ffpY+4waNUrDhw/XwIED1apVK/35559auXKlvLy8rH2mT5+uu+++W/fff7/at2+vypUr68svv1SlSpUccVmowM5fO3/s2LFKTEy0bmPHji20HwAAAAAAZVF6erokydfX16Y9MTFR/v7+ql+/vp544gmlpaVdcpy4uDj5+PhYt5CQkGKLGQDKKosxxjg6iNImIyNDPj4+Sk9P50a6uCaRkZF2901MTCy2OFD+kbccy1HP/+7du/Xkk0/qVKM7ledZrcTOC6BoOJ36R567vtDcuXNVv379Ejsvrxn24XlCcch/7S7p//co/0pDzjLG6K677tKxY8f0/fffW9s//PBDXXfddQoNDdW+ffs0duxYnT17Vps2bZKbm1uhYxU2Yz8kJIScjCJHXkZxKYm8XKqW4gEAAAAAAEDZM3jwYG3btk0//PCDTfsDDzxg/bpJkyZq1aqVQkND9fXXX6tXr16FjuXm5nbRoj8A4BwK+wAAAAAAALhqQ4YM0RdffKG1a9eqZs2al+wbFBSk0NBQ7dmzp4SiA4DyqVStsQ+UN6yxDwAAAAAor4wxGjx4sJYuXarVq1crLCzsso85cuSI/vjjDwUFBZVAhABQfjFjHyhGU6ZMsX49YcIETZgw4aL9evbsWVJhAQAAAABwzQYNGqTFixfr888/l5eXl1JTUyVJPj4+8vDw0MmTJxUTE6N7771XQUFB2r9/v1544QVVq1ZN99xzj4OjB4CyjcI+AAAAAAAArticOXMkSZGRkTbt8fHxioqKUqVKlbR9+3YtWLBAx48fV1BQkDp27KgPP/xQXl5eDogYAMoPCvsAAAAAAAC4YsaYSx738PDQihUrSigaAKhYWGMfKEassQ8AAAAAAACgqDFjHyhGrLEPAAAAAAAAoKgxYx8AAAAAAAAAgDKEwj4AAAAAAAAAAGUIhX2gGLHGPgAAAAAAAICixhr7QDFijX0AAAAAAAAARY0Z+wAAAAAAAAAAlCEU9gEAAAAAAAAAKEMo7APFiDX2AQAAAAAAABQ11tgHihFr7AMAAAAAAAAoaszYBwBctbi4OLVu3VpeXl7y9/fX3XffreTkZJs+xhjFxMQoODhYHh4eioyM1M6dO236zJ07V5GRkfL29pbFYtHx48cLPd/XX3+tNm3ayMPDQ9WqVVOvXr0uGV9UVJQsFovNdvPNN9v0ycrK0pAhQ1StWjV5enrqzjvv1KFDh678yQAAOERcXJwsFouGDx9ubbPntQcAAAAoyyjsAwCuWlJSkgYNGqSffvpJCQkJOnv2rLp166ZTp05Z+0yaNEnTpk3TrFmztGHDBgUGBqpr1646ceKEtc/p06fVvXt3vfDCCxc916effqpHHnlE/fr10y+//KIff/xRvXv3vmyM3bt3V0pKinX75ptvbI4PHz5cy5Yt05IlS/TDDz/o5MmT6tmzp3Jzc6/iGQEAlKQNGzZo7ty5atq0qU27Pa89AAAAQFnGUjxAMYqOjrYuxzN27Fh17tzZeuy7776zLs3DGvsoq5YvX26zHx8fL39/f23atEkdOnSQMUavvfaaxowZY51dP3/+fAUEBGjx4sUaMGCAJFlnWSYmJhZ6nrNnz2rYsGGaPHmy+vfvb21v0KDBZWN0c3NTYGBgocfS09P17rvv6v3331eXLl0kSQsXLlRISIhWrVqlW2+99bLjAwAc4+TJk+rTp4/efvttTZw40dpu72sPAAAAUJYxYx8oRheusR8ZGWndzl9v//x+QFmWnp4uSfL19ZUk7du3T6mpqerWrZu1j5ubmyIiIrRu3Tq7x928ebP+/PNPOTk5qXnz5goKClKPHj3sWlYhMTFR/v7+ql+/vp544gmlpaVZj23atEk5OTk28QUHB6tJkyaXjC8rK0sZGRk2GwCgZA0aNEi333679Y3ZfFf72kNuBwAAQFlCYR8AUCSMMRo5cqRuueUWNWnSRJKUmpoqSQoICLDpGxAQYD1mj99//12SFBMToxdffFFfffWVqlatqoiICB09evSij+vRo4cWLVqk1atXa+rUqdqwYYM6deqkrKwsa3yurq6qWrXqFcUXFxcnHx8f6xYSEmL3tQAArt2SJUu0efNmxcXFFTh2ta895HYAAACUJRT2AQBFYvDgwdq2bZs++OCDAscsFovNvjGmQNul5OXlSZLGjBmje++9Vy1btlR8fLwsFos+/vjjiz7ugQce0O23364mTZrojjvu0Lfffqvdu3fr66+/vuT5Lhff6NGjlZ6ebt3++OMPu68FAHBt/vjjDw0bNkwLFy6Uu7v7Rftd6WsPuR0AAABlCYV9oBjZu3Y+a+yjrBsyZIi++OILrVmzRjVr1rS2569tf+EMybS0tAIzKS8lKChIktSoUSNrm5ubm+rUqaODBw9e0TihoaHas2ePNb7s7GwdO3bsiuJzc3OTt7e3zQYAKBmbNm1SWlqaWrZsKWdnZzk7OyspKUmvv/66nJ2drfn7Sl97yO0AAAAoSyjsA8XI3rXzWWMfZZUxRoMHD9bSpUu1evVqhYWF2RwPCwtTYGCgEhISrG3Z2dlKSkpSu3bt7D5Py5Yt5ebmpuTkZGtbTk6O9u/fr9DQULvHOXLkiP744w/rGwUtW7aUi4uLTXwpKSnasWPHFcUHACg5nTt31vbt27V161br1qpVK/Xp00dbt25VnTp1iuS1BwAAACjNnB0dAACg7Bo0aJAWL16szz//XF5eXtbZkT4+PvLw8JDFYtHw4cMVGxurevXqqV69eoqNjVXlypXVu3dv6zipqalKTU3Vb7/9Jknavn27vLy8VKtWLfn6+srb21tPPfWUxo0bp5CQEIWGhmry5MmSpPvuu886TsOGDRUXF6d77rlHJ0+eVExMjO69914FBQVp//79euGFF1StWjXdc8891jj79++vZ555Rn5+fvL19VV0dLTCw8ML3IwRAFA6eHl5We/lks/T01N+fn7WdnteewAAAICyjMI+AOCqzZkzR5IUGRlp0x4fH6+oqChJ0qhRo5SZmamBAwfq2LFjatOmjVauXCkvLy9r/zfffFPjx4+37nfo0KHAOJMnT5azs7MeeeQRZWZmqk2bNlq9erXNjW+Tk5OVnp4uSapUqZK2b9+uBQsW6Pjx4woKClLHjh314Ycf2px7+vTpcnZ21v3336/MzEx17txZ8+bNU6VKlYrseQIAlCx7XnsAAACAsozCPlBCXnzxRfn5+eno0aPy9fXVkSNHNHHiREeHBVwTY8xl+1gsFsXExCgmJuaifS53XJJcXFw0ZcqUSy5ddX48Hh4eWrFixWXjc3d318yZMzVz5szL9gUAlE6JiYk2+/a89gAAYI/Dhw9bJw+h/Dlw4IDNvyh/fHx8rugef2UJhX2ghFDEBwAAAACg7Dh8+LAefuRR5WRnOToUFLNXXnnF0SGgmLi4umnh+wvKZXGfwj4AAAAAAABwgfT0dOVkZymzToTy3H0cHQ6AK+R0Jl36PUnp6ekU9gEAAAAAAICKJM/dR3me1RwdBgDYcHJ0AEB5dvfddxdpPwAAAAAAAACgsA8Uo88++6xI+wEAAAAAAAAAhX0AAAAAAAAAAMoQCvsAAAAAAAAAAJQhFPaBYhQdHV2k/QAAAMqinJwc9evXT7///rujQwEAXCA7O1uHDh3SwYMHbTYAQOnm7OgAgPJsypQpdvfr2bNnMUcDAADgGC4uLlq2bJnGjh3r6FDKhMOHDys9Pd3RYaAYHDhwwOZflE8+Pj4KCAhwdBiXtWfPHj322GNat26dTbsxRhaLRbm5uQ6KDABgDwr7AAAAAIrdPffco88++0wjR450dCil2uHDh/XwI48qJzvL0aGgGL3yyiuODgHFyMXVTQvfX1Dqi/tRUVFydnbWV199paCgIFksFkeHBAC4AhT2AQAAABS766+/XhMmTNC6devUsmVLeXp62hwfOnSogyIrXdLT05WTnaXMOhHKc/dxdDgArpDTmXTp9ySlp6eX+sL+1q1btWnTJjVs2NDRoQAArgKFfaCEjB07Vp07d7buf/fdd5owYYIDIwIAACg577zzjqpUqaJNmzZp06ZNNscsFguF/Qvkufsoz7Oao8MAUI41atRI//zzj6PDAABcJQr7QAmZMGEChXwAAFBh7du3z9EhAECFl5GRYf361Vdf1ahRoxQbG6vw8HC5uLjY9PX29i7p8AAAV4DCPgAAAIASk52drX379qlu3bpydubPEQAoSVWqVLFZS98YY/PJ8vw2bp4LAKUfv0kDAAAAKHanT5/WkCFDNH/+fEnS7t27VadOHQ0dOlTBwcF6/vnnHRwhAJR/a9ascXQIAIAiQmEfKEbR0dGaMmWKXf0AAADKs9GjR+uXX35RYmKiunfvbm3v0qWLxo0bR2EfAEpARESE9euDBw8qJCTEZga/dG7G/h9//FHSoQEArpCTowMAyjN7ivpX0g8AAKCs+uyzzzRr1izdcsstNkWkRo0aae/evQ6MDAAqprCwMP39998F2o8ePaqwsDAHRAQAuBIU9gEAAAAUu7///lv+/v4F2k+dOlVgtigAoPjlr6V/oZMnT8rd3d0BEQEArgRL8QAAAAAodq1bt9bXX3+tIUOGSJK1mPT222+rbdu2jgwNACqUkSNHSjqXh8eOHavKlStbj+Xm5uq///2vmjVr5qDoAAD2KlWF/ZiYGI0fP96mLSAgQKmpqZLOvZs8fvx4zZ07V8eOHVObNm30xhtvqHHjxtb+WVlZio6O1gcffKDMzEx17txZs2fPVs2aNUv0WoALjR07Vp07d7buf/fdd5owYYIDIwIAACg5cXFx6t69u3bt2qWzZ89qxowZ2rlzp9avX6+kpCRHhwcAFcaWLVsknauxbN++Xa6urtZjrq6uuvHGG7kPHACUAaWqsC9JjRs31qpVq6z7lSpVsn49adIkTZs2TfPmzVP9+vU1ceJEde3aVcnJyfLy8pIkDR8+XF9++aWWLFkiPz8/PfPMM+rZs6c2bdpkMxZQ0iZMmEAhHwAAVFjt2rXTjz/+qClTpqhu3bpauXKlWrRoofXr1ys8PNzR4QFAhbFmzRpJUr9+/TRjxgx5e3s7OCIAwNUodYV9Z2dnBQYGFmg3xui1117TmDFj1KtXL0nS/PnzFRAQoMWLF2vAgAFKT0/Xu+++q/fff19dunSRJC1cuFAhISFatWqVbr311hK9FgAAAAD/Jzw8XPPnz3d0GAAASfHx8Y4OAQBwDUpdYX/Pnj0KDg6Wm5ub2rRpo9jYWNWpU0f79u1TamqqunXrZu3r5uamiIgIrVu3TgMGDNCmTZuUk5Nj0yc4OFhNmjTRunXrLlrYz8rKUlZWlnU/IyOj+C4QAAAAqKByc3O1bNky/frrr7JYLLrhhht01113ydm51P1ZAgDl3qlTp/Sf//xH3333ndLS0pSXl2dz/Pfff3dQZAAAe5Sq36DbtGmjBQsWqH79+jp8+LAmTpyodu3aaefOndZ19gMCAmweExAQoAMHDkiSUlNT5erqqqpVqxbok//4wsTFxRVY2x8oCtHR0ZoyZYpd/QAAAMqzHTt26K677lJqaqoaNGggSdq9e7eqV6+uL774guV4AKCEPf7440pKStIjjzyioKAg603NAQBlQ6kq7Pfo0cP6dXh4uNq2bau6detq/vz5uvnmmyWpwAuNMeayLz6X6zN69GjrXeGlczP2Q0JCruYSABv2FPXz+/Xs2bOYowEAAHCcxx9/XI0bN9bGjRutE3GOHTumqKgoPfnkk1q/fr2DIwSAiuXbb7/V119/rfbt2zs6FADAVXBydACX4unpqfDwcO3Zs8e67v6FM+/T0tKss/gDAwOVnZ2tY8eOXbRPYdzc3OTt7W2zAQAAACg6v/zyi+Li4mw+XVu1alW98sor2rp1q+MCA4AKqmrVqvL19XV0GACAq1SqC/tZWVn69ddfFRQUpLCwMAUGBiohIcF6PDs7W0lJSWrXrp0kqWXLlnJxcbHpk5KSoh07dlj7AAAAACh5DRo00OHDhwu0p6Wl6frrr3dARABQsU2YMEEvvfSSTp8+7ehQAABXoVQtxRMdHa077rhDtWrVUlpamiZOnKiMjAz17dtXFotFw4cPV2xsrOrVq6d69eopNjZWlStXVu/evSVJPj4+6t+/v5555hn5+fnJ19dX0dHRCg8PV5cuXRx8dajooqOjbZbb+eqrr+xeqgcAAKAsysjIsH4dGxuroUOHKiYmxrrM5k8//aSXX35Zr776qqNCBIAKa+rUqdq7d68CAgJUu3Ztubi42BzfvHmzgyIDANijVBX2Dx06pIceekj//POPqlevrptvvlk//fSTQkNDJUmjRo1SZmamBg4cqGPHjqlNmzZauXKlvLy8rGNMnz5dzs7Ouv/++5WZmanOnTtr3rx5qlSpkqMuC5B0bh19CvkAAKAiqVKlis29rowxuv/++61txhhJ0h133KHc3FyHxAgAFdXdd9/t6BAAANegVBX2lyxZcsnjFotFMTExiomJuWgfd3d3zZw5UzNnzizi6AAAAABciTVr1jg6BADARYwbN87RIQAArkGpKuwDAAAAKD8iIiIcHQIA4DI2bdqkX3/9VRaLRY0aNVLz5s0dHRIAwA4U9oFi9Nhjj+m9996zqx8AAEB5d+bMGW3btk1paWnKy8uzOXbnnXc6KCoAqJjS0tL04IMPKjExUVWqVJExRunp6erYsaOWLFmi6tWrOzpEAMAlUNgHipE9Rf38fo8++mgxRwMAAOA4y5cv16OPPqp//vmnwDGLxcIa+wBQwoYMGaKMjAzt3LlTN9xwgyRp165d6tu3r4YOHaoPPvjAwRECAC7FydEBAAAAACj/Bg8erPvuu08pKSnKy8uz2SjqA0DJW758uebMmWMt6ktSo0aN9MYbb+jbb791YGQAAHtQ2AcAAABQ7NLS0jRy5EgFBAQ4OhQAgKS8vDy5uLgUaHdxcSmwXBoAoPShsA8AAACg2P373/9WYmKio8MAAPx/nTp10rBhw/TXX39Z2/7880+NGDFCnTt3dmBkAAB7sMY+AAAAgGI3a9Ys3Xffffr+++8VHh5eYJbo0KFDHRQZAFRMs2bN0l133aXatWsrJCREFotFBw8eVHh4uBYuXOjo8AAAl0FhHwAAAECxW7x4sVasWCEPDw8lJibKYrFYj1ksFgr7AFDCQkJCtHnzZiUkJOh///ufjDFq1KiRunTp4ujQAAB2YCkeAAAAAMXuxRdf1Msvv6z09HTt379f+/bts26///67o8MDgAqra9euGjJkiIYOHXrFRf24uDi1bt1aXl5e8vf31913363k5GSbPsYYxcTEKDg4WB4eHoqMjNTOnTuL8hIAoEJixj4AVEDGGB08eFD+/v7y8PBwdDgAgAogOztbDzzwgJycmFsEAKXFzz//rMTERKWlpRW4Ye60adMu+/ikpCQNGjRIrVu31tmzZzVmzBh169ZNu3btkqenpyRp0qRJmjZtmubNm6f69etr4sSJ6tq1q5KTk+Xl5VUs1wUAFQGFfQCogIwxqlevnnbu3Kl69eo5OhwAQAXQt29fffjhh3rhhRccHQoAQFJsbKxefPFFNWjQQAEBAQWWSLPH8uXLbfbj4+Pl7++vTZs2qUOHDjLG6LXXXtOYMWPUq1cvSdL8+fMVEBCgxYsXa8CAAUV3QQBQwVDYB4AKyMnJSfXq1dORI0co7AMASkRubq4mTZqkFStWqGnTpgVunmvPzFAAQNGZMWOG3nvvPUVFRRXZmOnp6ZIkX19fSdK+ffuUmpqqbt26Wfu4ubkpIiJC69atu2hhPysrS1lZWdb9jIyMIosRAMoLPgcLABXUpEmT9Oyzz2rHjh1XPUZRrak5d+5cRUZGytvbWxaLRcePHy/0fF9//bXatGkjDw8PVatWzTrrpzA5OTl67rnnFB4eLk9PTwUHB+vRRx/VX3/9ZdMvMjJSFovFZnvwwQev7gkBAFzU9u3b1bx5czk5OWnHjh3asmWLddu6daujwwOACsfJyUnt27cvsvGMMRo5cqRuueUWNWnSRJKUmpoqSQoICLDpGxAQYD1WmLi4OPn4+Fi3kJCQIosTAMoLZuwDQAX18MMP6/Tp07rxxhvl6upaYK39o0ePXnaMolpT8/Tp0+revbu6d++u0aNHF3quTz/9VE888YRiY2PVqVMnGWO0ffv2i8Z2+vRpbd68WWPHjtWNN96oY8eOafjw4brzzju1ceNGm75PPPGEXn75Zes+9x0AgKK3Zs0aR4cAADjPiBEj9MYbb+i1114rkvEGDx6sbdu26Ycffihw7MKlfYwxl1zuZ/To0Ro5cqR1PyMjg+I+AFyAwj4AVFBF8Qt8Ua2pOXz4cElSYmJioec5e/ashg0bpsmTJ6t///7W9gYNGlw0Nh8fHyUkJNi0zZw5UzfddJMOHjyoWrVqWdsrV66swMBAu6+bjwYDAACgrIuOjtbtt9+uunXrqlGjRgWWSFu6dKndYw0ZMkRffPGF1q5dq5o1a1rb83/HTk1NVVBQkLU9LS2twCz+87m5ucnNzc3u8wNARURhHwAqqL59+xb5mEW1puaFNm/erD///FNOTk5q3ry5UlNT1axZM02ZMkWNGze+ovgsFouqVKli075o0SItXLhQAQEB6tGjh8aNG2f9NEFh4uLiNH78eLvPCwCQOnbseMnZmatXry7BaAAAQ4YM0Zo1a9SxY0f5+fnZfcPc8xljNGTIEC1btkyJiYkKCwuzOR4WFqbAwEAlJCSoefPmkqTs7GwlJSXp1VdfLZLrAICKisI+AECZmZnKycmxafP29r6iMa50Tc0DBw7YPfbvv/8uSYqJidG0adNUu3ZtTZ06VREREdq9e7f1jYRLOXPmjJ5//nn17t3b5tr69Olj/YNjx44dGj16tH755ZcCs/3Px0eDAeDKNWvWzGY/JydHW7du1Y4dO4rlzWYAwKUtWLBAn376qW6//farHmPQoEFavHixPv/8c3l5eVl///fx8ZGHh4csFouGDx+u2NhY1atXT/Xq1VNsbKwqV66s3r17F9WlAECFRGEfACqoU6dO6bnnntNHH32kI0eOFDiem5t7ReMV5ZqaF8rLy5MkjRkzRvfee6+kc8v+1KxZUx9//PFlZ/7n5OTowQcfVF5enmbPnm1z7IknnrB+3aRJE9WrV0+tWrXS5s2b1aJFi0LH46PBAHDlpk+fXmh7TEyMTp48WcLRAAB8fX1Vt27daxpjzpw5kqTIyEib9vj4eEVFRUmSRo0apczMTA0cOFDHjh1TmzZttHLlykt+QhYAcHlOjg4AAOAYo0aN0urVqzV79my5ubnpnXfe0fjx4xUcHKwFCxZc0Vj5a2quWbPmomtqnu9ya2peKH89zkaNGlnb3NzcVKdOHR08ePCSj83JydH999+vffv2KSEh4bKfRGjRooVcXFy0Z88eu+MDAFy9hx9+WO+9956jwwCACicmJkbjxo3T6dOnr3oMY0yhW35RXzo3yScmJkYpKSk6c+aMkpKSrJ/wBQBcPWbsA0AF9eWXX2rBggWKjIzUY489pn/961+6/vrrFRoaqkWLFqlPnz6XHaOk1tRs2bKl3NzclJycrFtuuUXSuYL9/v37FRoaetHH5Rf19+zZozVr1sjPz++y59q5c6dycnJsbu4FACg+69evl7u7u6PDAIAK5/XXX9fevXsVEBCg2rVrF7h57ubNmx0UGQDAHhT2AaCCOnr0qLUQ7+3traNHj0qSbrnlFj399NN2jVFUa2qmpqYqNTVVv/32myRp+/bt8vLyUq1ateTr6ytvb2899dRTGjdunEJCQhQaGqrJkydLku677z7rOA0bNlRcXJzuuecenT17Vv/+97+1efNmffXVV8rNzbXG5+vrK1dXV+3du1eLFi3SbbfdpmrVqmnXrl165pln1Lx5c7Vv3/4an2EAwPl69epls2+MUUpKijZu3KixY8c6KCoAqLjuvvtuR4cAALgGFPYBoIKqU6eOdcZ7o0aN9NFHH+mmm27Sl19+qSpVqtg1RlGtqfnmm29q/Pjx1v0OHToUGGfy5MlydnbWI488oszMTLVp00arV69W1apVrY9LTk5Wenq6JOnQoUP64osvJBW8YeOaNWsUGRkpV1dXfffdd5oxY4ZOnjypkJAQ3X777Ro3bpwqVapk13MAALCPj4+Pzb6Tk5MaNGigl19+Wd26dXNQVABQcY0bN86ufh988IHuvPNOeXp6FnNEAIArQWEfACqofv366ZdfflFERIRGjx6t22+/XTNnztTZs2c1bdo0u8Ywxly2T/6amjExMRftc7njkuTi4qIpU6ZoypQpdsVTu3bty8YXEhKipKSkS/YBABSN+Ph4R4cAALgKAwYMUJs2bVSnTh1HhwIAOA+FfQCooEaMGGH9umPHjvrf//6njRs3qm7durrxxhsdGBkAoDzLzs5WWlqa8vLybNpr1arloIgAAJdiz2QeAEDJo7APANCZM2dUq1YtiioAgGKze/du9e/fX+vWrbNpN8bIYrEoNzfXQZEBAAAAZQ+FfQCooHJzcxUbG6s333xThw8f1u7du1WnTh2NHTtWtWvXVv/+/R0dIgCgHOnXr5+cnZ311VdfKSgoSBaLxdEhAQAAAGUWhX0AqKBeeeUVzZ8/X5MmTdITTzxhbQ8PD9f06dMp7AMAitTWrVu1adMmNWzY0NGhAAAAAGWek6MDAAA4xoIFCzR37lz16dNHlSpVsrY3bdpU//vf/xwYGQCgPGrUqJH++ecfR4cBAAAAlAsU9gGggvrzzz91/fXXF2jPy8tTTk6OAyICAJRnr776qkaNGqXExEQdOXJEGRkZNhsAoPi9/vrrOnPmjCTp4MGDdt0YNzQ0VC4uLsUdGgDgCrEUDwBUUI0bN9b333+v0NBQm/aPP/5YzZs3d1BUAIDyqkuXLpKkzp0727Rz81wAKDkjR47Ugw8+KHd3d4WFhSklJUX+/v6XfMyOHTtKKDoAwJWgsA8AFdS4ceP0yCOP6M8//1ReXp6WLl2q5ORkLViwQF999ZWjwwMAlDNr1qxxdAgAUOEFBwfr008/1W233SZjjA4dOmSdwX+hWrVqlXB0AIArQWEfACqoO+64Qx9++KFiY2NlsVj00ksvqUWLFvryyy/VtWtXR4cHAChnIiIi7Oo3cOBAvfzyy6pWrVoxRwQAFc+LL76oIUOGaPDgwbJYLGrdunWBPnySCgDKBgr7AFCB3Xrrrbr11lsdHQYAAFYLFy5UdHQ0hX0AKAZPPvmkHnroIR04cEBNmzbVqlWr5Ofn5+iwAABXgcI+AFRQUVFReuyxx9ShQwdHhwIAgJU9N3IEAFw9Ly8vNWnSRPHx8Wrfvr3c3NwcHRIA4CpQ2AeACurEiRPq1q2bQkJC1K9fP/Xt21c1atRwdFgAAAAASkDfvn0lSZs2bdKvv/4qi8WiG264QS1atHBwZAAAezg5OgAAgGN8+umn+vPPPzV48GB9/PHHql27tnr06KFPPvlEOTk5jg4PAAAAQDFKS0tTp06d1Lp1aw0dOlSDBw9Wq1at1LlzZ/3999+ODg8AcBkU9gGgAvPz89OwYcO0ZcsW/fzzz7r++uv1yCOPKDg4WCNGjNCePXscHSIAAACAYjBkyBBlZGRo586dOnr0qI4dO6YdO3YoIyNDQ4cOdXR4AIDLoLAPAFBKSopWrlyplStXqlKlSrrtttu0c+dONWrUSNOnT3d0eAAAAACK2PLlyzVnzhzdcMMN1rZGjRrpjTfe0LfffuvAyAAA9ijSwv7x48f1zjvvaPTo0Tp69KgkafPmzfrzzz+L8jQAgCKQk5OjTz/9VD179lRoaKg+/vhjjRgxQikpKZo/f75Wrlyp999/Xy+//LKjQwUAlAPZ2dkXPfbPP/9Yv3744Yfl7e1dEiEBQIWWl5cnFxeXAu0uLi7Ky8tzQEQAgCtRZDfP3bZtm7p06SIfHx/t379fTzzxhHx9fbVs2TIdOHBACxYsKKpTAQCKQFBQkPLy8vTQQw/p559/VrNmzQr0ufXWW1WlSpUSjw0AUP7cf//9Wrp0qZycbOcWHT58WJ07d9aOHTskSXPmzHFEeABQ4XTq1EnDhg3TBx98oODgYEnSn3/+qREjRqhz584Ojg4AcDlFNmN/5MiRioqK0p49e+Tu7m5t79Gjh9auXVtUpwEAFJHp06frr7/+0htvvFFoUV+Sqlatqu+//54ZOwCAa5aSkqL+/fvbtKWmpioyMlINGza0e5w5c+aoadOm8vb2lre3t9q2bWuzZIQxRjExMQoODpaHh4ciIyO1c+fOIrsOACgvZs2apRMnTqh27dqqW7eurr/+eoWFhenEiROaOXOmo8MDAFxGkRX2N2zYoAEDBhRor1GjhlJTU4vqNACAIvLII4/YvBF7MY0aNdL+/fuLPyAAQLn2zTff6Oeff9aIESMknZsVGhERofDwcH300Ud2j1OzZk395z//0caNG7Vx40Z16tRJd911l7V4P2nSJE2bNk2zZs3Shg0bFBgYqK5du+rEiRPFcl0AUFaFhIRo8+bN+vrrrzV8+HANHTpU33zzjTZt2qSaNWs6OjwAwGUU2VI87u7uysjIKNCenJys6tWrF9VpAAAlzBjj6BAAAOWAn5+fVqxYoVtuuUWS9PXXX6tFixZatGhRgeV5LuWOO+6w2X/llVc0Z84c/fTTT2rUqJFee+01jRkzRr169ZIkzZ8/XwEBAVq8eHGhE5EAoKLr2rWrunbtetHj4eHh+uabbxQSElKCUQEALqfIZuzfddddevnll5WTkyNJslgsOnjwoJ5//nnde++9RXUaAAAAAGVUzZo1lZCQoMWLF+umm27SBx98oEqVKl31eLm5uVqyZIlOnTqltm3bat++fUpNTVW3bt2sfdzc3BQREaF169ZdcqysrCxlZGTYbAAAaf/+/dZaDwCg9CiyGftTpkzRbbfdJn9/f2VmZioiIkKpqalq27atXnnllaI6DQAAAIAyomrVqrJYLAXaT58+rS+//FJ+fn7WtqNHj9o97vbt29W2bVudOXNG1113nZYtW6ZGjRpZi/cBAQE2/QMCAnTgwIFLjhkXF6fx48fbHQMAAADgSEVW2Pf29tYPP/yg1atXa/PmzcrLy1OLFi3UpUuXojoFAAAAgDLktddeK5ZxGzRooK1bt+r48eP69NNP1bdvXyUlJVmPX/hmgjGm0DcYzjd69GiNHDnSup+RkcGyEwAAACi1iqywn69Tp07q1KlTkYwVFxenF154QcOGDbP+UWCM0fjx4zV37lwdO3ZMbdq00RtvvKHGjRtbH5eVlaXo6Gh98MEHyszMVOfOnTV79mxu/gIAV+FyhRAAAC6mb9++xTKuq6urrr/+eklSq1attGHDBs2YMUPPPfecJCk1NVVBQUHW/mlpaQVm8V/Izc1Nbm5uxRIvAAAAUNSKtLD/888/KzExUWlpacrLy7M5Nm3atCsaa8OGDZo7d66aNm1q0z5p0iRNmzZN8+bNU/369TVx4kR17dpVycnJ8vLykiQNHz5cX375pZYsWSI/Pz8988wz6tmzpzZt2nRNa3gCQEXEzXMBAEVl7969io+P1969ezVjxgz5+/tr+fLlCgkJsZmoc6WMMcrKylJYWJgCAwOVkJCg5s2bS5Kys7OVlJSkV199taguAwAAAHC4Irt5bmxsrG6++WbFx8dr48aN2rJli3XbunXrFY118uRJ9enTR2+//baqVq1qbTfG6LXXXtOYMWPUq1cvNWnSRPPnz9fp06e1ePFiSVJ6erreffddTZ06VV26dFHz5s21cOFCbd++XatWrSqqywWAcuO3337TihUrlJmZKalgIX/Xrl0KDQ11RGgAgHIkKSlJ4eHh+u9//6ulS5fq5MmTkqRt27Zp3Lhxdo/zwgsv6Pvvv9f+/fu1fft2jRkzRomJierTp48sFouGDx+u2NhYLVu2TDt27FBUVJQqV66s3r17F9elAQAAACWuyGbsz5gxQ++9956ioqKueaxBgwbp9ttvV5cuXTRx4kRr+759+5Samqpu3bpZ29zc3BQREaF169ZpwIAB2rRpk3Jycmz6BAcHq0mTJlq3bp1uvfXWAufLyspSVlaWdT8jI+OarwEASrsjR47ogQce0OrVq2WxWLRnzx7VqVNHjz/+uKpUqaKpU6dKEusLAwCKxPPPP6+JEydq5MiR1k/aSlLHjh01Y8YMu8c5fPiwHnnkEaWkpMjHx0dNmzbV8uXL1bVrV0nSqFGjlJmZqYEDB1qX7ly5cqXNOQEA52osYWFhl+331ltvXXY5MwBAySuyGftOTk5q3779NY+zZMkSbd68WXFxcQWOpaamSlKBF5SAgADrsdTUVLm6utrM9L+wz4Xi4uLk4+Nj3ShiAagIRowYIWdnZx08eFCVK1e2tj/wwANavny5AyMDAJRH27dv1z333FOgvXr16jpy5Ijd47z77rvav3+/srKylJaWplWrVlmL+tK5e8PExMQoJSVFZ86cUVJSkpo0aVIk1wAA5cn111+vjh07auHChTpz5sxF+/Xu3Vuenp4lGBkAwB5FVtgfMWKE3njjjWsa448//tCwYcO0cOFCubu7X7TfhTdyNMZc9uaOl+ozevRopaenW7c//vjjyoMHgDJm5cqVevXVVwvcWLxevXo6cOCAg6ICAJRXVapUUUpKSoH2LVu2qEaNGg6ICAAqtl9++UXNmzfXM888o8DAQA0YMEA///yzo8MCANipyAr70dHRSk5OVt26dXXHHXeoV69eNps9Nm3apLS0NLVs2VLOzs5ydnZWUlKSXn/9dTk7O1tn6l848z4tLc16LDAwUNnZ2Tp27NhF+1zIzc1N3t7eNhsAlHenTp2ymamf759//pGbm5sDIgIAlGe9e/fWc889p9TUVFksFuXl5enHH39UdHS0Hn30UUeHBwAVTpMmTTRt2jT9+eefio+PV2pqqm655RY1btxY06ZN099//+3oEAEAl1Bkhf0hQ4ZozZo1ql+/vvz8/GyWtvHx8bFrjM6dO2v79u3aunWrdWvVqpX69OmjrVu3qk6dOgoMDFRCQoL1MdnZ2UpKSlK7du0kSS1btpSLi4tNn5SUFO3YscPaBwAgdejQQQsWLLDu5xdZJk+erI4dOzowMgBAefTKK6+oVq1aqlGjhk6ePKlGjRqpQ4cOateunV588UVHhwcAFZazs7PuueceffTRR3r11Ve1d+9eRUdHq2bNmnr00UcL/bQVAMDxiuzmuQsWLNCnn36q22+//arH8PLyKrD+paenp/z8/Kztw4cPV2xsrOrVq6d69eopNjZWlStXVu/evSVJPj4+6t+/v5555hn5+fnJ19dX0dHRCg8PV5cuXa7+AgGgnJk8ebIiIyO1ceNGZWdna9SoUdq5c6eOHj2qH3/80dHhAQDKGRcXFy1atEgvv/yytmzZory8PDVv3lz16tVzdGgAUKFt3LhR7733npYsWSJPT09FR0erf//++uuvv/TSSy/prrvuYokeACiFiqyw7+vrq7p16xbVcBc1atQoZWZmauDAgTp27JjatGmjlStXysvLy9pn+vTpcnZ21v3336/MzEx17txZ8+bNU6VKlYo9PgAoKxo1aqRt27Zpzpw5qlSpkk6dOqVevXpp0KBBCgoKcnR4AIByKiQkRGfPnlXdunXl7Fxkf44AAK7QtGnTFB8fr+TkZN12221asGCBbrvtNjk5nVvcISwsTG+99ZYaNmzo4EgBAIUpst+kY2JiNG7cOMXHxxe6ZvPVSkxMtNm3WCyKiYlRTEzMRR/j7u6umTNnaubMmUUWBwCUNwcPHlRISIjGjx9f6LFatWo5ICoAQHl1+vRpDRkyRPPnz5ck7d69W3Xq1NHQoUMVHBys559/3sERAkDFMmfOHD322GPq16+fAgMDC+1Tq1YtvfvuuyUcGQDAHkVW2H/99de1d+9eBQQEqHbt2nJxcbE5vnnz5qI6FQCgCISFhSklJUX+/v427UeOHFFYWJhyc3MdFBkAoDwaPXq0fvnlFyUmJqp79+7W9i5dumjcuHEU9gGghO3Zs+eyfVxdXdW3b98SiAYAcKWKrLB/9913F9VQAIASYIyRxWIp0H7y5Em5u7s7ICIAQHn22Wef6cMPP9TNN99s8/rTqFEj7d2714GRAUDFdvr0aR08eFDZ2dk27U2bNnVQRAAAexRZYX/cuHFFNRQAoBiNHDlS0rmlzcaOHWuzfFpubq7++9//qlmzZg6KDgBQXv39998FPiUmSadOnSr0jeaKzinzuKNDAHAVytL/3b///ltRUVFavnx5ocf5BC8AlG7crQoAKpgtW7ZIOjdjf/v27XJ1dbUec3V11Y033qjo6GhHhQcAKKdat26tr7/+WkOGDJEkazH/7bffVtu2bR0ZWqnksW+to0MAUM4NHz5cx48f108//aSOHTtq2bJlOnz4sCZOnKipU6c6OjwAwGVcU2Hf19dXu3fvVrVq1VS1atVLzrQ5evTotZwKAFBE1qxZI0nq16+fZsyYIW9vbwdHBACoCOLi4tS9e3ft2rVLZ8+e1YwZM7Rz506tX79eSUlJjg6v1MkM66A8jyqODgPAFXLKPF5m3phbvXq1Pv/8c7Vu3VpOTk4KDQ1V165d5e3trbi4ON1+++2ODhEAcAnXVNifPn26vLy8rF/zEVoAKDvi4+MdHQIAoAJp166dfvzxR02ZMkV169bVypUr1aJFC61fv17h4eGODq/UyfOoojzPao4OA0A5durUKesSab6+vvr7779Vv359hYeHa/PmzQ6ODgBwOddU2D//zuhRUVHXGgsAoIRt2LBBH3/8caE3y1q6dKmDogIAlFfh4eGaP3++o8MAAEhq0KCBkpOTVbt2bTVr1kxvvfWWateurTfffFNBQUGODg8AcBlORTVQpUqVlJaWVqD9yJEjqlSpUlGdBgBQRJYsWaL27dtr165dWrZsmXJycrRr1y6tXr1aPj4+do0RFxen1q1by8vLS/7+/rr77ruVnJxs08cYo5iYGAUHB8vDw0ORkZHauXOnTZ+5c+cqMjJS3t7eslgsOn78eKHn+/rrr9WmTRt5eHioWrVq6tWr1yXjs+fcWVlZGjJkiKpVqyZPT0/deeedOnTokF3XDwCwX58+ffT2229rz549jg4FAKBza+ynpKRIksaNG6fly5erVq1aev311xUbG+vg6AAAl1NkN881xhTanpWVZXNjRuB8Z86c0cGDBx0dRqmwe/duR4dQrGrVqiV3d3dHh4HzxMbGavr06Ro0aJC8vLw0Y8YMhYWFacCAAXbP0ElKStKgQYPUunVrnT17VmPGjFG3bt20a9cueXp6SpImTZqkadOmad68eapfv74mTpyorl27Kjk52bqc2+nTp9W9e3d1795do0ePLvRcn376qZ544gnFxsaqU6dO1pv/Xoo95x4+fLi+/PJLLVmyRH5+fnrmmWfUs2dPbdq0iTemAaAIXXfddZo6daoGDBigwMBARUREKCIiQpGRkWrYsKGjwwOACqdPnz7Wr5s3b679+/frf//7n2rVqqVq1VgKDABKu2su7L/++uuSJIvFonfeeUfXXXed9Vhubq7Wrl3LL+q4qIMHD+rJJ590dBilQnl/HubOnav69es7OgycZ+/evdYbYrm5uenUqVOyWCwaMWKEOnXqpPHjx192jOXLl9vsx8fHy9/fX5s2bVKHDh1kjNFrr72mMWPGWGfXz58/XwEBAVq8eLEGDBgg6VxxXZISExMLPc/Zs2c1bNgwTZ48Wf3797e2N2jQ4KKx2XPu9PR0vfvuu3r//ffVpUsXSdLChQsVEhKiVatW6dZbb73scwAAsM9bb70lSUpNTVViYqISExM1Y8YMDRo0SP7+/tZZowAAx6hcubJatGjh6DAAAHa65sL+9OnTJZ0roLz55ps2sxtdXV2t67MBhalVq5bmzp3r6DCKzbZt2zRr1qzL9hs8eLCaNm1aAhE5Tq1atRwdAi7g6+urEydOSJJq1KihHTt2KDw8XMePH9fp06evasz09HTr2JK0b98+paamqlu3btY+bm5uioiI0Lp166yF/cvZvHmz/vzzTzk5Oal58+ZKTU1Vs2bNNGXKFDVu3LjQx9hz7k2bNiknJ8emT3BwsJo0aaJ169ZdtLCflZWlrKws635GRoZd11FcKqUfklPmcYfGAODKWbJPOjoEh/Dy8lLVqlVVtWpVValSRc7OzgoMDHR0WABQIYwcOdLuvtOmTSvGSMoWftcGyqby/n/3mgv7+/btkyR17NhRS5cuVdWqVa85KFQc7u7u5XoWd/369e0q7P/73/8ugWgAW//617+UkJCg8PBw3X///Ro2bJhWr16thIQEde7c+YrHM8Zo5MiRuuWWW9SkSRNJ52ZlSlJAQIBN34CAAB04cMDusX///XdJUkxMjKZNm6batWtr6tSpioiI0O7du61vJJzPnnOnpqbK1dW1wGtXQECA9fGFiYuLs+sTDcXNx8dHTk6V5P7nZkeHAuAqOTlVsvu+JmXdc889p6SkJP3yyy9q0qSJOnTooNGjR6tDhw6qUqWKo8MDgAphy5YtNvubNm1Sbm6u9ZOwu3fvVqVKldSyZUtHhFdqeexb6+gQAKCAIltjf82aNXb18/b21tatW1WnTp2iOjVQqiUmJioyMvKSxwFHmDVrls6cOSNJGj16tFxcXPTDDz+oV69eGjt27BWPN3jwYG3btk0//PBDgWMWi8Vm3xhToO1S8vLyJEljxozRvffeK+ncsj81a9bUxx9/fMmZ/1dz7sv1GT16tM1sp4yMDIWEhFz2OopaQECAZs9+Q3/88UeJnxslIyUlRe+9954ee+wxu+99gbIlJCSkwBuQ5dXkyZNVvXp1jRs3TnfddZduuOEGR4cEABXO+bWbadOmycvLS/Pnz7dOdDl27Jj69eunf/3rX44KsVTKDOugPI8qjg4DwBVyyjxert+YK7LCvr0udpNdoDxLTEzUzz//rFGjRlnbJk2apJtuusmBUaGiO3+Wu5OTk0aNGmXzM3olhgwZoi+++EJr165VzZo1re35SyukpqbaFCXT0tKuqJCV/9hGjRpZ29zc3FSnTp2L3oDbnnMHBgYqOztbx44ds5m1n5aWpnbt2l00Hjc3N7m5udkdf3Fq2LAh97Ipx3bv3q333ntPN998c7n+hBsqhi1btigpKUmJiYmaOnWqKlWqZL15bmRkJIV+AChhU6dO1cqVK21+D65ataomTpyobt266ZlnnnFgdKVLnkcV5XlyQ2EApYuTowMAKoqbbrrJej+BuXPnUtSHQ2RkZNi92cMYo8GDB2vp0qVavXq1wsLCbI6HhYUpMDBQCQkJ1rbs7GwlJSVdsnB+oZYtW8rNzU3JycnWtpycHO3fv1+hoaGFPsaec7ds2VIuLi42fVJSUrRjx44rig8AcHk33nijhg4dqqVLl+rvv//WihUrVLlyZQ0dOtS6hBsAoORkZGTo8OHDBdrT0tKs9+ICAJReJT5jHwDgOFWqVLF7CZzc3NzL9hk0aJAWL16szz//XF5eXtZ16X18fOTh4SGLxaLhw4crNjZW9erVU7169RQbG6vKlSurd+/e1nFSU1OVmpqq3377TZK0fft2eXl5qVatWvL19ZW3t7eeeuopjRs3TiEhIQoNDdXkyZMlSffdd591nIYNGyouLk733HOPXef28fFR//799cwzz8jPz0++vr6Kjo5WeHi4unTpYt+TCgCw25YtW5SYmKjExER9//33ysjIULNmzdSxY0dHhwYAFc4999yjfv36aerUqbr55pslST/99JOeffZZ9erVy8HRAQAuh8I+AFQg56+puX//fj3//POKiopS27ZtJUnr16/X/PnzFRcXZ9d4c+bMkaQC95GIj49XVFSUJGnUqFHKzMzUwIEDdezYMbVp00YrV66Ul5eXtf+bb75pczPaDh06FBhn8uTJcnZ21iOPPKLMzEy1adNGq1evtvnocHJystLT06379px7+vTpcnZ21v3336/MzEx17txZ8+bNU6VKlex6DgAA9qlatapOnjypG2+8UZGRkXriiSfUoUMHeXt7Ozo0AKiQ3nzzTUVHR+vhhx9WTk6OJMnZ2Vn9+/e3TqIBAJReJV7Yv5KbJQIAilZERIT165dfflnTpk3TQw89ZG278847FR4errlz56pv376XHc+e+6ZYLBbFxMQoJibmon0ud1ySXFxcNGXKFE2ZMsXueOw5t7u7u2bOnKmZM2de8vwAgGvz/vvv21XIP3TokIKDg+XkxKqhAFCcKleurNmzZ2vy5Mnau3evjDG6/vrr5enpadOPvAwApVOJZ2VungsApcP69evVqlWrAu2tWrXSzz//7ICIAADlWc+ePe2and+oUSPt37+/+AMCAEiSPD091bRpU914440FivoSeRkASqsSL+x/++23qlGjRkmfFgBwgZCQEL355psF2t966y2FhIQ4ICIAAJgIBAClDXkZAEqna1qKZ+TIkXb3nTZtmiTplltuuZZTAgCKyPTp03XvvfdqxYoVNjfL2rt3rz799FMHRwcAAAAAAICLuabC/pYtW2z2N23apNzcXDVo0ECStHv3blWqVEktW7a8ltMAAIrBbbfdpj179mjOnDn69ddfZYzRXXfdpaeeeooZ+wAAAADssnbtWk2ePFmbNm1SSkqKli1bprvvvtt6PCoqSvPnz7d5TJs2bfTTTz+VcKQAUL5cU2F/zZo11q+nTZsmLy8vzZ8/X1WrVpUkHTt2TP369dO//vWva4sSAFAsatasqVdeeeWSfQYOHKiXX35Z1apVK6GoAAAAAJQVp06d0o033qh+/frp3nvvLbRP9+7dFR8fb913dXUtqfAAoNy6psL++aZOnaqVK1dai/qSVLVqVU2cOFHdunXTM888U1SnAgCUoIULFyo6OprCPgCgRFgsFkeHAAA4z+Xyco8ePdSjR49L9nFzc1NgYGBRhgUAFV6R3Tw3IyNDhw8fLtCelpamEydOFNVpAAAljJtlAQBKEq87AFC6FEVeTkxMlL+/v+rXr68nnnhCaWlpl+yflZWljIwMmw0AYKvICvv33HOP+vXrp08++USHDh3SoUOH9Mknn6h///7q1atXUZ0GAAAAQBn222+/acWKFcrMzJRUsGC0a9cuhYaGOiI0AKiQijsv9+jRQ4sWLdLq1as1depUbdiwQZ06dVJWVtZFHxMXFycfHx/rxj3AAKCgIluK580331R0dLQefvhh5eTknBvc2Vn9+/fX5MmTi+o0AAAAAMqgI0eO6IEHHtDq1atlsVi0Z88e1alTR48//riqVKmiqVOnShLFGwAoISWVlx944AHr102aNFGrVq0UGhqqr7/++qITQUePHq2RI0da9zMyMnh9AIALFNmM/cqVK2v27Nk6cuSItmzZos2bN+vo0aOaPXu2PD09i+o0AAAAAMqgESNGyNnZWQcPHlTlypWt7Q888ICWL1/uwMgAoGJyVF4OCgpSaGio9uzZc9E+bm5u8vb2ttkAALaKbMZ+Pk9PTzVt2rSohwUAAABQhq1cuVIrVqxQzZo1bdrr1aunAwcOOCgqAKi4HJWXjxw5oj/++ENBQUHFdg4AqAiKtLC/YcMGffzxxzp48KCys7Ntji1durQoTwUAKCEPP/wwM2QAANfs1KlTNjNC8/3zzz9yc3NzQEQAULEVVV4+efKkfvvtN+v+vn37tHXrVvn6+srX11cxMTG69957FRQUpP379+uFF15QtWrVdM899xTJdQBARVVkhf0lS5bo0UcfVbdu3ZSQkKBu3bppz549Sk1NJVkDQCmxbds2u/vmf/pqzpw5xRUOAKAC6dChgxYsWKAJEyZIkiwWi/Ly8jR58mR17NjRwdEBQMVTVHl548aNNv3z18bv27ev5syZo+3bt2vBggU6fvy4goKC1LFjR3344Yfy8vIq2gsCgAqmyAr7sbGxmj59ugYNGiQvLy/NmDFDYWFhGjBgAB+vAoBSolmzZrJYLDLGFHo8/5jFYlFubm4JRwcAKM8mT56syMhIbdy4UdnZ2Ro1apR27typo0eP6scff3R0eABQ4RRVXo6MjLzo3xeStGLFiqIIFwBwgSIr7O/du1e33367pHM3OTl16pQsFotGjBihTp06afz48UV1KgDAVdq3b5+jQwAAVFCNGjXStm3bNGfOHFWqVEmnTp1Sr169NGjQICYCAYADkJcBoGwrssK+r6+vTpw4IUmqUaOGduzYofDwcB0/flynT58uqtMAAK5BaGioo0MAAFRQBw8eVEhISKETfg4ePKhatWo5ICoAqLjIywBQthVZYf9f//qXEhISFB4ervvvv1/Dhg3T6tWrlZCQoM6dOxfVaQAARWzXrl2F3vT8zjvvdFBEAIDyKCwsTCkpKfL397dpP3LkiMLCwlgCDgBKGHkZAMq2Iivsz5o1S2fOnJEkjR49Wi4uLvrhhx/Uq1cvjR07tqhOAwAoIr///rvuuecebd++3WbdfYvFIkn8Ig8AKFL593C50MmTJ+Xu7u6AiACgYiMvA0DZVqRL8eRzcnLSqFGjNGrUqKIaHgBQxIYNG6awsDCtWrVKderU0c8//6wjR47omWee0ZQpUxwdHgCgnBg5cqSkc28cjx07VpUrV7Yey83N1X//+181a9bMQdEBQMVDXgaA8qHICvvSuRvoxsfHa+/evZoxY4b8/f21fPlyhYSEqHHjxkV5KgDANVq/fr1Wr16t6tWry8nJSU5OTrrlllsUFxenoUOHasuWLY4OEQBQDuS/nhhjtH37drm6ulqPubq66sYbb1R0dLSjwgOACoe8DADlQ5EV9pOSktSjRw+1b99ea9eu1SuvvCJ/f39t27ZN77zzjj755JOiOhUAoAjk5ubquuuukyRVq1ZNf/31lxo0aKDQ0FAlJyc7ODoAQHmxZs0aSVK/fv00Y8YMeXt7OzgiAKjYyMsAUD44FdVAzz//vCZOnKiEhASbd3s7duyo9f+PvTuPi7Le////HFkGMCRwYSAR4Ry1o0iplVshHrc0s7I0l0qPViZquR3LtASPykcr9ZRbtqiVW55cWqxES6jEItODS8djRS5HJ0oNXBAU378/+jFfR1BBgWHgcb/drpvO+3pf7+t1DTOva3hxzftKTS2t3QAASklUVJTS09MlSS1bttSMGTP01VdfafLkyYqMjHRxdACAymbRokUUjwCgAiEvA4B7K7Ur9nfu3Klly5YVaq9du7aOHj1aWrsBAJSSiRMn6tSpU5KkKVOmqHv37rrjjjtUs2ZNrVy50sXRAQAqo7S0NK1atUoHDhxQXl6e07rVq1e7KCoAqLrIywDgvkrtiv3rr79eR44cKdS+fft23XDDDaW1GwBAKenSpYt69uwpSYqMjNSePXv022+/KTMzU3/9619dHB0AoLJZsWKF2rZtqz179mjNmjU6e/as9uzZo88++0wBAQGuDg8AqhzyMgC4t1Ir7Pfr109PP/207Ha7LBaLzp8/r6+++kpjx47VI488Ulq7AQCUkiVLljiu2C8QFBQki8XioogAAJXZtGnTNGvWLH344Yfy9vbWP//5T33//ffq3bu36tWr5+rwAKDKIS8DgHsrtcL+1KlTVa9ePd1www06efKkGjdurDvuuENt2rTRxIkTS2s3AIBSMnbsWNWpU0d9+vTRhx9+qHPnzrk6JABAJfbjjz/qrrvukiRZrVadOnVKFotFo0aN0sKFC10cHQBUPeRlAHBvpVbY9/Ly0tKlS7Vv3z69++67euedd7R37169/fbb8vDwKK3dAABKyZEjR7Ry5Up5eHioT58+CgkJUVxcnLZs2eLq0AAAlVBQUJBOnDghSbrhhhu0a9cuSdLvv/+u06dPuzI0AKiSyMsA4N6u6ea5o0ePvuz6rVu3Ov4/c+bMa9kVAKCUeXp6qnv37urevbtOnz6tNWvWaNmyZWrfvr3q1q2rH3/80dUhAgAqkTvuuENJSUlq2rSpevfuraeeekqfffaZkpKS1KFDB1eHBwBVDnkZANzbNRX2t2/fXqx+zNcMABWbn5+funTpouPHj2v//v36/vvvXR0SAKCSmTNnjs6cOSNJGj9+vLy8vPTll1+qZ8+eeu6551wcHQBUPeRlAHBv11TY//zzz0srDknS/PnzNX/+fP3888+SpCZNmuj5559X165dJUnGGCUkJGjhwoU6fvy4WrZsqblz56pJkyaOMXJzczV27FgtX75cOTk56tChg+bNm6e6deuWaqwAUBkUXKm/dOlSbdy4UWFhYerbt69WrVrl6tAAAJVMUFCQ4//VqlXTuHHjNG7cOBdGBABVG3kZANzbNRX2S1vdunX1f//3f/rzn/8sSVqyZInuuecebd++XU2aNNGMGTM0c+ZMLV68WA0bNtSUKVPUqVMn7d27V/7+/pKkkSNH6oMPPtCKFStUs2ZNjRkzRt27d9e2bduY6x8ALtC3b1998MEH8vPzU69evbR582a1adPG1WEBACqR7OzsYvetUaNGGUYCAJDIywBQmVSowv7dd9/t9Hjq1KmaP3++tm7dqsaNG2v27NmaMGGCevbsKemPwn9wcLCWLVumIUOGKCsrS2+88YbefvttdezYUZL0zjvvKCwsTBs3blSXLl3K/ZgAoKKyWCxauXKlunTpIk/PCnU6AABUEtdff32xp+XMz88v42gAAORlAKg8KmwlJz8/X6tWrdKpU6fUunVrZWRkyG63q3Pnzo4+VqtV7dq105YtWzRkyBBt27ZNZ8+edeoTGhqqqKgobdmy5ZKF/dzcXOXm5joel+Qv2ADgrpYtW+bqEAAAldyFU3f+/PPPeuaZZzRw4EC1bt1akpSamqolS5YoMTHRVSECQJVCXgaAyqPCFfZ37typ1q1b68yZM7ruuuu0Zs0aNW7cWFu2bJEkBQcHO/UPDg7W/v37JUl2u13e3t4KDAws1Mdut19yn4mJiUpISCjlIwGAiufll1/W448/Lh8fH7388suX7fvkk0+WU1QAgMqqXbt2jv9PnjxZM2fOVN++fR1tPXr0UNOmTbVw4UINGDDAFSECQJVCXgaAyqPCFfYbNWqkHTt26Pfff9d7772nAQMGKDk52bH+4q+MGWOu+DWyK/UZP368Ro8e7XicnZ2tsLCwqzwCAKi4Zs2apf79+8vHx0czZ868ZG60WCwU9gEApSo1NVULFiwo1H7LLbfo0UcfdUFEAFC1kZcBwL1VuMK+t7e34+a5t9xyi9LS0vTPf/5TTz/9tKQ/rsoPCQlx9M/MzHRcxW+z2ZSXl6fjx487XbWfmZl52RtCWq1WWa3WsjgcAKhQMjIyHP//+eefXRcIAKDKCQsL04IFC/TSSy85tb/66qtcVAMALkBeBgD3VuEK+xczxig3N1cRERGy2WxKSkpSs2bNJEl5eXlKTk7W9OnTJUktWrSQl5eXkpKS1Lt3b0nSkSNHtGvXLs2YMcNlxwAAFc3Zs2fVqFEjffjhh2rcuLGrwwEAVAGzZs3S/fffr08//VStWrWSJG3dulU//vij3nvvPRdHBwBVD3kZANxbhSrsP/vss+ratavCwsJ04sQJrVixQps3b9Ynn3wii8WikSNHatq0aWrQoIEaNGigadOmyc/PT/369ZMkBQQEaPDgwRozZoxq1qypoKAgjR07Vk2bNlXHjh1dfHQAUHF4eXkpNzf3ilOZAQBQWrp166Z9+/Zp/vz5+v7772WM0T333KMnnniCK0MBwAXIywDg3ipUYf+XX37Rww8/rCNHjiggIEDR0dH65JNP1KlTJ0nSuHHjlJOTo7i4OB0/flwtW7bUhg0b5O/v7xhj1qxZ8vT0VO/evZWTk6MOHTpo8eLF8vDwcNVhAUCFNGLECE2fPl2vv/66PD0r1OkAAFBJ1a1bV1OnTr1sn7i4OE2ePFm1atUqp6gAoOoiLwOA+6pQlZw33njjsustFovi4+MVHx9/yT4+Pj565ZVX9Morr5RydABQuXz99dfatGmTNmzYoKZNm6p69epO61evXu2iyAAAVdk777yjsWPHUkACgAqCvAwAFVOFKuwDAMrP9ddfr/vvv9/VYQAA4MQY4+oQAAAXIC8DQMVEYR8AqqBz584pNjZWXbp0kc1mc3U4AAAAAAAAKIFqrg4AAFD+PD09NXToUOXm5l7TOImJibr11lvl7++vOnXq6N5779XevXud+hhjFB8fr9DQUPn6+io2Nla7d+926rNw4ULFxsaqRo0aslgs+v333wvtq379+rJYLE7LM888c9n4Lu5fsLzwwguOPrGxsYXW9+nT5+qfFAAAAAAAgDJGYR8AqqiWLVtq+/bt1zRGcnKyhg0bpq1btyopKUnnzp1T586dderUKUefGTNmaObMmZozZ47S0tJks9nUqVMnnThxwtHn9OnTuvPOO/Xss89edn+TJ0/WkSNHHMvEiRMv2//CvkeOHNGbb74pi8VSaAqixx57zKnfq6++ehXPBgAAAAAAQPlgKh4AqKLi4uI0ZswYHTp0SC1atCh089zo6OgrjvHJJ584PV60aJHq1Kmjbdu2KSYmRsYYzZ49WxMmTFDPnj0lSUuWLFFwcLCWLVumIUOGSJJGjhwpSdq8efNl9+fv71+iqYMu7rtu3Tq1b99ekZGRTu1+fn5MSQQAAAAAANwGV+wDQBX14IMPKiMjQ08++aTatm2rm2++2bE0a9bsqsbMysqSJAUFBUmSMjIyZLfb1blzZ0cfq9Wqdu3aacuWLSUef/r06apZs6ZuvvlmTZ06VXl5ecXe9pdfftFHH32kwYMHF1q3dOlS1apVS02aNNHYsWOdvk1QlNzcXGVnZzstAIDS8dBDD6lGjRquDgMA8P8jLwNAxcQV+wBQRWVkZJTqeMYYjR49WrfffruioqIkSXa7XZIUHBzs1Dc4OFj79+8v0fhPPfWUmjdvrsDAQH3zzTcaP368MjIy9Prrrxdr+yVLlsjf39/xzYEC/fv3V0REhGw2m3bt2qXx48fr3//+t5KSki45VmJiohISEkoUPwBURenp6cXuW/BNsfnz51+2X2JiolavXq3//Oc/8vX1VZs2bTR9+nQ1atTI0ccYo4SEBC1cuFDHjx9Xy5YtNXfuXDVp0uTqDgQAKomyyMsAANegsA8AVVR4eLgkac+ePTpw4IDT1e8Wi8WxvriGDx+u9PR0ffnll4XWWSwWp8fGmEJtVzJq1CjH/6OjoxUYGKgHHnjAcRX/lbz55pvq37+/fHx8nNofe+wxx/+joqLUoEED3XLLLfruu+/UvHnzIscaP368Ro8e7XicnZ2tsLCwEh0PAFQFN998sywWi4wxRa4vWGexWJSfn1+sMQvu73Lrrbfq3LlzmjBhgjp37qw9e/Y4ppUruL/L4sWL1bBhQ02ZMkWdOnXS3r175e/vX2rHBwDupizyMgDANSjsA0AV9dNPP+m+++7Tzp07nT7cFxTcS/JBfsSIEXr//feVkpKiunXrOtoL5q232+0KCQlxtGdmZha6ir+kWrVqJUn64YcfrljY/+KLL7R3716tXLnyiuM2b95cXl5e2rdv3yUL+1arVVarteRBA0AVU9rfDpNK7/4uAFAVlUVeBgC4BoV9AKiinnrqKUVERGjjxo2KjIzU119/rWPHjmnMmDF68cUXizWGMUYjRozQmjVrtHnzZkVERDitL5jiJikpyTFvf15enpKTkzV9+vRrin/79u2S5PQHg0t544031KJFC910001X7Lt7926dPXu2WOMCAC6vpN/+uholvb/LpQr7ubm5ys3NdTzm/ikAKqPyyMsAgPJBYR8AqqjU1FR99tlnql27tqpVqyYPDw/dfvvtSkxM1JNPPukonF/OsGHDtGzZMq1bt07+/v6OOfUDAgLk6+sri8WikSNHatq0aWrQoIEaNGigadOmyc/PT/369XOMY7fbZbfb9cMPP0iSdu7cKX9/f9WrV09BQUFKTU3V1q1b1b59ewUEBCgtLU2jRo1Sjx49VK9ePcc4N954oxITE3Xfffc52rKzs7Vq1Sq99NJLheL/8ccftXTpUnXr1k21atXSnj17NGbMGDVr1kxt27a96ucWAHBpRU0BJ0k9evQo8VileX8X7p8CoKoqzbwMACg/FPYBoIrKz8/XddddJ0mqVauWDh8+rEaNGik8PFx79+4t1hgFN9KKjY11al+0aJEGDhwoSRo3bpxycnIUFxfnuIHhhg0bnOY4XrBggVMxJSYmxmkcq9WqlStXKiEhQbm5uQoPD9djjz2mcePGOe137969jis3C6xYsULGGPXt27dQ/N7e3tq0aZP++c9/6uTJkwoLC9Ndd92lSZMmycPDo1jPAQCgeEpzCrgCpXl/F+6fAqCqKYu8DAAoPxT2AaCKioqKUnp6uiIjI9WyZUvNmDFD3t7eWrhwoSIjI4s1xqVuunUhi8Wi+Ph4xcfHX7LPldY3b95cW7duvap4Hn/8cT3++ONF9g8LC1NycvIVxwUAXLuLp4D75ptvdPTo0RJNAXeh0r6/C/dPAVDVlHZeBgCUr2quDgAA4BoTJ07U+fPnJUlTpkzR/v37dccdd2j9+vV6+eWXXRwdAKCySU1N1eTJkx1TwFWrVs1pCrjiMsZo+PDhWr16tT777LPL3t+lQMH9Xdq0aVNqxwMA7q608jIAwDW4Yh8AqqguXbo4/h8ZGak9e/bo2LFjCgwMvOxUBQAAXI3SmAJOKr37uwBAVVdaeRkA4BoU9gEADkFBQa4OAQBQSZXGFHBS6d3fBQCqutLKywAA16CwDwAAAKDMTZw4UadOnZL0xxRw3bt31x133KGaNWtq5cqVxR6ntO7vAgBVXWnlZQCAa1DYBwAAAFDmmAIOACoW8jIAuDdungsAAACgzC1ZssRxZWiBoKAgikcA4CLkZQBwbxT2AQAAAJS5sWPHqk6dOurTp48+/PBDnTt3ztUhAUCVRl4GAPdGYR8AAABAmTty5IhWrlwpDw8P9enTRyEhIYqLi9OWLVtcHRoAVEnkZQBwbxT2AQAAAJQ5T09Pde/eXUuXLlVmZqZmz56t/fv3q3379vrTn/7k6vAAoMohLwOAe+PmuQAAAADKlZ+fn7p06aLjx49r//79+v77710dEgBUaeRlAHA/XLEPAAAAoFycPn1aS5cuVbdu3RQaGqpZs2bp3nvv1a5du1wdGgBUSeRlAHBfXLEPAAAAoMz17dtXH3zwgfz8/NSrVy9t3rxZbdq0cXVYAFBlkZcBwL1R2AcAAABQ5iwWi1auXKkuXbrI05NfQwDA1cjLAODeyNwAAAAAytyyZctcHQIA4ALkZQBwbxT2AQAAAJSJl19+WY8//rh8fHz08ssvX7bvk08+WU5RAUDVRV4GgMqDwj4AAACAMjFr1iz1799fPj4+mjlzpiwWS5H9LBYLBSQAKAfkZQCoPCjsAwAAACgTGRkZjv///PPPrgsEACCJvAwAlUk1VwcAAAAAoHI7e/asIiMjtWfPHleHAgAQeRkAKgMK+wAAAADKlJeXl3Jzcy855QMAoHyRlwHA/VHYBwAAAFDmRowYoenTp+vcuXOuDgUAIPIyALg75tgHAAAAUOa+/vprbdq0SRs2bFDTpk1VvXp1p/WrV692UWQAUDWRlwHAvXHFPgAAAIAyd/311+v+++9Xly5dFBoaqoCAAKcFAFC+Sisvp6Sk6O6771ZoaKgsFovWrl3rtN4Yo/j4eIWGhsrX11exsbHavXt3KR8NAFQ9XLEPAAAAoEydO3dOsbGx6tKli2w2m6vDAYAqrzTz8qlTp3TTTTfpb3/7m+6///5C62fMmKGZM2dq8eLFatiwoaZMmaJOnTpp79698vf3v6Z9A0BVxhX7AAAAAMqUp6enhg4dqtzcXFeHAgBQ6eblrl27asqUKerZs2ehdcYYzZ49WxMmTFDPnj0VFRWlJUuW6PTp01q2bNk17xsAqjIK+wAAAADKXMuWLbV9+3ZXhwEA+P+VR17OyMiQ3W5X586dHW1Wq1Xt2rXTli1bLrldbm6usrOznRYAgDOm4gEAAABQ5uLi4jRmzBgdOnRILVq0KHSTxujoaBdFBgBVU3nkZbvdLkkKDg52ag8ODtb+/fsvuV1iYqISEhKuef8AUJlR2AcAAABQ5h588EFJ0pNPPlloncViUX5+fnmHBABVWnnmZYvF4vTYGFOo7ULjx4/X6NGjHY+zs7MVFhZWavEAQGVAYR8AAABAmcvIyHB1CACAC5RHXi64Ma/dbldISIijPTMzs9BV/BeyWq2yWq1lHh8AuDMK+wAAAADKXHh4uCRpz549OnDggPLy8hzrLBaLYz0AoHyUR16OiIiQzWZTUlKSmjVrJknKy8tTcnKypk+ffs3jA0BVRmEfAAAAQJn76aefdN9992nnzp2yWCwyxkj6f9MzMBWPs2pnslwdAoCr4E7v3dLKyydPntQPP/zgeJyRkaEdO3YoKChI9erV08iRIzVt2jQ1aNBADRo00LRp0+Tn56d+/fqV/kEBQBVCYR8AAABAmXvqqacUERGhjRs3KjIyUl9//bWOHTumMWPG6MUXX3R1eBVGQECAvLyt0k/Jrg4FwFXy8rYqICDA1WFcUWnl5W+//Vbt27d3PC6YG3/AgAFavHixxo0bp5ycHMXFxen48eNq2bKlNmzYIH9//1I/JgCoSijsAwAAAChzqamp+uyzz1S7dm1Vq1ZNHh4euv3225WYmKgnn3xS27dvd3WIFUJwcLDeefstZWW5z1W/KL79+/dr6tSpmjBhAtNPVWIBAQGXnT++oiitvBwbG+u42r8oFotF8fHxio+PL6XIAQAShX0AAAAA5SA/P1/XXXedJKlWrVo6fPiwGjVqpPDwcO3du9fF0VUswcHBblEUxNULDw9Xw4YNXR0GqjjyMgC4t2quDuBCiYmJuvXWW+Xv7686dero3nvvLXQyMcYoPj5eoaGh8vX1VWxsrHbv3u3UJzc3VyNGjFCtWrVUvXp19ejRQ4cOHSrPQwEAAABwgaioKKWnp0uSWrZsqRkzZuirr77S5MmTFRkZ6eLoAKDqIS8DgHurUIX95ORkDRs2TFu3blVSUpLOnTunzp0769SpU44+M2bM0MyZMzVnzhylpaXJZrOpU6dOOnHihKPPyJEjtWbNGq1YsUJffvmlTp48qe7du3NDLgAAAMBFJk6cqPPnz0uSpkyZov379+uOO+7Q+vXr9fLLL7s4OgCoesjLAODeKtRUPJ988onT40WLFqlOnTratm2bYmJiZIzR7NmzNWHCBPXs2VOStGTJEgUHB2vZsmUaMmSIsrKy9MYbb+jtt99Wx44dJUnvvPOOwsLCtHHjRnXp0qXcjwsAAACo6i78HB4ZGak9e/bo2LFjCgwMlMVicWFkAFA1kZcBwL1VqCv2L1Zww6igoCBJUkZGhux2uzp37uzoY7Va1a5dO23ZskWStG3bNp09e9apT2hoqKKiohx9Lpabm6vs7GynBQAAAEDZCgoKongEABUIeRkA3EeFLewbYzR69GjdfvvtioqKkiTZ7XZJKnQjqeDgYMc6u90ub29vBQYGXrLPxRITExUQEOBYwsLCSvtwAAAAAAAAAAAoFRW2sD98+HClp6dr+fLlhdZd/NdjY8wV/6J8uT7jx49XVlaWYzl48ODVBw4AAAAAAAAAQBmqkIX9ESNG6P3339fnn3+uunXrOtptNpskFbryPjMz03EVv81mU15eno4fP37JPhezWq2qUaOG0wIAAAAAAAAAQEVUoQr7xhgNHz5cq1ev1meffaaIiAin9REREbLZbEpKSnK05eXlKTk5WW3atJEktWjRQl5eXk59jhw5ol27djn6AAAAAAAAAADgrjxdHcCFhg0bpmXLlmndunXy9/d3XJkfEBAgX19fWSwWjRw5UtOmTVODBg3UoEEDTZs2TX5+furXr5+j7+DBgzVmzBjVrFlTQUFBGjt2rJo2baqOHTu68vAAAAAAAAAAALhmFeqK/fnz5ysrK0uxsbEKCQlxLCtXrnT0GTdunEaOHKm4uDjdcsst+t///qcNGzbI39/f0WfWrFm699571bt3b7Vt21Z+fn764IMP5OHh4YrDAoBKKzExUbfeeqv8/f1Vp04d3Xvvvdq7d69TH2OM4uPjFRoaKl9fX8XGxmr37t1OfRYuXKjY2FjVqFFDFotFv//+e6F91a9fXxaLxWl55plnLhvfwIEDC23TqlUrpz65ubkaMWKEatWqperVq6tHjx46dOjQ1T0hAAAAAAAA5aBCFfaNMUUuAwcOdPSxWCyKj4/XkSNHdObMGSUnJysqKsppHB8fH73yyis6evSoTp8+rQ8++EBhYWHlfDQAUPklJydr2LBh2rp1q5KSknTu3Dl17txZp06dcvSZMWOGZs6cqTlz5igtLU02m02dOnXSiRMnHH1Onz6tO++8U88+++xl9zd58mQdOXLEsUycOPGKMd55551O26xfv95p/ciRI7VmzRqtWLFCX375pU6ePKnu3bsrPz+/hM8GAAAAAABA+ahQU/EAANzLJ5984vR40aJFqlOnjrZt26aYmBgZYzR79mxNmDBBPXv2lCQtWbJEwcHBWrZsmYYMGSLpj+K6JG3evPmy+/P393fcSL24rFbrJbfJysrSG2+8obffftsxXds777yjsLAwbdy4UV26dCnRvgAAAAAAAMpDhbpiHwDg3rKysiRJQUFBkqSMjAzZ7XZ17tzZ0cdqtapdu3basmVLicefPn26atasqZtvvllTp05VXl7eFbfZvHmz6tSpo4YNG+qxxx5TZmamY922bdt09uxZp/hCQ0MVFRV12fhyc3OVnZ3ttAAAAAAAAJQXrtgHAJQKY4xGjx6t22+/3TFFWsFN0IODg536BgcHa//+/SUa/6mnnlLz5s0VGBiob775RuPHj1dGRoZef/31S27TtWtX9erVS+Hh4crIyNBzzz2nv/71r9q2bZusVqvsdru8vb0VGBhYKL6C2IuSmJiohISEEsUPAAAAAABQWijsAwBKxfDhw5Wenq4vv/yy0DqLxeL02BhTqO1KRo0a5fh/dHS0AgMD9cADDziu4i/Kgw8+6Ph/VFSUbrnlFoWHh+ujjz5yTA1UlCvFN378eI0ePdrxODs7m3u5AAAAAACAcsNUPACAazZixAi9//77+vzzz1W3bl1He8Hc9hdf/Z6ZmVnoKv6SatWqlSTphx9+KPY2ISEhCg8P1759+xzx5eXl6fjx4yWKz2q1qkaNGk4LAAAAAABAeaGwDwC4asYYDR8+XKtXr9Znn32miIgIp/URERGy2WxKSkpytOXl5Sk5OVlt2rS5pn1v375d0h/F+uI6evSoDh486NimRYsW8vLycorvyJEj2rVr1zXHBwAAAAAAUFaYigcAcNWGDRumZcuWad26dfL393dcmR8QECBfX19ZLBaNHDlS06ZNU4MGDdSgQQNNmzZNfn5+6tevn2Mcu90uu93uuPp+586d8vf3V7169RQUFKTU1FRt3bpV7du3V0BAgNLS0jRq1Cj16NFD9erVc4xz4403KjExUffdd59Onjyp+Ph43X///QoJCdHPP/+sZ599VrVq1dJ9993niHPw4MEaM2aMatasqaCgII0dO1ZNmzZVx44dy/GZBAAAAAAAKD4K+wCAqzZ//nxJUmxsrFP7okWLNHDgQEnSuHHjlJOTo7i4OB0/flwtW7bUhg0b5O/v7+i/YMECp5vRxsTEOI1jtVq1cuVKJSQkKDc3V+Hh4Xrsscc0btw4p/3u3btXWVlZkiQPDw/t3LlTb731ln7//XeFhISoffv2WrlypdO+Z82aJU9PT/Xu3Vs5OTnq0KGDFi9eLA8Pj1J7ngAAAAAAAEoThX0AwFUzxlyxj8ViUXx8vOLj4y/Z50rrmzdvrq1bt5YoHl9fX3366adX3MbHx0evvPKKXnnllSv2BQAAAFD1VDuT5eoQAFyFyv7epbAPAAAAAAAAXCQgIEBe3lbpp2RXhwLgKnl5WxUQEODqMMoEhX0AAAAAAADgIsHBwXrn7bcc032i8tm/f7+mTp2qCRMmKDw83NXhoAwEBAQoODjY1WGUCQr7AAAAAAAAQBGCg4MrbVEQ/094eLgaNmzo6jCAEqnm6gAAAAAAAAAAAEDxUdgHAAAAAAAAAMCNUNgHAAAAAAAAAMCNMMd+BfTLL79wY5ZKav/+/U7/onKqzDdmAQAAAAAAgOtR2K9gfvnlFz308CM6m5fr6lBQhqZOnerqEFCGvLyteufttyjuAwAAAAAAoExQ2K9gsrKydDYvVzmR7XTeJ8DV4QAooWpnsqSfkpWVlUVhHwAAAAAAAGWCwn4Fdd4nQOer13J1GAAAAAAAAACACoab5wIAAAAAAAAA4EYo7AMAAAAAAAAA4EYo7AMAAAAAAAAA4EYo7AMAAAAAAAAA4EYo7AMAAAAAAAAA4EYo7AMAAAAAAAAA4EYo7AMAAAAAAAAA4EYo7AMAAAAAAAAA4EYo7AMAAAAAAAAA4EYo7AMAAAAAAAAA4EYo7AMAAAAAAAAA4EYo7AMAAAAAAAAA4EYo7AMAAABwKykpKbr77rsVGhoqi8WitWvXOq03xig+Pl6hoaHy9fVVbGysdu/e7ZpgAQAAgDJAYR8AAACAWzl16pRuuukmzZkzp8j1M2bM0MyZMzVnzhylpaXJZrOpU6dOOnHiRDlHCgAAAJQNT1cHAAAAAAAl0bVrV3Xt2rXIdcYYzZ49WxMmTFDPnj0lSUuWLFFwcLCWLVumIUOGFLldbm6ucnNzHY+zs7NLP3AAAACglHDFPgAAAIBKIyMjQ3a7XZ07d3a0Wa1WtWvXTlu2bLnkdomJiQoICHAsYWFh5REuAAAAcFUo7AMAAACoNOx2uyQpODjYqT04ONixrijjx49XVlaWYzl48GCZxgkAAABcC6biAQAAAFDpWCwWp8fGmEJtF7JarbJarWUdFgAAAFAquGIfAAAAQKVhs9kkqdDV+ZmZmYWu4gcAAADcFYV9AAAAAJVGRESEbDabkpKSHG15eXlKTk5WmzZtXBgZAAAAUHqYigcAAACAWzl58qR++OEHx+OMjAzt2LFDQUFBqlevnkaOHKlp06apQYMGatCggaZNmyY/Pz/169fPhVEDAAAApYfCPgAAAAC38u2336p9+/aOx6NHj5YkDRgwQIsXL9a4ceOUk5OjuLg4HT9+XC1bttSGDRvk7+/vqpABAACAUkVhHwAAAIBbiY2NlTHmkustFovi4+MVHx9ffkEBAAAA5Yg59gEAAAAAAAAAcCMU9gEAAAAAAAAAcCMU9gEAAAAAAAAAcCMU9gEAAAAAAAAAcCMVrrCfkpKiu+++W6GhobJYLFq7dq3TemOM4uPjFRoaKl9fX8XGxmr37t1OfXJzczVixAjVqlVL1atXV48ePXTo0KFyPAoAAAAAAAAAAMpGhSvsnzp1SjfddJPmzJlT5PoZM2Zo5syZmjNnjtLS0mSz2dSpUyedOHHC0WfkyJFas2aNVqxYoS+//FInT55U9+7dlZ+fX16HAQAAAAAAUOXFx8fLYrE4LTabzdVhAYDb83R1ABfr2rWrunbtWuQ6Y4xmz56tCRMmqGfPnpKkJUuWKDg4WMuWLdOQIUOUlZWlN954Q2+//bY6duwoSXrnnXcUFhamjRs3qkuXLuV2LAAAAAAAAFVdkyZNtHHjRsdjDw8PF0YDAJVDhbti/3IyMjJkt9vVuXNnR5vValW7du20ZcsWSdK2bdt09uxZpz6hoaGKiopy9LlYbm6usrOznRYAAAAAAABcO09PT9lsNsdSu3ZtV4cEAG7PrQr7drtdkhQcHOzUHhwc7Fhnt9vl7e2twMDAS/a5WGJiogICAhxLWFhYGUQPAAAAAABQ9ezbt0+hoaGKiIhQnz599NNPP122PxdgAsCVuVVhv4DFYnF6bIwp1Haxy/UZP368srKyHMvBgwdLLVYAqMwSExN16623yt/fX3Xq1NG9996rvXv3OvUpzk3PFy5cqNjYWNWoUUMWi0W///57oX3Vr1+/0NyczzzzzCVjO3v2rJ5++mk1bdpU1atXV2hoqB555BEdPnzYqV9sbGyhcfv06XP1TwoAAAAAh5YtW+qtt97Sp59+qtdee012u11t2rTR0aNHL7kNF2ACwJW5VWG/4OYqF195n5mZ6biK32azKS8vT8ePH79kn4tZrVbVqFHDaQEAXFlycrKGDRumrVu3KikpSefOnVPnzp116tQpR5/i3PT89OnTuvPOO/Xss89edn+TJ0/WkSNHHMvEiRMv2ff06dP67rvv9Nxzz+m7777T6tWr9d///lc9evQo1Pexxx5zGvfVV1+9imcDAAAAwMW6du2q+++/X02bNlXHjh310UcfSfrjnomXwgWYAHBlFe7muZcTEREhm82mpKQkNWvWTJKUl5en5ORkTZ8+XZLUokULeXl5KSkpSb1795YkHTlyRLt27dKMGTNcFjsAVEaffPKJ0+NFixapTp062rZtm2JiYop103NJGjlypCRp8+bNl92fv7+/44+8VxIQEKCkpCSntldeeUW33XabDhw4oHr16jna/fz8ij0uAAAAgKtXvXp1NW3aVPv27btkH6vVKqvVWo5RAYD7qXBX7J88eVI7duzQjh07JP1xw9wdO3bowIEDslgsGjlypKZNm6Y1a9Zo165dGjhwoPz8/NSvXz9JfxRyBg8erDFjxmjTpk3avn27HnroIcdfhgEAZScrK0uSFBQUJKl4Nz0vienTp6tmzZq6+eabNXXqVOXl5ZU4PovFouuvv96pfenSpapVq5aaNGmisWPHOn2boCjM+QkAAABcndzcXH3//fcKCQlxdSgA4NYq3BX73377rdq3b+94PHr0aEnSgAEDtHjxYo0bN045OTmKi4vT8ePH1bJlS23YsEH+/v6ObWbNmiVPT0/17t1bOTk56tChgxYvXiwPD49yPx4AqCqMMRo9erRuv/12RUVFSbr8Tc/3799fovGfeuopNW/eXIGBgfrmm280fvx4ZWRk6PXXXy/W9mfOnNEzzzyjfv36OU251r9/f8c3wnbt2qXx48fr3//+d6Gr/S+UmJiohISEEsUPAAAAVEVjx47V3XffrXr16ikzM1NTpkxRdna2BgwY4OrQAMCtVbjCfmxsrIwxl1xvsVgUHx+v+Pj4S/bx8fHRK6+8oldeeaUMIgQAFGX48OFKT0/Xl19+WWjd1dz0/GKjRo1y/D86OlqBgYF64IEHHFfxX87Zs2fVp08fnT9/XvPmzXNa99hjjzn+HxUVpQYNGuiWW27Rd999p+bNmxc53vjx4x1/eJak7OxsbugFAAAAFOHQoUPq27evfvvtN9WuXVutWrXS1q1bFR4e7urQAMCtVbjCPgDA/YwYMULvv/++UlJSVLduXUf7hTc9v/Crtpe7oXlxtWrVSpL0ww8/XLawf/bsWfXu3VsZGRn67LPPrniD9ObNm8vLy0v79u27ZGGfOT8BAACA4lmxYoWrQwCASqnCzbEPAHAfxhgNHz5cq1ev1meffaaIiAin9Rfe9LxAwU3P27Rpc0373r59uyRddm7OgqL+vn37tHHjxite2S9Ju3fv1tmzZ5nzEwAAAAAAVFhcsQ8AuGrDhg3TsmXLtG7dOvn7+zvm1A8ICJCvr6/TTc8bNGigBg0aaNq0aU43PZf+uKLfbrfrhx9+kCTt3LlT/v7+qlevnoKCgpSamqqtW7eqffv2CggIUFpamkaNGqUePXqoXr16jnFuvPFGJSYm6r777tO5c+f0wAMP6LvvvtOHH36o/Px8R3xBQUHy9vbWjz/+qKVLl6pbt26qVauW9uzZozFjxqhZs2Zq27ZtOT6TAAAAAAAAxUdhHwBw1ebPny/pj/ujXGjRokUaOHCgJBXrpucLFixwuhltTEyM0zhWq1UrV65UQkKCcnNzFR4erscee0zjxo1z2u/evXuVlZUl6Y+5PN9//31J0s033+zU7/PPP1dsbKy8vb21adMm/fOf/9TJkycVFhamu+66S5MmTeKG6wAAAAAAoMKisA8AuGqXu9l5geLc9PxK65s3b66tW7eWKJ769etfMb6wsDAlJydfcVwAAAAAAICKhDn2AQAAAAAAAABwIxT2AQAAAAAAAABwIxT2AQAAAAAAAABwIxT2AQAAAAAAAABwIxT2AQAAAAAAAABwI56uDgBFq5bzu6tDAHAVeO8CAAAAAACgrFHYr6B8M1JcHQIAAAAAAAAAoAKisF9B5UTE6Lzv9a4OA0AJVcv5nT/MAQAAAAAAoExR2K+gzvter/PVa7k6DAAAAAAAAABABcPNcwEAAAAAAAAAcCMU9gEAAAAAAAAAcCMU9gEAAAAAAAAAcCMU9gEAAAAAAAAAcCMU9gEAAAAAAAAAcCMU9gEAAAAAAAAAcCMU9gEAAAAAAAAAcCMU9gEAAAAAAAAAcCMU9gEAAAAAAAAAcCMU9gEAAAAAAAAAcCMU9gEAAAAAAAAAcCMU9gEAAAAAAAAAcCMU9gEAAAAAAAAAcCMU9gEAAAAAAAAAcCMU9gEAAAAAAAAAcCMU9gEAAAAAAAAAcCMU9gEAAAAAAAAAcCMU9gEAAAAAAAAAcCMU9gEAAAAAAAAAcCMU9gEAAAAAAAAAcCMU9gEAAAAAAAAAcCMU9gEAAAAAAAAAcCMU9gEAAAAAAAAAcCMU9gEAAAAAAAAAcCMU9gEAAAAAAAAAcCOerg4ARat2JsvVIQC4Crx3AQAAAAAAUNYo7FcwAQEB8vK2Sj8luzoUAFfJy9uqgIAAV4cBAAAAAACASorCfgUTHBysd95+S1lZXPVbGe3fv19Tp07VhAkTFB4e7upwUEYCAgIUHBzs6jAAAAAAAABQSVHYr4CCg4MpClZy4eHhatiwoavDAAAAAAAAAOCGuHkuAAAAAAAAAABuhMI+AAAAAAAAAABuhMI+AAAAAAAAAABuhMI+AAAAAAAAAABupFIX9ufNm6eIiAj5+PioRYsW+uKLL1wdEgBUKomJibr11lvl7++vOnXq6N5779XevXud+hhjFB8fr9DQUPn6+io2Nla7d+926rNw4ULFxsaqRo0aslgs+v333wvtq379+rJYLE7LM888c9n4irPv3NxcjRgxQrVq1VL16tXVo0cPHTp06OqeEAAAAAAAgHJQaQv7K1eu1MiRIzVhwgRt375dd9xxh7p27aoDBw64OjQAqDSSk5M1bNgwbd26VUlJSTp37pw6d+6sU6dOOfrMmDFDM2fO1Jw5c5SWliabzaZOnTrpxIkTjj6nT5/WnXfeqWefffay+5s8ebKOHDniWCZOnHjZ/sXZ98iRI7VmzRqtWLFCX375pU6ePKnu3bsrPz//Kp8VAAAAAACAsuXp6gDKysyZMzV48GA9+uijkqTZs2fr008/1fz585WYmOji6ACgcvjkk0+cHi9atEh16tTRtm3bFBMTI2OMZs+erQkTJqhnz56SpCVLlig4OFjLli3TkCFDJP1RXJekzZs3X3Z//v7+stlsxYqtOPvOysrSG2+8obffflsdO3aUJL3zzjsKCwvTxo0b1aVLl+I+FQAAAAAAAOWmUhb28/LytG3btkJTNHTu3Flbtmwp1D83N1e5ubmOx9nZ2WUeI/5w5syZKvUtiv379zv9W5XUq1dPPj4+rg4DZSwrK0uSFBQUJEnKyMiQ3W5X586dHX2sVqvatWunLVu2OAr7xTV9+nT94x//UFhYmHr16qW///3v8vb2LrJvcfa9bds2nT171qlPaGiooqKitGXLlksW9jlvuEZVO2dIVfe8wTkDqDqqWm6vqnldIrcD7qCq5WSp6uZlcnLlUCkL+7/99pvy8/MVHBzs1B4cHCy73V6of2JiohISEsorPFzgwIEDevzxx10dRrmbOnWqq0ModwsXLlTDhg1dHQbKkDFGo0eP1u23366oqChJcuTcovJxST84PfXUU2revLkCAwP1zTffaPz48crIyNDrr79eZP/i7Ntut8vb21uBgYGF+hR1vijAecM1quo5Q6p65w3OGUDVUVVze1XL6xK5HXAHVTUnS1UvL5OTK4dKWdgvYLFYnB4bYwq1SdL48eM1evRox+Ps7GyFhYWVeXz44y+ECxcudHUYKAf16tVzdQgoY8OHD1d6erq+/PLLQuuKm48vZ9SoUY7/R0dHKzAwUA888ICmT5+umjVrXnK7q9n3lfpw3nANzhlVB+cMoOogt1cd5Hag4iMnVx3k5MqhUhb2a9WqJQ8Pj0JXW2ZmZha6clP6Y2oGq9VaXuHhAj4+PvyFEKgERowYoffff18pKSmqW7euo71gPny73a6QkBBH+6XycUm0atVKkvTDDz8UWdgvzr5tNpvy8vJ0/Phxp6v2MzMz1aZNm0vum/OGa3DOAIDKh9wOABUHORlwL9VcHUBZ8Pb2VosWLZSUlOTUnpSUdNlCDQCgZIwxGj58uFavXq3PPvtMERERTusjIiJks9mc8nFeXp6Sk5OvOR9v375dkpyK9iXdd4sWLeTl5eXU58iRI9q1axfnCwAAAAAAUGFVysK+JI0ePVqvv/663nzzTX3//fcaNWqUDhw4oCeeeMLVoQFApTFs2DC98847WrZsmfz9/WW322W325WTkyPpj2lwRo4cqWnTpmnNmjXatWuXBg4cKD8/P/Xr188xjt1u144dO/TDDz9Iknbu3KkdO3bo2LFjkqTU1FTNmjVLO3bsUEZGht59910NGTJEPXr0cPoK4Y033qg1a9YUe98BAQEaPHiwxowZo02bNmn79u166KGH1LRpU3Xs2LFcnkMAQNmZN2+eIiIi5OPjoxYtWuiLL75wdUgAAABAqaiUU/FI0oMPPqijR49q8uTJOnLkiKKiorR+/XqFh4e7OjQAqDTmz58vSYqNjXVqX7RokQYOHChJGjdunHJychQXF6fjx4+rZcuW2rBhg/z9/R39FyxY4HQz2piYGKdxrFarVq5cqYSEBOXm5io8PFyPPfaYxo0b57TfvXv3Kisry/G4OPueNWuWPD091bt3b+Xk5KhDhw5avHixPDw8SuU5AgC4xsqVKzVy5EjNmzdPbdu21auvvqquXbtqz549zCsLAAAAt2cxxhhXB1HRZGdnKyAgQFlZWapRo4arwwGAKyJvuRbPPwB3UlVyVsuWLdW8eXPHH6El6S9/+YvuvfdeJSYmXnH7qvI8AagcKnvOquzHB6DyKY+8VWmn4gEAAABQNeXl5Wnbtm3q3LmzU3vnzp21ZcuWIrfJzc1Vdna20wIAAABUVBT2AQAAAFQqv/32m/Lz8xUcHOzUHhwcLLvdXuQ2iYmJCggIcCxhYWHlESoAAABwVSjsAwAAAKiULBaL02NjTKG2AuPHj1dWVpZjOXjwYHmECAAAAFwVCvsAAAAAKpVatWrJw8Oj0NX5mZmZha7iL2C1WlWjRg2nBQBQeubNm6eIiAj5+PioRYsW+uKLL1wdEgC4NQr7AAAAACoVb29vtWjRQklJSU7tSUlJatOmjYuiAoCqa+XKlRo5cqQmTJig7du364477lDXrl114MABV4cGAG6Lwj4AAACASmf06NF6/fXX9eabb+r777/XqFGjdODAAT3xxBOuDg0AqpyZM2dq8ODBevTRR/WXv/xFs2fPVlhYmObPn+/q0ADAbXm6OgAAAAAAKG0PPvigjh49qsmTJ+vIkSOKiorS+vXrFR4e7urQAKBKycvL07Zt2/TMM884tXfu3Flbtmwpcpvc3Fzl5uY6HmdnZ5dpjADgjrhiHwAAAEClFBcXp59//lm5ubnatm2bYmJiXB0SAFQ5v/32m/Lz8wvd4yQ4OLjQvVAKJCYmKiAgwLGEhYWVR6gA4FYo7AMAAAAAAKBMWSwWp8fGmEJtBcaPH6+srCzHcvDgwfIIEQDcClPxAAAAAAAAoEzUqlVLHh4eha7Oz8zMLHQVfwGr1Sqr1Voe4QGA2+KKfQAAAAAAAJQJb29vtWjRQklJSU7tSUlJatOmjYuiAgD3xxX7AAAAAAAAKDOjR4/Www8/rFtuuUWtW7fWwoULdeDAAT3xxBOuDg0A3BaFfQAAAAAAAJSZBx98UEePHtXkyZN15MgRRUVFaf369QoPD3d1aADgtijsF8EYI0nKzs52cSQAUDwF+aogf6F8cd4A4E44ZxQPuR2AO3GH3B4XF6e4uLir2pacDMDdlEdeprBfhBMnTkiSwsLCXBwJAJTMiRMnFBAQ4OowqhzOGwDcEeeMyyO3A3BHlTW3k5MBuKuyzMsWU5H/nOsi58+f1+HDh+Xv7y+LxeLqcFCJZGdnKywsTAcPHlSNGjVcHQ4qEWOMTpw4odDQUFWrxn3RyxvnDZQVzhsoC5wziofcjrJAXkdZqey5nZyMskJeRlkpj7xMYR8oR9nZ2QoICFBWVhYnDADAFXHeAIDKhbwOABULeRnurPL9GRcAAAAAAAAAgEqMwj4AAAAAAAAAAG6Ewj5QjqxWqyZNmiSr1erqUAAAboDzBgBULuR1AKhYyMtwZ8yxDwAAAAAAAACAG+GKfQAAAAAAAAAA3AiFfQAAAAAAAAAA3AiFfQAAAAAAAAAA3AiFfQAAAAAAAAAA3AiFfQAAAAAAAAAA3AiFfQAAAAAAAAAA3AiFfQAAAAAAAAAA3AiFfQAAAAAAAAAA3AiFfQAAAABAmVi8eLEsFovTUrt2bcXGxurDDz90dXgO9evX18CBA0u83enTpxUfH6/NmzeXekw///yz7rrrLgUFBclisWjkyJGlvo8CsbGxio2NvaptBw4cqPr16zu1TZs2TWvXrr3muACUHHn36pV23q1fv766d+9+xX6bN2+WxWJxOqb4+HhZLJZi7+dqnku4Pwr7V0BCvHqlmRAPHz6s+Ph47dixo9TiK0tFJeXKaODAgbruuutcHYbDtfxCciXX8jP9+eefZbFY9OKLL16x7/r16xUfH1/yAFEpcM65epxzOOeUhWv5JSk2NlZRUVFX7Odurzfgai1atEipqanasmWLFi5cKA8PD91999364IMPXB3aNTl9+rQSEhLKJAePGjVKX3/9td58802lpqZq1KhRpb6PskJhH3A98m7JuSrvNm/eXKmpqWrevHm57A+Vh6erA3AXixYt0o033ihjjOx2u+bMmaO7775b77//vu6++25Xh3fVChKipFIviF6YEG02m0JCQq56rMOHDyshIUH169fXzTffXHpBlpGCpNy4cWNXh4JSUl4/0/Xr12vu3LkU96s4zjklxzmHc05ZWLNmjWrUqFGm+3C31xtwtaKionTLLbc4Ht95550KDAzU8uXL3frcVpZ27dql2267Tffee6+rQwHghsi7JeeqvFujRg21atWqTPeRk5MjHx+fYn8LAO6BK/aLKSoqSq1atVLr1q1133336cMPP5TVatXy5ctdHVqFdWFCbNWqlcLDw10dUrkpSMplXQxA+eFnivLEOafkOOeQn8pCs2bN9Kc//cnVYQCVko+Pj7y9veXl5eXUfuzYMcXFxemGG26Qt7e3IiMjNWHCBOXm5kqSzpw5o2bNmunPf/6zsrKyHNvZ7XbZbDbFxsYqPz9f0v/7ps/u3bvVoUMHVa9eXbVr19bw4cN1+vTpK8Z44MABPfTQQ6pTp46sVqv+8pe/6KWXXtL58+cl/fFtsdq1a0uSEhISHN+2u9I3fa40bsE3sX744Qd9/PHHjnF//vnnS445d+5cxcTEqE6dOqpevbqaNm2qGTNm6OzZs079jDGaMWOGwsPD5ePjo+bNm+vjjz8uNF7Btwgv3mdxviVmsVh06tQpLVmyxBF7wR/0T58+rbFjxyoiIkI+Pj4KCgrSLbfcwmccoByQd0s3754/f16vvPKKbr75Zvn6+ur6669Xq1at9P777xfq+8knn6h58+by9fXVjTfeqDfffNNpfXG/gXv27FmNGzdONptNfn5+uv322/XNN98U6leQwzds2KBBgwapdu3a8vPzc/xMV65cqdatW6t69eq67rrr1KVLF23fvt1pjIKf5Q8//KBu3brpuuuuU1hYmMaMGeMYB65HYf8qkRBLNyGuWrVKLVu2VEBAgPz8/BQZGalBgwY5xrv11lslSX/7298c4xVc0fztt9+qT58+ql+/vnx9fVW/fn317dtX+/fvd4z/888/y9PTU4mJiYX2nZKSIovFolWrVkmSfv31Vz3++OMKCwuT1WpV7dq11bZtW23cuPGKz3mBopJyaSXFuXPnqlq1asrMzHS0vfTSS7JYLBo2bJij7fz58woMDNSYMWMcbXl5eZoyZYpuvPFGx7H97W9/06+//lpoP8VJ9EX56quvVKtWLXXv3l2nTp2SJO3bt0/9+vVzes3MnTu3yOds+fLlmjBhgkJDQ1WjRg117NhRe/fudepb3F9IiqNgzrurPdG+9tpratiwoaxWqxo3bqxly5YVOc9ogZkzZyoiIkLXXXedWrdura1btzrWDRw40PG8XDgVS8F753LvE1RunHM451wO5xznc86VFMxXunv3bvXt21cBAQEKDg7WoEGDnN4nUtFT8ezevVudO3eWn5+fateurWHDhumjjz665C9jaWlpuuOOOxyvtf/7v/9zev1e7vX2008/qU+fPgoNDZXValVwcLA6dOjAtD1wS/n5+Tp37pzOnj2rQ4cOaeTIkTp16pT69evn6HPmzBm1b99eb731lkaPHq2PPvpIDz30kGbMmKGePXtK+uOc+O677yozM9ORu8+fP6/+/fvLGKPly5fLw8PDMebZs2fVrVs3dejQQWvXrtXw4cP16quv6sEHH7xsvL/++qvatGmjDRs26B//+Ifef/99dezYUWPHjtXw4cMlSSEhIfrkk08kSYMHD1ZqaqpSU1P13HPPXdO4Bd/Estlsatu2rWPcy30b7ccff1S/fv309ttv68MPP9TgwYP1wgsvaMiQIU79EhIS9PTTT6tTp05au3athg4dqscee6zQ5+1rkZqaKl9fX3Xr1s0R+7x58yRJo0eP1vz58/Xkk0/qk08+0dtvv61evXrp6NGjpbZ/AH8g7xZ/3KvJuwMHDtRTTz2lW2+9VStXrtSKFSvUo0ePQr+H/Pvf/9aYMWM0atQorVu3TtHR0Ro8eLBSUlIu+3wU5bHHHtOLL76oRx55ROvWrdP999+vnj176vjx40X2HzRokLy8vPT222/rX//6l7y8vDRt2jT17dtXjRs31rvvvqu3335bJ06c0B133KE9e/Y4bX/27Fn16NFDHTp00Lp16zRo0CDNmjVL06dPL3HsKCMGl7Vo0SIjyWzdutWcPXvW5OXlmYMHD5onn3zSVKtWzXzyySeOvjk5OSY6OtpUr17dvPjii2bDhg3mueeeM56enqZbt26Ofv/973+Nv7+/6dmzpzHGmPz8fPPXv/7V1KlTxxw+fNjRb8CAAcbb29vUq1fPTJ061WzYsMHEx8cbT09P0717d6c4w8PDzYABAxyPMzMzzQ033GBq165tFixYYD755BMzfPhwI8kMHTrUGGPMmTNnzCeffGIkmcGDB5vU1FSTmppqfvjhh0s+H8UZNysry6SmphqbzWbatm3rGPfMmTNFjrllyxZjsVhMnz59zPr1681nn31mFi1aZB5++GHHeAU/h4kTJzrGO3jwoDHGmFWrVpnnn3/erFmzxiQnJ5sVK1aYdu3amdq1a5tff/3VsZ/77rvP1KtXz5w7d85p/7169TKhoaHm7NmzxhhjunTpYmrXrm0WLlxoNm/ebNauXWuef/55s2LFiks+Lxf7/PPPjSTz+eefO9oKfp5/+ctfzIsvvmg2btxonn/+eWOxWExCQkKxx/7Pf/5jJJlly5Y52u68807j6+trGjRo4Gj7+uuvjSSzfv16Y8wfr7M777zTVK9e3SQkJJikpCTz+uuvmxtuuME0btzYnD592rHt1KlTjcViMYMGDTIffvihWb16tWndurWpXr262b17t9MxVa9e3fF45cqVxmq1mqFDhzqe5927d5uAgADTtGlT89Zbb5kNGzaYMWPGmGrVqpn4+PhCz1n9+vVN//79zUcffWSWL19u6tWrZxo0aOD0c5s0aZLjdfvxxx+bhQsXmhtuuMHYbDbTrl27Yj+Xxvzx3qlbt65p3Lixeeutt8ynn35qevXqZSSZ5OTkQvFd+DN99dVXjSRz//33mw8//NAsXbrUNGzY0ISHh5vw8HBHv4yMDMex3XnnnWbt2rVm7dq1pmnTpiYwMND8/vvvxhhjfvjhB/PAAw8YSY7XecF750rvE1QOnHOccc4pHs45Qws9z5dTcA5p1KiRef75501SUpKZOXOmsVqt5m9/+5tT34tf64cPHzY1a9Y09erVM4sXLzbr1683Dz/8sKlfv36hn0G7du1MzZo1TYMGDcyCBQtMUlKSiYuLM5LMkiVLjDFXfr01atTI/PnPfzZvv/22SU5ONu+9954ZM2aM036Aiq7gNX7xYrVazbx585z6LliwwEgy7777rlP79OnTjSSzYcMGR9vKlSuNJDN79mzz/PPPm2rVqjmtN+aPvCHJ/POf/3Rqnzp1qpFkvvzyS0fbxe/3Z555xkgyX3/9tdO2Q4cONRaLxezdu9cYY8yvv/5qJJlJkyYV6/ko7rgFMd11113FGvdC+fn55uzZs+att94yHh4e5tixY8YYY44fP258fHzMfffd59T/q6++MpKcPkcX/NwyMjKc+l7qnHPhZ19jjKlevbrT81kgKirK3HvvvSU+JgDFR951VhZ5NyUlxUgyEyZMuGy/8PBw4+PjY/bv3+9oy8nJMUFBQWbIkCGOtqJya8Fn1gLff/+9kWRGjRrltI+lS5caSU7PZcFr4JFHHnHqe+DAAePp6WlGjBjh1H7ixAljs9lM7969HW0FP8uLXxvdunUzjRo1uuxxo/xQ2L8CEqKzskiIL774opHkKG4WJS0tzUgyixYtuuJ4586dMydPnjTVq1d3eu4KEuWaNWscbf/73/+Mp6enU5HjuuuuMyNHjrzifi7nUh94Sysp1q1b1wwaNMgYY0xubq6pXr26efrpp40kxwlj6tSpxsvLy5w8edIYY8zy5cuNJPPee+85jVXw3Ba8nkua6AuKLP/3f/9nPDw8zPTp052269Kli6lbt67Jyspyah8+fLjx8fFx/KJR8JxdWJA0xph3333XUeg2pmS/kBTH1Z5o8/Pzjc1mMy1btnQab//+/cbLy6vIwn7Tpk2dik/ffPONkWSWL1/uaBs2bJjTybtAcd4ncH+cc5xxzikezjklU/BL0owZM5za4+LijI+Pjzl//ryj7eLX+t///ndjsVic/uBgzB/nuqIK+0W9fhs3bmy6dOnieHyp19tvv/3meN8C7qzg3PbWW2+ZtLQ0k5aWZj7++GPz+OOPG4vFYl555RVH3969e5vq1as7vQ+NMeaXX34xkszTTz/t1D506FDj5eVlqlWrZiZOnFho3wW58LfffnNqL/hs9o9//MPRdvH7/bbbbjONGzcuNGbBHzLnz59vjCn5ua244xbEVNzC/nfffWfuvvtuExQUVOhzxNatW40xxqxfv95IMv/6178KbR8eHl4uhf1BgwYZq9Vqnn76afP55587/aEXQOkg7zori7w7fvx4I8npQqmihIeHm1atWhVqb9Wqlbnzzjsdj4tT2J83b56RZL799lunsc6ePWs8PT2LLOyvW7fOqe9rr71mJJm0tDRz9uxZp+XBBx80derUcfQdMGCAsVgsJicnx2mMZ555xvj4+Fz2uFF+mIqnmN566y2lpaUpLS1NH3/8sQYMGKBhw4Zpzpw5jj6fffaZqlevrgceeMBp24KvcG/atMnR1rt3bw0dOlR///vfNWXKFD377LPq1KlTkfvu37+/0+OCr019/vnnl4z3s88+U+PGjXXbbbcVisUYo88+++zKB11O4xZ8Bb13795699139b///a9E2588eVJPP/20/vznP8vT01Oenp667rrrdOrUKX3//feOfrGxsbrpppucpoBZsGCBLBaLHn/8cUfbbbfdpsWLF2vKlCnaunVroXkpr4XFYil0k5ro6GinKRyKo0OHDo5pGrZs2aLTp09r9OjRqlWrlpKSkiRJGzdudExrIEkffvihrr/+et199906d+6cY7n55ptls9kc0wd8+umnOnfunB555BGnfj4+PmrXrl2haQaMMRoyZIgmTZqkZcuWady4cY51Z86c0aZNm3TffffJz8/Pabxu3brpzJkzTlPRSFKPHj0KPT+SHM9Ramqqzpw5U+h90aZNm6ueU/vmm29WvXr1HI99fHzUsGHDy/5c9u7dK7vdrt69ezu116tXT23bti1ym7vuusvpK4oXH9vlXOv7BO6Fc07Zjcs5p/Kec0qqqPPNmTNnnKYdulhycrKioqIK3ai4b9++Rfa32WyFXr/F/RkEBQXpT3/6k1544QXNnDlT27dvd0zhA7ijv/zlL7rlllt0yy236M4779Srr76qzp07a9y4cfr9998lSUePHpXNZit0Y786derI09Oz0HQtgwYN0tmzZ+Xp6aknn3yyyP16enqqZs2aTm02m82xv0s5evRokVMwhIaGXnHbyymLcQ8cOKA77rhD//vf//TPf/5TX3zxhdLS0hznoJycHKexC47/QkW1lYWXX35ZTz/9tNauXav27dsrKChI9957r/bt21cu+weqEvJu2Y3766+/ysPDo1i58+LnQpKsVqsjNxfXpXJ4Uc93gYuP+5dffpH0x+9EXl5eTsvKlSv122+/OfX38/OTj49PodjPnDlTothRdijsFxMJsezGjYmJ0dq1ax2/2NetW1dRUVHFvoFSv379NGfOHD366KP69NNP9c033ygtLU21a9culCiffPJJbdq0SXv37tXZs2f12muv6YEHHnBKjCtXrtSAAQP0+uuvq3Xr1goKCtIjjzwiu91e4mO7WGklxY4dO+rAgQPat2+fNm7cqGbNmqlOnTr661//qo0bNyonJ0dbtmxRx44dHdv88ssv+v333x3zdF+42O12RwIvaaLPy8vTypUr1aRJE3Xt2tVp3dGjR3Xu3Dm98sorhcbq1q2bJBUa7+LXu9VqlVS2v5BczYm2II7g4OBC64pqK2o/Fx/b5Vzr+wTuhXNO2Y3LOafynnNK6mpy8tGjR68p7xfspzh532KxaNOmTerSpYtmzJih5s2bq3bt2nryySd14sSJK24PuIPo6Gjl5OTov//9r6Q/3jO//PKLjDFO/TIzM3Xu3DnVqlXL0Xbq1Ck9/PDDatiwoXx9ffXoo48WuY9z584VOl8U5NhLFUIK1h05cqRQ++HDhyXJKZaSKItx165dq1OnTmn16tV66KGHdPvtt+uWW26Rt7d3oX1LKvIcc3Fbwfnj4vuyXJyXS6p69epKSEjQf/7zH9ntds2fP19bt24t9IdoAGWDvFs649auXVv5+fml8pm9uC6Vw4t6vgtc/LtiwbH+61//clxIduHy9ddfl0HkKEsU9q8BCbH0xr3nnnu0adMmZWVlafPmzapbt6769eun1NTUy26XlZWlDz/8UOPGjdMzzzyjDh066NZbb1XTpk117NixQv379eunmjVrau7cuVq1apXsdrvTzf8KjmH27Nn6+eeftX//fiUmJmr16tVXvMFjeerQoYOkP66QTEpKclx526FDB23atEkpKSnKzc11KrLUqlVLNWvWLDJ5p6WlOW5oVdJEb7Va9fnnn+vgwYPq2LGj001bAgMD5eHhoYEDB15yvwUF/uIqyS8kZakgjoKiVHnEcbXvE1QOnHNKb1zOOSXjLuec8lDwvrtYWeX98PBwvfHGG7Lb7dq7d69GjRqlefPm6e9//3uZ7A8obwU3gi64uXqHDh108uRJrV271qnfW2+95Vhf4IknntCBAwe0evVqvfHGG3r//fc1a9asIvezdOlSp8fLli2T9Me3qy6lQ4cO2rNnj7777rtCsVgsFrVv315SyS7UKMm4JVFQuCmIRfrjG06vvfaaU79WrVrJx8en0POxZcuWQt8kql+/viQpPT3dqf39998vVkzF+SNmcHCwBg4cqL59+2rv3r06ffp0scYGcPXIu5cetyQKLjCZP39+ibe9WgXP3cXP7bvvvqtz584Va4wuXbrI09NTP/74o+NCsosXuBdPVwfgzopKiO+++67Wrl2r++67z9Hvcgnxm2++0X/+8x898MADmjVrlkaNGlVoP0uXLnW6urK4CTExMVHfffedmjdv7hTLtSbE4ox7taxWq9q1a6frr79en376qbZv367WrVtfMk6LxSJjjNOHWEl6/fXXlZ+fX2h8Hx8fPf7445ozZ462bNmim2+++ZLTpkh/TKsyfPhwbdq0SV999dU1HVtpCgkJUePGjfXee+9p27ZtmjZtmiSpU6dOGjJkiGbOnKkaNWo4ppyQpO7du2vFihXKz89Xy5YtLzn2hYn+/vvvL1Y8zZo1U3Jysjp27KjY2FglJSWpTp068vPzU/v27bV9+3ZFR0cXumroalz4C8mF8RX8QlLwS0hZa9SokWw2m959912NHj3a0X7gwAFt2bLFcUVxSV34Wvf19b1kn6LeJ6jcOOdwznEVdznnlId27drpxRdf1J49e5ym41mxYsVVj1nc90XDhg01ceJEvffee4V+MQXcwa5duxyFh6NHj2r16tVKSkrSfffdp4iICEnSI488orlz52rAgAH6+eef1bRpU3355ZeaNm2aunXr5vgD4uuvv6533nlHixYtUpMmTdSkSRMNHz5cTz/9tNq2bes0BZa3t7deeuklnTx5Urfeequ2bNmiKVOmqGvXrrr99tsvGe+oUaP01ltv6a677tLkyZMVHh6ujz76SPPmzdPQoUPVsGFDSZK/v7/Cw8O1bt06dejQQUFBQapVq9YlP5MWd9yS6NSpk7y9vdW3b1+NGzdOZ86c0fz58wv98TMwMFBjx47VlClT9Oijj6pXr146ePCg4uPjC33z9dZbb1WjRo00duxYnTt3ToGBgVqzZo2+/PLLYsXUtGlTbd68WR988IFCQkLk7++vRo0aqWXLlurevbuio6MVGBio77//Xm+//bZat24tPz+/Eh87gEsj75Zs3JK444479PDDD2vKlCn65Zdf1L17d1mtVm3fvl1+fn4aMWJEice8kr/85S966KGHNHv2bHl5ealjx47atWuXXnzxRdWoUaNYY9SvX1+TJ0/WhAkT9NNPP+nOO+9UYGCgfvnlF33zzTeOb1XBjbhkZn83UnDDiUWLFpnU1FSTmppqPvzwQzNo0CAjyekGnjk5OSY6Otr4+/ubmTNnmqSkJDNp0iTj5eXldEPQgptVXHiTtOHDhxsvLy+nG6wNGDDAeHt7m3r16pmpU6eaDRs2mPj4eOPp6Wm6du3qFOfFNx3JzMw0N9xwg7HZbGbhwoXm008/NU8++aSxWCwmLi6u0LaNGjUyn376qUlLSyt0g6QLlXTc4tx05LnnnjN/+9vfzDvvvGM2b95s1q5da9q3b2+8vLzMrl27jDHGnDp1yvj6+pq2bduazz//3KSlpZn//e9/xhhjYmJiTFBQkHnttddMUlKSmThxogkJCTHXX399kTdsOnTokPH09DSSzOuvv+607vfffzfNmjUzL7zwgvnggw/M5s2bzQsvvGB8fHxMv379rngsBS51U6mCm/5d6OIbohTXiBEjjCTj6+vrdDOTiIgII8n06NHDqf+5c+dM165dTVBQkElISDAff/yx2bhxo1m8eLEZMGCAWb16taPvtGnTjKenpxkyZIhZs2aN2bx5s1m5cqUZM2aMef755y95TD/++KOJiIgwjRo1MgcPHjTGGLN7924TGBhobrvtNrNo0SLz+eefm/fff9/MnDnTtG/fvtBztmrVKqe4C26yc+H7ZeLEiUaSGTx4sPnkk0/Ma6+95nhdXs3Nc4t6nbZr185prKJ+pq+++qqRZO6//37z0UcfmaVLl5qGDRuaevXqmYiIiELH8MILLxTajy666U9Bzpk0aZLZunWrSUtLM7m5ucV6n8D9cc5xxjmneDjn/L9zTnEUPAe//vqrU3tRN4q8+LX+v//9z9SsWdPUq1fPLF682Hz88cfm4YcfNuHh4UaSSU5OdvRt166dadKkSaH9X3yTyUu93v7973+bO+64w7z88svm448/Nps2bTITJkww1apVM88++2yxjxdwtaJuDB8QEGBuvvlmM3PmTHPmzBmn/kePHjVPPPGECQkJMZ6eniY8PNyMHz/e0S89Pd34+voWyrlnzpwxLVq0MPXr1zfHjx83xvy/vJGenm5iY2ONr6+vCQoKMkOHDnXc7LvAxe93Y4zZv3+/6devn6lZs6bx8vIyjRo1Mi+88ILJz8936rdx40bTrFkzY7VajaQizwdXM25Jbp77wQcfmJtuusn4+PiYG264wfz97383H3/8caHzw/nz501iYqIJCwsz3t7eJjo62nzwwQeFPvsaY8x///tf07lzZ1OjRg1Tu3ZtM2LECPPRRx8V6+a5O3bsMG3btjV+fn5GkmPsZ555xtxyyy0mMDDQWK1WExkZaUaNGlXoRpsArh55t7CyyLv5+flm1qxZJioqynh7e5uAgADTunVr88EHH1xxvOLUG4r63J6bm2vGjBlj6tSpY3x8fEyrVq1Mampqoeey4DWQlpZWZOwFvwPVqFHDWK1WEx4ebh544AGzceNGR5/S/n0CZYOfxBWQEAsr7YT44Ycfmq5du5obbrjBeHt7mzp16phu3bqZL774wqnf8uXLzY033mi8vLyciqGHDh0y999/vwkMDDT+/v7mzjvvNLt27SryOSkQGxtrgoKCzOnTp53az5w5Y5544gkTHR1tatSoYXx9fU2jRo3MpEmTzKlTp654LAXKo8iybt06I8l06tTJqf2xxx4zkszLL79caJuzZ8+aF1980fGh/7rrrjM33nijGTJkiNm3b59T36tN9IcOHTI33nijqV+/vvnxxx+NMX8UtgcNGmRuuOEG4+XlZWrXrm3atGljpkyZ4tiuJIX9kvxCciXXcqI1xpiFCxeaP//5z8bb29s0bNjQvPnmm+aee+4xzZo1K3QMxSns5+bmmkcffdTUrl3bWCwWR5GpuO8TuDfOOYVxzrkyzjnO55wruZbCvjHG7Nq1y3Ts2NH4+PiYoKAgM3jwYLNkyRIjyfz73/929CtuYd+Yol9vv/zyixk4cKC58cYbTfXq1c11111noqOjzaxZs8y5c+eKdaxAVXepXAgAKBvkXaB8WYy5aHJeVBgDBw7Uv/71L508edLVoVQqmZmZCg8P14gRIzRjxgxXh4NK5vfff1fDhg117733auHCha4OByg2zjllg3NO1fD4449r+fLlOnr0aKlMOwegdHBuA4DyRd4Fyhdz7KPKOHTokH766Se98MILqlatmp566ilXhwQ3Z7fbNXXqVLVv3141a9bU/v37NWvWLJ04cYLXF1DFcc6pvCZPnqzQ0FBFRkbq5MmT+vDDD/X6669r4sSJFPUBAAAAlBsK+6gyXn/9dU2ePFn169fX0qVLdcMNN5R4DGNMkTdIvJCHh4csFstVxZifn6/LfYnGYrHIw8PjqsauasrjubRarfr5558VFxenY8eOyc/PT61atdKCBQvUpEmTaxobgHvjnFP+zp8/r/Pnz1+2j6fntX/09fLy0gsvvKBDhw7p3LlzatCggWbOnMkfb4AKaPHixVq8eLGrwwCAKoO8C5QvpuIBSmDx4sX629/+dtk+n3/+uWJjY69q/NjYWCUnJ19yfXh4uH7++eerGruqqV+/vvbv33/J9e3atdPmzZvLLyAAKCHOOSUTHx+vhISEy/bJyMhQ/fr1yycgAAAAAChDFPaBEjh69KgyMjIu26dRo0by9/e/qvH37t2rEydOXHK91WpV06ZNr2rsqmbnzp3Kzc295Hp/f381atSoHCMCgJLhnFMyhw8f1uHDhy/bJzo6mulyAAAAAFQKFPYBAAAAAAAAAHAjzLFfhPPnz+vw4cPy9/e/6nlrAaA8GWN04sQJhYaGqlq1aq4Op8rhvAHAnXDOKB5yOwB3UtlzOzkZgLspj7xMYb8Ihw8fVlhYmKvDAIASO3jwoOrWrevqMKoczhsA3BHnjMsjtwNwR5U1t5OTAbirsszLFPaLUDBX7cGDB1WjRg0XRwMAV5adna2wsLCrnmsb14bzBgB3wjmjeMjtANxJZc/t5GQA7qY88jKF/SIUfK2rRo0anDAAuBW+luoanDcAuCPOGZdHbgfgjiprbicnA3BXZZmXK9/EawAAAAAAAAAAVGIU9gEAAAAAAAAAcCMU9gEAAAAAAAAAcCMU9gEAAAAAAAAAcCMU9gEAAAAAAAAAcCMU9gEAAAAAAAAAcCMU9gEAAAAAAAAAcCMU9gEAAAAAAAAAcCMU9gEAAAAAAAAAcCMU9gEAAAAAAAAAcCMU9gEAAAAAAAAAcCMU9gEAAAAAAAAAcCMU9gEAAAAAAAAAcCOerg4AqCry8/OVnp6uY8eOKSgoSNHR0fLw8HB1WACACorzBgBULuR1AKhYyMtwdxT2gXKQkpKiefPmyW63O9psNpvi4uIUExPjwsiAyi0+Pl4JCQlObcHBwY73ojFGCQkJWrhwoY4fP66WLVtq7ty5atKkiSvCBRw4bwBA5UJeR2WWkpKiF154Qdu2bdORI0e0Zs0a3XvvvY71fOZGRUReRmXAVDxAGUtJSdGkSZMUGRmpuXPnav369Zo7d64iIyM1adIkpaSkuDpEoFJr0qSJjhw54lh27tzpWDdjxgzNnDlTc+bMUVpammw2mzp16qQTJ064MGJUdZw3AKByIa+jsjt16pRuuukmzZkzp8j1fOZGRUNeRmVhMcYYVwdR0WRnZysgIEBZWVmqUaOGq8OBG8vPz1f//v0VGRmpKVOmqFq1//e3tPPnz2vixInKyMjQO++8w9e9cE3IW0WLj4/X2rVrtWPHjkLrjDEKDQ3VyJEj9fTTT0uScnNzFRwcrOnTp2vIkCHF3g/PP0oL5w2UB3JW8fA8oTSQ11FeKkrOslgsTlfsl9Zn7opyfHB/5GWUl/LIW1yxD5Sh9PR02e129e/f3+lkIUnVqlVT//79deTIEaWnp7soQqDy27dvn0JDQxUREaE+ffrop59+kiRlZGTIbrerc+fOjr5Wq1Xt2rXTli1bLjtmbm6usrOznRagNHDeAIDKhbyOqu5qP3PzeRtlhbyMyoTCPlCGjh07JkmKiIgocn1Be0E/AKWrZcuWeuutt/Tpp5/qtddek91uV5s2bXT06FHHXIrBwcFO21w4B/+lJCYmKiAgwLGEhYWV2TGgauG8AQCVC3kdVd3Vfubm8zbKCnkZlQmFfaAMBQUFSfrjKoWiFLQX9ANQurp27ar7779fTZs2VceOHfXRRx9JkpYsWeLoY7FYnLYxxhRqu9j48eOVlZXlWA4ePFj6waNK4rwBAJULeR34Q0k/c/N5G2WFvIzKhMI+UIaio6Nls9m0dOlSnT9/3mnd+fPntXTpUoWEhCg6OtpFEQJVS/Xq1dW0aVPt27dPNptNkgpdKZSZmVnoiqKLWa1W1ahRw2kBSgPnDQCoXMjrqOqu9jM3n7dRVsjLqEwo7ANlyMPDQ3FxcUpNTdXEiRO1e/dunT59Wrt379bEiROVmpqqoUOHckMWoJzk5ubq+++/V0hIiCIiImSz2ZSUlORYn5eXp+TkZLVp08aFUaIq47wBAJULeR1VHZ+5UdGQl1GZWIwxxtVBVDTcbR2lLSUlRfPmzXO6SiEkJERDhw5VTEyMCyNDZUHeKtrYsWN19913q169esrMzNSUKVOUnJysnTt3Kjw8XNOnT1diYqIWLVqkBg0aaNq0adq8ebP27t0rf3//Yu+H5x+ljfMGyhI5q3h4nlCayOsoa67MWSdPntQPP/wgSWrWrJlmzpyp9u3bKygoSPXq1SuVz9zkZJQ28jLKWnnkLc8yGRWAk5iYGLVt21bp6ek6duyYgoKCFB0dzV+AgTJ26NAh9e3bV7/99ptq166tVq1aaevWrQoPD5ckjRs3Tjk5OYqLi9Px48fVsmVLbdiwoURFfaAscN4AgMqFvI7K7Ntvv1X79u0dj0ePHi1JGjBggBYvXsxnblRI5GVUBlyxXwT+EgzA3ZC3XIvnH4A7IWcVD88TAHdS2XNWZT8+AJVPeeQt5tgHAAAAAAAAAMCNUNgHAAAAAAAAAMCNUNgHAAAAAAAAAMCNUNgHAAAAAAAAAMCNUNgHAAAAAAAAAMCNUNgHAAAAAAAAAMCNUNgHAAAAAAAAAMCNUNgHAAAAAAAAAMCNUNgHAAAAAAAAAMCNUNgHAAAAAAAAAMCNeLo6AKCqyM/PV3p6uo4dO6agoCBFR0fLw8PD1WEBAAAAAAAAcDMU9oFykJKSonnz5slutzvabDab4uLiFBMT48LIAAAAAAAAALgbpuIBylhKSoomTZqkyMhIzZ07V+vXr9fcuXMVGRmpSZMmKSUlxdUhAgAAAAAAAHAjFPaBMpSfn6958+apdevWmjJlipo0aSI/Pz81adJEU6ZMUevWrTV//nzl5+e7OlQAAAAAAAAAboLCPlCG0tPTZbfb1b9/f1Wr5vx2q1atmvr3768jR44oPT3dRRECAAAAAAAAcDcU9oEydOzYMUlSREREkesL2gv6AQAAAAAAAMCVUNgHylBQUJAkKSMjo8j1Be0F/QAAAAAAAADgSijsA2UoOjpaNptNS5cu1fnz553WnT9/XkuXLlVISIiio6NdFCEAAAAAAAAAd0NhHyhDHh4eiouLU2pqqiZOnKjdu3fr9OnT2r17tyZOnKjU1FQNHTpUHh4erg4VAAAAAAAAgJvwdHUAQGUXExOjhIQEzZs3T8OGDXO0h4SEKCEhQTExMS6MDgAAAAAAAIC7obAPlIOYmBi1bdtW6enpOnbsmIKCghQdHc2V+gAAAAAAAABKjMI+UE48PDzUrFkzV4cBAAAAAAAAwM0xxz4AAAAAAAAAAG7EpYX9lJQU3X333QoNDZXFYtHatWud1lssliKXF1544ZJjLl68uMhtzpw5U8ZHAwAAAAAAAABA2XNpYf/UqVO66aabNGfOnCLXHzlyxGl58803ZbFYdP/991923Bo1ahTa1sfHpywOAQAAAAAAAACAcuXSOfa7du2qrl27XnK9zWZzerxu3Tq1b99ekZGRlx3XYrEU2hYAAAAAAAAAgMrAbebY/+WXX/TRRx9p8ODBV+x78uRJhYeHq27duurevbu2b99+2f65ubnKzs52WgAAAAAAAAAAqIjcprC/ZMkS+fv7q2fPnpftd+ONN2rx4sV6//33tXz5cvn4+Kht27bat2/fJbdJTExUQECAYwkLCyvt8AEAAAAAVVh+fr62b9+uTZs2afv27crPz3d1SAAAwI25TWH/zTffVP/+/a84V36rVq300EMP6aabbtIdd9yhd999Vw0bNtQrr7xyyW3Gjx+vrKwsx3Lw4MHSDh8AAABAKYiPj5fFYnFaLpyG0xij+Ph4hYaGytfXV7Gxsdq9e7cLIwaklJQU9e/fX6NGjdI//vEPjRo1Sv3791dKSoqrQwMAAG7KLQr7X3zxhfbu3atHH320xNtWq1ZNt95662Wv2LdarapRo4bTAgAAAKBiatKkiY4cOeJYdu7c6Vg3Y8YMzZw5U3PmzFFaWppsNps6deqkEydOuDBiVGUpKSmaNGmSIiMjNXfuXK1fv15z585VZGSkJk2aRHEfAABcFbco7L/xxhtq0aKFbrrpphJva4zRjh07FBISUgaRAQAAAChvnp6estlsjqV27dqS/vjsP3v2bE2YMEE9e/ZUVFSUlixZotOnT2vZsmUujhpVUX5+vubNm6fWrVtrypQpatKkifz8/NSkSRNNmTJFrVu31vz585mWBwAAlJhLC/snT57Ujh07tGPHDklSRkaGduzYoQMHDjj6ZGdna9WqVZe8Wv+RRx7R+PHjHY8TEhL06aef6qefftKOHTs0ePBg7dixQ0888USZHgsAAACA8rFv3z6FhoYqIiJCffr00U8//STpj98n7Ha7Onfu7OhrtVrVrl07bdmy5bJj5ubmKjs722kBrlV6errsdrv69++vatWcf/2uVq2a+vfvryNHjig9Pd1FEQIAAHfl6cqdf/vtt2rfvr3j8ejRoyVJAwYM0OLFiyVJK1askDFGffv2LXKMAwcOOH1A+v333/X444/LbrcrICBAzZo1U0pKim677bayOxAAAAAA5aJly5Z666231LBhQ/3yyy+aMmWK2rRpo927d8tut0uSgoODnbYJDg7W/v37LztuYmKiEhISyixuVE3Hjh2TJEVERBS5vqC9oB8AAEBxubSwHxsbK2PMZfs8/vjjevzxxy+5fvPmzU6PZ82apVmzZpVGeAAAAAAqmK5duzr+37RpU7Vu3Vp/+tOftGTJErVq1UqSZLFYnLYxxhRqu9j48eMdFxpJf3xzOCwsrBQjR1UUFBQk6Y9vkzRp0qTQ+oyMDKd+AAAAxeUWc+wDAAAAQFGqV6+upk2bat++fbLZbJLkuHK/QGZmZqGr+C9mtVpVo0YNpwW4VtHR0bLZbFq6dKnOnz/vtO78+fNaunSpQkJCFB0d7aIIAQCAu6KwDwAAAMBt5ebm6vvvv1dISIgiIiJks9mUlJTkWJ+Xl6fk5GS1adPGhVGiqvLw8FBcXJxSU1M1ceJE7d69W6dPn9bu3bs1ceJEpaamaujQofLw8HB1qAAAwM24dCoeAAAAACiJsWPH6u6771a9evWUmZmpKVOmKDs7WwMGDJDFYtHIkSM1bdo0NWjQQA0aNNC0adPk5+enfv36uTp0VFExMTFKSEjQvHnzNGzYMEd7SEiIEhISFBMT48LoAACAu6KwDwAAAMBtHDp0SH379tVvv/2m2rVrq1WrVtq6davCw8MlSePGjVNOTo7i4uJ0/PhxtWzZUhs2bJC/v7+LI0dVFhMTo7Zt2yo9PV3Hjh1TUFCQoqOjuVIfAABcNQr7AAAAANzGihUrLrveYrEoPj5e8fHx5RMQUEweHh5q1qyZq8MAAACVBHPsAwAAAAAAAADgRijsAwAAAAAAAADgRijsAwAAAAAAAADgRijsAwAAAAAAAADgRijsAwAAAAAAAADgRijsAwAAAAAAAADgRijsAwAAAAAAAADgRijsAwAAAAAAAADgRijsAwAAAAAAAADgRijsAwAAAAAAAADgRijsAwAAAAAAAADgRijsAwAAAAAAAADgRijsAwAAAAAAAADgRijsAwAAAAAAAADgRijsAwAAAAAAAADgRijsAwAAAAAAAADgRjxdHQBQVeTk5OjVV1/VoUOHVLduXQ0ZMkS+vr6uDgsAAAAAAACAm6GwD5SDCRMm6KuvvnI8/vbbb7V27Vq1bdtWU6dOdWFkAICKKj8/X+np6Tp27JiCgoIUHR0tDw8PV4cFAAAAAKgAKOwDZaygqO/l5aVevXqpW7duWr9+vVatWqWvvvpKEyZMoLgPAHCSkpKiefPmyW63O9psNpvi4uIUExPjwsgAAAAAABUBc+wDZSgnJ8dR1P/oo4/0+OOPq27dunr88cf10UcfycvLS1999ZVycnJcHSoAoIJISUnRpEmTFBkZqblz52r9+vWaO3euIiMjNWnSJKWkpLg6RAAAAACAi1HYB8rQq6++Kknq1auXvL29ndZ5e3vrgQcecOoHAKja8vPzNW/ePLVu3VpTpkxRkyZN5OfnpyZNmmjKlClq3bq15s+fr/z8fFeHCgAAAABwIQr7QBk6dOiQJKlbt25Fri9oL+gHAKja0tPTZbfb1b9/f1Wr5vwxrVq1aurfv7+OHDmi9PR0F0UIAAAAAKgIKOwDZahu3bqSpPXr1xe5vqC9oB8AoGo7duyYJCkiIqLI9QXtBf0AAAAAAFUThX2gDA0ZMkSStGrVKuXl5Tmty8vL07/+9S+nfgCAqi0oKEiSlJGRUeT6gvaCfgAAAACAqonCPlCGfH191bZtW509e1Z33XWXXn31VR08eFCvvvqq7rrrLp09e1Zt27aVr6+vq0MFAFQA0dHRstlsWrp0qc6fP++07vz581q6dKlCQkIUHR3toggBAAAAABWBp6sDACq7qVOnasKECfrqq6+0fPlyLV++3LGubdu2mjp1qgujAwBUJB4eHoqLi9OkSZM0YcIE3XbbbbJarcrNzdU333yjrVu3KiEhQR4eHq4OFQAAAADgQhT2gXIwdepU5eTk6NVXX9WhQ4dUt25dDRkyhCv1AQCFxMTE6MEHH9SqVauUmprqaPfw8NCDDz6omJgYF0YHAAAAAKgIKOwD5cTX11cjR450dRgAgAouJSVFK1euVKtWrXTbbbfJx8dHZ86c0TfffKOVK1eqcePGFPcBAAAAoIqjsA8AAFBB5Ofna968eWrdurWmTJmiatX+3+2Q7rnnHk2cOFHz589X27ZtmY4HAAAAAKowbp4LAABQQaSnp8tut6t///5ORX1Jqlatmvr3768jR44oPT3dRRECAAAAACoCCvsAAAAVxLFjxyRJERERRa4vaC/oBwAAAAComijsAwAAVBBBQUGSpIyMjCLXF7QX9AMAAAAAVE0U9gEAACqI6Oho2Ww2LV26VOfPn3dad/78eS1dulQhISGKjo52UYQAAAAAgIqAwj4AAEAF4eHhobi4OKWmpmrixInavXu3Tp8+rd27d2vixIlKTU3V0KFDuXEuAAAAAFRxnq4OAAAAAP9PTEyMEhISNHfuXA0bNszRbrPZlJCQoJiYGBdGBwAAAACoCLhiHwBQZSQmJspisWjkyJGONmOM4uPjFRoaKl9fX8XGxmr37t2uCxKQtGfPHv36669ObZmZmdqzZ4+LIgIAALg6586d08SJExURESFfX19FRkZq8uTJhaYdBACUDIV9AECVkJaWpoULFxaam3zGjBmaOXOm5syZo7S0NNlsNnXq1EknTpxwUaSo6hYsWKAVK1YoICBAY8eO1XvvvaexY8cqICBAK1as0IIFC1wdIgAAQLFNnz5dCxYs0Jw5c/T9999rxowZeuGFF/TKK6+4OjQAcGsU9gEAld7JkyfVv39/vfbaawoMDHS0G2M0e/ZsTZgwQT179lRUVJSWLFmi06dPa9myZS6MGFVVXl6eVq1apcDAQK1atUrdu3dXzZo11b17d6f2vLw8V4cKAABQLKmpqbrnnnt01113qX79+nrggQfUuXNnffvtt64ODQDcGoV9AEClN2zYMN11113q2LGjU3tGRobsdrs6d+7saLNarWrXrp22bNlyyfFyc3OVnZ3ttAClYd26dcrPz9fgwYPl6el8KyRPT08NGjRI+fn5WrdunYsiBAAAKJnbb79dmzZt0n//+19J0r///W99+eWX6tat2yW34fM2AFyZSwv7KSkpuvvuuxUaGiqLxaK1a9c6rR84cKAsFovT0qpVqyuO+95776lx48ayWq1q3Lix1qxZU0ZHAACo6FasWKHvvvtOiYmJhdbZ7XZJUnBwsFN7cHCwY11REhMTFRAQ4FjCwsJKN2hUWYcPH5YktW7dusj1Be0F/QAAACq6p59+Wn379tWNN94oLy8vNWvWTCNHjlTfvn0vuQ2ftwHgylxa2D916pRuuukmzZkz55J97rzzTh05csSxrF+//rJjpqam6sEHH9TDDz+sf//733r44YfVu3dvff3116UdPgCggjt48KCeeuopvfPOO/Lx8blkP4vF4vTYGFOo7ULjx49XVlaWYzl48GCpxYyqLTQ0VNIfn2eKUtBe0A8AAKCiW7lypd555x0tW7ZM3333nZYsWaIXX3xRS5YsueQ2fN4GgCvzvHKXstO1a1d17dr1sn2sVqtsNluxx5w9e7Y6deqk8ePHS/rjZJCcnKzZs2dr+fLl1xQvAMC9bNu2TZmZmWrRooWjLT8/XykpKZozZ4727t0r6Y8r90NCQhx9MjMzC13FfyGr1Sqr1Vp2gaPKuueee7RgwQK98cYbuvPOO52m4zl37pzefPNNeXh46J577nFhlAAAAMX397//Xc8884z69OkjSWratKn279+vxMREDRgwoMht+LwNAFdW4efY37x5s+rUqaOGDRvqscceU2Zm5mX7p6amOs2VLEldunRhrmQAqII6dOignTt3aseOHY7llltuUf/+/bVjxw5FRkbKZrMpKSnJsU1eXp6Sk5PVpk0bF0aOqsrb21u9evXS8ePH1atXL33wwQf67bff9MEHHzi1e3t7uzpUAACAYjl9+rSqVXMuP3l4eOj8+fMuiggAKgeXXrF/JV27dlWvXr0UHh6ujIwMPffcc/rrX/+qbdu2XfIvt3a7/armSk5ISCjV2AEArufv76+oqCinturVq6tmzZqO9pEjR2ratGlq0KCBGjRooGnTpsnPz0/9+vVzRciAnnjiCUnSqlWr9NJLLznaPTw81KdPH8d6AAAAd3D33Xdr6tSpqlevnpo0aaLt27dr5syZGjRokKtDAwC3VqEL+w8++KDj/1FRUbrlllsUHh6ujz76SD179rzkdlczV/Lo0aMdj7Ozs7kxCwBUEePGjVNOTo7i4uJ0/PhxtWzZUhs2bJC/v7+rQ0MV9sQTT2jQoEFat26dDh8+rNDQUN1zzz1cqQ8AANzOK6+8oueee05xcXHKzMxUaGiohgwZoueff97VoQGAW6vQhf2LhYSEKDw8XPv27btkH5vNVujqfOZKBgAU2Lx5s9Nji8Wi+Ph4xcfHuyQe4FIKpuUBAABwZ/7+/po9e7Zmz57t6lAAoFKp8HPsX+jo0aM6ePCg0w0OL9a6dWunuZIlacOGDcyVDAAAAAAAAACoFFx6xf7Jkyf1ww8/OB5nZGRox44dCgoKUlBQkOLj43X//fcrJCREP//8s5599lnVqlVL9913n2ObRx55RDfccIMSExMlSU899ZRiYmI0ffp03XPPPVq3bp02btyoL7/8styPDwAAAAAAAACA0ubSwv63336r9u3bOx4XzHM/YMAAzZ8/Xzt37tRbb72l33//XSEhIWrfvr1WrlzpNO/xgQMHnO6u3qZNG61YsUITJ07Uc889pz/96U9auXKlWrZsWX4HBgAAAAAAAABAGXFpYT82NlbGmEuu//TTT684xsVzJUvSAw88oAceeOBaQgMAAAAAAAAAoEJyqzn2AQAAAAAAAACo6ijsAwAAAAAAAADgRijsAwAAAAAAAADgRijsAwAAAAAAAADgRijsAwAAAAAAAADgRijsAwAAAAAAAADgRijsAwAAAAAAAADgRijsAwAAAAAAAADgRijsAwAAAAAAAADgRijsAwAAAAAAAADgRjxdHQBQVeTl5WndunU6fPiwQkNDdc8998jb29vVYQEAAAAAAABwMxT2gXKwYMECrVq1Svn5+U5tvXr10hNPPOHCyAAAAAAAAAC4Gwr7QBlbsGCBVqxYocDAQA0ePFitW7dWamqq3njjDa1YsUKSKO4DAAAAAAAAKDbm2AfKUF5enlatWqXAwECtWrVK3bt3V82aNdW9e3en9ry8PFeHCgAAAAAAAMBNUNgHytC6deuUn5+vwYMHy9PT+Qsynp6eGjRokPLz87Vu3ToXRQgAAACgPOTn52v79u3atGmTtm/f7jRNJwAAQEkxFQ9Qhg4fPixJat26dZHrC9oL+gEAAACofFJSUjRv3jzZ7XZHm81mU1xcnGJiYlwYGQAAcFdcsQ+UodDQUElSampqkesL2gv6AQAAoGQSExNlsVg0cuRIR5sxRvHx8QoNDZWvr69iY2O1e/du1wWJKi0lJUWTJk1SZGSk5s6dq/Xr12vu3LmKjIzUpEmTlJKS4uoQAQCAG6KwD5She+65Rx4eHnrjjTd07tw5p3Xnzp3Tm2++KQ8PD91zzz0uihAAAMB9paWlaeHChYqOjnZqnzFjhmbOnKk5c+YoLS1NNptNnTp10okTJ1wUKaqq/Px8zZs3T61bt9aUKVPUpEkT+fn5qUmTJpoyZYpat26t+fPnMy0PAAAoMQr7QBny9vZWr169dPz4cfXq1UsffPCBfvvtN33wwQdO7d7e3q4OFQAAwK2cPHlS/fv312uvvabAwEBHuzFGs2fP1oQJE9SzZ09FRUVpyZIlOn36tJYtW3bJ8XJzc5Wdne20ANcqPT1ddrtd/fv3V7Vqzr9+V6tWTf3799eRI0eUnp7uoggBAIC7orAPlLEnnnhCffr0UXZ2tl566SU98MADeumll5Sdna0+ffroiSeecHWIAAAAbmfYsGG666671LFjR6f2jIwM2e12de7c2dFmtVrVrl07bdmy5ZLjJSYmKiAgwLGEhYWVWeyoOo4dOyZJioiIKHJ9QXtBPwAAgOLi5rlAOXjiiSc0aNAgrVu3TocPH1ZoaKjuuecertQHAAC4CitWrNB3332ntLS0QusKbk4aHBzs1B4cHKz9+/dfcszx48dr9OjRjsfZ2dkU93HNgoKCJP3xB6cmTZoUWp+RkeHUDwAAoLgo7APlpGBaHgAAAFy9gwcP6qmnntKGDRvk4+NzyX4Wi8XpsTGmUNuFrFarrFZrqcUJSFJ0dLRsNpuWLl2qKVOmOE3Hc/78eS1dulQhISGF7hMBAABwJUzFAwAAAMBtbNu2TZmZmWrRooU8PT3l6emp5ORkvfzyy/L09HRcqV9w5X6BzMzMQlfxA2XNw8NDcXFxSk1N1cSJE7V7926dPn1au3fv1sSJE5WamqqhQ4fKw8PD1aECAAA3wxX7AAAAANxGhw4dtHPnTqe2v/3tb7rxxhv19NNPKzIyUjabTUlJSWrWrJkkKS8vT8nJyZo+fborQkYVFxMTo4SEBM2bN0/Dhg1ztIeEhCghIUExMTEujA4AALgrCvsAAAAA3Ia/v7+ioqKc2qpXr66aNWs62keOHKlp06apQYMGatCggaZNmyY/Pz/169fPFSEDiomJUdu2bZWenq5jx44pKChI0dHRXKkPAACuGoV9AAAAAJXKuHHjlJOTo7i4OB0/flwtW7bUhg0b5O/v7+rQUIV5eHg4vkUCAABwrSjsAwAAVED5+flc2QkU0+bNm50eWywWxcfHKz4+3iXxAAAAAGWNwj4AAEAFk5KSonnz5jnd/NNmsykuLo65mAEAAP4/9u48Lspy///4e0BlkUUxBXcxLUNFLZfQE2Kl5V6WlfItt1xSK5eyFDdKtDylVO4ncylFj7lkZqaWSCoelzTasxOJqailgiso3L8//DGHEVQcgXuGeT0fj3k093VdM7xnkmuGz1xz3QAAuZkdAAAAAP+TkJCgCRMmqHbt2po5c6bWr1+vmTNnqnbt2powYYISEhLMjggAAAAAMBmFfQAAAAeRlZWlWbNmKSwsTJMmTVL9+vXl7e2t+vXra9KkSQoLC9Ps2bOVlZVldlQAAAAAgIko7AMAADiIpKQkpaamKjIyUm5utm/T3NzcFBkZqaNHjyopKcmkhAAAAAAAR2BXYf/QoUP6888/rce7du3SsGHDNG/evEILBgAA4GpOnjwpSQoODs63P6c9ZxwAAAAAwDXZVdjv2bOntmzZIklKTU1V27ZttWvXLo0ZM0avvfZaoQYEAABwFQEBAZKk5OTkfPtz2nPGAQAAAABck12F/e+//17NmzeXJP373/9WgwYNtGPHDi1dulQLFy4szHxAiXHhwgXFxsbqpZdeUmxsrC5cuGB2JACAgwkNDVVQUJCWLFmi7Oxsm77s7GwtWbJElStXVmhoqEkJAQAAAACOoJQ9N7p06ZI8PDwkSZs3b1aXLl0kSfXq1dPRo0cLLx1QQkRFRWn79u3W4z179mjNmjVq1aqVYmJiTEwGAHAk7u7uGjx4sCZMmKCoqCg1b95cHh4eysjI0K5du7Rz505FR0fL3d3d7KgAAAAAABPZVdivX7++5syZo44dO2rTpk16/fXXJUlHjhxRhQoVCjUg4OxyivqlS5dW9+7d1aFDB61fv14rVqzQ9u3bFRUVRXEfAGAVHh6uJ598UitWrFBiYqK13d3dXU8++aTCw8NNTAcAAAAAcAR2FfbffPNNPfroo/rnP/+pXr16qVGjRpKktWvXWrfoAXBl+52cov5nn32mMmXKSJIGDBig3r17q2PHjtq+fbsuXLggLy8vk9MCABxBQkKCli9frnvvvTfPiv3ly5crJCSE4j4AAAAAuDi7CvsRERH666+/lJ6ervLly1vbBwwYoLJlyxZaOMDZzZ07V5LUvXt3a1E/R5kyZfT4448rLi5Oc+fO1bBhw0xICABwJFlZWZo1a5bCwsI0adIkubn973RIXbt21dixYzV79my1atWK7XgAAAAAwIXZdfLc+++/X2fOnLEp6ktSQECAnnzyyUIJBpQEf/75pySpQ4cO+fbntOeMAwC4tqSkJKWmpioyMtKmqC9Jbm5uioyM1NGjR5WUlGRSQgAAAACAI7CrsB8fH6/MzMw87RcvXtTXX399y6GAkqJatWqSpPXr1+fbn9OeMw4A4NpOnjwpSQoODs63P6c9ZxwAAAAAwDXd1FY8uVeH/fjjj0pNTbUeZ2VlacOGDapatWrhpQOc3MCBA7VmzRqtWLFCvXv3ttmOJzMzUx9/oju7WQABAABJREFU/LF1HAAAAQEBkqTk5GTVr18/T39ycrLNOAAAAACAa7qpwn7jxo1lsVhksVh0//335+n38vLSe++9V2jhAGfn5eWlVq1aafv27erYsaMef/xxdejQQevXr9fHH3+sS5cuqVWrVpw4FwAgSQoNDVVQUJCWLFmSZ4/97OxsLVmyRJUrV1ZoaKiJKQEAAAAAZrupwn5ycrIMw1Dt2rW1a9cuVaxY0dpXpkwZVapUiRO5AVeJiYlRVFSUtm/frri4OMXFxVn7WrVqpZiYGBPTAQAcibu7uwYPHqwJEyZo7NixioyMVHBwsJKTk7VkyRIlJiYqOjqa91sAAAAA4OJuqrBfs2ZNSVdWjAEouJiYGF24cEFz587Vn3/+qWrVqmngwIGs1AcA5BEeHq7o6GjNmjVLQ4YMsbZXrlxZ0dHRCg8PNzEdAAAAAMAR3FRhP7dff/1V8fHxOn78eJ5C//jx4285GFDSeHl5adiwYWbHAJzCokWLdNttt6ljx46SpFGjRmnevHkKCQlRXFyc9YNmoCQzDMPmmIUVAAAAAIAcbjcekte//vUvhYSEaPz48fr444+1evVq62XNmjUFvp+EhAR17txZVapUkcVisbntpUuX9Morr6hhw4YqW7asqlSpomeeeUZHjhy57n0uXLjQeh6A3JeLFy/a81ABACaYPHmy9RstiYmJmjFjhqZOnarbbrtNw4cPNzkdULQSEhI0YcIE3X777Zo5c6bWr1+vmTNn6vbbb9eECROUkJBgdkQAAAAAgMnsWrE/adIkxcTE6JVXXrmlH37u3Dk1atRIffr00WOPPWbTd/78eX3zzTcaN26cGjVqpFOnTmnYsGHq0qWL9uzZc9379fPz0y+//GLT5unpeUtZAQDF59ChQ6pTp44kac2aNXr88cc1YMAAtWrVShEREeaGA4pQVlaWZs2apbCwMJuT59avX1+TJk3S2LFjNXv2bLVq1Yp99gEAAADAhdlV2D916pS6d+9+yz+8ffv2at++fb59/v7+2rRpk03be++9p+bNmyslJUU1atS45v1aLBYFBQXdcj4AgDl8fHz0999/q0aNGtq4caN1lb6np6cuXLhgcjqg6CQlJSk1NVXjxo2zFvVzuLm5KTIyUkOGDFFSUpKaNGliUkoAAAAAgNns2oqne/fu2rhxY2FnuaG0tDRZLBaVK1fuuuPOnj2rmjVrqlq1aurUqZP27dt33fEZGRlKT0+3uQAAzNO2bVs9++yzevbZZ/Xrr79a99r/4YcfVKtWLXPDAUXo5MmTkqTg4OB8+3Pac8YBAAAAAFxTgVfsv/vuu9brderU0bhx47Rz5041bNhQpUuXthn7wgsvFF7C/+/ixYt69dVX1bNnT/n5+V1zXL169bRw4UI1bNhQ6enpeuedd9SqVSt9++23qlu3br63mTJliqKjows9MwDAPjNnztTYsWN16NAhrVy5UhUqVJAk7d27Vz169DA5HVB0AgICJEnJycmqX79+nv7k5GSbcQAAAAAA12QxDMMoyMBrrRzLc4cWi37//febD2KxaPXq1XrkkUfy9F26dEndu3dXSkqK4uPjr1vYv1p2drbuvvtuhYeH23w4kVtGRoYyMjKsx+np6apevbrS0tJu6mcBgFnS09Pl7+9fYuatlJQUVatWLc9WJIZh6NChQ9fdjs0MJe35h3mysrIUGRmp2rVr2+yxL115TzN27FglJyfro48+Yo992I05q2B4ngA4k5I+Z5X0xweg5CmOeavAK/ZzVogVt0uXLumJJ55QcnKyvvrqq5t+Itzc3NSsWTMdOHDgmmM8PDzk4eFxq1EBAIUkODhYR48eVaVKlWzaT548qeDgYGVlZZmUDCha7u7uGjx4sCZMmKCoqCg1b95cHh4eysjI0K5du7Rz505FR0dT1AcAAAAAF2fXyXOLS05R/8CBA9qyZYt1K4abYRiG9u/fr4YNGxZBQgBAUbjWl8nOnj0rT0/PYk4DFK/w8HA9+eSTWrFihRITE63t7u7uevLJJxUeHm5iOgAAAACAI7CrsD9ixIh82y0Wizw9PVWnTh117dr1hvu/nj17Vr/99pv1ODk5Wfv371dAQICqVKmixx9/XN98843WrVunrKwspaamSrqyr2yZMmUkSc8884yqVq2qKVOmSJKio6N17733qm7dukpPT9e7776r/fv3a+bMmfY8VABAMcp5fbFYLBo/fry8vb2tfVlZWfrPf/6jxo0bm5QOKB4JCQlavny57r33XjVv3lyenp66ePGidu3apeXLlyskJITiPgAAAAC4OLsK+/v27dM333yjrKws3XnnnTIMQwcOHJC7u7vq1aunWbNmaeTIkdq2bZtCQkKueT979uxRmzZtrMc5BZ1evXpp4sSJWrt2rSTlKeJs2bJFERERkq7sw5x7/9nTp09rwIABSk1Nlb+/v5o0aaKEhAQ1b97cnocKAChG+/btk3Rlxf53331n/RBXksqUKaNGjRrppZdeMiseUOSysrI0a9YshYWF5dljv2vXrho7dqxmz56tVq1asR0PAAAAALgwuwr7OavxFyxYYN3zPj09Xf369dM//vEP9e/fXz179tTw4cP1xRdfXPN+IiIirrndgnTtrRhyi4+PtzmePn26pk+fXrAHAhSjtLQ0RUVF6dixYwoMDFRMTIz8/f3NjgU4lC1btkiS+vTpo3feeYcTY8HlJCUlKTU1VePGjctz8mg3NzdFRkZqyJAhSkpKUpMmTUxKCQAAAAAwm12F/X/+85/atGmTTcHFz89PEydOVLt27fTiiy9q/PjxateuXaEFBZxZZGSkDh8+bD0+ceKEunbtqqpVq2rJkiUmJgMc04IFC8yOAJji5MmTkq6cQDo/Oe054wAAAAAArsntxkPySktL0/Hjx/O0nzhxQunp6ZKkcuXKKTMz89bSASVA7qJ+8+bNNWPGDOvWUIcPH1ZkZKSZ8QCHdO7cOY0bN04tW7ZUnTp1VLt2bZsLUFLlnJ8oOTk53/6c9hudxwgAAAAAULLZvRVP37599fbbb6tZs2ayWCzatWuXXnrpJT3yyCOSpF27dumOO+4ozKyA00lLS7MW9devX289EejUqVN1/vx5dejQQYcPH1ZaWhrb8gC5PPvss9q6dauefvppVa5cWRaLxexIQLEIDQ1VUFCQlixZkmeP/ezsbC1ZskSVK1dWaGioiSkBAAAAAGazq7A/d+5cDR8+XE899ZQuX7585Y5KlVKvXr2s+9vXq1dP77//fuElBZxQVFSUpCsr9XOK+jm8vb3VrFkz7d69W1FRUZoxY4YZEQGH9Pnnn+uzzz5Tq1atzI4CFCt3d3cNHjxYEyZM0NixYxUZGang4GAlJydryZIlSkxMVHR0NCfOBQAAAAAXZ1dh38fHR//61780ffp0/f777zIMQ7fffrt8fHysYxo3blxYGQGndezYMUnSM888k2//008/rd27d1vHAbiifPnybDUClxUeHq7o6GjNmjVLQ4YMsbZXrlxZ0dHRCg8PNzEdAAAAAMAR2FXYz+Hj48NXwYHrCAwM1IkTJ7R48WJNnTo1T/+HH35oHQfgf15//XWNHz9eixYtyvNtF8AVhIeHq1WrVkpKStLJkycVEBCg0NBQVuoDAAAAACTdRGG/W7duWrhwofz8/NStW7frjl21atUtBwNKgpiYGHXt2lW7du3S+fPnbQqU58+f1+7du63jAFfXpEkTm730f/vtNwUGBqpWrVoqXbq0zdhvvvmmuOMBxc7d3V1NmjQxOwYAAAAAwAEVuLDv7+9vLbhwkk+gYPz9/VW1alUdPnxYHTp0ULNmzfT000/rww8/tBb1q1atyu8UIFlPvg4AAAAAAIDrsxiGYZgdwtGkp6fL399faWlp8vPzMzsOSoDIyEgdPnw4T3vVqlW1ZMkSExKhpGHeMhfPPwBnwpxVMDxPAJxJSZ+zSvrjA1DyFMe8dUt77AMomCVLligtLU1RUVE6duyYAgMDFRMTw0p9AAAAAAAAADfNrsL+sWPH9NJLL+nLL7/U8ePHdfWi/6ysrEIJB5Qk/v7+mjFjhtkxAKdQvnx5m/32c1gsFnl6eqpOnTrq3bu3+vTpY0I6AAAAAAAAc9lV2O/du7dSUlI0btw4Va5cOd/iCwAA9ho/frxiYmLUvn17NW/eXIZhaPfu3dqwYYOGDBmi5ORkPffcc7p8+bL69+9vdlwAAAAAAIBiZVdhf9u2bfr666/VuHHjQo4DAMCV15lJkyZp0KBBNu1z587Vxo0btXLlSoWGhurdd9+lsI8Siy3cAAAAAADX4mbPjapXr55n+x0AAArLF198oQcffDBP+wMPPKAvvvhCktShQwf9/vvv172f2bNnKzQ0VH5+fvLz81NYWJg+//xza79hGJo4caKqVKkiLy8vRURE6IcffijcBwPYITIyUl27dtX333+vEydO6Pvvv1fXrl0VGRlpdjQAAICbdvjwYf3f//2fKlSoIG9vbzVu3Fh79+41OxYAODW7CvuxsbF69dVX9ccffxRyHAAApICAAH366ad52j/99FMFBARIks6dOydfX9/r3k+1atX0xhtvaM+ePdqzZ4/uv/9+de3a1Vq8nzp1qqZNm6YZM2Zo9+7dCgoKUtu2bXXmzJnCf1BAAUVGRurw4cOSpObNm2vGjBlq3ry5pCt/FFPcBwAAzuTUqVNq1aqVSpcurc8//1w//vij3n77bZUrV87saADg1OzaiufJJ5/U+fPndfvtt8vb21ulS5e26T958mShhAMAuKZx48bpueee05YtW9S8eXNZLBbt2rVL69ev15w5cyRJmzZtUuvWra97P507d7Y5jomJ0ezZs7Vz506FhIQoNjZWUVFR6tatmyRp0aJFCgwM1NKlSzVw4MCieXDAdaSlpVmL+uvXr5e3t7ekKx9CnT9/Xh06dNDhw4eVlpbGtjwAAMApvPnmm6pevboWLFhgbatVq5Z5gQCghLCrsB8bG1vIMQAA+J/+/fsrJCREM2bM0KpVq2QYhurVq6etW7eqZcuWkqSRI0fe1H1mZWVpxYoVOnfunMLCwpScnKzU1FS1a9fOOsbDw0OtW7fWjh07rlvYz8jIUEZGhvU4PT39Jh8hkL+oqChJV1bq5xT1c3h7e6tZs2bavXu3oqKiNGPGDDMiAgAA3JS1a9fqoYceUvfu3bV161ZVrVpVgwcPvu65sni/DQA3Zldhv1evXgUa98Ybb2jQoEF8vQoAcNNatWqlVq1a3fL9fPfddwoLC9PFixfl4+Oj1atXKyQkRDt27JAkBQYG2owPDAzUwYMHr3ufU6ZMUXR09C1nA6527NgxSdIzzzyTb//TTz+t3bt3W8cBAAA4ut9//12zZ8/WiBEjNGbMGO3atUsvvPCCPDw8rvmeh/fbAHBjdu2xX1CTJ09mWx4AQIHkXoWTnp5+3cvNuPPOO7V//37t3LlTzz33nHr16qUff/zR2m+xWGzGG4aRp+1qo0ePVlpamvVy6NChm8oEXEvOB02LFy/Ot//DDz+0GQcAAODosrOzdffdd2vy5Mlq0qSJBg4cqP79+2v27NnXvA3vtwHgxuxasV9QhmEU5d0DAEqQ8uXL6+jRo6pUqZLKlSuXb3E9p+ielZVV4PstU6aM6tSpI0lq2rSpdu/erXfeeUevvPKKJCk1NVWVK1e2jj9+/PgNi6YeHh7y8PAocAagoGJiYtS1a1ft2rVL58+ft9mO5/z589q9e7d1HAAAgDOoXLmyQkJCbNruuusurVy58pq34f02ANxYkRb2AQAoqK+++koBAQGSpC1bthTZzzEMQxkZGQoODlZQUJA2bdqkJk2aSJIyMzO1detWvfnmm0X284Hr8ff3V9WqVXX48GF16NBBzZo109NPP60PP/zQWtSvWrUqJ84FAABOo1WrVvrll19s2n799VfVrFnTpEQAUDJQ2AcAOITWrVvne/1WjBkzRu3bt1f16tV15swZLVu2TPHx8dqwYYMsFouGDRumyZMnq27duqpbt64mT54sb29v9ezZs1B+PmCPJUuWKDIyUocPH9bu3butBX3pSlF/yZIlJqYDAAC4OcOHD1fLli01efJkPfHEE9q1a5fmzZunefPmmR0NAJwahX0AgEM6ffq0du3apePHjys7O9um71on2brasWPH9PTTT+vo0aPy9/dXaGioNmzYoLZt20qSRo0apQsXLmjw4ME6deqUWrRooY0bN8rX17fQHw9wM5YsWaK0tDRFRUXp2LFjCgwMVExMDCv1AQCA02nWrJlWr16t0aNH67XXXlNwcLBiY2MVGRlpdjQAcGoWowg3wvf19dW3336r2rVrF9WPKBLp6eny9/dXWlqa/Pz8zI4DADdU0uatTz/9VJGRkTp37px8fX1t9tu3WCwOd2L2kvb8AyjZmLMKhucJgDMp6XNWSX98AEqe4pi33IrkXv+/++67T15eXkX5IwAAJdDIkSPVt29fnTlzRqdPn9apU6esF0cr6gMAAAAAABS3Am/Fk56eXuA7zfkUYv369TefCADg8g4fPqwXXnhB3t7eZkcBAAAAAABwOAUu7JcrV85mK4TrycrKsjsQAAAPPfSQ9uzZ43RbuQEAAAAAABSHAhf2t2zZYr3+xx9/6NVXX1Xv3r0VFhYmSUpMTNSiRYs0ZcqUwk8JAHApHTt21Msvv6wff/xRDRs2VOnSpW36u3TpYlIyAAAAAAAA8xW4sN+6dWvr9ddee03Tpk1Tjx49rG1dunRRw4YNNW/ePPXq1atwUwIAXEr//v0lXXm9uZrFYuGbYQAAAAAAwKXZdfLcxMRENW3aNE9706ZNtWvXrlsOBQBwbdnZ2de8UNQHAAAAAACuzq7CfvXq1TVnzpw87XPnzlX16tVvORQAAAXRsGFDHTp0yOwYAAAAAAAAxarAW/HkNn36dD322GP64osvdO+990qSdu7cqf/+979auXJloQYEAOBa/vjjD126dMnsGAAAAAAAAMXKrhX7HTp00IEDB9SlSxedPHlSf//9t7p27apff/1VHTp0KOyMAAAAAAAAAADg/7Nrxb4kVatWTZMnTy7MLAAAAAAAAAAA4AbsLuyfPn1au3bt0vHjx5WdnW3T98wzz9xyMAAAAAAAAAAAkJddhf1PP/1UkZGROnfunHx9fWWxWKx9FouFwj4AAAAAAICD+/LLL/Xll1/mu2jzgw8+MCkVAKAg7Npjf+TIkerbt6/OnDmj06dP69SpU9bLyZMnCzsjAAAAAAAAClF0dLTatWunL7/8Un/99ZdNbefUqVNmxwMA3IBdhf3Dhw/rhRdekLe3d2HnAQBAhw4dumbfzp07rdfnzp2rwMDA4ogEAHAQs2fPVmhoqPz8/OTn56ewsDB9/vnn1n7DMDRx4kRVqVJFXl5eioiI0A8//GBiYgBwTHPmzNHChQv1n//8R2vWrNHq1attLgAAx2ZXYf+hhx7Snj17CjsLAACSpLZt2+rvv//O0759+3Y9/PDD1uOePXuqbNmyxRkNAGCyatWq6Y033tCePXu0Z88e3X///eratau1eD916lRNmzZNM2bM0O7duxUUFKS2bdvqzJkzJicHAMeSmZmpli1bmh0DAGAnu/bY79ixo15++WX9+OOPatiwoUqXLm3T36VLl0IJBwBwTffdd5/atWun+Ph4+fr6SpISEhLUuXNnTZw40dxwAABTde7c2eY4JiZGs2fP1s6dOxUSEqLY2FhFRUWpW7dukqRFixYpMDBQS5cu1cCBA695vxkZGcrIyLAep6enF80DAAAH8eyzz2rp0qUaN26c2VEAAHawq7Dfv39/SdJrr72Wp89isSgrK+vWUgEAXNq8efPUvXt3dezYURs3blRiYqK6dOmiSZMm6cUXXzQ7HgDAQWRlZWnFihU6d+6cwsLClJycrNTUVLVr1846xsPDQ61bt9aOHTuuW9ifMmWKoqOjiyM2ADiEixcvat68edq8ebNCQ0PzLNqcNm2aSckAAAVhV2H/6jOlAwBQmCwWi+Li4tSxY0c98MADSkpK0pQpUzR06FCzowEACtHp06dVrly5m77dd999p7CwMF28eFE+Pj5avXq1QkJCtGPHDknKc/6VwMBAHTx48Lr3OXr0aI0YMcJ6nJ6erurVq990NgBwFklJSWrcuLEk6fvvv7fps1gsJiQCANwMuwr7uV28eFGenp6FkQUA4MKSkpLytE2YMEE9evTQ//3f/yk8PNw6JjQ0tLjjAQBu0ZtvvqlatWrpySeflCQ98cQTWrlypYKCgrR+/Xo1atSowPd15513av/+/Tp9+rRWrlypXr16aevWrdb+qwtShmHcsEjl4eEhDw+Pm3hEAODctmzZYnYEAMAtsOvkuVlZWXr99ddVtWpV+fj46Pfff5ckjRs3TvPnzy/UgEBJceLECT355JN6+OGH9eSTT+rEiRNmRwIcSuPGjdWkSRM1btzYegkPD9eff/6puXPnWvuaNGlidlQAgB3mzp1rXQG/adMmbdq0SZ9//rnat2+vl19++abuq0yZMqpTp46aNm2qKVOmqFGjRnrnnXcUFBQkSUpNTbUZf/z48Tyr+AEAV/z222/64osvdOHCBUlXPgwFADg+u1bsx8TEaNGiRZo6dap1v31JatiwoaZPn65+/foVWkCgJOjUqZPOnj1rPb548aK6d+8uHx8frVu3zsRkgONITk42OwIAoAgdPXrUWthft26dnnjiCbVr1061atVSixYtbum+DcNQRkaGgoODFRQUpE2bNlk/CM7MzNTWrVv15ptv3vJjAICS5O+//9YTTzyhLVu2yGKx6MCBA6pdu7aeffZZlStXTm+//bbZEQEA12HXiv3Fixdr3rx5ioyMlLu7u7U9NDRUP//8c4HvJyEhQZ07d1aVKlVksVi0Zs0am37DMDRx4kRVqVJFXl5eioiI0A8//HDD+125cqVCQkLk4eGhkJAQrV69usCZgMKWu6hfq1YtTZ48WbVq1ZIknT17Vp06dTIxHeA4atasWeALAMD5lC9fXocOHZIkbdiwQQ8++KCkK+/5s7KyCnw/Y8aM0ddff60//vhD3333naKiohQfH6/IyEhZLBYNGzZMkydP1urVq/X999+rd+/e8vb2Vs+ePYvkcQGAsxo+fLhKly6tlJQUeXt7W9uffPJJbdiwwcRkAICCsGvF/uHDh1WnTp087dnZ2bp06VKB7+fcuXNq1KiR+vTpo8ceeyxP/9SpUzVt2jQtXLhQd9xxhyZNmqS2bdvql19+ka+vb773mZiYqCeffFKvv/66Hn30Ua1evVpPPPGEtm3bdssrgYCbdeLECWtRf+3atfLz85MktWzZUunp6erSpYvOnj2rEydOqGLFimZGBRzOhx9+qDlz5ig5OVmJiYmqWbOmYmNjFRwcrK5du5odDyhyWVlZSkpK0smTJxUQEKDQ0FCbBRWAs+nWrZt69uypunXr6u+//1b79u0lSfv378/3b4trOXbsmJ5++mkdPXpU/v7+Cg0N1YYNG9S2bVtJ0qhRo3ThwgUNHjxYp06dUosWLbRx48Zr/v0AAK5q48aN+uKLL1StWjWb9rp1697whOMAAPPZVdivX7++vv766zyrJlesWHFTex+3b9/e+ob+aoZhKDY2VlFRUerWrZskadGiRQoMDNTSpUs1cODAfG8XGxurtm3bavTo0ZKk0aNHa+vWrYqNjVVcXFy+t8nIyFBGRob1OD09vcCPAbieoUOHSrqyUj+nqJ/Dz89PNWvW1MGDBzV06FAtX77cjIiAQ5o9e7bGjx+vYcOGKSYmxrqSs1y5coqNjaWwjxIvISFBs2bNstknPCgoSIMHD1Z4eLiJyQD7TZ8+XbVq1dKhQ4c0depU+fj4SLqyRc/gwYMLfD83OqeXxWLRxIkTNXHixFuJCwAl3rlz52xW6uf466+/OJk4ADgBu7bimTBhgoYOHao333xT2dnZWrVqlfr376/Jkydr/PjxhRIsOTlZqampateunbXNw8NDrVu31o4dO655u8TERJvbSNJDDz103dtMmTJF/v7+1kvO3p/ArUpLS5MkDRgwIN/+nPNR5IwDcMV7772nf/3rX4qKirJZody0aVN99913JiYDil5CQoImTJig2rVra+bMmVq/fr1mzpyp2rVra8KECUpISDA7ImCXxMREDRs2TO+8847NYqChQ4fqjjvuMDEZALim8PBwLV682HpssViUnZ2tf/7zn2rTpo2JyQAABWFXYb9z585avny51q9fL4vFovHjx+unn37Sp59+av0K7K3KWaEWGBho0x4YGGizei2/293sbUaPHq20tDTrJWfvT+BW+fv7S5LmzZuXb3/OirOccQCuSE5OzvcbYB4eHjp37pwJiYDikZWVpVmzZiksLEyTJk1S/fr15e3trfr162vSpEkKCwvT7Nmzb2o/csBRtGnTRidPnszTnpaWRgEJAEzwz3/+U3PnzlX79u2VmZmpUaNGqUGDBkpISOCE4wDgBOwq7B86dEgPPfSQtm7dqrNnz+r8+fPatm2b2rVrp507dxZqQIvFYnNsGEaetlu9jYeHh/z8/GwuQGGYMWOGJOmPP/7Is8VTenq6dd/CnHEArggODtb+/fvztH/++ecKCQkp/kBAMUlKSlJqaqoiIyPl5mb7Ns3NzU2RkZE6evSokpKSTEoI2O9a78n//vtvlS1b1oREAODaQkJClJSUpObNm6tt27Y6d+6cunXrpn379un22283Ox4A4Abs2mO/bdu22r59uypUqGDTvn37dnXs2FGnT5++5WBBQUGSrqzAr1y5srX9+PHjeVbkX327q1fn3+g2QFGpWLGifHx8dPbsWXXp0kU1a9ZUv379NH/+fGtR38fHhxPnAld5+eWXNWTIEF28eFGGYWjXrl2Ki4vTlClT9P7775sdDygyOauZg4OD8+3Pac9v1TPgqHLOl2WxWNS7d2+bfZtzThLdsmVLs+IBgEu6dOmS2rVrp7lz5yo6OtrsOAAAO9i1Yv++++5Tu3btdObMGWtbQkKCOnTooAkTJhRKsODgYAUFBWnTpk3WtszMTG3duvW6b/zDwsJsbiNdOdM7fyzALOvWrbOeHO7gwYMaP368TVF/3bp1ZsYDHFKfPn00YcIEjRo1SufPn1fPnj01Z84cvfPOO3rqqafMjgcUmYCAAElXtqPKT057zjjAGeScx8owDPn6+tqc2yooKEgDBgzQRx99ZHZMAHAppUuX1vfff3/DHREAAI7LrhX78+bNU/fu3dWxY0dt3LhRiYmJ6tKliyZNmqQXX3yxwPdz9uxZ/fbbb9bj5ORk7d+/XwEBAapRo4aGDRumyZMnq27duqpbt64mT54sb29v9ezZ03qbZ555RlWrVtWUKVMkSS+++KLCw8P15ptvqmvXrvrkk0+0efNmbdu2zZ6HChSKdevW6cSJExo6dKjS0tLk7++vGTNmsFIfuI7+/furf//++uuvv5Sdna1KlSqZHQkocqGhoQoKCtKSJUs0adIkm+14srOztWTJElWuXFmhoaEmpgRuzoIFCyRJtWrV0ksvvcS2OwDgIJ555hnNnz9fb7zxhtlRAAB2sKuwb7FYFBcXp44dO+qBBx5QUlKSpkyZoqFDh97U/ezZs8fmRFkjRoyQJPXq1UsLFy7UqFGjdOHCBQ0ePFinTp1SixYttHHjRvn6+lpvk5KSYvNHb8uWLbVs2TKNHTtW48aN0+23367ly5erRYsW9jxUoNBUrFhRy5cvNzsG4DQuX76s+Ph4/fe//7V+oHvkyBH5+flZvwUDlDTu7u4aPHiwJkyYoLFjxyoyMlLBwcFKTk7WkiVLlJiYqOjoaLm7u5sdFbhphfXNXgBA4cjMzNT777+vTZs2qWnTpnk+eJ02bZpJyQAABWExDMMoyMD8TtJ25swZ9ejRQx07dtRzzz1nbXf2VWTp6eny9/dXWloaJ9IF4BRK2rx18OBBPfzww0pJSVFGRoZ+/fVX1a5dW8OGDdPFixc1Z84csyPaKGnPP8yXkJCg9957TydOnLC2VapUSUOHDlV4eLiJyVASFOec1aRJkwJv8/DNN98UaZabxdwOwJnYM2flXmh5NYvFoq+++qqw4t0y5mQAzqY45q0Cr9hv3LixLBaLcn8OkHM8d+5czZs3T4ZhyGKxKCsrq0jCAgBcw4svvqimTZvq22+/tTlR+6OPPqpnn33WxGRA8YiNjc1zgtzjx48rNjaWwj6cyiOPPGJ2BADANWzZssXsCACAW1Dgwv61TuIGAEBh27Ztm7Zv364yZcrYtNesWVOHDx82KRVQPLp162Yt6oeEhKhfv36aP3++fvzxR508eVLdunXTqlWrTE4JFAzb7wAAAABFo8CF/Zo1axZlDgAArLKzs/P99teff/5pc54VoKQ5efKktai/bt066/kk7rnnHp09e1adOnWyjgkICDAzKgDgJmVmZuqTTz7RkSNHVKVKFXXt2jXPIgagqHXr1q3AY1lIAACOze3GQ/L34YcfqlWrVqpSpYoOHjwo6crXxj/55JNCCwcAcE1t27ZVbGys9dhisejs2bOaMGGCOnToYF4woIiNGDFC0pWV+lefJNrHx0d33XWXzTjAmbi5ucnd3f2aF6AkmzNnjtq3b6+ZM2dq9erVmjlzptq3b+9w5w1Cyefv72+9+Pn56csvv9SePXus/Xv37tWXX34pf39/E1MCAAqiwCv2c5s9e7bGjx+vYcOGKSYmxrqqsly5coqNjVXXrl0LNSQAwLVMnz5dbdq0UUhIiC5evKiePXvqwIEDuu222xQXF2d2PKDI/P3335Kkfv365dvfp08fjRo1yjoOcCarV6+2Ob506ZL27dunRYsWKTo62qRUQNGbM2eOli1bpvLly6tfv34KCwtTYmKi5s+fr2XLlkmSBg0aZHJKuIoFCxZYr7/yyit64oknNGfOHOsHrFlZWRo8eDAnqAUAJ2Axcp8Nt4BCQkI0efJkPfLII/L19dW3336r2rVr6/vvv1dERIT++uuvoshabDjbOgBnUxLnrQsXLiguLk7ffPONsrOzdffddysyMlJeXl5mR8ujJD7/MEfv3r31xx9/KCQkRLNmzcrT/9xzz+mnn35SrVq1tHDhwuIPiBLB0easpUuXavny5Q73zV9He57gnDIzM9W+fXv5+flpxYoVKlXqf2vrLl++rO7duys9PV2ff/452/LgltgzZ1WsWFHbtm3TnXfeadP+yy+/qGXLlg61kIA5GYCzKY55y66teJKTk9WkSZM87R4eHjp37twthwIAwMvLS3379tWMGTM0a9YsPfvssw5Z1AcK07Rp0yRJP/74o86ePWvTd/bsWf30008244CSoEWLFtq8ebPZMYAi8cknnygrK0v9+vWzKepLUqlSpdS3b19lZWU53AdbcA2XL1+2vrfI7aefflJ2drYJiQAAN8OurXiCg4O1f//+PCfU/fzzzxUSElIowQAArqtKlSqKiIiwXu644w6zIwHFIiAgQAEBATp58qQ6deqkcuXKqWLFijpx4oROnz5tMwYoCS5cuKD33ntP1apVMzsKUCSOHDkiSQoLC8u3P6c9ZxxQnPr06aO+ffvqt99+07333itJ2rlzp9544w316dPH5HQAgBuxq7D/8ssva8iQIbp48aIMw9CuXbsUFxenKVOm6P333y/sjAAAF/P2229r69atmjZtmgYNGqTAwEC1bt1aERERat26tfUEokBJtGrVKrVt21aXLl3S6dOnrQV9SSpdurRWrVplXjjgFpQvX14Wi8V6bBiGzpw5I29vb3300UcmJgOKTpUqVSRJiYmJ6tSpU57+xMREm3FAcXrrrbcUFBSk6dOn6+jRo5KkypUra9SoURo5cqTJ6QAAN2LXHvuS9K9//UuTJk3SoUOHJElVq1bVxIkTr3myN2fC3m0AnE1JnreOHTumLVu2aN26dVq+fLmys7OtJ213FCX5+Ufxi4qK0vbt2+Xu7q6yZcsqKytL7u7uOnfunLKystSqVSvFxMSYHRNOzKw5a+HChTaFfTc3N1WsWFEtWrRQ+fLliy1HQTG3ozCwxz6Ky63OWenp6ZLksPMdczIAZ1Mc85ZdK/YlqX///urfv7/++usvZWdnq1KlSoWZCyhxUlJS1K9fP126dEmlS5fW/PnzVaNGDbNjAQ7r7Nmz2rZtm7Zu3ar4+Hjt27dPDRs2VOvWrc2OBhSZCxcuaPv27SpdurQ+++wzmyJPZmamOnbsqO3bt+vChQuccwJOp3fv3mZHAIpdmTJl1L17dy1btkzdunWTj4+PLl68KE9PT509e1bp6el66qmnKOrDdBTLAcD52F3Yv3z5suLj4/Xf//5XPXv2lHRlX0A/Pz/5+PgUWkCgJLj//vttTj506dIlPfPMM3Jzc9NXX31lYjLAMbVo0UJJSUlq0KCBIiIiNGbMGN13330qV66c2dGAIjV37lxJUvfu3fMUecqUKaPHH39ccXFxmjt3roYNG2ZCQuDmJCUlFXhsaGhoESYBzDNo0CCtW7dO6enp1lXROXx8fDRo0CCTksEVNWnSxObbU9fzzTffFHEaAMCtsKuwf/DgQT388MNKSUlRRkaG2rZtK19fX02dOlUXL17UnDlzCjsn4LRyF/W9vb3Vr18/zZ8/X+fPn1d2drbuv/9+ivvAVQ4cOCBvb2/Vrl1btWvXVp06dSjqwyX8+eefkqQOHTrk29+hQwfFxcVZxwGOrnHjxrJYLMrZ/fN6xSRH22YNKCyRkZE6e/asJKlGjRqqWbOmDh48qJSUFJ09e1aRkZFasmSJySnhKh555BGzIwAAColdhf0XX3xRTZs21bfffqsKFSpY2x999FE9++yzhRYOcHYpKSnWov6///1v65ZVjz32mI4fP64nnnhC2dnZSklJYVseIJeTJ08qKSlJ8fHx2rx5syZMmCA3Nze1bt1abdq0YWUbSqxq1appz549Wr9+vQYMGJCnf/369dZxgDNITk62Xt+3b59eeuklvfzyywoLC5N05cShb7/9tqZOnWpWRKBIpaWl6fDhw5KuzOHe3t7WvvPnz6tDhw46fPiw0tLS5O/vb1ZMuJAJEyaYHQEAUEjc7LnRtm3bNHbs2DxfEa9Zs6b1TQsAWU8m7e3tnec8FJUqVbK+sS8JJ50GCltoaKheeOEFrVy5Up9//rnat2+vVatWaciQIWZHA4rMwIEDJUkrVqxQZmamTV9mZqY+/vhjm3GAo6tZs6b1MnnyZL377rsaOHCgQkNDFRoaqoEDByo2Nlavv/662VGBIhEVFSVJat68uU1RX7ryN0KzZs1sxgEAABSUXYX97OzsfL8q++eff8rX1/eWQwElxaVLlyRdu3D/zDPP2IwDcMW+ffs0ffp0de3aVQEBAbr33nv13Xff6cUXX9TatWvNjgcUGS8vL7Vq1UqXLl1Sx44dNXfuXB06dEhz585Vx44ddenSJbVq1YoT58IpfffddwoODs7THhwcrB9//NGEREDRO3bsmKT/ve+/2tNPP20zDihqAQEB+uuvvyRJ5cuXV0BAwDUvAADHZtdWPG3btlVsbKzmzZsn6cpemWfPntWECROuuScs4IpKly6tS5cuaf78+Xrsscfy9C9evNg6DsD/NGvWTE2aNFHr1q3Vv39/hYeHy8/Pz+xYQLGIiYlRVFSUtm/frri4OMXFxVn7WrVqpZiYGBPTAfa76667NGnSJM2fP1+enp6SpIyMDE2aNEl33XWXyemAohEYGKgTJ05o8eLF+W459eGHH1rHAcVh+vTp1gWZsbGx5oYBANwSi5FzJqubcOTIEbVp00bu7u46cOCAmjZtqgMHDui2225TQkJCni1HnE16err8/f2VlpZGIQm3JCUlxbo6J/ce+5Kse+xLVwr87LGPW1HS5q309PQCPY64uDh16dJFZcuWLYZU11bSnn84hgsXLmju3Ln6888/Va1aNQ0cOJCV+igUZs1Zu3btUufOnZWdna1GjRpJkr799ltZLBatW7dOzZs3L7YsBcHcjsKQlpamrl27Srr2HvuS9Mknn7DHPm5JSZ+zSvrjA1DyFMe8ZdeK/SpVqmj//v2Ki4vTN998o+zsbPXr10+RkZH8wQnkUqNGDbm5uSk7O1tPPPGEvL299cwzz2jx4sU6f/68JMnNzY2iPnCVgr7oDRw4UC1atFDt2rWLOBFQ/Ly8vDRs2DCzYwCFpnnz5kpOTtZHH32kn3/+WYZh6Mknn1TPnj1N/4AWKCr+/v6qWrWqDh8+rA4dOqhZs2Z6+umn9eGHH2r37t2SpKpVq1LUh2mys7P122+/6fjx48rOzrbpCw8PNykVAKAg7FqxX9LxSTAK2/3335/nTZJ0paj/1VdfmZAIJY2rzlu+vr769ttvTS/su+rzD8A5mT1n/fjjj0pJSclzguguXboUe5brMft5QskSGRmpw4cP52mvWrWqlixZYkIilDT2zFk7d+5Uz549dfDgQV1dGrJYLPmeW9EszMkAnI1Dr9iPiIiwXu64447CzgWUKF999ZVSUlLUr18/Xbp0SaVLl9b8+fNZqQ8AAFzG77//rkcffVTfffedLBaLDMOQxWKx9jtSAQkobEuWLFFaWpqioqJ07NgxBQYGKiYmhpX6MNWgQYPUtGlTffbZZ6pcubLNnAwAcHx2Ffbffvttbd26VdOmTdOgQYMUGBio1q1bKyIiQq1bt+bkV0A+atSooU2bNpkdAwAAwBQvvviigoODtXnzZtWuXVv/+c9/dPLkSY0cOVJvvfWW2fGAIufv768ZM2aYHQOwOnDggD7++GPVqVPH7CgAADvYVdjv0aOHevToIUk6duyYtmzZonXr1un5559XdnY2q20AAAAA2EhMTNRXX32lihUrys3NTe7u7vrHP/6hKVOm6IUXXtC+ffvMjggALqVFixb67bffKOwDgJOyq7AvSWfPntW2bdu0detWxcfHa9++fWrYsKFat25dmPkAAAAAlABZWVny8fGRJN122206cuSI7rzzTtWsWVO//PKLyekAwDUkJSVZrz///PMaOXKkUlNT1bBhQ5UuXdpmbGhoaHHHAwDcBLsK+y1atFBSUpIaNGigiIgIjRkzRvfdd5/KlStXyPEAALi2mjVr5vkDBCgpTpw4oaFDhyotLc26fUPFihXNjgXYrUGDBkpKSlLt2rXVokULTZ06VWXKlNG8efNMPwk6ALiKxo0bW89zkqNv377W67nPgcJuDADg2Owq7B84cEDe3t6qXbu2ateurTp16lDUBwAUuszMTB0/flzZ2dk27Tknnv7+++/NiAUUuU6dOuns2bPW44sXL6p79+7y8fHRunXrTEwG2G/s2LE6d+6cJGnSpEnq1KmT7rvvPlWoUEHLly83OR0AuIbk5GSzIwAAColdhf2TJ08qKSlJ8fHx2rx5syZMmCA3Nze1bt1abdq00aBBgwo7JwDAhRw4cEB9+/bVjh07bNpZPQRXkLuoX6tWLQ0YMEDz5s3TH3/8obNnz6pTp04U9+GUHnroIev12rVr68cff9TJkydVvnx5WSwWE5MBgOuoWbOm9fqUKVMUGBhos2Jfkj744AOdOHFCr7zySnHHAwDcBLv32A8NDVVoaKheeOEF7d27VzNmzNBHH32kjz/+mMI+AOCW9O7dW6VKldK6detUuXJlCj5wGSdOnLAW9deuXSs/Pz9JUsuWLZWenq4uXbro7NmzOnHiBNvyoEQICAgwOwIAuKy5c+dq6dKledrr16+vp556isI+ADg4uwr7+/btU3x8vOLj4/X111/rzJkzatSokV588UW1adOmsDMCAFzM/v37tXfvXtWrV8/sKECxGjp0qKQrK/Vzivo5/Pz8VLNmTR08eFBDhw5l6xIAAHBLUlNTVbly5TztFStW1NGjR01IBAC4GXYV9ps1a6YmTZqodevW6t+/v8LDw/P88QkAgL1CQkL0119/mR0DKHZpaWmSpAEDBuTb369fP40fP946DgAAwF7Vq1fX9u3bFRwcbNO+fft2ValSxaRUAICCsnuP/YIU8uPi4tSlSxeVLVvWnh8DAHBRb775pkaNGqXJkyerYcOGKl26tE0/HyajpPL399fFixc1b948tWzZMk///PnzreMAAABuxbPPPqthw4bp0qVLuv/++yVJX375pUaNGqWRI0eanA4AcCN2FfYLWlAZOHCgWrRoodq1a9vzYwAALurBBx+UJD3wwAM27Zw8FyXdjBkz1L17d/3xxx9KT0+3ec+Vnp6ugwcPWscBAADcilGjRunkyZMaPHiwMjMzJUmenp565ZVXNHr0aJPTAQBuxO6T5xaEYRhFefeAU5k6darWr19vPe7QoYNGjRplYiLAcW3ZssXsCIApKlasKB8fH509e1ZdunTJd4yPjw8nzgUAALfMYrHozTff1Lhx4/TTTz/Jy8tLdevWlYeHh9nRAAAFUKSFfQBXRERE5Glbv3691q9fr/j4+GLPAzi61q1bmx0BMM26devyfd3I3Q8AAFBYfHx81KxZM7NjAABuEoV9oIhdrziT009xH5CSkpLUoEEDubm5KSkp6bpjQ0NDiykVUPyuft1wd3e32X6K1w0AAAAAAIV9oAhNnTrVer1fv356+umnrccffvih9SSIU6dOZVseuLzGjRsrNTVVlSpVUuPGjWWxWPLd0o099lGS/frrr9brixcvVo0aNazHKSkpeuaZZ6zj7rjjjmLPBwAAAABwDG5mBwBKstx76ucu6l99nHsc4KqSk5Ot+4YnJyfr999/V3Jycp7L77//bnJSoOgMGDBAkuTm5mZT1JekGjVqyM3NzWYcAAAAAMA1FemK/Zo1a6p06dJF+SMAACVEzZo1871+PR07dtT777+vypUrF1UswBRPPPFEvu2PPvqoVq5cWcxpAAAAAACO5pYK+5mZmTp+/Liys7Nt2nNWmH3//fe3cvcAAFxXQkKCLly4YHYMoND9+9//1qBBg/K0r1692oQ0AAAAAABHY9dWPAcOHNB9990nLy8v1axZU8HBwQoODlatWrUUHBxc2BkBp9WhQwfr9Q8//NCmL/dx7nEAANc1b948SVJ2drZSUlJs+lJSUqyLKXLGAQAAAABck10r9nv37q1SpUpp3bp1qly5siwWS2HnAkqEUaNGWffPnz9/vvVkufmNAwAg9wlxn3nmGbm5uenRRx/V6tWrbb4hyYlzAQAAAMC12VXY379/v/bu3at69eoVdh6gxImPj1dERMR1+wEAyJH7dSM7OzvPnvq8bgAAAAAA7NqKJyQkRH/99VdhZwFKrPj4+Dzb7XTo0IHiDFDEpkyZombNmsnX11eVKlXSI488ol9++cVmjGEYmjhxoqpUqSIvLy9FRETohx9+MCkxAAAAULJNmTJFFotFw4YNMzsKADg1uwr7b775pkaNGqX4+Hj9/fffSk9Pt7kAyCvndybnwvY7QNHbunWrhgwZop07d2rTpk26fPmy2rVrp3PnzlnHTJ06VdOmTdOMGTO0e/duBQUFqW3btjpz5oyJyeHKrv6WV0BAwHX7AQAAnMXu3bs1b948hYaGmh0FAJyeXYX9Bx98UDt37tQDDzygSpUqqXz58ipfvrzKlSun8uXLF2rAWrVqyWKx5LkMGTIk3/Hx8fH5jv/5558LNRcAwHxjxozJU/TMbcOGDerdu7fq16+vRo0aacGCBUpJSdHevXslXVmtHxsbq6ioKHXr1k0NGjTQokWLdP78eS1durS4HgZglfvfXc4HwqtWrcrzgTD/PgEAgLM5e/asIiMj9a9//avQa0cA4Irs2mN/y5YthZ3jmnbv3q2srCzr8ffff6+2bduqe/fu173dL7/8Ij8/P+txxYoViywjAKBwLVq0SLfddps6duwo6UqBc968eQoJCVFcXJxq1qwpSRo9evRN3W9aWpqk/62ATk5OVmpqqtq1a2cd4+HhodatW2vHjh0aOHBgvveTkZGhjIwM6zHfVkNhmTdvnvV6flu4TZ061TquZ8+exZoNAADgVgwZMkQdO3bUgw8+qEmTJl13LO+3AeDG7Crst27durBzXNPVBfk33nhDt99++w0zVKpUSeXKlSvCZACAojJ58mTNnj1bkpSYmKgZM2YoNjZW69at0/Dhw7Vq1aqbvk/DMDRixAj94x//UIMGDSRJqampkqTAwECbsYGBgTp48OA172vKlCmKjo6+6QxAQV3rmyj+/v7WD6gAAACcxbJly/TNN99o9+7dBRrP+20AuLECF/aTkpLUoEEDubm5KSkp6bpji2qvtMzMTH300UcaMWKELBbLdcc2adJEFy9eVEhIiMaOHas2bdpccyyfBAOAYzl06JDq1KkjSVqzZo0ef/xxDRgwQK1atbJ7f/GhQ4cqKSlJ27Zty9N39WuKYRjXfZ0ZPXq0RowYYT1OT09X9erV7coF5OfkyZP5tlPUBwAAzubQoUN68cUXtXHjRnl6ehboNrzfBoAbK3Bhv3HjxkpNTVWlSpXUuHFjWSwWGYaRZ5zFYrHZOqcwrVmzRqdPn1bv3r2vOaZy5cqaN2+e7rnnHmVkZOjDDz/UAw88oPj4eIWHh+d7Gz4JBgDH4uPjo7///ls1atTQxo0bNXz4cEmSp6enLly4cNP39/zzz2vt2rVKSEhQtWrVrO1BQUGSrqzcr1y5srX9+PHjeVbx5+bh4SEPD4+bzgHcyIABA6zb8axfv95mO57169fbjAMAAHAGe/fu1fHjx3XPPfdY27KyspSQkKAZM2YoIyND7u7uNrfh/TYA3JjFyK86n4+DBw+qRo0aslgs192eQJJ17+PC9tBDD6lMmTL69NNPb+p2nTt3lsVi0dq1a/Ptz2/FfvXq1ZWWlmazTz8AOKr09HTrFh0lYd6KjIzUzz//rCZNmiguLk4pKSmqUKGC1q5dqzFjxuj7778v0P0YhqHnn39eq1evVnx8vOrWrZunv0qVKho+fLj1xKSZmZmqVKmS3nzzzWvusX+1kvb8w1wF+VZKfHx8kedAycWcVTA8TwCciSPPWWfOnMlTR+rTp4/q1aunV155xbpN5vU48uMDgPwUx7xV4BX7uYv1BS3cd+zYUe+//77NKkh7HTx4UJs3b7ZrX+V7771XH3300TX7+SQYABzLzJkzNXbsWB06dEgrV65UhQoVJF1Z7dOjR48C38+QIUO0dOlSffLJJ/L19bXuqe/v7y8vLy9ZLBYNGzZMkydPVt26dVW3bl1NnjxZ3t7enJgUpomPj79ucZ+iPgAAcCa+vr55ivdly5ZVhQoVClTUBwDkz66T5xZUQkKCXVsm5GfBggWqVKmSOnbseNO33bdvX6F8uAAAKB7lypXTjBkz8rTf7LZpOSfgvbpIumDBAuu2bqNGjdKFCxc0ePBgnTp1Si1atNDGjRvl6+trV3bgVt1oxX5ERATFfQAAAABwcUVa2C8s2dnZWrBggXr16qVSpWwjjx49WocPH9bixYslSbGxsapVq5bq169vPdnuypUrtXLlSjOiAwDsUKtWLfXt21d9+vS5pZNkFWS3OYvFookTJ2rixIl2/xygsCxcuNB6feTIkercubP1+NNPP9Xbb79tHXe9cw4BAAA4MhYpAMCtczM7QEFs3rxZKSkp6tu3b56+o0ePKiUlxXqcmZmpl156SaGhobrvvvu0bds2ffbZZ+rWrVtxRgYA3IKRI0fqk08+UXBwsNq2batly5bZnAsFKKlyF/ZzF/WvPs49DgAAAADgepyisN+uXTsZhqE77rgjT9/ChQttPukdNWqUfvvtN124cEEnT57U119/rQ4dOhRjWiB/SUlJioiIsF6SkpLMjgQ4rOeff1579+7V3r17FRISohdeeEGVK1fW0KFD9c0335gdDyhy/v7++bb7+PgUcxIAAAAAgCNyisI+4OwiIiL0wgsv2LS98MILN9xHGXB1jRo10jvvvKPDhw9rwoQJev/999WsWTM1atRIH3zwQYG22gGcUVpaWr7tZ8+eLeYkAAAAAABHRGEfKGJXF+8feuih6/YD+J9Lly7p3//+t7p06aKRI0eqadOmev/99/XEE08oKipKkZGRZkcEClXuffM//fRTm77cx+yvDwDOJzMzUytWrNA777yjFStWKDMz0+xIAADAiRXpyXPHjBmjgICAovwRgEPLvd3OvHnzrNtJjR49Wr/++qsGDBhgHRcaGmpKRsARffPNN1qwYIHi4uLk7u6up59+WtOnT1e9evWsY9q1a6fw8HATUwKFr3fv3tb9899++229/fbb8vHxybNSn8I+XNmUKVO0atUq/fzzz/Ly8lLLli315ptv6s4777SOMQxD0dHRmjdvnk6dOqUWLVpo5syZql+/vonJ4crmzJmjFStWKCsry6ate/fuGjRokInJAACAs7Jrxf6iRYv02WefWY9HjRqlcuXKqWXLljp48KC1ffTo0SpXrtwthwScVe7td64+R0Tu46u36QFcXbNmzXTgwAHNnj1bf/75p9566y2bor4khYSE6KmnnjIpIVB0cp87SMq7/c7V/YCr2bp1q4YMGaKdO3dq06ZNunz5stq1a6dz585Zx0ydOlXTpk3TjBkztHv3bgUFBalt27Y6c+aMicnhqubMmaNly5bJz89PL730klauXKmXXnpJfn5+WrZsmebMmWN2RAAA4ITsKuxPnjxZXl5ekqTExETNmDFDU6dO1W233abhw4cXakCgJLh6+50c999/fzEnAZzD77//rg0bNqh79+4qXbp0vmPKli2rBQsWFHMyoHhc6xuPfBMSkDZs2KDevXurfv36atSokRYsWKCUlBTt3btX0pXV+rGxsYqKilK3bt3UoEEDLVq0SOfPn9fSpUtNTg9Xk7P9Tvny5bVixQp16tRJFSpUUKdOnWza2ZYHAADcLLsK+4cOHVKdOnUkSWvWrNHjjz+uAQMGaMqUKfr6668LNSBQEnzxxRf5tn/11VfFnARwDjVr1jQ7AmCabt266eTJk5KufDPl7bffVkhIiCTp5MmT6tatm5nxAIeTc7LpnA++kpOTlZqaqnbt2lnHeHh4qHXr1tqxY8c17ycjI0Pp6ek2F+BWffLJJ8rKylK/fv1UqpTtTrilSpVS3759lZWVpU8++cSkhAAAwFnZVdj38fHR33//LUnauHGjHnzwQUmSp6enLly4UHjpACf37rvvWq//+uuvNn25j3OPAyBlZWXprbfeUvPmzRUUFKSAgACbC1BSnTx50lrUX7dunWbNmqV77rlHs2bN0rp16/KMAVydYRgaMWKE/vGPf6hBgwaSpNTUVElSYGCgzdjAwEBrX36mTJkif39/66V69epFFxwu48iRI5KksLCwfPtz2nPGAQAAFJRdhf22bdvq2Wef1bPPPqtff/1VHTt2lCT98MMPqlWrVmHmA5xa7hPiDhgwQBEREXrttdcUERFhPXHu1eMASNHR0Zo2bZqeeOIJpaWlacSIEerWrZvc3Nw0ceJEs+MBRWbEiBGSrqzU9/Hxsenz8fHRXXfdZTMOcHVDhw5VUlKS4uLi8vRZLBabY8Mw8rTlNnr0aKWlpVkvhw4dKvS8cD1VqlSRdGUL2/zktOeMAwAAKCi7CvszZ85UWFiYTpw4oZUrV6pChQqSpL1796pHjx6FGhBwdlef5PDq7Xc4CSKQ15IlS/Svf/1LL730kkqVKqUePXro/fff1/jx47Vz506z4wFFJucbkf369cu3v0+fPjbjAFf2/PPPa+3atdqyZYuqVatmbQ8KCpKkPKvzjx8/nmcVf24eHh7y8/OzuQC3qmvXrnJ3d9f8+fN1+fJlm77Lly/rgw8+kLu7u7p27WpSQgAA4KzsKuyXK1dOM2bM0CeffKKHH37Y2h4dHa2oqKhCCweUFPHx8Xm223n33Xcp6gPXkJqaqoYNG0q6sko5Z//kTp066bPPPjMzGlCkchZLzJ8/P9/+nBNG54wDXJFhGBo6dKhWrVqlr776SsHBwTb9wcHBCgoK0qZNm6xtmZmZ2rp1q1q2bFncceHiypQpo+7du+vUqVPq3r27Pv30U/3111/69NNPbdrLlCljdlQAAOBkSt14SF61atVS37591adPH/aeBAooNDSUQj5QQNWqVdPRo0dVo0YN1alTRxs3btTdd9+t3bt3y8PDw+x4QJGZNm2aunXrph9//FFnz5612Y7n7Nmz+umnn6zjAFc1ZMgQLV26VJ988ol8fX2tK/P9/f3l5eUli8WiYcOGafLkyapbt67q1q2ryZMny9vbWz179jQ5PVzRoEGDJEkrVqzQ22+/bW13d3fXU089Ze0HAAC4GXYV9keOHKmFCxfqtddeU5s2bdSvXz89+uijFFsAAIXi0Ucf1ZdffqkWLVroxRdfVI8ePTR//nylpKRo+PDhZscDikzOCaJPnjypTp06qWzZsipbtqzOnTunc+fO2YwBXNXs2bMlSRERETbtCxYsUO/evSVJo0aN0oULFzR48GCdOnVKLVq00MaNG+Xr61vMaYErBg0apL59++qTTz7RkSNHVKVKFXXt2pWV+gAAwG4WwzAMe2/87bff6oMPPlBcXJwuX76snj17qm/fvrr77rsLM2OxS09Pl7+/v9LS0thbE4BTKOnz1n/+8x9t375dderUUZcuXcyOk0dJf/5R/B544AFlZWXlaXd3d9eXX35pQiKUJMxZBcPzBMCZlPQ5q6Q/PgAlT3HMW3btsZ+jUaNGeuedd3T48GFNmDBB77//vpo1a6ZGjRrpgw8+0C18ZgAAcGEJCQk2J5hr0aKFRowYoQ4dOighIcHEZEDRGzRokLWo7+3tbb1IUlZWFls2AAAAAADs24onx6VLl7R69WotWLBAmzZt0r333qt+/frpyJEjioqK0ubNm7V06dLCygoAcBFt2rTR0aNHValSJZv2tLQ0tWnTJt+VzEBJcPbsWf3888+yWCz6/PPP5enpae27ePGi2rdvr59//jnP/vsAAAAAANdiV2H/m2++0YIFCxQXFyd3d3c9/fTTmj59uurVq2cd065dO4WHhxdaUACA6zAMQxaLJU/733//rbJly5qQCCgeU6ZMkSS1bdvWpqgvSZ6ennrwwQe1adMmTZkyRTExMWZEBAAAAAA4ALsK+82aNVPbtm01e/ZsPfLIIypdunSeMSEhIXrqqaduOSAAwHV069ZNkmSxWNS7d2+bk7JnZWUpKSlJLVu2NCseUOSOHDkiSXriiSfy7e/evbs2bdpkHQcAAAAAcE12FfZ///131axZ87pjypYtqwULFtgVCgDgmvz9/SVdWbHv6+srLy8va1+ZMmV07733qn///mbFA4pclSpVlJycrH//+98aM2ZMnv4VK1ZYxwEAAAAAXJddhf0bFfUBALBHzgfCFStW1MSJE60nDP3jjz+0Zs0a3XXXXbrtttvMjAgUqdGjR6tTp07atGmTRowYkWeP/c2bN1vHAQAAAABcl5s9N8rKytJbb72l5s2bKygoSAEBATYXAABuxb59+7R48WJJ0unTp3Xvvffq7bff1iOPPKLZs2ebnA4oOj4+PqpXr54Mw1D79u0VExOjX3/9VTExMWrfvr0Mw1C9evU4cS4AAAAAuDi7CvvR0dGaNm2annjiCaWlpWnEiBHq1q2b3NzcNHHixEKOCABwNfv27dN9990nSfr4448VGBiogwcPavHixXr33XdNTgcUrTlz5liL+5s2bdKAAQO0adMma1F/zpw5ZkcEAAAAAJjMrq14lixZon/961/q2LGjoqOj1aNHD91+++0KDQ3Vzp079cILLxR2TsDpRURE5GmLj48v9hyAMzh//rx8fX0lSRs3brR+eHzvvffq4MGDJqcDit7PP/98U+0AAAAAANdi14r91NRUNWzYUNKVr4ynpaVJkjp16qTPPvus8NIBJUR+Rf3rtQOurk6dOlqzZo0OHTqkL774Qu3atZMkHT9+XH5+fianA4pW7tcGi8Wixx57TBaLJd9+AAAAAIBrsquwX61aNR09elTSleLLxo0bJUm7d++Wh4dH4aUDSoAbFWAo0AB5jR8/Xi+99JJq1aqlFi1aKCwsTNKV1ftNmjQxOR1QdHKvyF+4cKG2bNmi559/Xlu2bNHChQvzHQcAAAAAcD12FfYfffRRffnll5KkF198UePGjVPdunX1zDPPqG/fvoUaEHBmuYv2ZcqUUXx8vPVSpkyZfMcBkB5//HGlpKRoz5492rBhg7X9gQce0PTp001MBhStQYMGSbqyUr9WrVo2fbVq1bKu3M8ZBwAAAABwTXbtsf/GG29Yrz/++OOqXr26tm/frjp16qhLly6FFg4oSXK+2ZL7mII+cG1BQUEKCgqyaWvevLlJaYDi1a1bt3zbO3furLVr1xZzGgAAAACAo7FrxX5CQoIuX75sPW7RooVGjBihDh06KCEhodDCAQAAuKJVq1bl2/7pp58WcxIAAAAAgCOyq7Dfpk0bnTx5Mk97Wlqa2rRpc8uhAAAAXNGcOXMkSYZh6I8//rDp++OPP2QYhs04AAAAAIBrsmsrHsMwrHu85vb333+rbNmytxwKKInatWtnsx1Pu3btTEwDAHBE9erVs17v3bt3gcYBAAAAuHljxozRjh07rMctW7bU5MmTTUwE3JybKuzn7PdqsVjUu3dveXh4WPuysrKUlJSkli1bFm5CwInFx8db99HPzMy85p768fHxxZYJAODYcr92XKsfAAAAgP3ye7+9Y8cORURE8H4bTuOmtuLx9/eXv7+/DMOQr6+v9djf319BQUEaMGCAPvroo6LKCjilG70g8IIBAMjtRidW58TrAAAAgP14v42S4qZW7C9YsECSVLFiRU2cOFHe3t6Sruz5umbNGt1111267bbbCj8l4OSutfqSoj4AILfhw4dbr3fo0EGjRo2yHk+dOlXr16+3jps+fXqx5wMAAACc2ZgxY6zXH3vsMT3//PPW4/fee08rV660jmNbHjg6u/bY37dvnxYvXqxBgwbp9OnTuvfee1W6dGn99ddfmjZtmp577rnCzgk4PYr4AIAb2bdvn/V67qJ+znFOYT/3OAAAAAAFk3tP/dxF/ZzjnMJ+7nGAo7qprXhy7Nu3T/fdd58k6eOPP1ZgYKAOHjyoxYsX69133y3UgAAAAAAAAAAA4H/sKuyfP39evr6+kqSNGzeqW7ducnNz07333quDBw8WakAAAAAAAAAAAPA/dhX269SpozVr1ujQoUP64osv1K5dO0nS8ePH5efnV6gBAQAAXEWTJk2s16dOnWrTl/s49zgAAAAABdOyZUvr9ffee8+mL/dx7nGAo7IYhmHc7I0+/vhj9ezZU1lZWXrggQe0ceNGSdKUKVOUkJCgzz//vNCDFqf09HT5+/srLS2NDyoAOAXmLXPx/KMw5Xey9atx3hbcCuasguF5AuBMSvqcVdIfH4oX77dRHIpj3rJrxf7jjz+ulJQU7dmzRxs2bLC2P/DAA5o+fXqhhQMAAHA1N/ojgj8yAAAAAPvxfhslhV2FfUkKCgpSkyZN5Ob2v7to3ry56tWrVyjBAAAAAAAAAKCwxcfH59lup2XLlhT14VRKmR0AAAAA/3P1V4OrVaumP//806afPzgAAACAWzN58mSzIwC3hMI+AACAg1i7dq31+tixY/Xggw9ajzdv3qxJkyZZx3Xp0qXY8wEAAAAAHIPdW/EAAACgcE2bNs16PXdR/+rj3OMAAAAAAK6Hwj4AAICDqVatWr7tgYGBxZwEAAAAAOCIKOwDAAA4mNx76ud27NixYk4CAAAAAHBEFPYBAAAcxIgRI6zXN2/ebNOX+zj3OAAAAACA63H4wv7EiRNlsVhsLkFBQde9zdatW3XPPffI09NTtWvX1pw5c4opLQAAgP1ynxB30qRJioiIsF5yTpx79TgAAAAAgOtx+MK+JNWvX19Hjx61Xr777rtrjk1OTlaHDh103333ad++fRozZoxeeOEFrVy5shgTAwAA2Cc+Pv6W+gEAAAAAJV8pswMURKlSpW64Sj/HnDlzVKNGDcXGxkqS7rrrLu3Zs0dvvfWWHnvssSJMCQAAcOsiIiJu2E9xHwAAAABcm1MU9g8cOKAqVarIw8NDLVq00OTJk1W7du18xyYmJqpdu3Y2bQ899JDmz5+vS5cuqXTp0nluk5GRoYyMDOtxenp64T4AXNPFixeVkpJidgwUgxo1asjT09PsGADg0BISEqzXp06dqubNm1uPd+3apVGjRlnHhYeHF3s+AAAAAIBjcPjCfosWLbR48WLdcccdOnbsmCZNmqSWLVvqhx9+UIUKFfKMT01NVWBgoE1bYGCgLl++rL/++kuVK1fOc5spU6YoOjq6yB4Dri0lJUUDBgwwOwaKwbx583THHXeYHQMAHNr48eOt13MX9a8+Hj9+PKv2AQAAAMCFOXxhv3379tbrDRs2VFhYmG6//XYtWrRII0aMyPc2FovF5tgwjHzbc4wePdrmvtLT01W9evVbjY4CqFGjhubNm2d2jGJz8OBBxcTEKCoqSjVr1jQ7TrGqUaOG2REAwGk0bNgw3/Z69erp559/LuY0AAAAAABH4/CF/auVLVtWDRs21IEDB/LtDwoKUmpqqk3b8ePHVapUqXxX+EuSh4eHPDw8Cj0rbszT09MlV3HXrFnTJR83AKBgvvvuu3zbKeoDAAAAACTJzewANysjI0M//fRTvlvqSFJYWJg2bdpk07Zx40Y1bdo03/31AQAAHMVrr71mvb5r1y6bvtzHuccBAAAAAFyPw6/Yf+mll9S5c2fVqFFDx48f16RJk5Senq5evXpJurKNzuHDh7V48WJJ0qBBgzRjxgyNGDFC/fv3V2JioubPn6+4uDgzHwYAAMAN5T4hbs6JcvPbfocT5wIAAACAa3P4Fft//vmnevTooTvvvFPdunVTmTJltHPnTuv+5EePHlVKSop1fHBwsNavX6/4+Hg1btxYr7/+ut5991099thjZj0EAACAArv6pLhXF/U5aS4AAAAAwOFX7C9btuy6/QsXLszT1rp1a33zzTdFlAgAAAAAAAAAAPM4/Ip9AAAAVxIREWFzXL58+ev2AwAAAABcD4V9AAAAB/HRRx9Zr7/88suKj4/X6tWrFR8fr5dffjnfcQAAAAAA10NhHwAAwEG8//771usdO3a06ct9nHscAAAAAMD1UNgHAABwMFdvv5PDz8+vmJMAAAAAABwRhX0AAAAHc+rUqXzb09PTizkJAAAAAMARUdgHAABwEM8++6z1+meffWbTl/s49zgAAAAAgOspZXYAAAAAXPF///d/1v3z//nPf+qf//znNccBAAAAAFwXK/YBAAAcSHx8/C31AwAAAABKPgr7AAAADiQiIuKW+gEAAAAAJR+FfQAAAAcxbdo06/WBAwcqPj7eehk4cGC+4wAAAAAArofCPgAAgINYu3at9XqPHj1s+nIf5x4HAAAAAHA9FPYBAAAcjLu7u9kRAAAAAAAOjMI+AACAg8nKyjI7AgAAAADAgVHYBwAAcBBdunSxXo+Li7Ppy32cexwAAAAAwPWUMjsAAAAArhgxYoR1//y5c+dq7ty51xwHAAAAwH4RERF52uLj44s9B2AvVuwDAAA4kBv9McEfGwAAAMCtya+of712wBFR2AcAlGgJCQnq3LmzqlSpIovFojVr1tj0G4ahiRMnqkqVKvLy8lJERIR++OEHc8ICuvEfE/yxAQAAnMmUKVPUrFkz+fr6qlKlSnrkkUf0yy+/mB0LLoz32ygpKOwDAEq0c+fOqVGjRpoxY0a+/VOnTtW0adM0Y8YM7d69W0FBQWrbtq3OnDlTzEmBvH9ExMfHWy/XGwcAAOCotm7dqiFDhmjnzp3atGmTLl++rHbt2uncuXNmR4ML4v02ShL22AcAlGjt27dX+/bt8+0zDEOxsbGKiopSt27dJEmLFi1SYGCgli5dqoEDB+Z7u4yMDGVkZFiP09PTCz84XN7Vf1zEx8fzBwYAAHA6GzZssDlesGCBKlWqpL179yo8PDzf2/B+G8WB99twdqzYBwC4rOTkZKWmpqpdu3bWNg8PD7Vu3Vo7duy45u2mTJkif39/66V69erFERcAAABwemlpaZKkgICAa47h/TYA3BiFfQCAy0pNTZUkBQYG2rQHBgZa+/IzevRopaWlWS+HDh0q0pwAAABASWAYhkaMGKF//OMfatCgwTXH8X4bAG6Mwj4AwOVZLBabY8Mw8rTl5uHhIT8/P5sLUNiu/howXwsGAADObujQoUpKSlJcXNx1x/F+G8WB99twduyxDwBwWUFBQZKurNyvXLmytf348eN5VvEDxeHqfT2v9cfF1fuBAgAcX1ZWlpKSknTy5EkFBAQoNDRU7u7uZscCis3zzz+vtWvXKiEhQdWqVTM7DlwU77dRkrBiHwDgsoKDgxUUFKRNmzZZ2zIzM7V161a1bNnSxGRwZTf6I4I/MgApISFBnTt3VpUqVWSxWLRmzRqbfsMwNHHiRFWpUkVeXl6KiIjQDz/8YE5YQFf+zUZGRmr48OF6/fXXNXz4cEVGRiohIcHsaECRMwxDQ4cO1apVq/TVV18pODjY7EhwcbzfRklBYR8AUKKdPXtW+/fv1/79+yVdOWHu/v37lZKSIovFomHDhmny5MlavXq1vv/+e/Xu3Vve3t7q2bOnucEBANd07tw5NWrUSDNmzMi3f+rUqZo2bZpmzJih3bt3KygoSG3bttWZM2eKOSlwpag/YcIE1a5dWzNnztT69es1c+ZM1a5dWxMmTKC4jxJvyJAh+uijj7R06VL5+voqNTVVqampunDhgtnR4MKuVbynqA9nwlY8AIASbc+ePWrTpo31eMSIEZKkXr16aeHChRo1apQuXLigwYMH69SpU2rRooU2btwoX19fsyLDxd1ob8+IiAj+4IDLa9++vdq3b59vn2EYio2NVVRUlLp16yZJWrRokQIDA7V06VINHDiwOKPCxWVlZWnWrFkKCwvTpEmT5OZ2ZW1d/fr1NWnSJI0dO1azZ89Wq1at2JYHJdbs2bMl5X2Ps2DBAvXu3bv4AwH/H++p4exYsQ8AKNEiIiJkGEaey8KFCyVdOXHuxIkTdfToUV28eFFbt25VgwYNzA0Nl3X1H7zx8fHWy/XGAfif5ORkpaamql27dtY2Dw8PtW7dWjt27Ljm7TIyMpSenm5zAW5VUlKSUlNTFRkZaS3q53Bzc1NkZKSOHj2qpKQkkxICRS+/9+KGYVDUB4BbRGEfAADAAV1dzGdFEVAwqampkpTnJOiBgYHWvvxMmTJF/v7+1kv16tWLNCdcw8mTJyXpmnuK57TnjAMAACgoCvsAAAAAShyLxWJzbBhGnrbcRo8erbS0NOvl0KFDRR0RLiAgIEDSlW+S5CenPWccAABAQVHYBwAAAFBiBAUFSVKe1fnHjx/Ps4o/Nw8PD/n5+dlcgFsVGhqqoKAgLVmyRNnZ2TZ92dnZWrJkiSpXrqzQ0FCTEgIAAGdFYR8AAMABXb2PPvvqAwUTHBysoKAgbdq0ydqWmZmprVu3qmXLliYmgytyd3fX4MGDlZiYqLFjx+qHH37Q+fPn9cMPP2js2LFKTEzUc889x4lzAQDATStldgAAAABcER8fb1PAv1Yxn/324erOnj2r3377zXqcnJys/fv3KyAgQDVq1NCwYcM0efJk1a1bV3Xr1tXkyZPl7e2tnj17mpgario8PFzR0dGaNWuWhgwZYm2vXLmyoqOjFR4ebmI6AADgrCjsAwAAOJCri/v59QOubs+ePWrTpo31eMSIEZKkXr16aeHChRo1apQuXLigwYMH69SpU2rRooU2btwoX19fsyLDxYWHh6tVq1ZKSkrSyZMnFRAQoNDQUFbqAwAAu1HYBwAAcCA32nInIiKC4j5cXkREhAzDuGa/xWLRxIkTNXHixOILBdyAu7u7mjRpYnYMAABQQrDHPgAAgIO4uqgfHx9vvVxvHAAAAADAtVDYBwAAcEBXF/NZpQ8AAAAAyEFhHwAAAAAAAAAAJ0JhHwAAAAAAAAAAJ0JhHwAAwAFdvY8+++oDAAAAAHKUMjsAAAAAroiPj7cp4F+rmM9++wAAAADg2lixDwAA4EBuVLSnqA8AAAAAoLAPAAAAAAAAAIATobAPAADgQG60lz577QMAAAAAKOwDAAA4iKuL9vHx8dbL9cYBAAAAAFwLhX0AAAAHdHUxn731AQAAAAA5HL6wP2XKFDVr1ky+vr6qVKmSHnnkEf3yyy/XvU18fLwsFkuey88//1xMqQEAAAAAAAAAKBoOX9jfunWrhgwZop07d2rTpk26fPmy2rVrp3Pnzt3wtr/88ouOHj1qvdStW7cYEgMAAAAAAAAAUHRKmR3gRjZs2GBzvGDBAlWqVEl79+5VeHj4dW9bqVIllStX7oY/IyMjQxkZGdbj9PR0u7ICAAAUloiICJvtd9hXHwAAAACQw+FX7F8tLS1NkhQQEHDDsU2aNFHlypX1wAMPaMuWLdccN2XKFPn7+1sv1atXL7S8AAAABZXfSXJzLtcbBwAAAABwLU5V2DcMQyNGjNA//vEPNWjQ4JrjKleurHnz5mnlypVatWqV7rzzTj3wwANKSEjId/zo0aOVlpZmvRw6dKioHgIAAMB13ahoT1EfAAAAAODwW/HkNnToUCUlJWnbtm3XHXfnnXfqzjvvtB6HhYXp0KFDeuutt/LdvsfDw0MeHh6FnhcAAMAe8fHx+W69Q1EfAAAAACA5UWH/+eef19q1a5WQkKBq1ard9O3vvfdeffTRR0WQDAAAoPBRxAcAAAAAXIvDF/YNw9Dzzz+v1atXKz4+XsHBwXbdz759+1S5cuVCTgcAAIrLxYsXlZKSYnYMFIMaNWrI09PT7BgAAAAA4LAcvrA/ZMgQLV26VJ988ol8fX2VmpoqSfL395eXl5ekK3vkHz58WIsXL5YkxcbGqlatWqpfv74yMzP10UcfaeXKlVq5cqVpjwMAANyalJQUDRgwwOwYKAbz5s3THXfcYXYMAChUWVlZSkpK0smTJxUQEKDQ0FC5u7ubHQsAADgphy/sz549W5Ly7DO7YMEC9e7dW5J09OhRmxV8mZmZeumll3T48GF5eXmpfv36+uyzz9ShQ4fiig0AAApZjRo1NG/ePLNjFKuDBw8qJiZGUVFRqlmzptlxik2NGjXMjgAAhSohIUGzZs2yLlSTpKCgIA0ePDjf88ABAADciMMX9g3DuOGYhQsX2hyPGjVKo0aNKqJEAADADJ6eni67irtmzZou+9gBwNklJCRowoQJCgsL07hx4xQcHKzk5GQtWbJEEyZMUHR0NMV9AABw09zMDgAAAAAAQEmUlZWlWbNmKSwsTJMmTVL9+vXl7e2t+vXra9KkSQoLC9Ps2bOVlZVldlQAAOBkHH7FPgAAAAAAzigpKUmpqakaN26c3Nxs19W5ubkpMjJSQ4YMUVJSkpo0aWJSSgBwTVdv+y1J8fHxxZ4DsBeFfQd07NgxpaWlmR0DReDgwYM2/0XJ5O/vr8DAQLNjAAAAwGQnT56UJAUHB+fbn9OeMw4AUDzyK+rntFPch7OgsO9gjh07pv97+hldyswwOwqKUExMjNkRUIRKl/HQRx8uprgPAADg4gICAiRJycnJql+/fp7+5ORkm3EAgKJ3raJ+7n6K+3AGFPYdTFpami5lZuhC7dbK9vQ3Ow6Am+R2MU36favS0tIo7AMAALi40NBQBQUFacmSJZo0aZLNdjzZ2dlasmSJKleurNDQUBNTAoDruLqon7uAn7uP4j6cAYV9B5Xt6a/ssreZHQMAAAAAYCd3d3cNHjxYEyZM0JgxY1S1alVlZGTIw8NDhw8f1n/+8x9FR0fL3d3d7KgA4HKuLtzHx8ffcDU/4Ego7AMAAAAAUETCw8PVsmVLbd++PU9fq1atFB4ebkIqAADg7CjsAwAAAABQRObMmaPt27erfPnyatu2rapWrarDhw9r06ZN2r59u+bMmaNBgwaZHRMAADgZCvsAAAAAABSBzMxMrVixQuXLl9eKFStUqtT//gQfMGCAunfvrhUrVqhv374qU6aMiUkBwPVcvY8+2/DA2bjdeAgAAAAAALhZn3zyibKystSvXz+bor4klSpVSn379lVWVpY++eQTkxICgGu5el/9iIgI6+V64wBHRGEfAAAAAIAicOTIEUlSWFhYvv057TnjAABF70ZFe4r6cBYU9gEAAAAAKAJVqlSRJCUmJubbn9OeMw4AUDyuVbynqA9nwh77AAAAAAAUga5du2rOnDmaP3++vvvuO33xxRfWvoceeki7du2Su7u7unbtamJKAHBNFPHh7FixDwAAAABAEShTpoy6d++uU6dO2RT1JemLL77QqVOn1L17d06cCwAAbhqFfQAAAAAAisiyZctuqR8AACA/bMUDAAAAAEAReOONN6zXn3nmGfn6+urIkSOqUqWKzpw5o8WLF1vHvfrqq2bFBAAATojCPgAAAAAARWDDhg3W63379s3Tn1PY37BhA4V9AABwU9iKBwAAAAAAAAAAJ0JhHwAAAAAAAAAAJ0JhHwAAAACAIvDwww9bry9atMimL/dx7nEAAAAFwR77AAAAAAAUgVdffdW6z/6CBQu0YMGCa44DAAC4GazYBwAAAACgiMTHx99SPwAAQH5YsQ8AgBM7duyY0tLSzI6BInLw4EGb/6Lk8ff3V2BgoNkxABShiIiIG/ZT3AcAADeLwj4AAE7q2LFj+r+nn9GlzAyzo6CIxcTEmB0BRaR0GQ999OFiivtACXV1UT93AT93H8V9AABwsyjsAwDgpNLS0nQpM0MXardWtqe/2XEA3CS3i2nS71uVlpZGYR9wAVcX7uPj42+4mh8AAOBaKOw7KLcLp82OAMAO/O7CDNme/soue5vZMQAAAAAAQDGhsO+gvJITzI4AAAAAAAAAAHBAFPYd1IXgcGV7lTM7BoCb5HbhNB/MAQAAII+r99FnGx4AAHArKOw7qGyvcmyrAAAAAABO7Op99K9VzOfEuQAA4Ga5mR0AAAAAAICS6kZFe4r6AADAHqzYBwDAyXHSZsA58bsLuI6rV+7nbgcAALAHhX0AAJwc53UAAMDxUcQHAACFicI+AABOjhOuA86JE67jWn777TclJyebHaNYnD9/Xv/973/NjoFicPvtt8vb29vsGMUiODhYderUMTsGAKCEo7APAICT44TrAFCyvPfee/r222/NjgHATo0aNdI777xjdgwAQAlHYR8AAAAAHMjzzz/Pin2UOK62Yh8AgKJGYR8AAAAAHEidOnXYxqME4uS5AACgMLmZHQAAAAAAgJIsv6L+9doBAABuhMI+AAAAAABF5EbFe4r7AADAHhT2AQAAAAAoAlcX7ePj462X640DAAC4EfbYBwDAybldTDM7AgA78LsLuJari/nx8fEU9AEAgN0o7AMA4KT8/f1VuoyH9PtWs6MAsFPpMh7y9/c3OwYAAAAAJ0NhHwAAJxUYGKiPPlystDRW/ZZUBw8eVExMjKKiolSzZk2z46AI+Pv7KzAw0OwYAAAAAJwMhX0AAJxYYGAgRUEXULNmTd1xxx1mxwAA3IKIiAib7XjYhgcAANwKCvsAAAAAABSBq/fRv1Yx/+r99wEAAG7EzewABTFr1iwFBwfL09NT99xzj77++uvrjt+6davuueceeXp6qnbt2pozZ04xJQUAOKubfa0BADg+5nY4ghsV7Snqw1UwJwNA4XL4wv7y5cs1bNgwRUVFad++fbrvvvvUvn17paSk5Ds+OTlZHTp00H333ad9+/ZpzJgxeuGFF7Ry5cpiTg4AcBY3+1oDAHB8zO1wFDfacocteeAKmJMBoPA5fGF/2rRp6tevn5599lndddddio2NVfXq1TV79ux8x8+ZM0c1atRQbGys7rrrLj377LPq27ev3nrrrWJODgBwFjf7WgMAcHzM7XAEVxft4+PjrZfrjQNKGuZkACh8Dr3HfmZmpvbu3atXX33Vpr1du3basWNHvrdJTExUu3btbNoeeughzZ8/X5cuXVLp0qXz3CYjI0MZGRnW4/T09EJIf2vcLqaZHaF4ZF+WW8ZZs1OgGGR7+EhuDj3lFAqX+d0tQex5rXHE1w1XcPHiRZdb1XXw4EGb/7qKGjVqyNPT0+wYcGLM7XBEVxfzr95/HyipnH1O/u2335ScnGzazy9O58+f13//+1+zY6AY3H777fL29jY7RrEIDg5WnTp1zI5RJBy6yvbXX38pKytLgYGBNu2BgYFKTU3N9zapqan5jr98+bL++usvVa5cOc9tpkyZoujo6MILfgv8/f1VuoyH9PtWs6MAsFPpMh7y9/c3OwYKyJ7XGkd63XAlKSkpGjBggNkxTBETE2N2hGI1b9483XHHHWbHgBNjbgcAx+Hsc/J7772nb7/91uwYAOzUqFEjvfPOO2bHKBIOXdjPYbFYbI4Nw8jTdqPx+bXnGD16tEaMGGE9Tk9PV/Xq1e2Ne0sCAwP10YeLlZbmGqt+MzIyrvlCjpIlKChIHh4eZscoFv7+/nnetMLx3cxrjSO9briSGjVqaN68eWbHQDGoUaOG2RFQQjC3A4DjcNY5+fnnn2fFPkocV1uxX1I5dGH/tttuk7u7e57C7/Hjx69ZNAsKCsp3fKlSpVShQoV8b+Ph4eFQBcfAwECXKgo2bNjQ7AgAXJg9rzWO9rrhKjw9PVnFDaBAmNvhiCIiImy242EbHrgKZ5+T69SpU2K38QDg3Bz65LllypTRPffco02bNtm0b9q0SS1btsz3NmFhYXnGb9y4UU2bNs13f30AgGuz57UGAODYmNvhKPI7SW7O5XrjgJKEORkAioZDr9iXpBEjRujpp59W06ZNFRYWpnnz5iklJUWDBg2SdOXrWYcPH9bixYslSYMGDdKMGTM0YsQI9e/fX4mJiZo/f77i4uLMfBgAAAd2o9caAIDzYW6Ho7jRSXIp6sMVMCcDQOFz+ML+k08+qb///luvvfaajh49qgYNGmj9+vWqWbOmJOno0aNKSUmxjg8ODtb69es1fPhwzZw5U1WqVNG7776rxx57zKyHAABwcDd6rQEAOB/mdjiSaxX3KerDVTAnA0Dhsxg5Z5aFVXp6uvz9/ZWWliY/Pz+z4wDADTFvmYvnH4AzYc4qGJ4nAM6kpM9ZJf3xASh5imPecug99gEAAAAAAAAAgC0K+wAAAAAAAAAAOBEK+wAAAAAAAAAAOBEK+wAAAAAAAAAAOBEK+wAAAAAAAAAAOBEK+wAAAAAAAAAAOBEK+wAAAAAAAAAAOBEK+wAAAAAAAAAAOBEK+wAAAAAAAAAAOBEK+wAAAAAAAAAAOBEK+wAAAAAAAAAAOBEK+wAAAAAAAAAAOBEK+wAAAAAAAAAAOJFSZgdwRIZhSJLS09NNTgIABZMzX+XMXyhevG4AcCa8ZhQMczsAZ1LS53bmZADOpjjmZQr7+Thz5owkqXr16iYnAYCbc+bMGfn7+5sdw+XwugHAGfGacX3M7QCcUUmd25mTATiropyXLUZJ/Tj3FmRnZ+vIkSPy9fWVxWIxOw5KkPT0dFWvXl2HDh2Sn5+f2XFQghiGoTNnzqhKlSpyc2OXteLG6waKCq8bKAq8ZhQMczuKAvM6ikpJn9uZk1FUmJdRVIpjXqawDxSj9PR0+fv7Ky0tjRcMAMAN8boBACUL8zoAOBbmZTizkvcxLgAAAAAAAAAAJRiFfQAAAAAAAAAAnAiFfaAYeXh4aMKECfLw8DA7CgDACfC6AQAlC/M6ADgW5mU4M/bYBwAAAAAAAADAibBiHwAAAAAAAAAAJ0JhHwAAAAAAAAAAJ0JhHwAAAAAAAAAAJ0JhHwAAAAAAAAAAJ0JhHwAAAAAAAAAAJ0JhHwAAAAAAAAAAJ0JhHwAAAAAAAAAAJ0JhHwAAAAAAAAAAJ0JhHwAAAAAAAAAAJ0JhH0Vi4cKFslgsNpeKFSsqIiJC69atMzueVa1atdS7d++bvt358+c1ceJExcfHF3qmP/74Qx07dlRAQIAsFouGDRt2zbEWi0VDhw4t1J9tsVj01ltv3XBszv/jP/74o9B+PuBKmCftdzPzpCPq3bu3atWqZXYMl3H1v+Gc17qFCxfe9H0dOXJEEydO1P79+/P0TZw4URaLxf6guC7mTPsxZxaP+Ph4WSwWffzxx8X+s3N+P/bs2XPdca48TxXl75iziIiIUERERKHep71zXknA65L9zKx5FFRBayM5c78zzC03U++B8yhldgCUbAsWLFC9evVkGIZSU1M1Y8YMde7cWWvXrlXnzp3Njme38+fPKzo6WpIK/c3R8OHD9Z///EcffPCBgoKCVLly5UK9/8LSsWNHJSYmOmw+wFkwT948Z5knr2XcuHF68cUXzY4BOxw5ckTR0dGqVauWGjdubNP37LPP6uGHHzYnmAthzrx5zJnI4crzVFH+jsG18bp085z9dSm3u+++W4mJiQoJCTE7ClwUhX0UqQYNGqhp06bW44cffljly5dXXFycU7/IFaXvv/9ezZs31yOPPGJ2lOuqWLGiKlasaHYMwOkxT9684ponL1y4IE9Pz0Jf3Xj77bcX6v3BMVSrVk3VqlUzO0aJx5x585gzkYN5Cih8vC7dPGepeRSEn5+f7r33XrNjwIWxFQ+Klaenp8qUKaPSpUvbtJ88eVKDBw9W1apVVaZMGdWuXVtRUVHKyMiQJF28eFFNmjRRnTp1lJaWZr1damqqgoKCFBERoaysLElXvq7r4+OjH374QQ888IDKli2rihUraujQoTp//vwNM6akpOj//u//VKlSJXl4eOiuu+7S22+/rezsbElXvr6UU9COjo62fu3uRl9vu9H95nyF67ffftPnn39uvd+CbHUzd+5c3XHHHfLw8FBISIiWLVtm03/ixAkNHjxYISEh8vHxUaVKlXT//ffr66+/zvf+srOzFRMToxo1asjT01NNmzbVl19+aTPmWlvxbN68WQ888ID8/Pzk7e2tVq1a5bntiRMnNGDAAFWvXl0eHh6qWLGiWrVqpc2bN9/wsQIlHfNk4c6TOV/fvdE8mTOnbdy4UX379lXFihXl7e1tfX6XL1+usLAwlS1bVj4+PnrooYe0b98+6+1jY2Ot2a72yiuvqEyZMvrrr78k5b+txMWLFzV69GgFBwerTJkyqlq1qoYMGaLTp0/neTwTJ07M8zOu/pr1+fPn9dJLLyk4OFienp4KCAhQ06ZNFRcXd83nKj+nT5/WyJEjVbt2bXl4eKhSpUrq0KGDfv75Z+uY6OhotWjRQgEBAfLz89Pdd9+t+fPnyzCMPBk7deqkDRs26O6775aXl5fq1aunDz74IM/PPXz4sPV1okyZMqpSpYoef/xxHTt2zDomPT3d+hhznrNhw4bp3LlzN/UYJem3335Tnz59VLduXXl7e6tq1arq3LmzvvvuO+uY+Ph4NWvWTJLUp08f67+/nP8f+W1xkZ2dralTp6pevXrW5++ZZ57Rn3/+aTMuIiJCDRo00O7du3XffffJ29tbtWvX1htvvGH9959zf5MmTdKdd94pLy8vlStXTqGhoXrnnXdu+jGXFMyZzJmONGfmZBsxYoSCgoLk5eWl1q1b2zz2HGvXrlVYWJi8vb3l6+urtm3bKjExMc+4bdu26YEHHpCvr6+8vb3VsmVLffbZZzfMcfToUd1zzz2qW7euDhw4ICn/eepm5uZt27YpLCxMnp6eqlq1qsaNG6f3338/z7+rr776ShEREapQoYK8vLxUo0YNPfbYYwX6fclR0HlRKrrfsdwyMjL02muv6a677pKnp6cqVKigNm3aaMeOHdYxM2fOVHh4uCpVqqSyZcuqYcOGmjp1qi5dumT3YyvI63BmZqYmTZpkfa2pWLGi+vTpoxMnTtzwcRX0tpcuXdKoUaMUFBQkb29v/eMf/9CuXbsK/Py5El6XzKl5SFc+MOjatavKly8vT09PNW7cWIsWLbrpnNdy6dIl9erVSz4+PtbtlvLbiifn/89vv/2mDh06yMfHR9WrV9fIkSOt/79z/Pnnn3r88cfl6+urcuXKKTIyUrt377Zr28iCzBc5pk2bpuDgYPn4+CgsLEw7d+606d+zZ4+eeuop1apVS15eXqpVq5Z69OihgwcP2ozLeT+wZcsWPffcc7rttttUoUIFdevWTUeOHLEZm5GRoZEjR1rnkfDwcO3duzff7aJSU1M1cOBAVatWTWXKlFFwcLCio6N1+fJlm3GzZ89Wo0aN5OPjI19fX9WrV09jxoy5qefN6RlAEViwYIEhydi5c6dx6dIlIzMz0zh06JDxwgsvGG5ubsaGDRusYy9cuGCEhoYaZcuWNd566y1j48aNxrhx44xSpUoZHTp0sI779ddfDV9fX6Nbt26GYRhGVlaWcf/99xuVKlUyjhw5Yh3Xq1cvo0yZMkaNGjWMmJgYY+PGjcbEiRONUqVKGZ06dbLJWbNmTaNXr17W4+PHjxtVq1Y1KlasaMyZM8fYsGGDMXToUEOS8dxzzxmGYRgXL140NmzYYEgy+vXrZyQmJhqJiYnGb7/9ds3noyD3m5aWZiQmJhpBQUFGq1atrPd78eLFa96vJKN69epGSEiIERcXZ6xdu9Z4+OGHDUnGihUrrON+/vln47nnnjOWLVtmxMfHG+vWrTP69etnuLm5GVu2bLGOS05Ott7nP/7xD2PlypXGihUrjGbNmhmlS5c2duzYkef/cXJysrXtww8/NCwWi/HII48Yq1atMj799FOjU6dOhru7u7F582bruIceesioWLGiMW/ePCM+Pt5Ys2aNMX78eGPZsmXXfKxAScM8acvseTLn/0fVqlWNAQMGGJ9//rnx8ccfG5cvXzZiYmIMi8Vi9O3b11i3bp2xatUqIywszChbtqzxww8/GIZhGCdOnDDKlCljREVF2fz8y5cvG1WqVLH+P8l5/mvWrGk9zs7ONh566CGjVKlSxrhx44yNGzcab731llG2bFmjSZMmNo9PkjFhwoQ8j/Pq/08DBw40vL29jWnTphlbtmwx1q1bZ7zxxhvGe++9d83n6mrp6elG/fr1jbJlyxqvvfaa8cUXXxgrV640XnzxReOrr76yjuvdu7cxf/58Y9OmTcamTZuM119/3fDy8jKio6PzZKxWrZoREhJiLF682Pjiiy+M7t27G5KMrVu3Wsf9+eefRuXKlY3bbrvNmDZtmrF582Zj+fLlRt++fY2ffvrJMAzDOHfunNG4cWObMe+8847h7+9v3H///UZ2dvY1n5uc17oFCxZY27Zu3WqMHDnS+Pjjj42tW7caq1evNh555BHDy8vL+Pnnnw3DuPLvL+ffydixY63//g4dOmQYhmFMmDDBuPqt9YABAwxJxtChQ40NGzYYc+bMMSpWrGhUr17dOHHihHVc69atjQoVKhh169Y15syZY2zatMkYPHiwIclYtGiRddyUKVMMd3d3Y8KECcaXX35pbNiwwYiNjTUmTpxY4P+vzoo50xZzpuPNmVu2bLE+f127djU+/fRT46OPPjLq1Klj+Pn5Gf/973+tY5csWWJIMtq1a2esWbPGWL58uXHPPfcYZcqUMb7++mvruPj4eKN06dLGPffcYyxfvtxYs2aN0a5dO8Nisdi8b875/7F7927DMAzju+++M6pXr26EhYXZzDX5zVMFnZu//fZbw9PT0wgNDTWWLVtmrF271ujQoYNRq1Ytm78JkpOTDU9PT6Nt27bGmjVrjPj4eGPJkiXG008/bZw6darAz2dB58Wi+h3L7dKlS0abNm2MUqVKGS+99JKxfv16Y+3atcaYMWOMuLg467jhw4cbs2fPNjZs2GB89dVXxvTp043bbrvN6NOnj12PrSCvw1lZWcbDDz9slC1b1oiOjjY2bdpkvP/++0bVqlWNkJAQ4/z58zY/t3Xr1tbjm7ltr169DIvFYrz88svGxo0bjWnTphlVq1Y1/Pz8bH6XXAmvS7bMfl36+eefDV9fX+P22283Fi9ebHz22WdGjx49DEnGm2++eVM5DeN/7xf/+c9/GoZhGKdOnTLatGljBAUFGXv27LGOy5n7c9dVcv7/3HXXXcZbb71lbN682Rg/frxhsVhs3h+fPXvWqFOnjhEQEGDMnDnT+OKLL4zhw4cbwcHBed6r3khB5oucx1SrVi3j4YcfNtasWWOsWbPGaNiwoVG+fHnj9OnT1vtbsWKFMX78eGP16tXG1q1bjWXLlhmtW7c2KlasaPO6kvN7ULt2beP55583vvjiC+P99983ypcvb7Rp08YmY48ePQw3Nzfj1VdfNTZu3GjExsYa1atXN/z9/W3+jR49etSoXr26UbNmTWPu3LnG5s2bjddff93w8PAwevfubR0XFxdnSDKef/55Y+PGjcbmzZuNOXPmGC+88EKBn7eSgMI+ikTOL/fVFw8PD2PWrFk2Y+fMmWNIMv7973/btL/55puGJGPjxo3WtuXLlxuSjNjYWGP8+PGGm5ubTb9hXJlEJRnvvPOOTXtMTIwhydi2bZu17eoXuVdffdWQZPznP/+xue1zzz1nWCwW45df/h979x4WVbX+Afw7DjcvCIwmMyjpeBvyMkVphpZgpnmNNCmSStM4mnTUxCxTUjqKvyzMON7Na6KYpqGlecEGK/GIhk3HAjXHNG2wRPDOxGb9/vCZfRgHDS/MZuD7eR6eh73Wmj3vDLBm5mXt9eYJIa59GLnRB4XyVPS89pj69u1bofMCELVr1xZWq1VuKykpESEhIaJly5Y3vF1JSYn466+/RPfu3cWAAQPkdvtEHxQUJK5cuSK3nz9/Xmg0GvHEE0/Ibdcn9i9duiQ0Go3o37+/w31JkiTuv/9+8fDDD8tt9erVE2PHjq3QYySqrjhPOlJ6nrT/PF566SWH2584cUJ4eHiIf/7znw7tFy5cEFqtVjz77LNy28CBA0WTJk2EJEly25YtWwQAsXnzZrnt+iSV/YPTzJkzHe7D/rNctGiRw+OpSJKqXbt24umnn77Bs1Ix7777rgAgduzYUeHbSJIk/vrrL/Huu++KBg0aOCXYfXx8xK+//iq3XblyRWg0GjFixAi5bdiwYcLT01P89NNPN7yfGTNmiFq1aslJLLv169cLAGLLli0O9/t3if3rlZSUCJvNJlq1aiVef/11uT07O/uGt70+Yfbzzz8LAGLUqFEO4/7zn/8IAOLtt9+W28LDw8v9/W/Tpo148skn5eN+/fqJBx544IZxV2ecMx1xzqx6c6Y9ufPggw86zH3Hjx8Xnp6e4pVXXhFCXJsng4KCRPv27R0e+4ULF0SjRo1E586d5bZHHnlENGrUSFy4cEFuKykpEe3atRNNmjSR76dsYn/Hjh2ifv36YtCgQQ7v54W4cWK/InNzVFSUqFu3rkNCR5Ik0aZNG4fPBPZ5+ODBg7f8HJZV0Xmxsv7Gylq5cqUAIBYvXlzh29hfD1euXCnUarUoKCi45cdWkddhe2Lrs88+c2i3v16VnR+vT+xX9Lb217Oyr4dC/O8fVDU9sc/XpVs7rz2mu/26FB0dLby9vcWJEyccbt+7d29Rp04dOWld0TjLJvYtFoto06aNaNOmjTh+/LjD7W6U2C/v592nTx9hMBjk47lz5woAYuvWrQ7jRowYccuJ/YrMF/bH1L59e1FSUiK379u3TwBw+Efl9UpKSsTFixdF3bp1HX7v7H8H17/fnTlzpgAgfv/9dyGEEIcOHRIAxJtvvukwzj4PXf/P9nr16jm8LgkhxAcffCAAyIsEXnvtNeHv73/DmGsKbsVDlWrlypXIzs5GdnY2tm7diiFDhiAuLg5z5syRx+zatQt169bFoEGDHG5rvxSn7DYuzz77LF599VW88cYbmDZtGt5++2306NGj3PuOiYlxOB48eDAA4Ouvv75hvLt27UKbNm3w8MMPO8UihMCuXbv+/kG78LwA0L17dwQGBsrHarUazz33HI4ePepwqf+CBQvw4IMPwsfHBx4eHvD09ERGRgZ+/vlnp3MOHDgQPj4+8rGvry/69++P3bt3y5f/XW/Pnj0oKCjAkCFDUFJSIn+VlpaiV69eyM7OlrdHePjhh7F8+XJMmzYNe/fudbo8lagm4TxZuecFKj5PAsAzzzzjcLxt2zaUlJTgpZdecpjbfHx8EB4e7nDZ7csvv4zffvvNYVuxZcuWQavVonfv3jeMz/7Yrr8ENSoqCnXr1nXazqwiHn74YWzduhVvvfUWTCYTrly5csvn2Lp1K1q3bo0nnnjipuN27dqFJ554An5+flCr1fD09MQ777yDs2fP4syZMw5jH3jgAdx7773ysY+PD1q3bu1wWe/WrVvRrVs33HfffTe8zy+++ALt2rXDAw884PBzefLJJ50uh66IkpISJCUloU2bNvDy8oKHhwe8vLxw5MiRcl8nK8L+d3T9z/Xhhx/Gfffd5/Rz1Wq1Tr//RqPR4bl5+OGH8cMPP2DUqFHYtm0bzp8/f1uxuTPOmZV7XoBz5u3OmXaDBw922O6madOm6Ny5s/x7kpeXh9OnT+PFF19ErVr/+zher149PPPMM9i7dy8uX76MS5cu4T//+Q8GDRqEevXqyePUajVefPFF/Pbbb8jLy3O47xUrVqBPnz545ZVX8Omnnzq8n7+ZiszNmZmZePzxx9GwYUO5rVatWnj22WedzuXl5YV//OMfWLFiBY4dO1ahGMpTkXmxMv8W7LZu3QofHx8MGzbspuNycnLw1FNPoUGDBvLr4UsvvQRJknD48GGHsRV5bBV5Hf7iiy/g7++P/v37O/zNPfDAA9BqtTd9Pazobe2/u9fPgc8++yw8PFi2ka9LlXteoGKvS7t27UL37t0RHBzsdP+XL1+Wtzq71Ti///57PPLIIwgMDMR3332Hpk2bVihmlUrlVGPh+r/xzMxM+Pr6OhU1f/755yt0H2VV9H07APTt2xdqtdohLgAOsV28eBFvvvkmWrZsCQ8PD3h4eKBevXq4dOlSue+Nn3rqKYfj68+ZmZkJAE6vGYMGDXKaR7744gt069YNQUFBDnOT/b2B/VwPP/wwCgsL8fzzzyM9PV3ewq+mYWKfKtV9992HDh06oEOHDujVqxcWLlyInj17YsKECfIemGfPnoVWq3Xa77FRo0bw8PDA2bNnHdqHDRuGv/76Cx4eHhg9enS59+vh4YEGDRo4tGm1Wvn+buTs2bPlVmQPCgr629veTGWdF/jf4yqvzX7eWbNm4dVXX0WnTp3w2WefYe/evcjOzkavXr3K/eByo3PabDZcvHix3Djs+x4PGjQInp6eDl/vvfcehBAoKCgAcG3f1SFDhuDjjz9GWFgYNBoNXnrpJVit1tt7EojcGOfJyj0vULF50u76GOxzW8eOHZ3mtrVr1zq8gezduzd0Oh2WLVsGADh37hw2bdqEl156yeHN8/XOnj0LDw8Pp4LkKpUKWq32th57SkoK3nzzTXz++efo1q0bNBoNnn76aXmf5Yr4448//rbI4r59+9CzZ08AwOLFi/Hdd98hOzsbkyZNAgCn15jrf+cAwNvb22FcRe43Pz8fZrPZ6Wfi6+sLIcQtv7EfN24cEhIS8PTTT2Pz5s34z3/+g+zsbNx///23neCz/9xu9Ht9/c+1Is/NxIkT8cEHH2Dv3r3o3bs3GjRogO7du2P//v23FaM74pxZuecFOGfe7pxpd6Pnzx7X380NpaWlOHfuHM6dOwchxC39nNPS0lC7dm288sort1TEuCLzz9mzZx0Sa3bXt7Vo0QI7d+5Eo0aNEBcXhxYtWqBFixa3VQukonFV1t+C3R9//IGgoCCHf8Rc78SJE3jsscdw6tQpfPTRR/jmm2+QnZ2NuXPnAqjc18PCwkJ5T/eyX1ar9aavhxW9rf05vP53u7x5sSbi61Llnheo2OtSRe//VuPcsWMH8vPz8corr8Df37/CMdepU8fpn6ve3t64evWqfFzRebUiKjJf2F3/e+Pt7Q3AcZ4aPHgw5syZg1deeQXbtm3Dvn37kJ2djXvuuafc98Z/d07783r9Yyvv9zg/Px+bN292mpfatm0LAPLc9OKLL2Lp0qX49ddf8cwzz6BRo0bo1KkTduzYUaHnobrgv1fJ5YxGI7Zt24bDhw/j4YcfRoMGDfCf//wHQgiHF7ozZ86gpKTEYVXIpUuX8OKLL6J169by5Jqenu50HyUlJTh79qzDBGFPGt/szUeDBg3w+++/O7Xbi36UjeVWVNZ5AZSbDL/+sa5atQoRERGYP3++w7gLFy7c0jm9vLwcVgyVZX8M//73v29YFd4+iTds2BCzZ8/G7NmzceLECWzatAlvvfUWzpw5g6+++qrc2xLVJJwn7955gYrNk3bXf+Cy3+/69ev/doWOfRVlSkoKCgsLsXr1ahQXF+Pll1++6e0aNGiAkpIS/PHHHw6JKiEErFarXLAVuPYm+fqiW4Dzh5C6desiMTERiYmJyM/Pl1ei9u/fv9wCWuW55557nFbnXi8tLQ2enp744osvHD68fP755xW6j9u934YNG6J27drlFne099+KVatW4aWXXkJSUpJD+59//nlLH+LKsv9u/f77704ftE6fPn1bv9MeHh4YN24cxo0bh8LCQuzcuRNvv/02nnzySZw8eRJ16tS5rVjdHefMu3degHPm7c6Zdjd6/uzPXdm54XqnT59GrVq1EBAQACEEatWqdUs/59TUVCQkJCA8PBzbt2/HAw88cEux30yDBg0cCpjblfd4H3vsMTz22GOQJAn79+/Hv//9b4wdOxaBgYGIjo6+azHZ46qsvwW7e+65B99++y1KS0tvmNz//PPPcenSJWzYsMHhd//gwYN3dL8VeT1s0KDBDT9D+fr63vFt7b+zVqsVjRs3lvvt8yI54+vS3TsvULHXpYre/63G+cYbb+CXX36Rr0R76aWXbvtxXK9BgwblFqG+nQWPFZkvKqqoqAhffPEFpkyZgrfeektuLy4ulhdr3ir7zyk/P/9v55GGDRvCaDRi+vTp5Z7L/k8Y4NrVfy+//DIuXbqE3bt3Y8qUKejXrx8OHz5c4asr3B1X7JPL2d/c2N+Id+/eHRcvXnRKAqxcuVLutxs5ciROnDiBDRs2YMmSJdi0aRM+/PDDcu8nNTXV4Xj16tUAgIiIiBvG1r17d/z000/4/vvvnWJRqVTo1q0bgPL/o3kzFT3v7cjIyHB4ky1JEtauXYsWLVrIiQSVSiXHbGc2m+XL0a63YcMGh/8kX7hwAZs3b8Zjjz12wxVUXbp0gb+/P3766Sd5xcL1X15eXk63u/fee/Haa6+hR48eTs8PUU3FefLG570dFZknb+TJJ5+Eh4cHfvnllxvObWW9/PLLuHr1KtasWYPly5cjLCwMISEhN70P+89v1apVDu2fffYZLl265PDzbdasGcxms8O4Xbt23fBqKuDaP1WHDh2K559/Hnl5ebh8+fJN47Hr3bs3Dh8+fNNLp1UqFTw8PBxeG65cuYJPPvmkQvdxo/v9+uuvnbaYKKtfv3745Zdf0KBBg3J/Js2aNbul+yzvdfLLL7/EqVOnHNpu5ff68ccfB+D8c83OzsbPP//s8HO9Hf7+/hg0aBDi4uJQUFCA48eP39H53BnnzBuf93Zwzry9OdNuzZo1EELIx7/++iv27Nkj/54YDAY0btwYq1evdhh36dIlfPbZZwgLC0OdOnVQt25ddOrUCRs2bHD4vSgtLcWqVavQpEkTtG7d2uG+NRoNdu7cifvuuw/dunXD3r17byn2mwkPD8euXbscVoCXlpZi3bp1N7yNWq1Gp06d5FXrlfFev7L+xsrq3bs3rl69iuXLl99wjD1ZW/a1RAiBxYsX3/L9lb3fv3sd7tevH86ePQtJksr9ezMYDHd8W/vv7vVz4KeffoqSkpLbfnzVGV+Xbnze21GR16Xu3btj165dcoK+7P3XqVNHXnx4q3HWqlULCxcuxJgxYzB06FCnxZJ3Ijw8HBcuXMDWrVsd2tPS0m75XBWZLypKpVJBCOH03vjjjz++4dbMf6dr164Aru3eUNb69eud5pF+/frhv//9L1q0aFHu3FQ2sW9Xt25d9O7dG5MmTYLNZsOhQ4duK0635Lrt/KkmsRfQWLZsmVzp/IsvvhDDhg0TABwKttorxPv6+opZs2aJHTt2iClTpghPT0+HCvGLFy92KiDy2muvCU9PT4fCJzerEN+7d2+HOG9UIV6r1YpFixaJbdu2idGjRwuVSuVUDKRp06bCYDCIbdu2iezsbLlgVHlu9by3UkjmRhXi09LS5HH2CuzvvPOOyMjIEPPmzRNarVa0aNHCoRiZvZhKcHCwePTRR8WGDRvE+vXrRceOHYWHh4dDEZ7ri+cKIcQnn3wiatWqJZ577jmxbt06kZmZKdavXy8SEhLEyJEjhRBCFBYWitDQUPH++++LzZs3C5PJJN5//33h4+MjBg8eXKHHTVQdcJ50pPQ8Wbbw4PWSkpKEh4eHGDFihNi4caMwmUxi7dq1Ij4+XrzzzjtO48PCwkRwcLBTEUe76wtBlpaWiieffFJ4enqKqVOnih07dojk5GRRr149ERoaKq5evSqPnTZtmlCpVCIhIUHs3LlTpKSkiNatWws/Pz+Hn9PDDz8s3n33XfH555+LzMxMsWDBAtGgQQMRFhZWoedNiGuF09u2bSvq1asnpk2bJrZv3y7S09PFuHHjxK5du4QQQmRkZAgAYtCgQWL79u1izZo14qGHHhKtWrVyeo240c/t+mJ+v/32m9DpdKJRo0Zi9uzZIiMjQ3z22WciNjZW/Pzzz0IIIS5evChCQ0NFkyZNRHJystixY4fYtm2bWLx4sYiKihJ79+51uN+/K5770ksvCW9vb/Hhhx+KjIwMMXPmTHHPPfeIJk2aOMR26dIlUbt2bdGlSxfx9ddfi+zsbHHq1CkhRPlFKf/xj38IlUolxo4dK7Zt2yYWLlwoGjVqJIKDg8Wff/7p8By0bdvW6bm5/nelX79+4q233hLr168XmZmZYuXKlaJZs2aiadOmwmazOf8QqxHOmY44Z1a9OdNeQDE4OFhERkaKL774QqSmpoqWLVsKX19fcfToUXmsvehonz59RHp6uvj0009Fx44dhZeXl/jmm2/kcSaTSXh6eopOnTqJdevWifT0dPHkk08KlUp105/H5cuXRa9evUS9evXk+VqIGxfPrcjcfPDgQeHj4yOMRqNYu3at2LRpk+jTp49o2rSpACAXOZw/f76IiooSy5cvF7t27RJbtmwRgwYNEgDEtm3bKvx8VnRerKy/sbL++usv0a1bN+Hp6SkmTJggtm7dKr788kvxzjvvyMUmf/75Z+Hl5SUiIiLEli1bxIYNG0SPHj3k18OyhTUr+tgq8jpcUlIievfuLTQajUhMTBRbt24VO3fuFMuXLxdDhgwRGzZscLjfsj/TW7ntCy+8IFQqlZgwYYLYvn27mDVrlggKChL169ev8cVz+bp0e+e9269Lubm5wtfXV7Ru3VqsWrVKbNmyRcTExDgVW69onGWL59rZ59Cy57tR8dy6des6PZbr5+CLFy+Kli1bCo1GI+bNmye2b98uXn/9ddGsWTMBQKxYsaJCz5EQFZsvyntMZZ/nsoWSu3btKjQajVi8eLHYsWOHmDx5stDpdMLf39/h9+lG7wfKe16ef/55oVarxcSJE8WOHTvE7NmzRXBwsPDz8xMvv/yyPO706dOiadOmIiQkRMybN09kZGSIL7/8UsydO1f07dtXnDx5UgghxCuvvCL++c9/irS0NJGZmSnWrl0rHnjgAeHn5yfOnDlT4efO3TGxT5WivArxfn5+4oEHHhCzZs1yeMMthBBnz54VI0eOFDqdTnh4eIimTZuKiRMnyuPMZrOoXbu205uGq1evioceekg0a9ZMnDt3Tgjxv0nUbDaLiIgIUbt2baHRaMSrr74qLl686HD761/khBDi119/FYMHDxYNGjQQnp6ewmAwiPfff19IkuQwbufOnSI0NFR4e3s7VfEuT0XPe6svcnFxcWLevHmiRYsWwtPTU4SEhIjU1FSHccXFxWL8+PGicePGwsfHRzz44IPi888/d3rzaJ/o33vvPZGYmCiaNGkivLy8RGhoqNMb8fIS+0IIkZmZKfr27Ss0Go3w9PQUjRs3Fn379hXr1q0TQlz7mY0cOVIYjUZRv359Ubt2bWEwGMSUKVPEpUuXKvS4iaoDzpPOlJwnb5akEkKIzz//XHTr1k3Ur19feHt7i6ZNm4pBgwaJnTt3Oo1dtGiRACBq164tioqKnPqvn3uFuPaB78033xRNmzYVnp6eQqfTiVdffVX+mdkVFxeLCRMmiODgYFG7dm0RHh4uDh486PRzeuutt0SHDh1EQECA8Pb2Fs2bNxevv/66QzK5Is6dOyfGjBkj7r33XuHp6SkaNWok+vbtK3Jzc+UxS5cuFQaDQb6fGTNmiCVLltx2Yl8IIU6ePCmGDRsmtFqt8PT0FEFBQeLZZ58V+fn58piLFy+KyZMnC4PBILy8vISfn59o3769eP3114XVanW4379L7J87d04MHz5cNGrUSNSpU0c8+uij4ptvvik3tjVr1oiQkBDh6enp8CGovISZJEnivffeE61btxaenp6iYcOG4oUXXpA/kJR9DiqS5ElOThadO3cWDRs2lD/QDx8+XBw/ftzpttUN50xnnDOr1pxpT2J88sknYvTo0eKee+4R3t7e4rHHHhP79+8v9znq1KmT8PHxEXXr1hXdu3cX3333ndO4b775Rjz++OOibt26onbt2uKRRx4RmzdvdhhT3s+juLhYPPPMM8LHx0d8+eWXQog7S+zbY+nUqZPw9vYWWq1WvPHGG+K9994TAERhYaEQQoisrCwxYMAA0bRpU+Ht7S0aNGggwsPDxaZNmyr2RJa5/4rMi0JU3t9YWVeuXBHvvPOOaNWqlfDy8hINGjQQjz/+uNizZ488ZvPmzeL+++8XPj4+onHjxuKNN94QW7duve3EvhAVex3+66+/xAcffCDfd7169URISIgYMWKEOHLkiMP9Xv8zrehti4uLRXx8vGjUqJHw8fERjzzyiMjKyip3zqsp+LrkTMnXJSGE+PHHH0X//v2Fn5+f8PLyEvfff7/D+71bifNGSfD3339fAJD/UX0niX0hhDhx4oQYOHCgqFevnvD19RXPPPOM2LJliwAg0tPTK/Qc2f3dfHErif3ffvtNPPPMMyIgIED4+vqKXr16if/+979Ov0+3kti/evWqGDdunNM84ufnJ15//XWH2//xxx9i9OjRQq/XC09PT6HRaMRDDz0kJk2aJP+Or1ixQnTr1k0EBgYKLy8v+fOC2Wy+pefN3amEKHP9H1E1MHToUKxfv/6ml9gSEdVkNWmeVKlUiIuLw5w5c5QOhYjcFOdMohvr2bMnjh8/jsOHDysdClGNUZNel2qipKQkTJ48GSdOnKhwQVx3tWfPHnTp0gWpqakYPHiw0uG4JRbPJSIiIiIiIqKbGjduHEJDQxEcHIyCggKkpqZix44dWLJkidKhERG5Jfs/0kNCQvDXX39h165dSElJwQsvvFDtkvo7duxAVlYWHnroIdSuXRs//PAD/u///g+tWrXCwIEDlQ7PbTGxT0RERFSDCCH+tvCVWq2WCwESEdVknDP/R5IkvPPOO7BarVCpVGjTpg0++eQTvPDCC7d0jpttGqBSqRwKsle2vyv+WqtWLdSqVctF0RBRTVOnTh18+OGHOH78OIqLi3HvvffizTffxOTJkwFUr9eg+vXrY/v27Zg9ezYuXLiAhg0bonfv3pgxYwZ8fHyUDs9tcSseIiIiohrEZDKhW7duNx2zbNkyDB061DUBERFVYZwz766IiAhkZmbesL9p06Y4fvy4S2I5fvw49Hr9TcdMmTIFU6dOdUk8RETX42sQ/R0m9omIiIhqkAsXLiAvL++mY/R6PRo0aOCiiIiIqi7OmXdXXl4eLly4cMN+b29vtG/f3iWx2Gw2mM3mm44JCgpCUFCQS+IhIroeX4Po7zCxT0RERERERERERETkRrjHfjlKS0tx+vRp+Pr6usU+VUREQghcuHABQUFB3AdUAXzdICJ3wteMiuHcTkTupLrP7ZyTicjduGJeZmK/HKdPn0ZwcLDSYRAR3bKTJ0+iSZMmSodR4/B1g4jcEV8zbo5zOxG5o+o6t3NOJiJ3VZnzMhP75fD19QVw7YmvX7++wtEQEf298+fPIzg4WJ6/yLX4ukFE7oSvGRXDuZ2I3El1n9s5JxORu3HFvMzEfjnsl3XVr1+fLxhE5FZ4Waoy+LpBRO6Irxk3x7mdiNxRdZ3bOScTkbuqzHm5+m28RkRERERERERERERUjTGxT0RERERERERERETkRpjYJyIiIiIiIiIiIiJyI0zsExERERERERERERG5ESb2iYiIiIiIiIiIiIjcCBP7RERERERERERERERuhIl9IiIiIiIiIiIiIiI3wsQ+EREREREREREREZEbYWKfiIiIiIiIiIiIiMiNMLFPRERERERERERERORGmNgnIiIiIiIiIiIiInIjTOwTEREREREREREREbkRJvaJiIiIiIiIiIiIiNyIh9IBENUUkiTBbDajoKAAGo0GRqMRarVa6bCIiKiK+vbbbzF58mT5eNq0aXj00UcVjIiIiO4EPw8QEVUtnJfJ3TGxT+QCu3fvxrx582C1WuU2rVaLUaNGoWvXrgpGRkREVVFERIRTmz3JbzKZXBsMERHdMX4eICKqWjgvU3Xgllvx7N69G/3790dQUBBUKhU+//xzh34hBKZOnYqgoCDUrl0bEREROHTokDLBUo23e/duTJkyBc2bN8fcuXOxZcsWzJ07F82bN8eUKVOwe/dupUMkIqIq5Pqk/gMPPHDTfiIiqtr4eYCIqGrhvEzVhVsm9i9duoT7778fc+bMKbd/5syZmDVrFubMmYPs7GxotVr06NEDFy5ccHGkVNNJkoR58+YhLCwM06ZNQ9u2bVGnTh20bdsW06ZNQ1hYGObPnw9JkpQOlYiIqoBvv/1W/v6DDz6AyWTC7NmzYTKZ8MEHH5Q7joiIqi5+HiAiqlo4L1N14paJ/d69e2PatGkYOHCgU58QArNnz8akSZMwcOBAtGvXDitWrMDly5exevXqcs9XXFyM8+fPO3wR3Q1msxlWqxUxMTGoVcvxz61WrVqIiYnB77//DrPZrFCERERUlZTdU79Dhw4OfWWPy44jIqKqi58HiIiqFs7LVJ24ZWL/ZiwWC6xWK3r27Cm3eXt7Izw8HHv27Cn3NjNmzICfn5/8FRwc7KpwqZorKCgAAOj1+nL77e32cURERIDz9jt2bdu2dW0gRER0R/h5gIioauG8TNVJtUvs24teBAYGOrQHBgY6FMQoa+LEiSgqKpK/Tp48WelxUs2g0WgAXPuHU3ns7fZxREREAHDw4MFy21kziIjIvZT9PCBJEnJycpCRkYGcnBxIksTPA0RELsY8DVUnHkoHUFlUKpXDsRDCqc3O29sb3t7ergiLahij0QitVovU1FRMmzbN4TKv0tJSpKamQqfTwWg0KhglERFVFdOmTZO32dm/f7/D9jv79+93GEdERFWf/fNASkoKCgsLkZ+fL/cFBgbC39+fnweIiFyIeRqqTqrdin2tVgsATqvzz5w547SKn6iyqdVqjBo1CllZWZg8eTIOHTqEy5cv49ChQ5g8eTKysrLw6quvQq1WKx0qERFVAY8++qj8/fjx4xEREYG4uDhERERg/Pjx5Y4jIqKqS61WIyIiAnl5ebDZbIiPj8f69esRHx8Pm82GvLw8hIeH8/MAEZGLME9D1Um1W7Gv1+uh1WqxY8cOhIaGAgBsNhsyMzPx3nvvKRwd1URdu3ZFYmIi5s2bh7i4OLldp9MhMTERXbt2VTA6IiKqakwmEyIiIuTj67ffMZlMrg2IiIhumyRJMJlMMBgMKCoqQnJystyn0+lgMBiQmZmJ2NhYJpGIiFyEeRqqLtwysX/x4kUcPXpUPrZYLDh48CA0Gg3uvfdejB07FklJSWjVqhVatWqFpKQk1KlTB4MHD1YwaqrJunbtii5dusBsNqOgoAAajQZGo5Fv3omIqFwmkwnffvutvC0PcG37Ha7UJyJyL2azGVarFQkJCQgJCXH6PJCbm4u4uDiYzWZ5YRoREVU+5mmoOnDLxP7+/fvRrVs3+XjcuHEAgCFDhmD58uWYMGECrly5glGjRuHcuXPo1KkTtm/fDl9fX6VCJoJareabdSIiqrBHH32Uq/OJiNxcQUEBgGtXlpf3eUCv1zuMIyIi12GehtydWyb2IyIiIIS4Yb9KpcLUqVMxdepU1wVFREREREREVIZGowFw7Srz8lbsWywWh3FEREREFeWWiX0iIiIiIqqZmjVrhl9//dWpfdSoUZg7dy6EEEhMTMSiRYvkq3fnzp2Ltm3bKhAt1XRGoxFarRYpKSkoLCxEfn6+3BcYGAh/f3/odDoYjUYFoyQiIiJ3VEvpAIiIiIiIiCoqOzsbv//+u/y1Y8cOAEBUVBQAYObMmZg1axbmzJmD7OxsaLVa9OjRAxcuXFAybKqh1Go1IiIikJeXB5vNhvj4eKxfvx7x8fGw2WzIy8tDeHg493QmIiKiW8YV+0RERERE5Dbuueceh+P/+7//Q4sWLRAeHg4hBGbPno1JkyZh4MCBAIAVK1YgMDAQq1evxogRI5QImWowSZJgMplgMBhQVFSE5ORkuU+n08FgMCAzMxOxsbFM7hMREdEtYWKfiIiIiIjcks1mw6pVqzBu3DioVCocO3YMVqsVPXv2lMd4e3sjPDwce/bsuWliv7i4GMXFxfLx+fPnKzV2qhnMZjOsVisSEhLK3WM/NzcXcXFxMJvNLOBIREREt4SJfSIiIqIqaM+ePXj77bfl46SkJHTu3FnBiIiqns8//xyFhYUYOnQoAMBqtQK4tnd5WYGBgeXuy1/WjBkzkJiYWClxUs1VUFAAANDr9VCr1U7Je71e7zCOiIiIqKK4xz4REVVbM2bMQMeOHeHr64tGjRrh6aefRl5ensOYoUOHQqVSOXw98sgjCkVMdE1ERIRDUh8A3n77bURERCgTEFEVtWTJEvTu3RtBQUEO7SqVyuFYCOHUdr2JEyeiqKhI/jp58uRdj5dqHo1GAwCwWCyQJAk5OTnIyMhATk4OJEmCxWJxGEdERERUUVyxT0RE1VZmZibi4uLQsWNHlJSUYNKkSejZsyd++ukn1K1bVx7Xq1cvLFu2TD728vJSIlwiAHBK3j/00EM4cOCAQ7/JZHJtUERV0K+//oqdO3diw4YNcptWqwVwbeW+TqeT28+cOeO0iv963t7e8Pb2rpxgqcYyGo3QarVISUlBYWEh8vPz5b7AwED4+/tDp9PBaDQqGCURERG5Iyb2iYio2vrqq68cjpctW4ZGjRrhwIED6Nq1q9zu7e0tJ4OIlLRnzx75+1mzZuHBBx+Uj7///nuMGzdOHsdteaims8/pffv2ldv0ej20Wi127Nghb3lis9mQmZmJ9957T6lQqQZTq9WIiIhAWloaAgICEB8fj7CwMGRlZWHp0qXIy8tDdHQ0C+cSERHRLWNin4iIaoyioiIAzpe7m0wmNGrUCP7+/ggPD8f06dPRqFGjG56HBRapspTdfqdsUv/647fffpur9qlGKy0txbJlyzBkyBB4ePzvI41KpcLYsWORlJSEVq1aoVWrVkhKSkKdOnUwePBgBSOmmkqSJJhMJhgMBhQVFSE5OVnu0+l0MBgMyMzMRGxsLJP7REQuJkmSU1FzzsXkTpjYJyKiGkEIgXHjxuHRRx9Fu3bt5PbevXsjKioKTZs2hcViQUJCAh5//HEcOHDghlsysMAiVbaHHnqo3Haj0Qiz2eziaIiqnp07d+LEiRMYNmyYU9+ECRNw5coVjBo1CufOnUOnTp2wfft2+Pr6KhAp1XRmsxlWqxUJCQkICQlxSiDl5uYiLi4OZrPZqbAukTuYMWMGNmzYgNzcXNSuXRudO3fGe++9B4PBII8RQiAxMRGLFi2S5+W5c+eibdu2CkZONd3u3bsxb948WK1WuU2r1WLUqFEOV3cTVWUsnktERDXCa6+9BrPZjDVr1ji0P/fcc+jbty/atWuH/v37Y+vWrTh8+DC+/PLLG56LBRapspXdU78sJvWJrunZsyeEEGjdurVTn0qlwtSpU/H777/j6tWryMzMdPiHLpErFRQUALi2TZRarUZoaCi6d++O0NBQqNVq6PV6h3FE7sZe02rv3r3YsWMHSkpK0LNnT1y6dEkeM3PmTMyaNQtz5sxBdnY2tFotevTogQsXLigYOdVku3fvxpQpU9C8eXPMnTsXW7Zswdy5c9G8eXNMmTIFu3fvVjpEogphYp+IiKq9f/7zn9i0aRO+/vprNGnS5KZjdTodmjZtiiNHjtxwjLe3N+rXr+/wRXQ3JCUlyd9///33Dn1lj8uOIyKiqsu+/Z/FYoEkScjJyUFGRgZycnIgSRIsFovDOCJ389VXX2Ho0KFo27Yt7r//fixbtgwnTpyQFykIITB79mxMmjQJAwcORLt27bBixQpcvnwZq1evVjh6qokkScK8efMQFhaGadOmoW3btqhTpw7atm2LadOmISwsDPPnz4ckSUqHSvS3uBUPERFVW0II/POf/8TGjRthMpnkVXE3c/bsWZw8eRI6nc4FERI5KlsQ114ot7ztd1g4l4jIPRiNRmi1WqSkpKCwsBD5+flyX2BgIPz9/aHT6WA0GhWMkujuub6mlcVigdVqRc+ePeUx3t7eCA8Px549ezBixIhyz8OaVlRZym6RVquW43rnWrVqISYmhlukkdvgin0iIqq24uLisGrVKqxevRq+vr6wWq2wWq24cuUKAODixYsYP348srKycPz4cZhMJvTv3x8NGzbEgAEDFI6eaqrri+Jen9Rn0VwiIvehVqsRERGBvLw82Gw2xMfHY/369YiPj4fNZkNeXh7Cw8NZrJGqhfJqWtn3Lw8MDHQYGxgY6LC3+fVmzJgBPz8/+Ss4OLjyAqcapewWaeXhFmnkTpjYJyKiamv+/PkoKipCREQEdDqd/LV27VoA1z5s//jjj4iMjETr1q0xZMgQtG7dGllZWSyySIoymUxO2+0kJSUxqU9E5GYkSYLJZILBYIC3tzeSk5MxaNAgJCcnw8fHBwaDAZmZmdzygaqFG9W0Aq7VPylLCOHUVhZrWlFlKXs1SXm4RRq5E27FQ0RE1ZYQ4qb9tWvXxrZt21wUDdGt6dy5MxP5RERuruyWDyEhITCbzSgoKIBGo4HRaERubi63fKBqwV7Tavfu3Q41rbRaLYBrK/fLbnV55swZp1X8ZXl7e8Pb27vyAqYay75FWmpqKqZNm+awHU9paSlSU1O5RRq5Da7YJyIiIiIiIqoEZbd8UKvVCA0NRffu3REaGgq1Ws0tH8jtCSHw2muvYcOGDdi1a5fT9iZ6vR5arRY7duyQ22w2GzIzM1kziBShVqsxatQoZGVlYfLkyTh06BAuX76MQ4cOYfLkycjKysKrr77KLdLILXDFPhEREREREVElKLvlQ3kr9rnlA7m7uLg4rF69Gunp6XJNKwDw8/ND7dq1oVKpMHbsWCQlJaFVq1Zo1aoVkpKSUKdOHQwePFjh6Kmm6tq1KxITEzFv3jzExcXJ7TqdDomJiejatauC0RFVHBP7RERERERERJXAvuVDSkoKCgsLkZ+fL/cFBgbC39+fWz6QW5s/fz4AICIiwqF92bJlGDp0KABgwoQJuHLlCkaNGoVz586hU6dO2L59O2takaK6du2KLl26OP3DlSv1yZ0wsU9ERERERERUCdRqNSIiIpCWloaAgADEx8cjLCwMWVlZWLp0KfLy8hAdHc1EErmtv6tpBVwrnDt16lRMnTq18gMiugX2LdKI3BUT+0RERERV0IIFC5CWliYfR0dHY+TIkQpGREREt0qSJJhMJhgMBhQVFSE5OVnu0+l0MBgMyMzMRGxsLJP7REREdEuY2CciIiKqYq6/nB0A0tLSkJaWBpPJ5PJ4iIjo9pjNZlitViQkJJS7x35ubi7i4uJgNpu5apSIiIhuCRP7RERERFXI9Un9unXr4tKlSw79TO4TEbmHgoICAIBery93ywe9Xu8wjoiIiKiiaikdABERERFds2DBAvn7MWPGwGQy4csvv4TJZMKYMWPKHUdERFWXRqMBAFgsFkiShJycHGRkZCAnJweSJMFisTiMIyIiIqoortgnIiIiqiLK7qk/YMAAh74BAwbgo48+ksdxv30ioqrPaDRCq9UiJSUFhYWFyM/Pl/sCAwPh7+8PnU4Ho9GoYJRERETkjrhin4iIiKiKqVu3brntPj4+Lo6EiIjuhFqtRkREBPLy8mCz2RAfH4/169cjPj4eNpsNeXl5CA8PZ+FcIiIiumVcsU9ERERUxZTdU7+sq1evujgSIiK6E5IkwWQywWAwoKioCMnJyXKfTqeDwWBAZmYmYmNjmdwnIiKiW8LEPhEREVEVER0dLW/Hs3HjRofteDZu3OgwjoiIqj6z2Qyr1YqEhASEhITAbDajoKAAGo0GRqMRubm5iIuLg9lsdiqsS0RERHQzTOwTERERVREjR46UE/sfffQRPvroI/j4+Dit1Of++kRE7qGgoAAAoNfroVarnZL3er3eYRwRERFRRXGPfSIiIqIqxGQyORxfn9S/vp+IiKoujUYDALBYLJAkCTk5OcjIyEBOTg4kSYLFYnEYR0RERFRRXLFP5CKSJDldest9NImIqDwmkwkLFiyQV+8D17bf4Up9IiL3YjQaodVqkZKSgsLCQuTn58t9gYGB8Pf3h06ng9FoVDBKIiIickdM7BO5wO7duzFv3jxYrVa5TavVYtSoUejatauCkRERUVU1cuRIJvKJiNycWq1GREQE0tLSEBAQgPj4eISFhSErKwtLly5FXl4eoqOjueCHiIiIbhm34iGqZLt378aUKVPQvHlzzJ07F1u2bMHcuXPRvHlzTJkyBbt371Y6RCIiIiIiqgSSJMFkMsFgMMDb2xvJyckYNGgQkpOT4ePjA4PBgMzMTEiSpHSoRERE5Ga4Yp+oEkmShHnz5iEsLAzTpk1DrVrX/pfWtm1bTJs2DZMnT8b8+fPRpUsXrtIhIiIiIqpmzGYzrFYrEhISEBIS4rQ1Z25uLuLi4mA2m50K6xIRERHdDFfsE1Ui+xv5mJgYOalvV6tWLcTExOD333+H2WxWKEIiIiIiIqosBQUFAAC9Xl9uv73dPo6IiIioorhin6gS8Y08EREREVHNpdFoAAAbN27E5s2bnWpu9evXz2EcERERUUVxxT5RJbK/QbdYLOX229v5Rp6IiIiIqPoxGo3w9/fH4sWLodfrHWpu6fV6fPzxxwgICIDRaFQ6VCIiInIzTOwTVSKj0QitVovU1FSUlpY69JWWliI1NRU6nY5v5ImIiIiIaighhNIhEBERkRtiYp+oEqnVaowaNQpZWVmYPHkyDh06hMuXL+PQoUOYPHkysrKy8Oqrr7JwLhERERFRNWQ2m1FYWIjY2FhYLBbExcWhT58+iIuLw/HjxxEbG4vCwkLW3CIiIqJbxj32iSpZ165dkZiYiHnz5iEuLk5u1+l0SExMRNeuXRWMjoiIiIiIKou9ltaAAQMQHR0Ns9mMgoICaDQaGI1GFBcXY/Hixay5RURERLeMiX0iF+jatSu6dOni9EaeK/WJiIiIiKqvsjW3QkJCnPpZc4uIiIhuFxP7RC6iVqsRGhqqdBhEREREROQi9ppbKSkpKCwsRH5+vtwXGBgIf39/1twiIiKi28I99omIiIiIiIgqgVqtRkREBPLy8mCz2RAfH4/169cjPj4eNpsNeXl5CA8P55W8REREdMu4Yp+IiIiIiIioEkiSBJPJBIPBgKKiIiQnJ8t9Op0OBoMBmZmZiI2NZXKfiIiIbgkT+0RERERERESVwGw2w2q1IiEhASEhIU41t3JzcxEXFwez2cxtO4mIiOiWMLFPREREREREVAkKCgoAAHq9vtyaW3q93mEcERERUUUxsU9ERERERERUCTQaDQDAYrGUu2LfYrE4jCMiIiKqKCb2iYiIiIiIiCqB0WiEVqtFSkoKCgsLkZ+fL/cFBgbC398fOp0ORqNRwSiJiIjIHdVSOgAiIiIiIiKi6kitViMiIgJ5eXmw2WyIj4/H+vXrER8fD5vNhry8PISHh7NwLhGRAiRJQk5ODjIyMpCTkwNJkpQOieiWcMU+ERERERERUSWQJAkmkwkGgwFFRUVITk6W+3Q6HQwGAzIzMxEbG8vkPhGRC+3evRvz5s2D1WqV27RaLUaNGoWuXbsqGBlRxTGxT0RERERERFQJzGYzrFYrEhISyt1jPzc3F3FxcTCbzU6FdYmIqHLs3r0bU6ZMQVhYGBISEqDX62GxWJCamoopU6YgMTGRyX1yC0zsExEREREREVWCgoICAIBer4darXZK3uv1eodxRERUuSRJwrx58xAWFoZp06ahVq1ru5S3bdsW06ZNw+TJkzF//nx06dKFV1JRlcc99omIiIiIiIgqgUajAQBYLJZy93K2WCwO44iIqHLZr6SKiYmRk/p2tWrVQkxMDH7//XeYzWaFIiSqOK7YJyIiIiIiIqoERqMRWq0WKSkpKCwsRH5+vtwXGBgIf39/6HQ6GI1GBaMkIqo5yl5JVR5eSUXuhCv2iYiIiIiIiCqBWq1GREQE8vLyYLPZEB8fj/Xr1yM+Ph42mw15eXkIDw/ndg9ERC5S9kqq8vBKKnInTOwTERERERERVQJJkmAymWAwGODt7Y3k5GQMGjQIycnJ8PHxgcFgQGZmJiRJUjpUIqIawX4lVWpqKkpLSx36SktLkZqayiupyG1wKx4iIiIiIiKiSmDfyzkhIQEhISEwm80oKCiARqOB0WhEbm4u4uLiYDabnQrrEhHR3adWqzFq1ChMmTIFkydPRkxMDPR6PSwWC1JTU5GVlYXExEReSUVugYl9IiIiIiIiokpQdi9ntVrtlLznXs5ERK7XtWtXJCYmYt68eYiLi5PbdTodEhMT0bVrVwWjI6o4JvaJiIiIiIiIKkHZvZzLW7HPvZyJiJTRtWtXdOnSxWle5kp9cidM7BMRERERkVs5deoU3nzzTWzduhVXrlxB69atsWTJEjz00EMAACEEEhMTsWjRIpw7dw6dOnXC3Llz0bZtW4Ujp5rGvpdzSkoKCgsLkZ+fL/cFBgbC39+fezkTESmkvCupiNwJi+cSEREREZHbOHfuHLp06QJPT09s3boVP/30E5KTk+Hv7y+PmTlzJmbNmoU5c+YgOzsbWq0WPXr0wIULF5QLnGoktVqNiIgI5OXlwWazIT4+HuvXr0d8fDxsNhvy8vIQHh7OFaJERER0y7hin4iIiIiI3MZ7772H4OBgLFu2TG5r1qyZ/L0QArNnz8akSZMwcOBAAMCKFSsQGBiI1atXY8SIEa4OmWowSZJgMplgMBhQVFSE5ORkuU+n08FgMCAzMxOxsbFM7hMREdEtYWKfiIiIiIjcxqZNm/Dkk08iKioKmZmZaNy4MUaNGoXY2FgA1/Yyt1qt6Nmzp3wbb29vhIeHY8+ePTdM7BcXF6O4uFg+Pn/+fOU+EKoRzGYzrFYrEhISyt1jPzc3F3FxcTCbzdwOgoiIiG4Jt+IhIiIiIiK3cezYMcyfPx+tWrXCtm3bMHLkSIwePRorV64EAFitVgDX9i8vKzAwUO4rz4wZM+Dn5yd/BQcHV96DoBqjoKAAAKDX6+W9nLt3747Q0FCo1Wro9XqHcUREREQVxcQ+ERERERG5jdLSUjz44INISkpCaGgoRowYgdjYWMyfP99hnEqlcjgWQji1lTVx4kQUFRXJXydPnqyU+Klm0Wg0AK5dSSJJEnJycpCRkYGcnBxIkgSLxeIwjoiIiKiiuBUPERERERG5DZ1OhzZt2ji03Xffffjss88AAFqtFsC1lfs6nU4ec+bMGadV/GV5e3vD29u7EiKmmsxoNEKr1SIlJQWFhYXIz8+X+wIDA+Hv7w+dTgej0ahglEREROSOuGKfiIiIiIjcRpcuXZCXl+fQdvjwYTRt2hTAtS1PtFotduzYIffbbDZkZmaic+fOLo2VSK1WIyIiAnl5ebDZbIiPj8f69esRHx8Pm82GvLw8hIeHs3AuERER3TKu2CciIiIiIrfx+uuvo3PnzkhKSsKzzz6Lffv2YdGiRVi0aBGAa1vwjB07FklJSWjVqhVatWqFpKQk1KlTB4MHD1Y4eqppJEmCyWSCwWBAUVERkpOT5T6dTgeDwYDMzEzExsYyuU9ERES3hIl9IiIiIiJyGx07dsTGjRsxceJEvPvuu9Dr9Zg9ezZiYmLkMRMmTMCVK1cwatQonDt3Dp06dcL27dvh6+urYORUE5nNZlitViQkJCAkJARmsxkFBQXQaDQwGo3Izc1FXFwczGYzQkNDlQ6XiKhGsdlsSE9Px+nTpxEUFITIyEh4eXkpHRZRhTGxT0RERFQFSZLklADiak6ia/r164d+/frdsF+lUmHq1KmYOnWq64IiKkdBQQGAa1tEqdVqp+S9Xq93GEdERK6xYMECrFu3DpIkObRFRUVh5MiRCkZGVHFM7BMRERFVMbt378a8efNgtVrlNq1Wi1GjRqFr164KRkZERLdCo9EAACwWC1q1auW0MtRisTiMIyKiyrdgwQKkpaUhICAAw4cPR1hYGLKysrBkyRKkpaUBAJP75BZUQgihdBBVzfnz5+Hn54eioiLUr19f6XCIiP4W5y1l8fmnu2n37t2YMmUKwsLCEBMTA71eD4vFgtTUVGRlZSExMZHJfbojnLMqhs8T3Q2SJCEmJga1atWC1WpFaWmp3FerVi1otVoIIbBq1SpelUV3pLrPWdX98ZHr2Gw29O7dG/Xr18e6devg4fG/Nc8lJSWIiorC+fPnsXXrVm7LQ3fEFfNWrUo5KxERERHdMkmSMG/ePISFhWHatGlo27Yt6tSpg7Zt22LatGkICwvD/PnzHS4ZJiKiqkutVqNFixY4ffo01Go1Bg8ejFWrVmHw4MFQq9U4ffo0mjdvzqQ+EZGLpKenQ5IkDB8+3CGpDwAeHh4YNmwYJElCenq6QhESVVy1TOyXlJRg8uTJ0Ov1qF27Npo3b453333XYXUEERERUVVjL7JoX91ZVq1atRATE4Pff/8dZrNZoQiJiOhW2Gw27N27F3Xr1kWDBg2wevVqvPDCC1i9ejUaNGiAunXrYu/evbDZbEqHSkRUI5w+fRoAEBYWVm6/vd0+jqgqq5Z77L/33ntYsGABVqxYgbZt22L//v14+eWX4efnhzFjxigdHhEREVG5yhZZLA+LLBIRuRf7ytBXX30VvXv3diqKvmXLFiQnJyM9PR1RUVFKh0tEVO0FBQUBALKystCvXz+n/qysLIdxRFVZtVyxn5WVhcjISPTt2xfNmjXDoEGD0LNnT+zfv1/p0IiIiIhuqGyRxfKwyCIRkXspuzJUrVYjNDQU3bt3R2hoKNRqNVeGEhG5WGRkJNRqNZYsWYKSkhKHvpKSEixduhRqtRqRkZEKRUhUcdUysf/oo48iIyMDhw8fBgD88MMP+Pbbb9GnT59yxxcXF+P8+fMOX0RERESuZjQaodVqkZqa6rSFYGlpKVJTU6HT6WA0GhWKkIiIbkXZlaGSJCEnJwcZGRnIycmBJElcGUpE5GJeXl6IiorCuXPnEBUVhc2bN+PPP//E5s2bHdpZOJfcQbXciufNN99EUVERQkJCoFarIUkSpk+fjueff77c8TNmzEBiYqKLoyQiIiJypFarMWrUKEyZMgWTJ09GTEwM9Ho9LBYLUlNTkZWVhcTERBZZJCJyE5GRkViwYAHmz5+PlStX4syZM3Jfo0aNcOnSJa4MJSJysZEjRwIA1q1bh+TkZLldrVYjOjpa7ieq6qplYn/t2rVYtWoVVq9ejbZt2+LgwYMYO3YsgoKCMGTIEKfxEydOxLhx4+Tj8+fPIzg42JUhExEREQEAunbtisTERMybNw9xcXFyu06nQ2JiIrp27apgdEREdCu8vLzwyCOP4LvvvoPNZsPzzz+PPn36YMuWLVi/fj3++usvdOnShStDiYhcbOTIkRg2bBjS09Nx+vRpBAUFITIykvMxuZVqmdh/44038NZbbyE6OhoA0L59e/z666+YMWNGuYl9b29veHt7uzpMIiIionJ17doVXbp0cSqyyJX6RETuRZIk/PLLLwgKCkJ+fj7WrFmDNWvWALi2MjQoKAjHjh2DJEmc44mIXMy+LQ+Ru6qWif3Lly+jVi3H8gFqtdppr1oiIiKiqspeZJGIiNyX2WyG1WrF3Llz0apVK6eVoUeOHEFcXBzMZjPnfCIiIrol1TKx379/f0yfPh333nsv2rZti5ycHMyaNQvDhg1TOjQiIiIiIiKqIQoKCgAAer0earUaLVu2hEajgUajgVqthl6vdxhHREREVFHVMrH/73//GwkJCRg1ahTOnDmDoKAgjBgxAu+8847SoREREREREVENodFoAAAbN27E5s2bYbVa5T6tVot+/fo5jCMiIiKqqGqZ2Pf19cXs2bMxe/ZspUMhIiIiIiKiGspoNMLf3x+LFy9GWFgYEhISoNfrYbFYsGrVKnz88ccICAiA0WhUOlQiIiJyM7X+fggRERERERERVQYhhNIhEBERkRuqliv2iYiIiIiIiJRmNptRWFiI2NhYbN68GXFxcXKfTqdDbGwsFi9ezOK5REREdMu4Yp+IiKqtGTNmoGPHjvD19UWjRo3w9NNPIy8vz2GMEAJTp05FUFAQateujYiICBw6dEihiImIiKg6sRfFHTBgAFJTU/Hhhx8iISEBH374IVatWoUBAwY4jCMiIiKqKCb2iYio2srMzERcXBz27t2LHTt2oKSkBD179sSlS5fkMTNnzsSsWbMwZ84cZGdnQ6vVokePHrhw4YKCkRMREVF1YC+Ka7FYyu23t7N4LhEREd0qbsVDRETV1ldffeVwvGzZMjRq1AgHDhxA165dIYTA7NmzMWnSJAwcOBAAsGLFCgQGBmL16tUYMWKEEmETERFRNWE0GqHVapGSkoLCwkLk5+fLfYGBgfD394dOp2PxXCIiBdhsNqSnp+P06dMICgpCZGQkvLy8lA6LqMKY2CciohqjqKgIgOPqOavVip49e8pjvL29ER4ejj179twwsV9cXIzi4mL5+Pz585UYNREREbkrtVqNiIgIpKWlISAgAPHx8QgLC0NWVhaWLl2KvLw8REdHQ61WKx0qEVGNsmDBAqxbtw6SJDm0RUVFYeTIkQpGRlRxTOwTEVGNIITAuHHj8Oijj6Jdu3YAAKvVCuDairmyAgMD8euvv97wXDNmzEBiYmLlBUtERETVgiRJMJlMMBgMKCoqQnJystyn0+lgMBiQmZmJ2NhYJveJiFxkwYIF8j9chw8fLv/DdcmSJUhLSwMAJvfJLTCxT0RENcJrr70Gs9mMb7/91qlPpVI5HAshnNrKmjhxIsaNGycfnz9/HsHBwXcvWCIiIqoWzGYzrFYrEhISEBISArPZjIKCAmg0GhiNRuTm5iIuLg5msxmhoaFKh0tEVO3ZbDasW7cOAQEBWLduHTw8rqVG+/Xrh169eiEqKgrr1q3DsGHDuC0PVXksnktERNXeP//5T2zatAlff/01mjRpIrdrtVoA/1u5b3fmzBmnVfxleXt7o379+g5fRERERNcrKCgAAOj1eqjVaoSGhqJ79+4IDQ2FWq2GXq93GEdERJUrPT0dkiRh+PDhclLfzsPDA8OGDYMkSUhPT1coQqKKY2KfiIiqLSEEXnvtNWzYsAG7du2SPzzb6fV6aLVa7NixQ26z2WzIzMxE586dXR0uERERVTNl6/pIkoScnBxkZGQgJycHkiTBYrE4jCMiosp1+vRpAEBYWFi5/fZ2+ziiqoxb8RARUbUVFxeH1atXIz09Hb6+vvLKfD8/P9SuXRsqlQpjx45FUlISWrVqhVatWiEpKQl16tTB4MGDFY6eiIiI3J3RaIRWq0VKSgoKCwuRn58v9wUGBsLf3x86nQ5Go1HBKImIao6goCAAQFZWFvr16+fUn5WV5TCOqCpjYp+IiKqt+fPnAwAiIiIc2pctW4ahQ4cCACZMmIArV65g1KhROHfuHDp16oTt27fD19fXxdESEVVPoaGhN61bUtb3339fydEQuZZarUZERIRcpDE+Pl4u0rh06VLk5eUhOjqahXOJiFwkMjISCxYswJIlS9CrVy+H7XhKSkqwdOlSqNVqREZGKhglUcUwsU9ERNWWEOJvx6hUKkydOhVTp06t/ICIiGqgp59+Wv7+6tWrmDdvHtq0aSNf6r53714cOnQIo0aNUihCosojSRJMJhMMBgOKioqQnJws9+l0OhgMBmRmZiI2NpbJfSIiF/Dy8kJUVBTS0tIQFRWFYcOGOfzD9dy5c4iOjmbhXHILTOwTEREREVGlmTJlivz9K6+8gtGjR+Nf//qX05iTJ0+6OjSiSmc2m2G1WpGQkICQkBCYzWYUFBRAo9HAaDQiNzcXcXFxMJvNCA0NVTpcIqIaYeTIkQCAdevWOfzDVa1WIzo6Wu4nquqY2CciIiIiIpdYt24d9u/f79T+wgsvoEOHDli6dKkCURFVnoKCAgCAXq+HWq12St7r9XqHcURE5BojR47EsGHDkJ6ejtOnTyMoKAiRkZFcqU9uhYl9IiIiIiJyidq1a+Pbb79Fq1atHNq//fZb+Pj4KBQVUeXRaDQAAIvFUu6KfYvF4jCOiIhcx74tD5G7YmKfiIiIiIhcYuzYsXj11Vdx4MABPPLIIwCu7bG/dOlSvPPOOwpHR3T3GY1GaLVapKSkoLCwEPn5+XJfYGAg/P39odPpYDQaFYySiIiI3BET+0RERERVkNlsxujRo+XjlJQUJn7I7b311lto3rw5PvroI6xevRoAcN9992H58uV49tlnFY6O6O5Tq9WIiIhAWloaAgICEB8f71CkMS8vD9HR0SycS0RERLeMiX0iIiKiKiYiIsKpzZ7kN5lMrg2G6C579tlnmcSnGkOSJJhMJhgMBhQVFTkUadTpdDAYDMjMzERsbCyT+0RERHRLmNgnIiIiqkKuT+o/+eST2LZtm0M/k/vkzgoLC7F+/XocO3YM48ePh0ajwffff4/AwEA0btxY6fCI7iqz2Qyr1YqEhIRy99jPzc1FXFwczGazU2FdIiIiopthYp+IiIioijCbzfL3ixYtQuvWrQEAEydOxOHDh/GPf/xDHsdtecgdmc1mPPHEE/Dz88Px48fxyiuvQKPRYOPGjfj111+xcuVKpUMkuqsKCgoAAHq9Hmq12il5r9frHcYRERERVVQtpQMgIiIiomvK7qlvT+qXd1x2HJE7GTduHIYOHYojR47Ax8dHbu/duzd2796tYGRElUOj0QAALBYLJElCTk4OMjIykJOTA0mSYLFYHMYRERERVRRX7BMRERFVMU8++WS57Y8//jh27drl4miI7p7s7GwsXLjQqb1x48awWq0KRERUuYxGI7RaLVJSUlBYWIj8/Hy5LzAwEP7+/tDpdLwKi4iIiG4ZV+wTERERVTFl99Qvi0l9cnc+Pj44f/68U3teXh7uueceBSIiqlxqtRoRERHIy8uDzWZDfHw81q9fj/j4eNhsNuTl5SE8PJyFc4mIiOiWMbFPREREVEWkpKTI3x8+fNihr+xx2XFE7iQyMhLvvvsu/vrrLwCASqXCiRMn8NZbb+GZZ55RODqiu0+SJJhMJhgMBnh7eyM5ORmDBg1CcnIyfHx8YDAYkJmZCUmSlA6ViKjGuXLlCmbPno3x48dj9uzZuHLlitIhEd0SbsVDREREVEWU3YrBXii3vO13uGUDuasPPvgAffr0QaNGjXDlyhWEh4fDarUiLCwM06dPVzo8orvObDbDarUiISEBISEhMJvNKCgogEajgdFoRG5uLuLi4mA2m50K6xK5i927d+P999/HgQMH8Pvvv2Pjxo14+umn5f6hQ4dixYoVDrfp1KkT9u7d6+JIif5n0qRJ+O677+Tj/fv34/PPP0eXLl34noTcBhP7RERERFWIyWRCRESEfHx9Ut9kMrk2IKK7qH79+vj222+xa9cufP/99ygtLcWDDz6IJ554QunQiCpFQUEBAECv10OtVjsl7/V6vcM4Ind06dIl3H///Xj55ZdvePVVr169sGzZMvnYy8vLVeERObEn9T09PREVFYU+ffpgy5YtWLduHb777jtMmjSJyX1yC0zsExEREVUxJpMJZrMZo0ePlttSUlK4Up+qjccffxyPP/640mEQVTqNRgMAsFgs5a7Yt1gsDuOI3FHv3r3Ru3fvm47x9vaGVqt1UUREN3blyhU5qf/ll1/K/2T6xz/+gaFDh6Jv37747rvvcOXKFdSuXVvhaIlujol9IiIioirIaDRydT5VC7dSE6LsP7OIqgOj0QitVouUlBQUFhYiPz9f7gsMDIS/vz90Oh3/cUvVnslkQqNGjeDv74/w8HBMnz4djRo1uuH44uJiFBcXy8flFV4nuh0LFy4EAERFRTldOeLl5YVBgwZhzZo1WLhwIcaOHatAhEQVx8Q+ERERERFVmg8//LBC41QqFRP7VO2o1WpEREQgLS0NAQEBiI+PR1hYGLKysrB06VLk5eUhOjoaarVa6VCJKk3v3r0RFRWFpk2bwmKxICEhAY8//jgOHDgAb2/vcm8zY8YMJCYmujhSqgl+++03AECfPn3K7e/Tpw/WrFkjjyOqypjYJyIiIiKiSmPfaoSoJpIkCSaTCQaDAUVFRUhOTpb7dDodDAYDMjMzERsby+Q+VVvPPfec/H27du3QoUMHNG3aFF9++SUGDhxY7m0mTpyIcePGycfnz59HcHBwpcdK1V+TJk2wf/9+bNmyBf/4xz+c+rds2SKPI6rqmNgnIiIiIiKXstlssFgsaNGiBTw8+JGEqi+z2Qyr1YqEhIRy99jPzc1FXFwczGazU2FdoupKp9OhadOmOHLkyA3HeHt733A1P9GdGDFiBD7//HOsW7cOQ4cOddiOx2azYf369fI4oqqultIBEBERERFRzXD58mUMHz4cderUQdu2bXHixAkA1/bW/7//+z+FoyO6+woKCgAAer0earUaoaGh6N69O0JDQ6FWq6HX6x3GEdUEZ8+excmTJ6HT6ZQOhWqg2rVro0uXLvjrr7/Qt29fLFy4ECdPnsTChQvRt29f/PXXX+jSpQsL55JbYGKfiIiIiIhcYuLEifjhhx9gMpng4+Mjtz/xxBNYu3atgpERVQ6NRgPg2pZUkiQhJycHGRkZyMnJgSRJ8lZV9nFE7ujixYs4ePAgDh48CODa7/vBgwdx4sQJXLx4EePHj0dWVhaOHz8Ok8mE/v37o2HDhhgwYICygVONNX36dDm5v2bNGrz44otYs2aNnNSfPn260iESVQiveyUiIiIiIpf4/PPPsXbtWjzyyCNQqVRye5s2bfDLL79U6BxTp051KqgYGBgIq9UKABBCIDExEYsWLcK5c+fQqVMnzJ07F23btr17D4SogoxGI7RaLVJSUlBYWIj8/Hy5LzAwEP7+/tDpdDAajQpGSXRn9u/fj27dusnH9r3xhwwZgvnz5+PHH3/EypUrUVhYCJ1Oh27dumHt2rXw9fVVKmQiTJ8+HVeuXMHChQvx22+/oUmTJhgxYgRX6pNbYWKfiIiIiIhc4o8//kCjRo2c2i9duuSQ6P87bdu2xc6dO+XjskVHZ86ciVmzZmH58uVo3bo1pk2bhh49eiAvL49JJHI5tVqNiIgIpKWlISAgAPHx8QgLC0NWVhaWLl2KvLw8REdHs3AuubWIiAgIIW7Yv23bNhdGQ1RxtWvXxtixY5UOg+i2cSseIiIiIiJyiY4dO+LLL7+Uj+3J/MWLFyMsLKzC5/Hw8IBWq5W/7rnnHgDXVuvPnj0bkyZNwsCBA9GuXTusWLECly9fxurVq+/ugyGqAEmSYDKZYDAY4O3tjeTkZAwaNAjJycnw8fGBwWBAZmYmJElSOlQiIiJyM1yxT0RERERELjFjxgz06tULP/30E0pKSvDRRx/h0KFDyMrKQmZmZoXPc+TIEQQFBcHb2xudOnVCUlISmjdvDovFAqvVip49e8pjvb29ER4ejj179mDEiBE3PGdxcTGKi4vl4/Pnz9/egyQqw2w2w2q1IiEhASEhITCbzSgoKIBGo4HRaERubi7i4uJgNpsRGhqqdLhERETkRrhin4iIiIiIXKJz58747rvvcPnyZbRo0QLbt29HYGAgsrKy8NBDD1XoHJ06dcLKlSuxbds2LF68GFarFZ07d8bZs2flffYDAwMdblN2D/4bmTFjBvz8/OSv4ODg23uQRGUUFBQAAPR6PdRqNUJDQ9G9e3eEhoZCrVZDr9c7jCMiIiKqKK7YJyIiIiIil2nfvj1WrFhx27fv3bu3w7nCwsLQokULrFixAo888ggAOO3XL4T42z38J06cKBd8BK6t2Gdyn+6URqMBAFgslnJX7FssFodxRERERBXFxD4REREREbnEli1boFar8eSTTzq0b9u2DaWlpQ5J+4qqW7cu2rdvjyNHjuDpp58GAFitVuh0OnnMmTNnnFbxX8/b2xve3t63fP9EN2M0GqHVapGSkoLCwkLk5+fLfYGBgfD394dOp4PRaFQwSiIiInJH3IqHiIiIiIhc4q233iq3SKgQAm+99dZtnbO4uBg///wzdDod9Ho9tFotduzYIffbbDZkZmaic+fOtx030e1Sq9WIiIhAXl4ebDYb4uPjsX79esTHx8NmsyEvLw/h4eFQq9VKh0pERERuhiv2iYiIiIjIJY4cOYI2bdo4tYeEhODo0aMVOsf48ePRv39/3HvvvThz5gymTZuG8+fPY8iQIVCpVBg7diySkpLQqlUrtGrVCklJSahTpw4GDx58tx8O0d+SJAkmkwkGgwFFRUVITk6W+3Q6HQwGAzIzMxEbG8vkPhEREd0SJvaJiIiIiMgl/Pz8cOzYMTRr1syh/ejRo6hbt26FzvHbb7/h+eefx59//ol77rkHjzzyCPbu3YumTZsCACZMmIArV65g1KhROHfuHDp16oTt27fD19f3bj8cor9lNpthtVqRkJBQ7h77ubm5iIuLg9lsRmhoqNLhEhERkRthYp+IiIiIiFziqaeewtixY7Fx40a0aNECwLWkfnx8PJ566qkKnSMtLe2m/SqVClOnTsXUqVPvNFyiO1ZQUAAA0Ov1kCQJR48exenTpxEUFIS2bdtCr9c7jCMiItcpKirCpEmTkJ+fj8DAQEyfPh1+fn5Kh0VUYUzsExFRlbRixQo0bNgQffv2BXBtBeaiRYvQpk0brFmzRl6ZSURE7uP9999Hr169EBISgiZNmgC4tgL/sccewwcffKBwdER3n0ajAQDMmjULX3/9tUONiQULFqBbt24O44iIyDViYmJw6tQp+fiPP/5AZGQkGjdujNTUVAUjI6o4Fs8lIqIqKSkpCbVr1wYAZGVlYc6cOZg5cyYaNmyI119/XeHoiIjodvj5+WHPnj348ssvMWrUKMTHxyMjIwO7du2Cv7+/0uER3XVGoxF169bFzp074evri/Hjx+Ozzz7D+PHj4evri507d6Ju3bowGo1Kh0pEVGOUTeo//PDDmDNnDh5++GEAwKlTpxATE6NkeEQVxhX7RERUJZ08eRItW7YEAHz++ecYNGgQ/vGPf6BLly6IiIhQNjgiIrptKpUKPXv2RM+ePZUOhajSSZKEK1euAADuu+8+6PV61K5dG3q9Hvfddx+ysrJw5coVSJLE4rlERC5QVFQkJ/W3bNmCOnXqAABmzpyJy5cvo0+fPjh16hSKioq4LQ9VeUzsExFRlVSvXj2cPXsW9957L7Zv3y6v0vfx8ZE/IBMRkfvJyMhARkYGzpw5g9LSUoe+pUuXKhQVUeVIT09HaWkpnnrqKezbtw9xcXFyn06nw1NPPYVNmzYhPT0dUVFRCkZKRFQzTJo0CcC1lfr2pL5dnTp10LFjR2RnZ2PSpEmYM2eOEiESVRgT+0REVCX16NEDr7zyCkJDQ3H48GF5r/1Dhw6hWbNmygZHRES3JTExEe+++y46dOgAnU4HlUqldEhEler06dMAgCFDhmDMmDEwm80oKCiARqOB0WjEuXPnsGnTJnkcERFVrvz8fADASy+9VG7/iy++iOzsbHkcUVXGxD4REVVJc+fOxeTJk3Hy5El89tlnaNCgAQDgwIEDeP755xWOjoiIbseCBQuwfPlyvPjii0qHQuQSQUFBAK7VC+rdu7dTf1ZWlsM4IiKqXIGBgfjjjz+wcuVKzJw506n/k08+kccRVXUqIYRQOoiq5vz58/Dz80NRURHq16+vdDhERH+L85ay+PwTkTtRcs5q0KAB9u3bhxYtWrj0fm8H53a6G2w2G3r37g0fHx/UrVsXZ86ckfsaNWqES5cu4erVq9i6dSu8vLwUjJTcXXWfs6r74yPXKSoqQmRkJADHPfYByHvsA9e2UuMe+3QnXDFvccU+ERFVWYWFhdi3b5/TPswqlYqrPYmI3NArr7yC1atXIyEhQelQiFzCy8sLjzzyCL777jvYbDY8//zz6NOnD7Zs2YL169fjr7/+QpcuXZjUJyJyET8/PzRu3BinTp1Cnz590LFjR7z44ov45JNPkJ2dDQBo3Lgxk/rkFpjYJyKiKmnz5s2IiYnBpUuX4Ovr67APMxP7RETu6erVq1i0aBF27twJo9EIT09Ph/5Zs2YpFBlR5ZAkCb/88guCgoKQn5+PNWvWYM2aNQAAtVqNoKAgHDt2DJIkQa1WKxwtEVHNkJqaipiYGJw6dQrZ2dlyQh+4ltRPTU1VMDqiimNin4iIqqT4+HgMGzYMSUlJDpdHEhGR+zKbzXjggQcAAP/9738d+lhIl6ojs9kMq9WKuXPnolWrVkhPT8fp06cRFBSEyMhIHDlyBHFxcTCbzQgNDVU6XCKiGiM1NRVFRUWYNGkS8vPzERgYiOnTp3OlPrkVJvaJiKhKOnXqFEaPHs2kPhFRNfL1118rHQKRSxUUFAAA9Ho9vLy8EBUV5dCv1+sdxhERkev4+flhzpw5SodBdNtqKR0AERFReZ588kns379f6TCIiIiIbptGowEAWCwWSJKEnJwcZGRkICcnB5IkwWKxOIwjIiIiqiiu2Ccioiqpb9++eOONN/DTTz+hffv2TvswP/XUUwpFRkREdyI7Oxvr1q3DiRMnYLPZHPo2bNigUFRElcNoNEKr1SIlJQWFhYXIz8+X+wIDA+Hv7w+dTgej0ahglEREROSOmNgnIqIqKTY2FgDw7rvvOvWpVCpIkuTqkIiI6A6lpaXhpZdeQs+ePbFjxw707NkTR44cgdVqxYABA5QOj+iuU6vViIiIQFpaGgICAhAfH4+wsDBkZWVh6dKlyMvLQ3R0NAvnEhER0S1jYp+IiKqk0tJSpUMgIqK7LCkpCR9++CHi4uLg6+uLjz76CHq9HiNGjIBOp1M6PKK7TpIkmEwmGAwGFBUVITk5We7T6XQwGAzIzMxEbGwsk/tERER0S5jYJyIiIiIil/jll1/Qt29fAIC3tzcuXboElUqF119/HY8//jgSExMVjpDo7jKbzbBarUhISEBISAjMZjMKCgqg0WhgNBqRm5uLuLg4mM1mhIaGKh0uERERuREWzyUioiorMzMT/fv3R8uWLdGqVSs89dRT+Oabb5QOi4iIbpNGo8GFCxcAAI0bN8Z///tfAEBhYSEuX76sZGhElaKgoAAAoNfroVarERoaiu7duyM0NBRqtRp6vd5hHBEREVFFMbFPRERV0qpVq/DEE0+gTp06GD16NF577TXUrl0b3bt3x+rVq5UOj4iIbsNjjz2GHTt2AACeffZZjBkzBrGxsXj++efRvXt3haMjuvs0Gg0AwGKxQJIk5OTkICMjAzk5OZAkCRaLxWEcERERUUVxKx4iIqqSpk+fjpkzZ+L111+X28aMGYNZs2bhX//6FwYPHqxgdEREdDvmzJmDq1evAgAmTpwIT09PfPvttxg4cCASEhIUjo7o7jMajdBqtUhJSUFhYSHy8/PlvsDAQPj7+0On08FoNCoYJdH/FBYWwt/fX+kwiIioArhin4iIqqRjx46hf//+Tu1PPfWUvLqNiIjci0ajQVBQEACgVq1amDBhAjZt2oRZs2YhICBA4eiI7j61Wo2IiAjk5eXBZrMhPj4e69evR3x8PGw2G/Ly8hAeHs7CuaSI9957D2vXrpWPn332WTRo0ACNGzfGDz/8oGBkRERUEUzsExFRlRQcHIyMjAyn9oyMDAQHBysQERER3aktW7Zg27ZtTu3bt2/H1q1bFYiIqHJJkgSTyQSDwQBvb28kJydj0KBBSE5Oho+PDwwGAzIzMyFJktKhUg20cOFC+X31jh07sGPHDmzduhW9e/fGG2+8oXB0RJWvqKgIr732GqKiovDaa6+hqKhI6ZCIbgm34iEioiopPj4eo0ePxsGDB9G5c2eoVCp8++23WL58OT766COlwyMiotvw1ltv4f/+7/+c2ktLS/HWW2+hd+/eCkRFVHnMZjOsVisSEhIQEhICs9mMgoICaDQaGI1G5ObmIi4uDmazGaGhoUqHSzXM77//Lif2v/jiCzz77LPo2bMnmjVrhk6dOikcHVHliomJwalTp+TjP/74A5GRkWjcuDFSU1MVjIyo4pjYJyKiKunVV1+FVqtFcnIyPv30UwDAfffdh7Vr1yIyMlLh6IiI6HYcOXIEbdq0cWoPCQnB0aNHFYiIqHIVFBQAAPR6PdRqtVPyXq/XO4wjcqWAgACcPHkSwcHB+OqrrzBt2jQAgBCCV5FQtVY2qf/www/jpZdewsqVK7Fv3z6cOnUKMTExTO6TW2Bin4iIqqwBAwZgwIABSodBRER3iZ+fH44dO4ZmzZo5tB89ehR169ZVJiiiSqTRaAAAFosFrVq1Qnp6Ok6fPo2goCBERkbKdYPs44hcaeDAgRg8eDBatWqFs2fPyldNHTx4EC1btlQ4OqLKUVRUJCf1t2zZgjp16gAAZs6cicuXL6NPnz44deoUioqK4Ofnp2SoRH+LiX0iIiIiInKJp556CmPHjsXGjRvRokULANeS+vHx8XjqqacUjo7o7jMajdBqtZg+fTqsVitKS0vlvvnz50Or1UKn08FoNCoYJdVUH374IZo1a4aTJ09i5syZqFevHoBrW/SMGjVK4eiIKsekSZMAXFupb0/q29WpUwcdO3ZEdnY2Jk2ahDlz5igRIlGFMbFPRERVhkajweHDh9GwYUMEBARApVLdcCwvWScicj/vv/8+evXqhZCQEDRp0gQA8Ntvv+Gxxx7DBx98oHB0RHefWq1GixYt8N1338HT0xPR0dHo06cPtmzZgnXr1uH06dPo0qUL1Gq10qFSDeTp6Ynx48c7tY8dO9b1wRC5SH5+PgDgpZdeKrf/xRdfRHZ2tjyOqCpjYp+IiKqMDz/8EL6+vvL3N0vsExGR+/Hz88OePXuwY8cO/PDDD6hduzaMRiO6du2qdGhElcJms2Hv3r2oW7cufH19sXr1aqxevRoAoNVqceHCBezduxc2mw1eXl4KR0s10SeffIKFCxfi2LFjyMrKQtOmTTF79mzo9XrWtaJqKTAwEH/88QdWrlyJmTNnOvV/8skn8jiiqo6JfSIiqjKGDBkifz906FDlAiEiokqjUqnQs2dP9OzZ84Zj2rdvjy1btiA4ONiFkRHdfenp6ZAkCa+++ip69+4Ns9mMgoICaDQaGI1GbNmyBcnJyUhPT0dUVJTS4VINM3/+fLzzzjsYO3Yspk+fLhfM9ff3x+zZs5nYp2pp+vTpiIyMxL59+3D58mWH7XguX76M7OxseRxRVVdL6QCIiIjKo1arcebMGaf2s2fP8nJ1IqJq7vjx4/jrr7+UDoPojp0+fRoAEBYWBrVajdDQUHTv3h2hoaFQq9UICwtzGEfkSv/+97+xePFiTJo0yeH9dYcOHfDjjz8qGBlR5fHz80Pjxo0BAH369MEbb7wBs9mMN954A3369AEANG7cmIVzyS1U28T+qVOn8MILL6BBgwaoU6cOHnjgARw4cEDpsIiIqIKEEOW2FxcX81J1IiIicgtBQUEAgKysLEiShJycHGRkZCAnJweSJCErK8thHJErWSwWhIaGOrV7e3vj0qVLCkRE5Bqpqalycj87OxujR4+WV+o3btwYqampSoZHVGHVciuec+fOoUuXLujWrRu2bt2KRo0a4ZdffoG/v7/SoRER0d9ISUkBcG2rho8//hj16tWT+yRJwu7duxESEqJUeEREREQVFhkZiQULFmD+/PlYuXKlw9WIjRo1wqVLl6BWq7nlCSlCr9fj4MGDaNq0qUP71q1b0aZNG4WiInKN1NRUFBUVYdKkScjPz0dgYCCmT5/OlfrkVqplYv+9995DcHAwli1bJrc1a9ZMuYCIiKjCPvzwQwDXVuwvWLDA4bJgLy8vNGvWDAsWLFAqPCIiIqIK8/LywiOPPILvvvsONpsNzz//PPr06YMtW7Zg/fr1+Ouvv9ClSxdejUiKeOONNxAXF4erV69CCIF9+/ZhzZo1mDFjBj7++GOlwyOqdH5+fpgzZ47SYRDdtmqZ2N+0aROefPJJREVFITMzE40bN8aoUaMQGxtb7vji4mIUFxfLx+fPn3dVqEREdB2LxQIA6NatGzZs2ICAgACFIyIiIiK6PZIk4ZdffkFQUBDy8/OxZs0arFmzBsC1ekJBQUE4duwYJEliDSFyuZdffhklJSWYMGECLl++jMGDB6Nx48b46KOPEB0drXR4RET0N6plYv/YsWOYP38+xo0bh7fffhv79u3D6NGj4e3tjZdeeslp/IwZM5CYmKhApEREdCNff/210iEQERER3RGz2Qyr1Yq5c+eiVatWSE9Px+nTpxEUFITIyEgcOXIEcXFxMJvN5e51TlTZYmNjERsbiz///BOlpaVo1KiR0iEREVEFVcvEfmlpKTp06ICkpCQAQGhoKA4dOoT58+eXm9ifOHEixo0bJx+fP38ewcHBLouXiIjK99tvv2HTpk04ceIEbDabQ9+sWbMUioqIiG7XypUr8dxzz8Hb29uh3WazIS0tTX6vvnDhQgQGBioRItFdVVBQAODaXuZeXl6Iiopy6Nfr9Q7jiJTSsGFDpUMgIqJbVC0T+zqdzqnQy3333YfPPvus3PHe3t5OHy6IiEhZGRkZeOqpp6DX65GXl4d27drh+PHjEELgwQcfVDo8IiK6DS+//DJ69erltCL0woULePnll+XE/uDBg5UIj+iu02g0AK5tNRgSEgKz2YyCggJoNBoYjUZ5C0L7OCJXCg0NhUqlcmpXqVTw8fFBy5YtMXToUHTr1k2B6IiI6O9Uy8R+ly5dkJeX59B2+PBhp0rvRERUdU2cOBHx8fF499134evri88++wyNGjVCTEwMevXqpXR4RER0G4QQ5SaRfvvtN/j5+SkQEVHlMhqN0Gq1SElJQWFhIfLz8+W+wMBA+Pv7Q6fTwWg0Khgl1VS9evXC/Pnz0b59ezz88MMQQmD//v0wm80YOnQofvrpJzzxxBPYsGEDIiMjlQ6XiIiuUy0T+6+//jo6d+6MpKQkPPvss9i3bx8WLVqERYsWKR0aERFV0M8//ywXl/Pw8MCVK1dQr149vPvuu4iMjMSrr76qcIRERFRR9lWhKpUK3bt3h4fH/z6GSJIEi8XCf9pStaRWqxEREYG0tDQEBAQgPj4eYWFhyMrKwtKlS5GXl4fo6GgWziVF/Pnnn4iPj0dCQoJD+7Rp0/Drr79i+/btmDJlCv71r38xsU9EVAVVy8R+x44dsXHjRkycOBHvvvsu9Ho9Zs+ejZiYGKVDIyKiCqpbty6Ki4sBAEFBQfjll1/Qtm1bANc+hBARkft4+umnAQAHDx7Ek08+iXr16sl9Xl5eaNasGZ555hmFoiOqPJIkwWQywWAwoKioCMnJyXKfTqeDwWBAZmYmYmNjmdwnl/v0009x4MABp/bo6Gg89NBDWLx4MZ5//nnWtiIiqqKqZWIfAPr164d+/fopHQYREd2mRx55BN999x3atGmDvn37Ij4+Hj/++CM2bNiARx55pMLn2b17N95//30cOHAAv//+OzZu3CgnmABg6NChWLFihcNtOnXqhL17996th0JEVONNmTIFANCsWTM899xz8PHxUTgiItcwm82wWq1ISEgod4/93NxcxMXFwWw2IzQ0VOlwqYbx8fHBnj170LJlS4f2PXv2yPN0aWkpaxISEVVR1TaxT0RE7m3WrFm4ePEiAGDq1Km4ePEi1q5di5YtW+LDDz+s8HkuXbqE+++/Hy+//PINV4P26tULy5Ytk4+9vLzuLHgiIirXkCFDAAAHDhzAzz//DJVKhTZt2jChSdVWQUEBAECv10OtVjv9ruv1eodxRK70z3/+EyNHjsSBAwfQsWNHqFQq7Nu3Dx9//DHefvttAMC2bds4R1O1ZbPZkJ6ejtOnTyMoKAiRkZH8LEhuhYl9IiKqkpo3by5/X6dOHcybN++2ztO7d2/07t37pmO8vb2h1WorfM7i4mJ5myAAOH/+/G3FRkRU05w5cwbR0dEwmUzw9/eHEAJFRUXo1q0b0tLScM899ygdItFdpdFoAAAWi6XcFfsWi8VhHJErTZ48GXq9HnPmzMEnn3wCADAYDFi8eDEGDx4MABg5ciRrW1G1tGDBAqxbtw6SJDm0RUVFYeTIkQpGRlRxTOwTEVGNZzKZ0KhRI/j7+yM8PBzTp09Ho0aNbjh+xowZSExMdGGERETVwz//+U+cP38ehw4dwn333QcA+OmnnzBkyBCMHj1aLppOVF0YjUZotVqkpKSgsLAQ+fn5cl9gYCD8/f2h0+lgNBoVjJJqspiYmJvWI6xdu7YLoyFyjQULFshFzYcPHy4XNV+yZAnS0tIAgMl9cgsqIYRQOoiq5vz58/Dz80NRURHq16+vdDhERH+rusxbAQEBUKlUFRp7O5esq1Qqpz32165di3r16qFp06awWCxISEhASUkJDhw4cMP9RMtbsR8cHOz2zz8R1QxKvmb4+flh586d6Nixo0P7vn370LNnTxQWFro0npupLq+tpLyyCaRhw4bJCaSlS5fi3LlziI6OZgKJ7tidzFk2mw1nzpxBaWmpQ/u99957N0O8I5yT6W6x2Wzo3bs36tevj3Xr1sHD439rnktKShAVFYXz589j69at3JaH7ogr5i2u2Ccioipj9uzZLr/P5557Tv6+Xbt26NChA5o2bYovv/wSAwcOLPc23t7eLCJGRHQbSktL4enp6dTu6enplFAiqg4kSYLJZILBYEBRURGSk5PlPp1OB4PBgMzMTMTGxkKtVisYKdVER44cwbBhw7Bnzx6HdiEEVCqVwxYlRNVFeno6JEnC8OHDHZL6AODh4YFhw4YhOTkZ6enpiIqKUihKoophYp+IiKoMe1FFJel0OjRt2hRHjhxROhQiomrn8ccfx5gxY7BmzRoEBQUBAE6dOoXXX38d3bt3Vzg6orvPbDbDarUiISGh3D32c3NzERcXB7PZzAKl5HJDhw6Fh4cHvvjiC+h0ugpfOUvkzk6fPg0ACAsLK7ff3m4fR1SVMbFPRERVxq0Uoa2sS9nOnj2LkydPQqfTVcr5iYhqsjlz5iAyMhLNmjVDcHAwVCoVTpw4gfbt22PVqlVKh0d019m3DtTr9eX229tvZ4tBojt18OBBHDhwACEhIUqHQuQy9oUFWVlZ6Nevn1N/VlaWwziiqoyJfSIiqjL8/f3/dqXQrV4afPHiRRw9elQ+tlgsOHjwIDQaDTQaDaZOnYpnnnkGOp0Ox48fx9tvv42GDRtiwIABd/RYiIjIWXBwML7//nvs2LEDubm5EEKgTZs2eOKJJ5QOjahSaDQaAMDGjRuxefNmWK1WuU+r1cpJJfs4Ildq06YN/vzzT6XDIHKpyMhILFiwAEuWLEGvXr2c9thfunQp1Go1IiMjFYySqGKY2Ccioirj66+/vuvn3L9/P7p16yYfjxs3DsC1bX/mz5+PH3/8EStXrkRhYSF0Oh26deuGtWvXwtfX967HQkRE1/To0QM9evS4K+eaMWMG3n77bYwZM0au1SKEQGJiIhYtWoRz586hU6dOmDt3Ltq2bXtX7pOoooxGI/z9/bF48WKEhYUhISEBer0eFosFq1atwscff4yAgAAYjUalQ6Ua6L333sOECROQlJSE9u3bO9VAYZFaqo68vLwQFRWFtLQ0REVF3bCoOQvnkjtgYp+IiKqM8PDwu37OiIgICCFu2L9t27a7fp9ERHRjGRkZyMjIwJkzZ5wK5i5duvSWzpWdnY1FixY5JUVnzpyJWbNmYfny5WjdujWmTZuGHj16IC8vj/+4pSrnZu9TiCqT/Wqp62ucsHguVXcjR44EAKxbt86hqLlarUZ0dLTcT1TVMbFPRERV1jfffIOFCxfi2LFjWLduHRo3boxPPvkEer0ejz76qNLhERHRLUpMTMS7776LDh063HGhxosXLyImJgaLFy/GtGnT5HYhBGbPno1JkyZh4MCBAIAVK1YgMDAQq1evxogRI8o9X3FxMYqLi+XjW6n7QnQjZrMZhYWFiI2NxebNmxEXFyf36XQ6xMbGYvHixSyeS4qojKtlidzFyJEjMWzYMKSnp+P06dMICgpCZGQkV+qTW2Fin4iIqqTPPvsML774ImJiYvD999/LyZYLFy4gKSkJW7ZsUThCIiK6VQsWLMDy5cvx4osv3vG54uLi0LdvXzzxxBMOiX2LxQKr1YqePXvKbd7e3ggPD8eePXtumNifMWMGEhMT7zguorLsRXEHDBiA6OhomM1mFBQUQKPRwGg0ori4GIsXL2bxXFJEZVwtS+RO7NvyELmrWkoHQEREVJ5p06ZhwYIFWLx4scN+n507d8b333+vYGRERHS7bDYbOnfufMfnSUtLw/fff48ZM2Y49dmLkwYGBjq0BwYGOhQuvd7EiRNRVFQkf508efKO4ySyF8W1WCzl9tvbWTyXlHT58mXk5ubCbDY7fBERUdXGFftERFQl5eXloWvXrk7t9evXR2FhoesDIiKiO/bKK69g9erVSEhIuO1znDx5EmPGjMH27dvh4+Nzw3HXb/Nj3zP6Rry9veHt7X3bcRGVx2g0QqvVIiUlBYWFhcjPz5f7AgMD4e/vD51Ox+K5pIg//vgDL7/8MrZu3VpuP/fYJyKq2pjYJyKiKkmn0+Ho0aNo1qyZQ/u3336L5s2bKxMUkQsdPXoUsbGxcjJy8eLFaNmypdJhEd2Rq1evYtGiRdi5cyeMRqPDFVkAMGvWrL89x4EDB3DmzBk89NBDcpskSdi9ezfmzJmDvLw8ANdW7ut0OnnMmTNnnFbxE1U2tVqNiIgIpKWlISAgAPHx8QgLC0NWVhaWLl2KvLw8REdHQ61WKx0q1UBjx47FuXPnsHfvXnTr1g0bN25Efn4+pk2b5lBQlIiIqiYm9omIqEoaMWIExowZg6VLl0KlUuH06dPIysrC+PHj8c477ygdHlGlioiIcDgWQuCVV14BAJhMJtcHRHSXmM1mPPDAAwCA//73vw59FS2k2717d/z4448ObS+//DJCQkLw5ptvonnz5tBqtdixY4dcjNRmsyEzMxPvvffenT8IolsgSRJMJhMMBgOKioockqU6nQ4GgwGZmZmIjY1lcp9cbteuXUhPT0fHjh1Rq1YtNG3aFD169ED9+vUxY8YM9O3bV+kQiYjoJhRN7EuShB9//BFNmzZFQECAkqEQEVEVM2HCBBQVFaFbt264evUqunbtCm9vb4wfPx6vvfaa0uERVZqySX21Wo3Bgwdj9erV8uXwERERTO6T2/r6668rNO63335DUFAQatVyLgnm6+uLdu3aObTVrVsXDRo0kNvHjh2LpKQktGrVCq1atUJSUhLq1KmDwYMH3/mDILoFZrMZVqsVCQkJCAkJcSqem5ubi7i4OJjNZvkfUUSucunSJTRq1AjAtToPf/zxB1q3bo327duzphURkRtwaWJ/7NixaN++PYYPHw5JkhAeHo49e/agTp06+OKLL5xWpxERUc02ffp0TJo0CT/99BNKS0vRpk0b1KtXT+mwiCrN0aNH5e9XrVqFJk2aAACGDx+O3377DS+88II8jtvyUHXWpk0bHDx48La3XpswYQKuXLmCUaNG4dy5c+jUqRO2b98OX1/fuxwp0c0VFBQAAPR6PdRqtVPyXq/XO4wjciWDwYC8vDw0a9YMDzzwABYuXIhmzZphwYIFDluZERFR1eTSxP769evlD6SbN2+GxWJBbm4uVq5ciUmTJuG7775zZThERFSFFRUVQZIkaDQadOjQQW4vKCiAh4cH6tevr2B0RJUjNjYWwLWV+vakvl2TJk2gVqshSRJiY2MrvPKZyB0JIW5p/PVXsahUKkydOhVTp069e0ER3QaNRgMAsFgs5a7Yt1gsDuOIXGns2LH4/fffAQBTpkzBk08+idTUVHh5eWH58uXKBkdERH/LpYn9P//8E1qtFgCwZcsWREVFoXXr1hg+fDhSUlJcGQoREVVx0dHR6N+/P0aNGuXQ/umnn2LTpk3YsmWLQpERVR57MvNG24VERUUhLS3tlpOeRESkDKPRCK1Wi5SUFBQWFiI/P1/uCwwMhL+/P3Q6HYxGo4JRUk0VExMjfx8aGorjx48jNzcX9957Lxo2bKhgZEREVBHOm1ZWosDAQPz000+QJAlfffUVnnjiCQDA5cuXWSiIiIgc/Oc//0G3bt2c2iMiIvCf//xHgYiIKp+9eOjq1avL7V+3bp3DOCIiqtrUajUiIiKQl5cHm82G+Ph4rF+/HvHx8bDZbMjLy0N4eDg/D1OVUKdOHTz44INM6lONYbPZsG7dOnz00UdYt24dbDab0iER3RKXrth/+eWX8eyzz0Kn00GlUqFHjx4AriVvQkJCXBkKERFVccXFxSgpKXFq/+uvv3DlyhUFIiKqfIsXL8Yrr7wCSZLw22+/OWzH89tvv8kFdBcvXqxUiEREdAskSYLJZILBYEBRURGSk5PlPp1OB4PBgMzMTMTGxjK5Ty4nSRKWL1+OjIwMnDlzBqWlpQ79u3btUigyosq3YMECrFu3Tn5/bW+LiorCyJEjFYyMqOJcmtifOnUq2rVrh5MnTyIqKgre3t4Arq1ieOutt1wZChERVXEdO3bEokWL8O9//9uhfcGCBXjooYcUioqocpUtiPvCCy9ArVYjKirK6UMHC+dSdcerUqi6MJvNsFqtSEhIKHeP/dzcXMTFxcFsNjsV1iWqbGPGjMHy5cvRt29ftGvXjnMv1RgLFixAWloaAgICMHz4cISFhSErKwtLlixBWloaADC5T27BpYl9ABg0aBAA4OrVq3LbkCFDXB0GERFVcdOnT8cTTzyBH374Ad27dwcAZGRkIDs7G9u3b1c4OqLKYzKZEBERAeDaSjr7h4uy/UTVHetIUHVRUFAAANDr9VCr1U7Je71e7zCOyJXS0tLw6aefok+fPkqHQuQy9u13AgICsG7dOnh4XEuN9uvXD7169ZIX1QwbNgxeXl4KR0t0cy7dY1+SJPzrX/9C48aNUa9ePRw7dgwAkJCQgCVLlrgyFCIiquK6dOmCrKwsBAcH49NPP8XmzZvRsmVLmM1mPPbYY0qHR1SpTCYTPv74Y3nlnEqlwscff8ykPlU758+fx+eff46ff/7Zof2nn35C06ZNFYqK6O7RaDQAAIvFAkmSkJOTg4yMDOTk5ECSJFgsFodxRK7k5eXFqwCpxklPT4ckSRg+fLic1Lfz8PDAsGHDIEkS0tPTFYqQqOJcumJ/+vTpWLFiBWbOnInY2Fi5vX379vjwww8xfPhwV4ZDRERV3AMPPIDU1FSlwyBSRMuWLfH1118rHQbRXfXss8+ia9eueO2113DlyhV06NABx48fhxACaWlpeOaZZwAAwcHBCkdKdHcYjUZotVqkpKSgsLAQ+fn5cl9gYCD8/f2h0+lgNBoVjJJqqvj4eHz00UeYM2cOt+GhGuP06dMAgLCwsHL77e32cURVmUsT+ytXrsSiRYvQvXt3h72q7HsLEhERlVVaWoqjR4+WW8yra9euCkVFRES3a/fu3Zg0aRIAYOPGjRBCoLCwECtWrMC0adPkxD5RdaFWqxERESHv5RwfHy/v5bx06VLk5eUhOjqahXPJZQYOHOhwvGvXLmzduhVt27aFp6enQ9+GDRtcGRqRSwQFBQEAsrKy0K9fP6f+rKwsh3FEVZlLE/unTp0q9zKv0tJS/PXXX64MhYiIqri9e/di8ODB+PXXX532WlapVA6FRImIyD0UFRXJW4589dVXeOaZZ1CnTh307dsXb7zxhsLREd19kiTBZDLBYDCgqKgIycnJcp9Op4PBYEBmZiZiY2OZ3CeX8PPzczgeMGCAQpEQKSMyMhILFizAkiVL0KtXL4fteEpKSrB06VKo1WpERkYqGCVRxbg0sd+2bVt88803Tvtlrlu3zqmIEBER1WwjR45Ehw4d8OWXX0Kn0/HyYCKiaiA4OBhZWVnQaDT46quv5OLQ586dg4+Pj8LREd19ZrMZVqsVCQkJCAkJgdlsRkFBATQajXzlelxcHMxmMz8Tk0ssW7ZM6RCIFOXl5YWoqCikpaUhKioKw4YNc7iS6ty5c4iOjmbhXHILLk3sT5kyBS+++CJOnTqF0tJSbNiwAXl5eVi5ciW++OILV4ZCRERV3JEjR7B+/XoW9CIiqkbGjh2LmJgY1KtXD02bNkVERASAa1v0tG/fXtngiCpBQUEBAECv10OtVjsl7/V6vcM4IleyWCwoKSlBq1atHNqPHDkCT09PNGvWTJnAiCqZfXvwdevWOVxJpVarER0d7bB9OFFV5tLEfv/+/bF27VokJSVBpVLhnXfewYMPPojNmzejR48ergyFiIiquE6dOuHo0aNM7FONdfz4cQwfPhySJEGtVmPJkiX8gE1ub9SoUXj44Ydx8uRJ9OjRA7Vq1QIANG/eHNOmTVM4OqK7z771lMViKXfFvsVicRhH5EpDhw7FsGHDnBL7//nPf/Dxxx/DZDIpExiRC4wcORLDhg1Deno6Tp8+jaCgIERGRnKlPrkVlbh+42LC+fPn4efnh6KiItSvX1/pcIiI/lZ1nLc2btyIyZMn44033kD79u2dinkZjUaFInNWHZ9/Ula3bt2caksA1+pLfP311wpERNUJ56yK4fNEd4MkSYiJiYGfnx8KCwuRn58v9wUGBsLf3x/nz5/HqlWruMc+3ZHbmbPq16+P77//3mkhzdGjR9GhQwcUFhZWQqS3h3MyEbkbV8xbLl2xT0REVFHPPPMMAGDYsGFym0qlghCCxXOpWiub1Pf29sbQoUOxfPlyFBcXQwiBbt26MblPbmvcuHHltqtUKvj4+KBly5aIjIzk6mWqNtRqNSIiIpCWloaAgADEx8c77OWcl5eH6OhoJvVJESqVChcuXHBqLyoq4nttIiI3UOmJfY1Gg8OHD6Nhw4YICAi4afFD7itIRER29kvTiWqS48ePy0n9tLQ0aLVaAMDzzz8Pq9WK6OhoCCFw/PhxbstDbiknJwfff/89JEmCwWCAEAJHjhyBWq1GSEgI5s2bh/j4eHz77bdo06aN0uES3TFJkmAymWAwGFBUVOSwl7NOp4PBYEBmZiZiY2OZ3CeXe+yxxzBjxgysWbNG/v2TJAkzZszAo48+qnB0RET0dyo9sf/hhx/C19cXADB79uzKvjsiIqommjZtqnQIRC43fPhwANdW6tuT+nZarRbe3t4oLi7G8OHDkZGRoUSIRHfEvhp/2bJl8iXJ58+fx/Dhw/Hoo48iNjYWgwcPxuuvv45t27YpHC3RnTObzbBarUhISCh3j/3c3FzExcXBbDY7FdYlqmwzZ85E165dYTAY8NhjjwEAvvnmG5w/fx67du1SODoiIvo7lZ7YHzJkSLnfExERVcRPP/2EEydOwGazObQ/9dRTCkVEVHnsl70PHTq03P6YmBgsXbqUl8eT23r//fexY8cOh31G69evj6lTp6Jnz54YM2YM3nnnHfTs2VPBKInuHvtV6Xq9Hmq12il5r9frHcYRuVKbNm1gNpsxZ84c/PDDD6hduzZeeuklvPbaa9wSjYjIDbh8j31JkrBx40b8/PPPUKlUuO+++xAZGQkPD273T0RE/3Ps2DEMGDAAP/74o7y3PgB5SzcmNqk6UqvVkCQJy5cvx/PPP+/Un5qaKo8jckdFRUU4c+aM0zY7f/zxB86fPw8A8Pf3d/pnLpG7sidHLRZLuSv27VsPMolKSgkKCkJSUtJNx4waNQrvvvsuGjZs6KKoiIioIlyaTf/vf/+LyMhIWK1WGAwGAMDhw4dxzz33YNOmTWjfvr0rwyEioipszJgx0Ov12LlzJ5o3b459+/bh7NmziI+PxwcffKB0eESVYsmSJRg6dCiKi4thtVodtuOxWq0oLi6WxxG5o8jISAwbNgzJycno2LEjVCoV9u3bh/Hjx+Ppp58GAOzbtw+tW7dWNlCiu8RoNEKr1SIlJQWFhYXIz8+X+wIDA+Hv7w+dTgej0ahglEQ3t2rVKowfP56JfSKiKsalif1XXnkFbdu2xf79+xEQEAAAOHfuHIYOHYp//OMfyMrKcmU4RERUhWVlZWHXrl245557UKtWLdSqVQuPPvooZsyYgdGjRyMnJ0fpEInuumbNmslXqERHR8Pb2xsxMTFITU2Vk/oqlYqFc8ltLVy4EK+//jqio6NRUlICAPDw8MCQIUPw4YcfAgBCQkLw8ccfKxkm0V2jVqsRERGBtLQ0BAQEID4+HmFhYcjK+n/27jwuqvL9//h7BAFRQVECKRdccyNL+yhWirmW5laWS7lX5pZaWS4VlkJZopapaa6ZaX5yKU1TS+xTamlmmpqW4pbhhoK4gML5/eGP82XYBGU2eD0fj3k45z73nLnOONxn5pr7XGer5s6dqwMHDqhr166ciQWnlnbmLADAudg1sf/7779bJfUlqXTp0powYYLuv/9+e4YCAHByKSkpKlGihCSpbNmyOnnypGrUqKGKFSvqwIEDDo4OsJ1NmzapWbNmMgxDSUlJmjt3rrnOYrFo06ZNDowOuD0lSpTQ7NmzNXnyZB0+fFiGYahKlSrmeC9J9erVc1yAQD5LSUlRdHS0atSoofj4eE2aNMlcV65cOdWoUUObN2/Ws88+S3IfAADkiV0T+zVq1NCpU6dUu3Ztq/bTp0+ratWq9gwFAODk6tSpo927d6ty5cpq2LChJk6cKA8PD82aNUuVK1d2dHiATW3atElHjhxRv379lJKSIjc3N82ZM4eZ+igwSpQoQekRFAq7d+9WbGysXn/99Sxr7P/5558aNGiQdu/enenCugAA24qLi9OIESN07tw5lSlTRlFRUTOZkqEAAQAASURBVFzzBC7F5on9tItgSVJERISGDh2q8PBwNWrUSJK0bds2vfXWW3r33XdtHQoAwIWMHTtWly5dkiSNHz9e7dq100MPPaQyZcpo6dKlDo4OsL1KlSrpu+++c3QYQL66dOmS3nnnHX333Xc6ffq0UlNTrdYfPnzYQZEBthEXFydJCg4OlpubW6bkfXBwsFU/wBX98MMPeu+99/Trr7/q33//1YoVK8zrpkg3SvmMGzdOs2bN0vnz59WwYUN99NFHmSZ9AvbUuXNnq7H34sWL6ty5s/z8/LR8+XIHRgbkns0T+6VKlZLFYjGXDcPQk08+abal1Wp77LHHlJKSYutwAAAuonXr1ub9ypUra9++fYqLi1Pp0qWtjisAANfRv39/bd68Wc8884zKlSvHeI4CL23mZ0xMTJYz9mNiYqz6Aa7o0qVLuueee9SnTx89/vjjmdZPnDhRUVFRmj9/vqpXr67x48erZcuWOnDggEqWLOmAiFHYpU/q16pVS/369dOcOXPM75ydO3cmuQ+XYPPEPnVgAQC3Ij4+XikpKVZfdP38/BQXFyd3d3f5+Pg4MDoAwK1Yu3at1qxZowceeMDRoQB2ERISosDAQH3wwQe6cOGCTp06Za4LCAhQqVKlVK5cOUpTwak9/fTTOX72fuSRR/TII49kuc4wDE2ZMkVjxoxR586dJUkLFixQQECAFi9erOeff94mMQPZiYuLM5P6q1evNq/zU79+fSUmJqpdu3ZmH350hbOzeWK/adOmtn4KAEAB1LVrVz322GMaOHCgVfsXX3yhr776St98842DIgMA3KrSpUvzJRmFipubm8LCwrRkyRKVLl1aL730kkJDQ7V161bNnTtXBw4cUNeuXblwLhxi9+7dWbZbLBZ5eXmpQoUK8vT01IwZM275OWJiYhQbG6tWrVqZbZ6enmratKm2bNmSbWI/KSlJSUlJ5nL6Ms/A7RgxYoSkGzP105L6aUqUKKGaNWtq//79GjFihObPn++ACIHcs+vFc9NcvnxZx44dU3JyslU7sxQAAGl+/vlnRUVFZWoPCwvTmDFjHBARAOB2vf3223rjjTe0YMECeXt7OzocwOZSUlIUHR2tGjVqKD4+XpMmTTLXlStXTjVq1NDmzZv17LPPktyH3dWrVy/HkmhFixbVU089pY8//lheXl639ByxsbGSbpyhkl5AQICOHj2a7eMiIyM1bty4W3pOICfnzp2TJPXr1y/L9X369NHIkSPNfoAzs2ti/8yZM+rTp4/Wrl2b5Xpq7AMA0iQlJen69euZ2q9du6YrV644ICIAwO2aNGmSDh06pICAAFWqVElFixa1Wr9z504HRQbYxu7duxUbG6vXX389yxr7f/75pwYNGqTdu3dnurAuYGsrVqzQq6++qldeeUX/+c9/ZBiGtm/frkmTJunNN9/U9evX9dprr2ns2LF6//33b+u5Mv6AYBhGjj8qjBo1ypxZLd2YsV++fPnbigGQpDJlyujixYuaM2eO6tevn2n9vHnzzH6As7NrYn/YsGE6f/68tm3bpmbNmmnFihU6deqUxo8fbzVzAQCA+++/X7NmzdKHH35o1T5z5swsP4ABAJxfx44dHR0CYFdpdZyDg4Pl5uaWKXkfHBxs1Q+wpwkTJmjq1Klq3bq12RYSEqK77rpLr7/+un755RcVL15cL7300i0n9gMDAyXdmLlfrlw5s/306dOZZvGn5+npKU9Pz1t6TiAnUVFR6ty5s/bt26fExESrcjyJiYnav3+/2Q9wdnZN7H///fdatWqV7r//fhUpUkQVK1ZUy5Yt5ePjo8jISLVt29ae4QAAnNiECRPUokUL/f7772revLkk6bvvvtP27du1fv16B0cHALgVb775pqNDAOwq7ZoSMTExWc7Yj4mJseoH2NOePXtUsWLFTO0VK1bUnj17JN0o1/Pvv//e8nMEBwcrMDBQGzZsMH/YSk5O1ubNm/Xuu+/e8naBW+Xn5yc/Pz/FxcWpXbt2qlmzpvr06aN58+aZSf20PoCzs2ti/9KlS7rjjjsk3fgjOXPmjKpXr666dety2i0AwMoDDzygrVu36r333tMXX3yhYsWKKSQkRHPmzFG1atUcHR4AAMBNhYSEKDAwUB988IEuXLigU6dOmesCAgJUqlQplStXjuvNwSHuvvtuvfPOO5o1a5Y8PDwk3Sh7+c477+juu++WJP3zzz85zqyXbsxy/vvvv83lmJgY7dq1S35+fqpQoYKGDRumiIgIVatWTdWqVVNERIS8vb3VvXt32+0ckIPly5erc+fOiouL0/79+zVy5EhznZ+fn5YvX+7A6IDcs2tiv0aNGjpw4IAqVaqkevXq6eOPP1alSpU0c+ZMq1OyAACQbswQ+uyzz3Ls884772jAgAEqVaqUfYICAOSJn5+fDh48qLJly6p06dI51lSmHAkKGjc3N4WFhWnJkiUqXbq0XnrpJYWGhmrr1q2aO3euDhw4oK5du3LhXDjERx99pPbt2+uuu+5SSEiILBaLdu/erZSUFK1evVqSdPjwYQ0cODDH7ezYsUPNmjUzl9Nq4/fq1Uvz58/XyJEjdeXKFQ0cOFDnz59Xw4YNtX79epUsWdJ2OwfcxPLlyxUXF6cRI0bo3LlzKlOmjKKiopipD5diMQzDsNeTffbZZ7p27Zp69+6t3377Ta1bt9bZs2fl4eGhBQsW6KmnnrJXKDlKSEiQr6+v4uPj5ePj4+hwAOCmCvO45ePjo127dqly5coOi6Ewv/4AXI+9x6wFCxaoa9eu8vT01Pz583NM7Pfq1cvm8eQWYzvyQ0pKinr06GG+l2JjY8115cqVk4+PjxISErRo0SKS+7gttzpmJSYmatGiRTp48KAMw9Ddd9+t7t27O13SnTEZgKuxx7hl1xn7PXr0MO/Xq1dPR44c0Z9//qkKFSqobNmy9gwFAFBA2PH3aQDALUifrO/du3e2/a5cuWKHaAD72r17t2JjY/X6669nWWP/zz//1KBBg7R79+5MF9YF7KFEiRIaMGCAo8MAANwCuyb2JWnOnDmaPHmy/vrrL0lStWrVNGzYMPXv39/eoQAAAACwo0GDBumjjz7K1H7p0iW1bdtW0dHR9g8KsKG08lLBwcFKSUnR33//rZMnTyooKEi1a9dWcHCwVT/A3g4ePKjo6GidPn1aqampVuveeOMNB0UFAMgNuyb2X3/9dU2ePFlDhgxRaGioJGnr1q0aPny4jhw5ovHjx9szHAAAAAB2tH79eo0dO9bqc/+lS5fUpk0bB0YF2E5areaoqCht2rRJKSkp5rqZM2eadcmp6QxHmD17tl544QWVLVtWgYGBVqXSLBYLiX0AcHJ2TezPmDFDs2fPVrdu3cy29u3bKyQkREOGDCGxDwAAABRg69ev14MPPqgyZcpo+PDhunjxolq3bi13d3etXbvW0eEB+S4kJETFixfXxo0bVapUKfXv39+8eO4nn3yijRs3qnjx4goJCXF0qCiExo8frwkTJujVV191dCgAgFtg18R+SkqKGjRokKm9fv36un79uj1DAQAAAGBnwcHB+vbbbxUWFqYiRYpoyZIl8vT01Jo1a1S8eHFHhwfku5SUFPP6ETVr1lRwcLCKFSum4OBg1axZU1u3btWVK1eUkpLCxXNhd+fPn1eXLl0cHQYA4BYVseeTPf3005oxY0am9lmzZlldWBcAgNx66KGHVKxYMUeHAQDIpTp16mj16tUaM2aMvL29tXbtWpL6KLBWrVql1NRUtW/fXjExMRo0aJAeffRRDRo0SEeOHFH79u2VmpqqVatWOTpUFEJdunTR+vXrHR0GAOAW2XzG/ogRI8z7FotFn3zyidavX69GjRpJkrZt26bjx4+rZ8+etg4FAOBCdu7cqaJFi6pu3bqSbnwxnjdvnmrVqqXw8HB5eHhIkr755htHhgkAuIl7773Xqm5zGk9PT508eVIPPPCA2bZz5057hgbY3MmTJyVJvXr10osvvqjdu3crLi5Ofn5+CgkJ0fnz5/XVV1+Z/QB7qlq1ql5//XVt27ZNdevWVdGiRa3WDx061EGRAQByw+aJ/d9++81quX79+pKkQ4cOSZL8/f3l7++vvXv32joUAIALef755/Xaa6+pbt26Onz4sLp27apOnTpp2bJlunz5sqZMmeLoEAEAudCxY0dHhwA4TFBQkCRp69atatWqlf7++2+dPHlSQUFBql27trZu3WrVD7CnWbNmqUSJEtq8ebM2b95stc5isZDYBwAnZzEMw3B0EM4mISFBvr6+io+Pl4+Pj6PDAYCbKojjlq+vr3bu3KkqVaro3Xff1ffff69vv/1WP/30k7p27arjx487OkRTQXz9ARRcjFm5w+uE/JCcnKxHHnlE7u7uSk5OVvqv3xaLRR4eHrp+/brWrl1rno0I3IqCPmYV9P2DY8TGxuqFF15QYmKiSpQooRkzZigwMNDRYaGAsMe4ZdeL5wIAkFuGYSg1NVWStHHjRrVr106SVL58eZ09e9aRoQEAbtOvv/6q/fv3y2KxqFatWrr33nsdHRJgEx4eHqpWrZr+/PNPWSwWtWzZUl26dNGyZcu0ceNGJSUl6e677yapDwB21qZNG129etVcPn/+vLp27SovLy+tW7fOgZEBuUdiHwDglBo0aKDx48erRYsW2rx5s3nx9ZiYGAUEBDg4OsD2vvrqK0VFRZnLI0aMUPv27R0YEXD7Tp8+ra5duyo6OlqlSpWSYRiKj49Xs2bNtGTJEvn7+zs6RCBfJScn66+//pKnp6euXbumDRs2aMOGDZIkNzc3ubu766+//lJycjLJfdjFiBEj9Pbbb6t48eJW10TMSvrPIUBBkj6pHxgYqOeff14ff/yxYmNjdfXqVbVp04bkPlwCiX0AgFOaMmWKevTooZUrV2rMmDGqWrWqJOm///2vGjdu7ODoANsKCwvL1BYVFaWoqChFR0fbPR4gvwwZMkQJCQnau3evatasKUnat2+fevXqpaFDh+rzzz93cIRA/lq1apVSUlI0fPhwtWrVSqtWrTJr7Hfo0EHffvutJk2apFWrVqlLly6ODheFwG+//aZr166Z94HCJi15L0krV65UqVKlJEnNmjXThQsX1LFjR129elWxsbGU5YHTI7EPAHBKISEh2rNnT6b29957T25ubg6ICLCPjEn9u+66SydOnLBaT3IfrmrdunXauHGjmdSXpFq1aumjjz5Sq1atHBgZYBsnT56UJIWGhsrDwyNT8j40NNSqH2BrmzZtyvI+UFi88MILkm7M1E9L6qcpVaqUAgMDzdr7K1ascECEQO4VcXQAAADkhZeXl4oWLeroMACb+Oqrr8z7Y8eOVXR0tBYtWqTo6GiNHTs2y36AK0lNTc1yDC9atKh5XRWgIAkKCpIkbd26VYmJiRozZoz69OmjMWPGKDExUVu3brXqB9jTd999l+26adOm2TESwH4SExMlSc8//3yW6/v162fVD3BmJPYBAE6pSJEicnNzy/YGFETpa9m2aNHCal36ZWrewlU9/PDDevHFF61mJ//zzz8aPny4mjdvnqttzJgxQyEhIfLx8ZGPj49CQ0O1du1ac71hGAoPD1dQUJCKFSumsLAw7d27N9/3BciNDh06yM3NTZMnT1a7du30008/KSYmRj/99JPatWunKVOmyM3NTR06dHB0qCiEHn/8cW3fvj1T+5QpUzR69GgHRATYXokSJSRJH3/8cZbr58yZY9UPcGYk9gEATmnFihVavny5eVu6dKlee+01lStXTrNmzXJ0eIBN3XXXXVm2c+FouLpp06bp4sWLqlSpkqpUqaKqVasqODhYFy9e1Icffpirbdx111165513tGPHDu3YsUMPP/ywOnToYCbvJ06cqKioKE2bNk3bt29XYGCgWrZsqYsXL9py14AseXh4yNfXVykpKZJulJ6aNGmSatWqJUlKSUmRr68vF86FQ0yePFmPPvqo9u3bZ7a9//77evPNN7VmzRoHRgbYzowZMyTdqLV/4cIFq3UXLlxQbGysVT/AmVFjHwDglLKaufbEE0+odu3aWrp0qXmKJFAQpa+pn96pU6fsHAmQv8qXL6+dO3dqw4YN+vPPP2UYhmrVqpXpDJWcPPbYY1bLEyZM0IwZM7Rt2zbVqlVLU6ZM0ZgxY9S5c2dJ0oIFCxQQEKDFixdne9o9YCuJiYmKi4uTJFksFu3bt08vvfSSpBtnJ6ampiouLk6JiYnMDoXd9enTR+fOnVOrVq30448/aunSpYqIiNDatWvVuHFjR4cH2ERgYKC8vLx09epVdezYUYGBgerXr5/mzJljJvW9vLy4cC5cAjP2AQAupWHDhtq4caOjwwBsYsSIEeb9jO/z9Mvp+wGuqGXLlhoyZIiGDh2ap6R+RikpKVqyZIkuXbqk0NBQxcTEKDY21upCvJ6enmratKm2bNmS47aSkpKUkJBgdQNuV2RkpCSpVatW+vbbbzVo0CB16tRJgwYN0rp169SyZUurfoC9vfzyy3rmmWfUoEEDvfPOO1q/fj1JfRR469atk5eXl6QbM/cnTJhgldRft26dI8MDco0Z+wAAl3HlyhV9+OGH2ZYpAVxd+/btzfr548eP1/jx4xUQEJBppn779u0dER6QLzZv3qz3339f+/fvl8ViUc2aNfXKK6/ooYceyvU29uzZo9DQUF29elUlSpTQihUrVKtWLTN5n7FsVUBAgI4ePZrjNiMjIzVu3Li87xCQg7TrSTz55JPy8PBQly5drNZ36dJFGzZssLruBGBLH3zwQaa2cuXKydvbW02aNNHPP/+sn3/+WZI0dOhQe4cH2M26desUGxurF154wTxrasaMGczUh0shsQ8AcEqlS5eWxWIxlw3D0MWLF+Xt7a1FixY5MDLAtqKjoxUWFmYuZ0zqR0dH2zcgIB8tWrRIffr0UefOnTV06FAZhqEtW7aoefPmmj9/vrp3756r7dSoUUO7du3ShQsX9OWXX6pXr17avHmzuT798UO6cQzJ2JbRqFGjrM6GSUhIUPny5fOwd0BmQUFBiomJ0RdffKEBAwZoxIgROnfunMqUKaOoqCgtW7bM7AfYw+TJk7Nsd3Nz008//aSffvpJ0o1xlMQ+CrrAwECtWLHC0WEAt8xiGIbh6CCcTUJCgnx9fRUfHy8fHx9HhwMAN1UQx60FCxZYLRcpUkT+/v5q2LChSpcu7aCoslYQX3843ldffWXO3pdulN9hpj7ygyPHrJo1a+q5557T8OHDrdqjoqI0e/Zs7d+//5a226JFC1WpUkWvvvqqqlSpop07d+ree+8113fo0EGlSpXKdGzJCWM78kNiYqLatWt3036rV6+mxj5uS0Efswr6/gEoeOwxbhWKGfuRkZEaPXq0XnzxRU2ZMsXR4QAAcqFXr16ODgFwqPbt25PIR4Fz+PDhTBe/lW6830ePHn3L2zUMQ0lJSQoODlZgYKA2bNhgJvaTk5O1efNmvfvuu7e8feBWlShRQm5ubkpJSZEk+fj4qG/fvpo7d655HQc3NzeS+nC4tDmfNzu7CQDgPAp8Yn/79u2aNWuWQkJCHB0KACCPLly4oDlz5ph1mGvVqqW+ffvK19fX0aEBAG5B+fLl9d1336lq1apW7d99912uy96MHj1ajzzyiMqXL6+LFy9qyZIlio6O1rp162SxWDRs2DBFRESoWrVqqlatmiIiIuTt7Z3rMj9AfoqLizOT+tKN2XsZJ5ulpKQoLi5Ofn5+do4OkBYuXKj33ntPf/31lySpevXqeuWVV/TMM884ODIAwM0UcXQAtpSYmKgePXpo9uzZTle2AQCQsx07dqhKlSqaPHmy4uLidPbsWUVFRZklFgAAruell17S0KFD9cILL+jTTz/VokWLNGDAAL344ot6+eWXc7WNU6dO6ZlnnlGNGjXUvHlz/fzzz1q3bp1atmwpSRo5cqSGDRumgQMHqkGDBvrnn3+0fv16lSxZ0pa7BmQp7boNtWrV0urVq/XAAw8oODhYDzzwgFavXq2aNWta9QPsKSoqSi+88IIeffRRffHFF1q6dKnatGmjAQMGZFuLHwDgPAp0jf1evXrJz89PkydPVlhYmOrVq5dlKZ6kpCQlJSWZy2kXyqJ2GwBXURBrTj700EOqWrWqZs+eLXf3GyeYXb9+Xf3799fhw4f1ww8/ODjC/1MQX38ABZejx6wVK1Zo0qRJZj39mjVr6pVXXlGHDh3sHktOHP06oWB47LHHdPHiRU2aNEn169fPtP6XX37RyJEjVbJkSX399dcOiBAFxa2MWcHBwRo3bpx69uxp1b5gwQKFh4crJibGFqHeEsZkAK6GGvu3YcmSJdq5c6e2b99+076RkZEaN26cHaICAOTWjh07rJL6kuTu7q6RI0eqQYMGDowMAHA7OnXqpE6dOjk6DMAuypQpo4sXL2rOnDmqUKGCBg8erPj4ePn6+mratGmaN2+e2Q+wt3///VeNGzfO1N64cWP9+++/DogIAJAXBbIUz/Hjx/Xiiy9q0aJF8vLyumn/UaNGKT4+3rwdP37cDlECAHLi4+OjY8eOZWo/fvw45RQAwMXt2LHDLMXz66+/OjocwGaioqIkSfv27VOXLl106tQpXb16VadOnVKXLl3MM1fS+gH2VLVqVX3xxReZ2pcuXapq1ao5ICIAQF4UyBn7v/76q06fPm11qmNKSop++OEHTZs2TUlJSXJzczPXeXp6ytPT0xGhAgCy8dRTT6lfv356//331bhxY1ksFv3444965ZVX1K1bN0eHBwC4BSdOnFC3bt30008/qVSpUpJuXCi9cePG+vzzz3N9AV3AVWS8IG7RokXVrVs3ff7557p27Vq2/QB7GDdunJ566in98MMPeuCBB8zP2999912WCX8AgHMpkDP2mzdvrj179mjXrl3mrUGDBurRo4d27dplldQHADin999/X507d1bPnj1VqVIlVaxYUb1799YTTzyhd999N9fb+eGHH/TYY48pKChIFotFK1eutFpvGIbCw8MVFBSkYsWKKSwsTHv37s3nvQEASFLfvn117do17d+/X3FxcYqLi9P+/ftlGIb69evn6PCAfHfmzBmr5WvXrmnhwoVWSf2s+gH28Pjjj+vnn39W2bJltXLlSi1fvlxly5bVL7/8Qsk0FAr79u1TWFiYedu3b5+jQwLypEDO2C9ZsqTq1Klj1Va8eHGVKVMmUzsAwDl5eHho6tSpioyM1KFDh2QYhqpWrSpvb+88befSpUu655571KdPHz3++OOZ1k+cOFFRUVGaP3++qlevrvHjx6tly5Y6cOAAJX8AIJ/973//05YtW1SjRg2zrUaNGvrwww/1wAMPODAywDYGDx4sSapUqZKioqI0YsQInTt3TmXKlFFUVJSGDx+uo0ePavDgwVq6dKmDo0VhVL9+fS1atMjRYQB2FxYWlqlt4MCBkqTo6Gj7BgPcogKZ2AcAFBze3t6qW7fuLT/+kUce0SOPPJLlOsMwNGXKFI0ZM0adO3eWJC1YsEABAQFavHixnn/++Vt+XgBAZhUqVMg0U1mSrl+/rjvvvNMBEQG2FR8fL0l67rnn5Ofnp/nz51ut79evn9544w2zH2BvKSkpWrlypfbv3y+LxaJatWqpffv2VDpAgZYxqd+hQwetWrXKaj3JfbiCQpPY5w8SAJxf586dNX/+fPn4+JiJ9uwsX778tp8vJiZGsbGxatWqldnm6emppk2basuWLdkm9pOSkpSUlGQuJyQk3HYsAFAYTJw4UUOGDNFHH32k+vXry2KxaMeOHXrxxRf1/vvvOzo8IN/5+vrq6tWrmjVrlipVqqTnnntOV65cUbFixTRr1izNmTPH7AfY299//622bdvqxIkTqlGjhgzD0MGDB1W+fHmtWbNGVapUcXSIQL5LX25n7ty5qly5siRp+PDhOnz4sPr27Wv2q1WrlkNiBHKr0CT2AQDOz9fXVxaLxbxva7GxsZKkgIAAq/aAgAAdPXo028dFRkZq3LhxNo0NAAqK0qVLm2O7dKNEWsOGDeXufuOryPXr1+Xu7q6+ffuqY8eODooSsI1p06apS5cuOnLkiLp37262JyYmWi1PmzbNEeGhkBs6dKgqV66srVu3mhdwPnfunJ5++mkNHTpUa9ascXCEQP5LK7cjyUzqZ7U8cOBAJgnD6ZHYBwA4jXnz5mV539bSJ5ykGyV6MralN2rUKI0YMcJcTkhIUPny5W0WHwC4silTpjg6BMBh/P39rZYtFos6deqkFStWyDCMbPsB9rB582Zt27bNTOpLUpkyZfTOO+9w3RMUeB06dMiy/dFHH9U333xj52iAW0NiHwDglMaNG6enn37apqcABwYGSroxc79cuXJm++nTpzPN4k/P09NTnp6eNosLAAqSXr165fkx77zzjgYMGKBSpUrlf0CAHZ08edJq2TCMLMsJnjx5UkFBQfYKC5B04zPtxYsXM7UnJibKw8PDAREB9rNq1SoNHz48UztJfbiSIo4OAACArHz55ZeqXr26GjVqpGnTpunMmTP5/hzBwcEKDAzUhg0bzLbk5GRt3rxZjRs3zvfnAwDkTkREhOLi4hwdBnDbnnvuOUmSn5+fli1bpoCAAHl5eSkgIEDLli0zZ0qn9QPsqV27dnruuef0888/yzAMGYahbdu2acCAAWrfvr2jwwNsYvr06eb9w4cPW61Lv5y+H+CsmLEPAHBKu3fv1t69e/XZZ58pKipKI0aMUIsWLfT000+rY8eO8vb2ztV2EhMT9ffff5vLMTEx2rVrl/z8/FShQgUNGzZMERERqlatmqpVq6aIiAh5e3tb1b0FANhX+hIlgCu7cuWKJOn555+Xv7+/li5darW+b9++ev/9981+gD198MEH6tWrl0JDQ1W0aFFJ0rVr19ShQwdNnTrVwdEBtpH+grhpF8rNqvwOF86FK2DGPgDAadWuXVsRERE6fPiwNm3apODgYA0bNswsoZMbO3bs0L333qt7771XkjRixAjde++9euONNyRJI0eO1LBhwzRw4EA1aNBA//zzj9avX6+SJUvaZJ8AAEDhUaxYMUnSxx9/rDNnzuipp55SmzZt9NRTT+nMmTOaO3euVT/AnkqVKqVVq1bp4MGDWrZsmZYtW6aDBw9qxYoV8vX1dXR4gM1kvChuxqQ+F82Fq2DGPgDAJRQvXlzFihWTh4dHlrVAsxMWFpbjzE+LxaLw8HCFh4fnQ5QAAAD/Z9asWerevbvi4uLUpUsXs/3q1atWy7NmzXJEeIDmzJmjyZMn66+//pIkVatWTcOGDVP//v0dHBlgW9HR0dq3b58GDhxotk2fPp2Z+nApJPYBAE4rJiZGixcv1meffaaDBw+qSZMmCg8Pt/oiDAAA4KwyXhDXYrGoQ4cOWrVqldXEAy6cC0d4/fXXNXnyZA0ZMkShoaGSpK1bt2r48OE6cuSIxo8f7+AIAduqVasWs/Ph0kjsAwCcUmhoqH755RfVrVtXffr0Uffu3XXnnXc6OiwAAIBcO3PmjNWyYRhauXJllv38/f3tFBVww4wZMzR79mx169bNbGvfvr1CQkI0ZMgQEvsA4OSosQ8AcErNmjXT7t27tWvXLr3yyisk9QGgEHnooYeoOY4CYfDgwZKkSpUqafHixSpRooTc3NxUokQJLV68WBUrVrTqB9hTSkqKGjRokKm9fv36un79ugMiAgDkBYl9AIBTioiIUO3atZWcnKwDBw7w5QIACoCdO3dqz5495vKqVavUsWNHjR49WsnJyWb7N998o3LlyjkiRCBfxcfHS5Kee+45BQUFafXq1fruu++0evVqBQUFqV+/flb9AHt6+umnNWPGjEzts2bNUo8ePRwQEQAgLyjFAwBwSleuXNHgwYO1YMECSdLBgwdVuXJlDR06VEFBQXrttdccHCEAIK+ef/55vfbaa6pbt64OHz6srl27qlOnTlq2bJkuX76sKVOmODpEIF/5+vrq6tWrmjVrlkqVKpXpIo1z5swx+wH2MGLECPO+xWLRJ598ovXr16tRo0aSpG3btun48ePq2bOno0IEAOQSM/YBAE7ptdde0++//67o6Gh5eXmZ7S1atNDSpUsdGBkA4FYdPHhQ9erVkyQtW7ZMTZo00eLFizV//nx9+eWXjg0OsIFp06ZJko4cOWKV1JekgQMH6ujRo1b9AFv77bffzNuePXtUv359+fv769ChQzp06JD8/f113333ae/evY4OFQBwE8zYBwA4pZUrV2rp0qVq1KiRLBaL2V6rVi0dOnTIgZEBAG6VYRhKTU2VJG3cuFHt2rWTJJUvX15nz551ZGiATWR1Qdz69evr119/vWk/wBY2bdrk6BAAAPmEGfsAAKd05swZ3XHHHZnaL126ZJXoBwC4jgYNGmj8+PH69NNPtXnzZrVt21aSFBMTo4CAAAdHB+S/ffv2ZWrLmNTPrh8AAEBOSOwDAJzS/fffrzVr1pjLacn82bNnKzQ01FFhAQBuw5QpU7Rz504NHjxYY8aMUdWqVSVJ//3vf9W4cWMHRwfkv/Tld5YtW6aAgAB5eXkpICBAy5Yty7IfAABAblCKBwDglCIjI9WmTRvt27dP169f19SpU7V3715t3bpVmzdvdnR4AIBbEBISoj179mRqf++99+Tm5uaAiAD76NChg65du6ZLly5Z/fvoo4/qm2++cXR4AFAorV+/XhEREeby6NGj1apVKwdGBOQNM/YBAE6pcePG2rJliy5fvqwqVapo/fr1CggI0NatW1W/fn1HhwcAyEdeXl4qWrSoo8MAbGbVqlXq3r27EhMTlZKSosTERHXv3p2kPgA4SFhYmFVSX5IiIiIUFhbmmICAW0BiHwDgdK5du6Y+ffrI29tbCxYs0B9//KF9+/Zp0aJFqlu3rqPDAwDcoiJFisjNzS3bG1DQTJ8+3WrZz89Po0aNkp+fX479AAC2kzF5n1YaMLv1gLOiFA8AwOkULVpUK1as0Ouvv+7oUAAA+WjFihVWy9euXdNvv/2mBQsWaNy4cQ6KCrCdUqVKWS3HxcXp999/V1xcXI79AAC2sX79evP+W2+9pSZNmpjLP/zwg9544w2zH2V54OwshmEYjg7C2SQkJMjX11fx8fHy8fFxdDgAcFMFcdzq06eP6tatqxEjRjg6lJsqiK8/gILLGcesxYsXa+nSpVq1apWjQzE54+sE19OuXTslJibetF+JEiW0evVqO0SEgqqgj1kFff9gP+ln40dHR+d5PZBb9hi3mLEPAHBKVatW1dtvv60tW7aofv36Kl68uNX6oUOHOigyAEB+a9iwoZ599llHhwHkuytXrkiSRo0apfLly2vgwIHmuunTp+vw4cN6//33zX4AAPvIWH4nTcWKFXX06FE7RwPcGhL7AACn9Mknn6hUqVL69ddf9euvv1qts1gsJPYBoIC4cuWKPvzwQ911112ODgXId8WKFVNiYqI+/vhjffzxxwoICFB8fLx8fX3l7++vsWPHmv0AAPbz999/Z9lOUh+uhMQ+AMApxcTEmPfTqsZZLBZHhQMAyAelS5e2GssNw9DFixfl7e2tRYsWOTAywDZmzZql7t27Ky4uTl26dDHbr169arU8a9YsR4QHAIXO6NGjFRERIelGTf2MNfbT9wOcHYl9AIDTmjNnjiZPnqy//vpLklStWjUNGzZM/fv3d3BkAIBbMWXKFKvlIkWKyN/fXw0bNlTp0qUdExRgQ0FBQVbLFotF7du311dffaX0l7vL2A8AYButWrUyE/tpF8rNqvwOF86FKyCxDwBwSq+//romT56sIUOGKDQ0VJK0detWDR8+XEeOHNH48eMdHCEAIK969erl6BAAuzpz5ozVsmEYWV4k+syZM/L397dXWABQqEVHR1tdJDdjUp+L5sJVFHF0AAAAZGXGjBmaPXu2IiMj1b59e7Vv316RkZGaNWuWZs6c6ejwAAC36MKFC5o0aZL69++vZ599VpMnT1Z8fLyjwwJsYvDgwZKkSpUqafHixSpRooTc3NxUokQJLV68WBUrVrTqBwCwj+jo6EzldkaPHk1SHy6FGfsAAKeUkpKiBg0aZGqvX7++rl+/7oCIAAC3a8eOHWrdurWKFSum//znPzIMQ1FRUZowYYLWr1+v++67z9EhAvkq7Uer5557TkFBQVq9erXV+n79+umNN97gxy0AcIBWrVpRcgcujRn7AACn9PTTT2vGjBmZ2mfNmqUePXo4ICIAwO0aPny42rdvryNHjmj58uVasWKFYmJi1K5dOw0bNszR4QH5ztfXV9KNzy8nTpxQmzZt1KxZM7Vp00YnTpzQnDlzrPoBAADklsVIf8UeSJISEhLk6+ur+Ph4+fj4ODocALipgjhuDRkyRAsXLlT58uXVqFEjSdK2bdt0/Phx9ezZU0WLFjX7RkVFOSpMSQXz9QdQcDlyzCpWrJh+++033X333Vbt+/btU4MGDXT58mW7xpMTxnbkhzNnzqhLly437bds2TJq7OO2FPQxq6DvH4CCxx7jFqV4AABO6Y8//jBLMhw6dEiS5O/vL39/f/3xxx9mP4vF4pD4AAB55+Pjo2PHjmVK7B8/flwlS5Z0UFSA7WSVrG/btq3WrFlz034AAAA5IbEPAHBKmzZtcnQIAIB89tRTT6lfv356//331bhxY1ksFv3444965ZVX1K1bN0eHB+S7EydOZGrLmNRP63fXXXfZIyQAAFBAUGMfAAAAgF28//776ty5s3r27KlKlSqpYsWK6t27t5544gm9++67jg4PyHf9+/eXdONslWXLlikgIEBeXl4KCAjQsmXLzDNV0voBAADkFjP2AQAAANiFh4eHpk6dqsjISB06dEiGYahq1ary9vZ2dGiATSQlJUmSnn32Wfn7+2vp0qVW6/v06aMPPvjA7AcAAJBbJPYBAAAA2JW3t7fq1q3r6DAAm/P09NTVq1c1e/Zs1a1bV/369VNKSorc3Nw0Z84czZs3z+wHAACQFyT2AQAAANhM586dNX/+fPn4+Khz58459l2+fLmdogLs45NPPtHTTz+thIQE9e7d22xPSUmxWv7kk0/sHxwAAHBpJPYBAAAA2Iyvr68sFot5HyhMsrogbmhoqLZu3XrTfgAAADkhsQ8AAADAZtJKjWS8DxQGR44cydSWMamf1q9SpUq2DwgAYIqMjNS3335rLrdu3VqjRo1yYERA3hRxdAAAAAAACodx48bp0KFDjg4DsJt+/fpJulFDf9GiRfLy8pLFYpGXl5cWLVpk1tZP6wcAsI+wsDCrpL4kffvttwoLC3NMQMAtILEPAAAAwC6+/PJLVa9eXY0aNdK0adN05swZR4cE2FRKSookqXfv3rrrrru0bt06bdq0SevWrdNdd92lHj16WPUDANjezZL3JPfhKkjsAwAAALCL3bt3a/fu3Xr44YcVFRWlO++8U48++qgWL16sy5cvOzo8IN+5ublJkubPn68jR46oefPmCgsLU/PmzXXkyBF99tlnVv0AALYVGRlp3u/du7eio6PNW/qLmqfvBzgrEvsAAAAA7KZ27dqKiIjQ4cOHtWnTJgUHB2vYsGEKDAzM1eMjIyN1//33q2TJkrrjjjvUsWNHHThwwKqPYRgKDw9XUFCQihUrprCwMO3du9cWuwPkaM6cOZKkpKQk9e7d25yZn5KSot69eyspKcmqHwDAttKX30mfyM+4nLFMD+CMSOwDAAAAcIjixYurWLFi8vDw0LVr13L1mM2bN2vQoEHatm2bNmzYoOvXr6tVq1a6dOmS2WfixImKiorStGnTtH37dgUGBqply5a6ePGirXYFyFJWF8S97777ctUPAAAgJyT2AQAAANhNTEyMJkyYoFq1aqlBgwbauXOnwsPDFRsbm6vHr1u3Tr1791bt2rV1zz33aN68eTp27Jh+/fVXSTdm60+ZMkVjxoxR586dVadOHS1YsECXL1/W4sWLbblrQCZHjhzJ1LZz585c9QMAAMgJiX0AAAAAdhEaGqqqVatq2bJl6tOnj44eParvv/9e/fv3l6+v7y1tMz4+XpLk5+cn6cYPB7GxsWrVqpXZx9PTU02bNtWWLVuy3U5SUpISEhKsbsDt6tevn6Qb78H58+ebtfTd3Nw0f/58eXp6WvUDANhW69atzfvz58+3Wpd+OX0/wFm5OzoAAAAAAIVDs2bN9Mknn6h27dr5sj3DMDRixAg9+OCDqlOnjiSZM/8DAgKs+gYEBOjo0aPZbisyMlLjxo3Ll7iANGk19Xv37q1KlSrpu+++s1rfo0cPzZ071+wHALCtUaNGmfXz58+fnym5n74f4OyYsQ8AAADALiIiIlS7dm0lJyfrwIEDun79+m1tb/Dgwdq9e7c+//zzTOssFovVsmEYmdrSGzVqlOLj483b8ePHbys2QJI5Q3/+/Pk6fPiwHn74YYWFhenhhx/W4cOH9dlnn1n1AwDYXnR09G2tB5wFiX0AAAAAdnHlyhX169dP3t7eql27to4dOyZJGjp0qN555508bWvIkCH66quvtGnTJt11111me2BgoCRlqtl/+vTpTLP40/P09JSPj4/VDbhdc+bMkXSj1FPfvn2VmpoqSUpNTVXfvn2VlJRk1Q8AYB/R0dGZyu20bt2apD5cCol9AAAAAHbx2muv6ffff1d0dLS8vLzM9hYtWmjp0qW52oZhGBo8eLCWL1+u77//XsHBwVbrg4ODFRgYqA0bNphtycnJ2rx5sxo3bpw/OwLkUqVKlTK11atXL1f9AAC2NWrUKEVHR5s3yu/A1VBjHwAAAIBdrFy5UkuXLlWjRo2syuLUqlVLhw4dytU2Bg0apMWLF2vVqlUqWbKkOTPf19dXxYoVk8Vi0bBhwxQREaFq1aqpWrVqioiIkLe3t7p3726T/QKyc/jw4Uxtu3btyrJf5cqV7RARAAAoKJixDwAAAMAuzpw5ozvuuCNT+6VLl3Ksf5/ejBkzFB8fr7CwMJUrV868pZ/xP3LkSA0bNkwDBw5UgwYN9M8//2j9+vUqWbJkvu0LkBv9+/eXJBUtWlTz5883a+m7ublp/vz5Klq0qFU/AACA3GLGPgAAAAC7uP/++7VmzRoNGTJE0v9d4Hb27NkKDQ3N1TYMw7hpH4vFovDwcIWHh99yrEB+SKup/8wzz6hSpUr67rvvrNZ37dpVn376qdkPAAAgt0jsAwAAALCLyMhItWnTRvv27dP169c1depU7d27V1u3btXmzZsdHR6Q74oUKaLU1FR9+umnaty4sZ599lkZhiGLxaLZs2dryZIlZj8AAIC84NMDAAAAALto3LixtmzZosuXL6tKlSpav369AgICtHXrVtWvX9/R4QH57pNPPpEkXbt2Tf379zfPODEMQ/3799e1a9es+gEAAOQWM/YBAAAA2Ny1a9f03HPP6fXXX9eCBQscHQ5gF1ldELdWrVrat2/fTfsBAADkhBn7AAAAAGyuaNGiWrFihaPDAOzq77//ztSWMamfXT8AAICckNgHAAAAYBedOnXSypUrHR0GYDfPPvusJMnNzU1z5841a+kXKVJEc+fOlZubm1U/AACA3KIUDwAAAAC7qFq1qt5++21t2bJF9evXV/Hixa3WDx061EGRAbaRVlO/e/fuSk5OVmpqqiQpNTVVycnJ6tKli5YsWWL2AwDYT8eOHXXhwgVzuVSpUkxAgEuxGHyCyCQhIUG+vr6Kj4+Xj4+Po8MBgJti3HIsXn8ArsSRY1ZwcHC26ywWiw4fPmzHaHLG2I780KxZs1wl7S0WizZt2mSHiFBQOfOYFR4ernHjxlm1BQQEKDY2NtfbcOb9g2sKCwvLdl10dLTd4kDBZY9xixn7AAAAAOwiJibGvJ+W7LRYLI4KB7C52bNnq3///uayxWJR586dtXz5cquE/+zZsx0RHmA3tWvX1saNG83ltDJUgCPklNRPW09yH66AGvsAAABOaMeOHQoLCzNvO3bscHRIQL6YM2eO6tSpIy8vL3l5ealOnTr65JNPHB0WYBPXr1+3Wi5SpIiKFi1q1trPrh9Q0Li7uyswMNC8+fv7OzokFFIdO3Y079esWVPR0dHmrWbNmln2A5wVM/YBAACcTFaziF5++WVJnBoM1/b6669r8uTJGjJkiEJDQyVJW7du1fDhw3XkyBGNHz/ewREC+WvAgAFWyykpKVqyZEmW/RjfUZD99ddfCgoKkqenpxo2bKiIiAhVrlw52/5JSUlKSkoylxMSEuwRJgqB9DX1Z8yYYbVuxowZ5ufw9P0AZ8WMfQAAACeSMan/4IMP5rgecCUzZszQ7NmzFRkZqfbt26t9+/aKjIzUrFmzNHPmTEeHB9jM448/rk8++cQsPWWxWPTJJ5+offv2Do4MsL2GDRtq4cKF+vbbbzV79mzFxsaqcePGOnfuXLaPiYyMlK+vr3krX768HSMGANdAYh8AAMBJpC+3M23aNEVHR2v8+PGKjo7WtGnTsuwHuJKUlBQ1aNAgU3v9+vUpRYICbfny5UpMTDTr6huGocTERH399dcOjgywvUceeUSPP/646tatqxYtWmjNmjWSpAULFmT7mFGjRik+Pt68HT9+3F7hAoDLILEPAADgJNLK7UhSnTp1rNalX07fD3AlTz/9dKbT3iVp1qxZ6tGjhwMiAmwr7UwUwzA0bNgwq3XDhg0zE/2csYLCpHjx4qpbt67++uuvbPt4enrKx8fH6gbkh1KlSpn3X3jhBat16ZfT9wOcFTX2AQAAnEzG8jtpGjZsqJ9//tnO0QD5a86cOVq/fr0aNWokSdq2bZuOHz+unj17asSIEWa/qKgoR4UI5Ju77747U1tAQIBOnTp1035AQZWUlKT9+/froYcecnQoKIRWrlxplrbcv39/tmUuV65cabeYgFtFYh8AAMDJ/Pjjj1m2k9SHq/vjjz903333SZIOHTokSfL395e/v7/++OMPs19aHXLA1e3atStTW8akflq/evXq2T4gwAFefvllPfbYY6pQoYJOnz6t8ePHKyEhQb169XJ0aCikoqOjc7xuFRczh6sgsQ8AAOAk3n//fbPMzh9//GFVfid90vP999+3e2xAfti0aZOjQwDsKn35nZkzZ2rAgAFZLg8bNoxEEgqsEydOqFu3bjp79qz8/f3VqFEjbdu2TRUrVnR0aCjEoqOj1bFjR124cMFsK1WqFDP14VJI7AMAADiJ9BcVHTx4sKSsy+9kdfFRAIDzat68ue6+++5MyfsmTZrohx9+cExQgJ0sWbLE0SEAWSKJD1fHxXMBAACcSMakT8akPjM6AcD1fPfdd9q5c6fCwsLM286dO0nqAwCAW0ZiHwAAwMlER0dnKrfz/vvvk9QHABczZcoU8376i0NnXE7fDwAAIDcoxQMAAOCEGjRoQCIfAFxcVhfELVWqlFVN5+z6AQAA5IQZ+wAAAAAA2MDOnTsztWVM6mfXDwAAICck9gE7OXjwoFVNzYMHDzo6JAAAAAA2lFO5nZzK9AAAANxMgSzFExkZqeXLl+vPP/9UsWLF1LhxY7377ruqUaOGo0NDIRUWFpap7bnnnpPERRABAACAgq5p06aqV69eps/+jRs31pYtWxwTFAAAcGkFcsb+5s2bNWjQIG3btk0bNmzQ9evX1apVK126dMnRoaEQSp/UL1KkiLp27aoiRYpkuR4AAABAwbN582ZFR0dbncEbHR1NUh8AANyyAjljf926dVbL8+bN0x133KFff/1VTZo0cVBUKIzSl9tZuHChKlSoIEkaMGCAjh07pp49e5r9qlev7pAYAQDOaffu3Ro6dKi5/MEHHygkJMSBEQEA8ioqKsossxMeHm61Lv1yVFSUHaMCAAAFQYFM7GcUHx8vSfLz88tyfVJSkpKSkszlhIQEu8SFgi+t3E6RIkXMpH6aChUqqEiRIkpNTdVzzz1HSR7AQcLDwzVu3DirtoCAAMXGxjooIiDrs7nSkvwcLwDAddx3332Z2ooVK6YrV67ctB8AwLay+szNZ224kgJZiic9wzA0YsQIPfjgg6pTp06WfSIjI+Xr62veypcvb+coUdA9+eSTWbZ36tTJzpEAyErt2rX177//mrc9e/Y4OiQUYhm/YLRu3TrH9QAA55VVgihjUj+7fgAA28nuMzWfteFKCnxif/Dgwdq9e7c+//zzbPuMGjVK8fHx5u348eN2jBCFwRdffJFl+4oVK+wcCYCsuLu7KzAw0Lz5+/s7OiQUUrt37zbvz5o1S9HR0Ro1apSio6M1a9asLPsBAJxXTuV20i9nLNMDALCdmyXvSe7DVRToxP6QIUP01VdfadOmTbrrrruy7efp6SkfHx+rG5Af0pIwqampOnbsmNW6Y8eOKTU11aofAMf466+/FBQUpODgYHXt2lWHDx/OsX9SUpISEhKsbkB+SF9TP+O1V9Ivp+8HAHB+tWrV0n333afo6Gjzdt9996latWqODg0ACpWMSfv043JO/QBnVCAT+4ZhaPDgwVq+fLm+//57BQcHOzokFFLpkzA9e/bUww8/rA8//FAPP/yweeHcjP0A2FfDhg21cOFCffvtt5o9e7ZiY2PVuHFjnTt3LtvHUMINtpax/E6ahx9+2M6RAADyw759+7Rx40aFhYWZt40bN+qvv/5ydGgAUGhlTOZTFg2upkAm9gcNGqRFixZp8eLFKlmypGJjYxUbG5tlLUPA1tIfGFJTU/Xll1+aM/Uzrgdgf4888ogef/xx1a1bVy1atNCaNWskSQsWLMj2MZRwg619++23WbZ///33do4EAHA70pfYGT9+vNW69MuU4gEAAHlVIBP7M2bMUHx8vMLCwlSuXDnztnTpUkeHhkIqY21k6f9qJwNwLsWLF1fdunVznEFHCTfYygcffGDeP3jwoNW69Mvp+wEAnFduSzlQ8gEAAOSVu6MDsAXDMBwdApBJ9erVSeQDLiApKUn79+/XQw895OhQUAiFhISY95977jlJN8rvZJypn74fAMB5bdy4Mdf9WrRoYeNoAADphYWFWeVp+JEVrqZAztgHACC3Xn75ZW3evFkxMTH6+eef9cQTTyghIUG9evVydGgopDL+CJwxqc+PxADgOnIqt5NTmR4AgG1kdZHctFtO/QBnVCBn7AMAkFsnTpxQt27ddPbsWfn7+6tRo0batm2bKlas6OjQUIhFR0dr9+7dGjp0qNn2wQcfMFMfAFxU9erVM80MlaTg4GDFxMQ4JigAKKSio6NznJ1PUh+ugsQ+AKBQW7JkiaNDALIUEhLClwoAKCAOHjyo5cuXW10jZejQoST1AcBBskvu8/kbroTEPgAAAAAANjB27FizzE7GC5+nXx47dqxd4wIAkMSH66PGPgAAAAAANpDbC+Jy4VwAAJBXJPYBAAAAALCB5cuX52s/AACANCT2AQAAAACwgZzK7aRfzlimBwAA4GaosQ8AAOCE1q9fr4iICHN59OjRatWqlQMjAgDcqsDAQLVo0SJTyZ0ZM2bo3LlzDooKAAC4MhL7AAAATiYsLCxTW0REhCIiIrjIFwC4oNjYWC1cuFBz58412/r27UtSHwAA3DJK8QAAADiRjEn9qlWr5rgeAOC8hg4dat5Pn9TPuJy+HwAAQG6Q2AcAAHAS69evN++/9dZbio6O1ieffKLo6Gi99dZbWfYDADivzp0752s/AACANCT2AQAAnET6mvpNmjSxWpd+OX0/AIDzWrhwYb72AwAASENiHwAAwMlkLL+TpmLFinaOBABwO3Iqt5NTmR4AgO2FhYVlugGuhIvnAgAAOJm///47y/ajR4/aORIAQH4oVaqUOnfunKnkzrx583Tx4kUHRQUAhVd2SfywsDBFR0fbNRbgVjFjHwAAwEmMHj3avP/DDz9YrUu/nL4fAMD5XbhwQVOnTrWaFTp16lSS+gDgADebmc/MfbgKEvsAAABOolWrVub9N954Q2FhYerVq5fCwsL0xhtvZNkPKIx++OEHPfbYYwoKCpLFYtHKlSut1huGofDwcAUFBalYsWIKCwvT3r17HRMsCrW+ffua91esWGG1Lv1y+n4AANvJmLSPjo42bzn1A5wRiX0AAAAnkvFLRcbyO5waDEiXLl3SPffco2nTpmW5fuLEiYqKitK0adO0fft2BQYGqmXLlsyOht317NkzX/sBAPJPxs/VfM6GqyGxDwAA4GSio6MzldsZPXo0XzaA/++RRx7R+PHjM9Url27M1p8yZYrGjBmjzp07q06dOlqwYIEuX76sxYsXOyBaFGZTp07N134AAABpSOwDAAA4oVatWlmdGkz5HSB3YmJiFBsba/U34+npqaZNm2rLli3ZPi4pKUkJCQlWN+B25VRuJ6cyPQAAADdDYh8AAABAgREbGytJCggIsGoPCAgw12UlMjJSvr6+5q18+fI2jROFi4eHR6b3X2xsrNzc3BwUEQAgYx196urD1ZDYBwAAAFDgWCwWq2XDMDK1pTdq1CjFx8ebt+PHj9s6RBQiycnJ+uabb6zavvnmG6WkpDgoIgAonLK6SG7aLad+gDMisQ8AAACgwAgMDJSkTLOjT58+nWkWf3qenp7y8fGxugG3q1OnTvnaDwBw+26WtCepD1dBYh8AAABAgREcHKzAwEBt2LDBbEtOTtbmzZvVuHFjB0aGwigpKSlTW1bld7LqBwCwneyS9yT14UrcHR0AAAAAAORFYmKi/v77b3M5JiZGu3btkp+fnypUqKBhw4YpIiJC1apVU7Vq1RQRESFvb291797dgVGjMMpYfkdSluV3vvnmG40cOdIeIQEA/j+S+HB1JPYBAACc0IQJE6xmHLds2VJjxoxxYESA89ixY4eaNWtmLo8YMUKS1KtXL82fP18jR47UlStXNHDgQJ0/f14NGzbU+vXrVbJkSUeFDKhTp05asWJFtssAAAB5QWIfAADAyWS8eJckbdiwQRs2bGBmEaAbfyOGYWS73mKxKDw8XOHh4fYLCriJ8+fP57gMAACQF9TYBwAAcCJZJfXzsh4A4DweffRR837GH2bTL6fvBwAAkBsk9gEAAJzEhAkTzPs9e/ZUdHS0eevZs2eW/QAAziu3dfOprw8AAPKKxD4AAICTSF9Tv2/fvlbr0i+n7wcAcF65LQdF2SgAAJBXJPYBAAAAALCBnMrt5FSmBwAA4Ga4eC5gJ1nVROYDPAAAAFA4jBw5MlPJnW+++cZB0QAAAFfHjH3ADrK70CEXQAQApNeyZUvz/ty5c63WpV9O3w8A4BqGDh2qsLAw8zZ06FBHhwQAAFwYM/YBG7tZ8j4sLIyZ+wAASdKYMWPM+vkLFy7UwoULs+0HAHB+6T/r796922pd+mUm/ACA/VFZAa6OGfuADWU8SERHR5u3nPoBAAqvm32Z4MsGALgOLp4LAM6JygooCEjsA3aSMRFDYgYAkJ3o6OhM5XZatmzJsQMAXExuy+1QlgcA7Cc3lRUAV0ApHgAAACc0ZswYSu4AgIvLWG4n/Q+0OZXpAQDYRlaVFbJaR9lkuAIS+wAAAAAA2FhW5XaYFQoAjpNVZQXGZbgSEvuAnWQ1QwcAAABA4fD444/r3Llz5nKZMmUcGA0AAHB1JPYBG8r4a292yXxO7wIAAAAKnpCQELPMTvqkfsblkJAQu8YFAABcHxfPBWzsZkl7kvoAAABAwfTBBx/kaz8AQP7JOPmSygpwNczYB+wguzptJPUBANnp3Lmz4uLizGU/Pz8tX77cgREBAPLq8ccfz3W/L7/80sbRAACorICChMQ+YCccFAAAuZXVF4y4uLhM12sBADi3jOV20sryZFzOWKYHAGA7N7tILp+34SpI7AMAADiRm50CTHIfAFxTVuV2KPsAAI5BZQUUBCT2AQAAnETnzp3N+7Vr19ZHH31kLg8aNEh79+41+1GWBwBcC0l8AHAuJPHh6rh4LgAAgJNIX1M/fVI/43L6fgAA51WmTJl87QcAAJCGxD4AAAAAADaQ2wvicuFcAACQVyT2AQAAAACwgdyW36FMDwAAyCsS+wAAAE7Cz8/PvD9o0CCrdemX0/cDALiGjOV2KL8DAABuBxfPBQAAcBLLly83Z23u3bs32xmcXDgXAFxPVuV2mKkPAABuFYl9AAAAJxIdHZ1joic6OtpusQAA8g9JfAAAkJ8oxQMAAOBkoqOjM5Xb8fPzI6kPAAAAAJDEjH0AAACnRLkdAHB9NzsLK30/AACAvCCxDwAAAACADeS2/E5YWBjJfQCws6zGaMZiuBJK8QAAAAAAAAAoNLL74ZXrocCVMGMfAAAAAAAby2oWKAkkALC/m429nEUFV0FiHwAAAAAAGyOJDwCOl3EsTp/AT7+O5D5cAYl9AAAAJ0TNTwAAAMB2Mn62zu0FzwFnQY19AAAAJ0PNTwAoGHL7gyw/3AIAgLwisQ8AAOBEclPzEwDgGnI7ZjO2AwCAvCKxDwAA4CSyqvmZdsupHwAAAIC8yfiZms/YcDXU2AcAAHBC1PwEgIIlq3I7jOsAYF8ZP1NnNw5TIg2ugMQ+AAAAAAA2RhIfAJzDzSbMkNSHq6AUDwAAAAAAAIBCI7vkPUl9uBJm7AMAADihsLAwqy8WzPQEANeT2zJqJJIAwP4Ye+HqmLEPAADgJLK6SG7aLad+AADnlNsfZfnxFgAA5BWJfQAAACdys6Q9SX0AAAAAAIl9AAAAJ0PNTwAAAABATqixDwAA4IRI4gMAAAAAssOMfQAAAAAAAAAAXAiJfQAAAAAAAAAAXAiJfQAAAAAAAAAAXAiJfQAAAAAAAAAAXAgXzwUAAAAAwMayuih6WFiY3eMAAAAFQ4GesT99+nQFBwfLy8tL9evX1//+9z9HhwQAcFIcMwCg4GFshzPJmMQnqY/ChjEZAPJXgU3sL126VMOGDdOYMWP022+/6aGHHtIjjzyiY8eOOTo0AICT4ZgBAAUPYzucQcZZ+mFhYeYtp35AQcOYDAD5z2IYhuHoIGyhYcOGuu+++zRjxgyzrWbNmurYsaMiIyNzfGxCQoJ8fX0VHx8vHx8fW4cKALeNcev23M4xQ+L1B+BaCsuYxdgOZ5LT7HyS+sgPzj5mMSYDKGzsMW4VyBr7ycnJ+vXXX/Xaa69Ztbdq1UpbtmzJ1D8pKUlJSUnmckJCgs1jzMnff/+tmJgYh8ZgL5cvX9ahQ4ccHQbsoEqVKvL29nZ0GHYRHBysqlWrOjoM5FJejxmScx03OGagIOKYgdvF2O46CsvY3r59e3311VdZtkdFRTkgIvtjbC+8GJNdR2EZk8GYXFAUyMT+2bNnlZKSooCAAKv2gIAAxcbGZuofGRmpcePG2Su8m/rwww/1+++/OzoMALfonnvu0dSpUx0dBnIpr8cMybmOGxwzANfGMcM2GNvhKrJK9sP1MbZbY0wG4EgFeUwukIn9NBaLxWrZMIxMbZI0atQojRgxwlxOSEhQ+fLlbR5fdoYMGcKvwShwCtuvwXA9uT1mSM513OCYgYKIYwbyC2O782NsLzwY28GY7PwYkwsPxuSCoUAm9suWLSs3N7dMv/yePn060y/EkuTp6SlPT097hXdTVatWLbCniACAs8nrMUNyruMGxwwAyIyxHQCcB2MyANhGEUcHYAseHh6qX7++NmzYYNW+YcMGNW7c2EFRAQCcEccMACh4GNsBwHkwJgOAbRTIGfuSNGLECD3zzDNq0KCBQkNDNWvWLB07dkwDBgxwdGgAACfDMQMACh7GdgBwHozJAJD/Cmxi/6mnntK5c+f01ltv6d9//1WdOnX0zTffqGLFio4ODQDgZDhmAEDBw9gOAM6DMRkA8p/FMAzD0UE4m4SEBPn6+io+Pl4+Pj6ODgcAbopxy7F4/QG4Esas3OF1AuBKCvqYVdD3D0DBY49xq0DW2AcAAAAAAAAAoKAisQ8AAAAAAAAAgAshsQ8AAAAAAAAAgAshsQ8AAAAAAAAAgAshsQ8AAAAAAAAAgAshsQ8AAAAAAAAAgAshsQ8AAAAAAAAAgAshsQ8AAAAAAAAAgAshsQ8AAAAAAAAAgAshsQ8AAAAAAAAAgAshsQ8AAAAAAAAAgAshsQ8AAAAAAAAAgAshsQ8AAAAAAAAAgAtxd3QAzsgwDElSQkKCgyMBgNxJG6/Sxi/YF8cNAK6EY0buMLYDcCUFfWxnTAbgauwxLpPYz8LFixclSeXLl3dwJACQNxcvXpSvr6+jwyh0OG4AcEUcM3LG2A7AFRXUsZ0xGYCrsuW4bDEK6s+5tyE1NVUnT55UyZIlZbFYHB0OCpCEhASVL19ex48fl4+Pj6PDQQFiGIYuXryooKAgFSlClTV747gBW+G4AVvgmJE7jO2wBcZ12EpBH9sZk2ErjMuwFXuMyyT2ATtKSEiQr6+v4uPjOWAAAG6K4wYAFCyM6wDgXBiX4coK3s+4AAAAAAAAAAAUYCT2AQAAAAAAAABwIST2ATvy9PTUm2++KU9PT0eHAgBwARw3AKBgYVwHAOfCuAxXRo19AAAAAAAAAABcCDP2AQAAAAAAAABwIST2AQAAAAAAAABwIST2AQAAAAAAAABwIST2AQAAAAAAAABwIST2AQAAAAAAAABwIST2AQAAAAAAAABwIST2AQAAAAAAAABwIST2AQAAAAAAAABwIST2AQAAAAAAAABwIST2YRfz58+XxWKxuvn7+yssLEyrV692dHimSpUqqXfv3nl+3OXLlxUeHq7o6Oh8j+nIkSNq27at/Pz8ZLFYNGzYsHx/DnvasmWLwsPDdeHCBUeHArgUxtFblx/jqMViUXh4eL7Hlp+OHDkii8Wi+fPnOzqUW9K7d29VqlTJqi0iIkIrV67M1Dc6OloWi8Um75e8yOo1T/tbPXLkSJ62ld2+AoUNx7tbZ8/vDWFhYQoLC7PZ9lGw8Xd+61w9P2Dvz6uMVbkXHh4ui8Wis2fP5tgvq8/scBx3RweAwmXevHm6++67ZRiGYmNjNW3aND322GP66quv9Nhjjzk6vFt2+fJljRs3TpLy/aAxfPhw/fzzz5o7d64CAwNVrly5fN2+vW3ZskXjxo1T7969VapUKUeHA7gcxtG8K2jjaHbKlSunrVu3qkqVKo4O5Za8/vrrevHFF63aIiIi9MQTT6hjx45W7ffdd5+2bt2qWrVq2THC3Gnbtq22bt2a5/dZdvsKFFYc7/KusBzvUHDwd553rv537uqfV5H1Z3Y4Dol92FWdOnXUoEEDc7lNmzYqXbq0Pv/8c5c+cNvSH3/8of/85z980QcgiXH0VhSWcdTT01ONGjVydBi3LC9f8Hx8fJx2X/39/eXv7+/oMACXx/Eu75zteHft2jVZLBa5u5N2QNb4O8+72/k7NwxDV69eVbFixfI/sFzK7efVy5cvy9vb2w4R2Z+z7duVK1fk5eWV6/78KONcKMUDh/Ly8pKHh4eKFi1q1R4XF6eBAwfqzjvvlIeHhypXrqwxY8YoKSlJknT16lXde++9qlq1quLj483HxcbGKjAwUGFhYUpJSZF04zShEiVKaO/evWrevLmKFy8uf39/DR48WJcvX75pjMeOHdPTTz+tO+64Q56enqpZs6YmTZqk1NRUSTdOJUv7Aj9u3DjzVMKbnbJ3s+2mlRn4+++/tXbtWnO7OZ3a/9FHH6lJkya64447VLx4cdWtW1cTJ07UtWvXrPoZhqGIiAhVrFhRXl5eatCggTZs2JDlaWoJCQl6+eWXFRwcLA8PD915550aNmyYLl26ZNXPYrFo8ODB+vTTT1WzZk15e3vrnnvusTqVMjw8XK+88ookKTg42NwnR5dSAFwZ42j+jqMJCQl69tlnVaZMGZUoUUJt2rTRwYMHM/X7+++/1adPH1WrVk3e3t6688479dhjj2nPnj1mn8TERJUqVUrPP/98pscfOXJEbm5ueu+99yTd+ICfNtZ6eXnJz89PDRo00Oeff57ja5BxmxlPbU47pXbv3r3q1q2bfH19FRAQoL59+1r9v9/MmjVrZLFYtH37drPtyy+/lMViUdu2ba36hoSE6PHHHzeXc3tsynhar8Vi0aVLl7RgwQLz/y7tGJVVKZ609+nff/+tRx99VCVKlFD58uX10ksvme/7NCdOnNATTzyhkiVLqlSpUurRo4e2b9+eL6eGZ1WK57ffflO7du3M92pQUJDatm2rEydO3HRfAdzA8c5x3xsmTpxofm+47777tHbt2kzbS4vh008/1UsvvaQ777xTnp6e+vvvv2/6ugFp+DvP37/ztO/oM2fOVM2aNeXp6akFCxZIkv766y91797d6vk++uijTNv4888/1aZNG3l7e6ts2bIaMGCAvv7660yfw7IrW5Qxx5DT59WdO3fqiSeeUOnSpc3ksWEYmj59uurVq6dixYqpdOnSeuKJJ3T48GGr58ntWJVbixcvVmhoqEqUKKESJUqoXr16mjNnjrl+w4YN6tChg+666y55eXmpatWqev755zOVsclp324m7f980aJFGjFihAIDA1WsWDE1bdpUv/32m1XfHTt2qGvXrqpUqZKKFSumSpUqqVu3bjp69KhVv7TPqevXr1ffvn3l7+8vb2/vTJ+V0/z555+qXLmyGjZsqNOnT0vKuhRPbvJBaVatWqWQkBB5enqqcuXKmjp1qvk65cXhw4fVtWtXBQUFydPTUwEBAWrevLl27dpl9qlUqZLatWunFStWKCQkRF5eXqpcubI++OADq21dvXpVL730kurVqydfX1/5+fkpNDRUq1atyvS8qamp+vDDD833ZKlSpdSoUSN99dVXVv2WLl2q0NBQFS9eXCVKlFDr1q0z/b/lZh9uhp/OYVcpKSm6fv26DMPQqVOn9N577+nSpUvq3r272efq1atq1qyZDh06pHHjxikkJET/+9//FBkZqV27dmnNmjXy8vLSF198ofr166tv37768ssvlZqaqh49esgwDH3++edyc3Mzt3nt2jU9+uijev755/Xaa69py5YtGj9+vI4ePaqvv/4623jPnDmjxo0bKzk5WW+//bYqVaqk1atX6+WXX9ahQ4c0ffp0lStXTuvWrVObNm3Ur18/9e/fX5JynK2Xm+2mlRno1KmTqlSpovfff1+ScjzV7tChQ+revbuZhP/99981YcIE/fnnn5o7d67Zb8yYMYqMjNRzzz2nzp076/jx4+rfv7+uXbum6tWrm/0uX76spk2b6sSJExo9erRCQkK0d+9evfHGG9qzZ482btxoNfiuWbNG27dv11tvvaUSJUpo4sSJ6tSpkw4cOKDKlSurf//+iouL04cffqjly5eb++KMpRQAZ8U4mvvt5nUcNQxDHTt21JYtW/TGG2/o/vvv108//aRHHnkkU9+TJ0+qTJkyeuedd+Tv76+4uDgtWLBADRs21G+//aYaNWqoRIkS6tu3r2bNmqWJEyfK19fXfPz06dPl4eGhvn37SpJGjBihTz/9VOPHj9e9996rS5cu6Y8//tC5c+eyfQ3y4vHHH9dTTz2lfv36ac+ePRo1apQkWR0bctK0aVMVLVpUGzdu1P333y9J2rhxo4oVK6bNmzfr2rVrKlq0qE6fPq0//vhDL7zwgvnY3B6bMtq6dasefvhhNWvWTK+//rqkGzP1c3Lt2jW1b99e/fr100svvaQffvhBb7/9tnx9ffXGG29Iki5duqRmzZopLi5O7777rqpWrap169bpqaeeytVrkVeXLl1Sy5YtFRwcrI8++kgBAQGKjY3Vpk2bdPHixVveV6Cg43iX++3a8nvDuHHjNG7cOPXr109PPPGEjh8/rmeffVYpKSmqUaNGpu2OGjVKoaGhmjlzpooUKaI77rgj2xgA/s5zv91b+TuXpJUrV+p///uf3njjDQUGBuqOO+7Qvn371LhxY1WoUEGTJk1SYGCgvv32Ww0dOlRnz57Vm2++KUk6deqU+Rlw+vTpCggI0GeffabBgwff/D/3FnTu3Fldu3bVgAEDzImEzz//vObPn6+hQ4fq3XffVVxcnN566y01btxYv//+uwICAiTlfazKyRtvvKG3335bnTt31ksvvSRfX1/98ccfVknyQ4cOKTQ0VP3795evr6+OHDmiqKgoPfjgg9qzZ0+mH6ey2rfcGj16tO677z598sknio+PV3h4uMLCwvTbb7+pcuXKkm78YFKjRg117dpVfn5++vfffzVjxgzdf//92rdvn8qWLWu1zb59+6pt27b69NNPdenSpUzxStLmzZvVqVMnNWnSRIsXL77pWQY3ywdJ0rp169S5c2c1adJES5cu1fXr1/X+++/r1KlTeXpNJOnRRx9VSkqKJk6cqAoVKujs2bPasmVLpus57tq1S8OGDVN4eLgCAwP12Wef6cUXX1RycrJefvllSVJSUpLi4uL08ssv684771RycrI2btyozp07a968eerZs6e5vd69e2vRokXq16+f3nrrLXl4eGjnzp1WP7JFRERo7Nix6tOnj8aOHavk5GS99957euihh/TLL7+YObDc7kOODMAO5s2bZ0jKdPP09DSmT59u1XfmzJmGJOOLL76wan/33XcNScb69evNtqVLlxqSjClTphhvvPGGUaRIEav1hmEYvXr1MiQZU6dOtWqfMGGCIcn48ccfzbaKFSsavXr1Mpdfe+01Q5Lx888/Wz32hRdeMCwWi3HgwAHDMAzjzJkzhiTjzTffzNXrkdvtpsXUtm3bXG03vZSUFOPatWvGwoULDTc3NyMuLs4wDMOIi4szPD09jaeeesqq/9atWw1JRtOmTc22yMhIo0iRIsb27dut+v73v/81JBnffPON2SbJCAgIMBISEsy22NhYo0iRIkZkZKTZ9t577xmSjJiYmDzvE1CYMY5as8U4unbt2hz3M6fYrl+/biQnJxvVqlUzhg8fbrYfOnTIKFKkiDF58mSz7cqVK0aZMmWMPn36mG116tQxOnbseNMYcxITE2NIMubNm2e2vfnmm4YkY+LEiVZ9Bw4caHh5eRmpqam53v6DDz5oPPzww+Zy1apVjVdeecUoUqSIsXnzZsMwDOOzzz4zJBkHDx7MchvZHZsM48b7rGLFilb9ixcvbvV+SrNp0yZDkrFp0yarx2f1vn/00UeNGjVqmMsfffSRIclYu3atVb/nn38+0+t3M1m95ml/q2nHuR07dhiSjJUrV+a4rez2FShsON5Zc+T3hvPnzxteXl5Gp06drPr/9NNPmb43pI3LTZo0yfPzo/Dh79yarf7OJRm+vr5Wn7cMwzBat25t3HXXXUZ8fLxV++DBgw0vLy+z/6uvvmpYLBZj165dVv1atmyZ6XNYxtcqTdOmTa3Gipw+r77xxhtWj03LUUyaNMmq/fjx40axYsWMkSNHGoaRt7HqZg4fPmy4ubkZPXr0yPVjUlNTjWvXrhlHjx41JBmrVq266b7lRtq4et9991l9Zj9y5IhRtGhRo3///tk+9vr160ZiYqJRvHhxq/d62t9ez549Mz0mLdYzZ84Yn376qeHh4WEMHTrUSElJseqX1Wf23OaD7r//fqN8+fJGUlKS2Xbx4kWjTJkyRl5S1GfPnjX/1nNSsWLFbN/DPj4+xqVLl7J83PXr141r164Z/fr1M+69916z/YcffjAkGWPGjMn2OY8dO2a4u7sbQ4YMsWq/ePGiERgYaDz55JN52oeboRQP7GrhwoXavn27tm/frrVr16pXr14aNGiQpk2bZvb5/vvvVbx4cT3xxBNWj007reu7774z25588km98MILeuWVVzR+/HiNHj1aLVu2zPK5e/ToYbWcNgtg06ZN2cb7/fffq1atWvrPf/6TKRbDMPT999/ffKftuN3ffvtN7du3V5kyZeTm5qaiRYuqZ8+eSklJMUtJbNu2TUlJSXryySetHtuoUaNMp1OtXr1aderUUb169XT9+nXz1rp16yxL6DRr1kwlS5Y0lwMCAnTHHXdkOv0LwK1jHLXddtP2I7v9TO/69euKiIhQrVq15OHhIXd3d3l4eOivv/7S/v37zX6VK1dWu3btNH36dBmGIenGqb3nzp2zmu30n//8R2vXrtVrr72m6OhoXblyJc/x56R9+/ZWyyEhIbp69ap5Sm1uNG/eXD/99JOuXLmio0eP6u+//1bXrl1Vr149bdiwQdKNWfwVKlRQtWrVzMfl5tiUXywWS6aavCEhIVbHoc2bN6tkyZJq06aNVb9u3brlayxpqlatqtKlS+vVV1/VzJkztW/fPps8D1DQcLyz7XZzMzZv3bpVV69ezfR6NG7cWBUrVsxyu+lLsQE3w9+5bbcrSQ8//LBKly5tLl+9elXfffedOnXqJG9vb6vv+Y8++qiuXr2qbdu2SbrxWtSuXVv33HOP1Taz+mycHzKOH6tXr5bFYtHTTz9tFWdgYKDuueceMx9xK2NVdjZs2KCUlBQNGjQox36nT5/WgAEDVL58ebm7u6to0aLmc6X/LpDdvuVF9+7drSolVKxYUY0bN7Z6ryYmJurVV19V1apV5e7uLnd3d5UoUUKXLl3KczwTJkxQ79699c4772jq1KkqUiR3qeOb5YMuXbqkHTt2qGPHjvLw8DD7lShRIs/X1PDz81OVKlX03nvvKSoqSr/99ptZtiqj7N7DCQkJ2rlzp9m2bNkyPfDAAypRooT5fzpnzhyr1y+tvFNO749vv/1W169fV8+ePa3et15eXmratKn5vs3LPuSExD7sqmbNmmrQoIEaNGigNm3a6OOPP1arVq00cuRI81STc+fOKTAwMFN9rTvuuEPu7u6ZyhL07dtX165dk7u7u4YOHZrl87q7u6tMmTJWbYGBgebzZefcuXNZntoWFBR008fmxBbbPXbsmB566CH9888/mjp1qv73v/9p+/btZp28tCRR2rbTTllLL2PbqVOntHv3bhUtWtTqVrJkSRmGkal+XMbXWLpxcZz8TlABhRnjqO22e+7cuRz3M70RI0bo9ddfV8eOHfX111/r559/1vbt23XPPfdkGvNefPFF/fXXX2by+6OPPlJoaKjuu+8+s88HH3ygV199VStXrlSzZs3k5+enjh076q+//srzfmQl4z55enpKUp7G5xYtWigpKUk//vijNmzYoLJly+ree+9VixYttHHjRkk3vly3aNHCfExuj035xdvbO9PFvzw9PXX16lVz+dy5c7k6BuYXX19fbd68WfXq1dPo0aNVu3ZtBQUF6c0338xUyxrA/+F4Z7vt5vV7Q1bHwazapJuXBQHS4+/cttuVMv9Nnjt3TtevX9eHH36Y6Xv+o48+Kknm9/y01z6j7P7+b1fGWE+dOiXDMBQQEJAp1m3btlnFmV1ceY31zJkzkqS77ror2z6pqalq1aqVli9frpEjR+q7777TL7/8Yv4gktXn29sZG7Pbr/Tvi+7du2vatGnq37+/vv32W/3yyy/avn27/P398xzPokWLdOedd6pr1655ivNm+aDz58+b/58Z5fVzuMVi0XfffafWrVtr4sSJuu++++Tv76+hQ4eapS7T5PS+SHsNly9frieffFJ33nmnFi1apK1bt2r79u3q27ev1feIM2fOyM3NLcf3VVpZofvvvz/T+3bp0qXm+zYv+5ATauzD4UJCQvTtt9/q4MGD+s9//qMyZcro559/lmEYVgfv06dP6/r161a1wS5duqRnnnlG1atX16lTp9S/f/8sL25x/fp1nTt3zmqgiY2NlZT14JOmTJky+vfffzO1nzx5UpIy1SnLLVtsd+XKlbp06ZKWL19u9at0xotupO1vVjXMYmNjrWbtly1bVsWKFcu2BvKt7j+A/MU4mj/bLVOmTI77md6iRYvUs2dPRUREWLWfPXtWpUqVsmp7+OGHVadOHU2bNk0lSpTQzp07tWjRIqs+xYsXN2uDnjp1ypy9/9hjj+nPP//M877YQsOGDVWiRAlt3LhRR44cUfPmzWWxWNS8eXNNmjRJ27dv17Fjx6wS+7k9NtlTmTJl9Msvv2Rqz+r/Ob/UrVtXS5YskWEY2r17t+bPn6+33npLxYoV02uvvWaz5wUKGo53+bPdvH5vyGp8zPi9IU1eL34IZMTfef5tV8r8N1m6dGm5ubnpmWeeyXbWcXBwsBlXdn//GXl5eWV5AdazZ8/mOv6MsZYtW1YWi0X/+9//zEkp6aW13cpYlZ20ayGcOHFC5cuXz7LPH3/8od9//13z589Xr169zPacLhZ+O2NjdvuVtt/x8fFavXq13nzzTavPlWl14/MaT9q1px566CF99913eT7rITulS5eWxWLJNheVVxUrVjQvaHzw4EF98cUXCg8PV3JysmbOnJnjtjP+vS9atEjBwcFaunSp1WuT8T3t7++vlJQUxcbGZvvjSNr7/b///e9NX7vc7kNOmLEPh0v7AJk2gDZv3lyJiYlauXKlVb+FCxea69MMGDBAx44d0/LlyzVnzhx99dVXmjx5cpbP89lnn1ktL168WJKsrtCeUfPmzbVv3z6r03PSYrFYLGrWrJmkvM98zO128yJt8El/wDMMQ7Nnz7bq17BhQ3l6emrp0qVW7du2bctUMqddu3Y6dOiQypQpY86kSH/LywEyza3MEgWQM8bR7LebF2mPyW4/07NYLJm+YKxZs0b//PNPltseOnSo1qxZo1GjRikgIEBdunTJNo6AgAD17t1b3bp104EDB3T58uW87opNFC1aVE2aNNGGDRv0/fffm6e2P/TQQ3J3d9fYsWPNRH+a3B6bsmOLs76aNm2qixcvmqfSplmyZEm+Pk9WLBaL7rnnHk2ePFmlSpWyev9yhhtwcxzvst9uXuR2bG7UqJG8vLwyvR5btmyh1CZshr/z7LebH7y9vdWsWTP99ttvCgkJyfJ7flqys1mzZtq7d69+//13q21k9dm4UqVK2r17t1XbwYMHdeDAgVuOtV27djIMQ//880+WcdatW1dS/o5VrVq1kpubm2bMmJFtn6zGUEn6+OOP8/RcufX555+bJT0l6ejRo9qyZYv5XrVYLDIMI1M8n3zyiVJSUvL8fBUrVjR/THnooYfy7Qzi4sWLq0GDBlq5cqWSk5PN9sTERK1evfq2tl29enWNHTtWdevWzfR3lN17uGTJkuYZ1BaLRR4eHlZJ/djY2Ew/DD7yyCOSlOP7o3Xr1nJ3d9ehQ4eyfN82aNAgz/uQE2bsw67++OMPXb9+XdKNU16WL1+uDRs2qFOnTuavwj179tRHH32kXr166ciRI6pbt65+/PFHRURE6NFHHzVnAn7yySdatGiR5s2bp9q1a6t27doaPHiwXn31VT3wwANW9ek8PDw0adIkJSYm6v777zevev/II4/owQcfzDbe4cOHa+HChWrbtq3eeustVaxYUWvWrNH06dP1wgsvqHr16pKkkiVLqmLFilq1apWaN28uPz8/lS1bNtvEd263mxctW7aUh4eHunXrppEjR+rq1auaMWOGzp8/b9XPz89PI0aMUGRkpEqXLq1OnTrpxIkTGjdunMqVK2dVP23YsGH68ssv1aRJEw0fPlwhISFKTU3VsWPHtH79er300ktq2LBhnuJMO/hOnTpVvXr1UtGiRVWjRg2rWmwAssc4mrft5kWrVq3UpEkTjRw5UpcuXVKDBg30008/6dNPP83Ut127dpo/f77uvvtuhYSE6Ndff9V7772X7Wm7Tz/9tEaNGqUffvhBY8eOtaorKd340bVdu3YKCQlR6dKltX//fn366acKDQ2Vt7d3nvfFVpo3b66XXnpJksz3UbFixdS4cWOtX79eISEhuuOOO8z+uT02Zadu3bqKjo7W119/rXLlyqlkyZKqUaPGbe1Dr169NHnyZD399NMaP368qlatqrVr1+rbb7+VpFzXEc2t1atXa/r06erYsaMqV64swzC0fPlyXbhwwarury32FXBlHO/ytt28yO3YXLp0ab388ssaP368+vfvry5duuj48eMKDw+3WSkOFC78nedtu/ll6tSpevDBB/XQQw/phRdeUKVKlXTx4kX9/fff+vrrr82a/sOGDdPcuXPVtm1bjR8/XgEBAfrss8+yPJv0mWee0dNPP62BAwfq8ccf19GjRzVx4kTzB5pb8cADD+i5555Tnz59tGPHDjVp0kTFixfXv//+qx9//FF169bVCy+8kK9jVaVKlTR69Gi9/fbbunLlirp16yZfX1/t27dPZ8+e1bhx43T33XerSpUqeu2112QYhvz8/PT111+bZTfz2+nTp9WpUyc9++yzio+P15tvvikvLy+NGjVKkuTj46MmTZrovffeM99nmzdv1pw5czKdSZxb5cqV0+bNm9W6dWtzYk+dOnVue1/eeusttW3bVq1bt9aLL76olJQUvffeeypRokS2ZxdkZffu3Ro8eLC6dOmiatWqycPDQ99//712796d6WzYoKAgtW/fXuHh4SpXrpwWLVqkDRs26N133zW/Z7Vr107Lly/XwIED9cQTT+j48eN6++23Va5cOasfNh566CE988wzGj9+vE6dOqV27drJ09NTv/32m7y9vTVkyBBVqlRJb731lsaMGaPDhw+rTZs2Kl26tE6dOqVffvnFPFM7L/uQo9u69C6QS1ld9d7X19eoV6+eERUVZVy9etWq/7lz54wBAwYY5cqVM9zd3Y2KFSsao0aNMvvt3r3bKFasWKarrl+9etWoX7++UalSJeP8+fOGYdy4Ynfx4sWN3bt3G2FhYUaxYsUMPz8/44UXXjASExOtHp/VldyPHj1qdO/e3ShTpoxRtGhRo0aNGsZ7772X6crgGzduNO69917D09PTkJTlFeFvZbt5uer9119/bdxzzz2Gl5eXceeddxqvvPKKsXbt2kxXrE9NTTXGjx9v3HXXXYaHh4cREhJirF692rjnnnsyXUk+MTHRGDt2rFGjRg3Dw8PD8PX1NerWrWsMHz7ciI2NNftJMgYNGpQppqxe01GjRhlBQUFGkSJFMsUGIGuMo5nZYhy9cOGC0bdvX6NUqVKGt7e30bJlS+PPP/80JBlvvvmm2e/8+fNGv379jDvuuMPw9vY2HnzwQeN///uf0bRpU6Np06ZZbrt3796Gu7u7ceLEiUzrXnvtNaNBgwZG6dKlDU9PT6Ny5crG8OHDjbNnz+YqbsMwjJiYGEOSMW/ePLPtzTffNCQZZ86cseqb9n6KiYnJ9fYNwzB+//13Q5JRrVo1q/YJEyYYkowRI0Zkekxuj029evUyKlasaPXYXbt2GQ888IDh7e1tSDJf202bNmX5+OLFi2d6/rTXIL1jx44ZnTt3NkqUKGGULFnSePzxx41vvvnGkGSsWrUq169HVq95xtf2zz//NLp162ZUqVLFKFasmOHr62v85z//MebPn5+rfQUKG453mTn6e0NkZKRRvnx583vD119/nel4lzYuL1u2LFfPj8KNv/PMbPF3nt13dMO48Rmmb9++xp133mkULVrU8Pf3Nxo3bmyMHz/eqt++ffuMli1bGl5eXoafn5/Rr18/Y9WqVVmOFRMnTjQqV65seHl5GQ0aNDC+//77TGNFXj6vppk7d67RsGFDo3jx4kaxYsWMKlWqGD179jR27Nhh9fy5Gatya+HChcb9999veHl5GSVKlDDuvfdeq5jTXpeSJUsapUuXNrp06WIcO3Ys03eGm+1bTtLG1U8//dQYOnSo4e/vb3h6ehoPPfSQ1b4bhmGcOHHCePzxx43SpUsbJUuWNNq0aWP88ccfmd7DaX9727dvz/R8WcV64cIF44EHHjD8/PzMx2T1mT0v+aAVK1YYdevWNTw8PIwKFSoY77zzjjF06FCjdOnSuX5tTp06ZfTu3du4++67jeLFixslSpQwQkJCjMmTJxvXr1+3ev62bdsa//3vf43atWsbHh4eRqVKlYyoqKhM23znnXeMSpUqGZ6enkbNmjWN2bNnZ/k9IiUlxZg8ebJRp04dM0cWGhpqfP3111b9Vq5caTRr1szw8fExPD09jYoVKxpPPPGEsXHjxjztw81YDCPd+RxAAdS7d2/997//VWJioqNDcWoxMTG6++679eabb2r06NGODgeAE2EcvX3JycmqVKmSHnzwQX3xxReODgdZiIiI0NixY3Xs2LEcL5gGoODieAcUfPyd377o6Gg1a9ZMmzZtyrF0EW5P2uu8bNkyPfHEE44Ox2auXbumevXq6c4779T69evzdduVKlVSnTp1brvUjzOjFA9QCP3+++/6/PPP1bhxY/n4+OjAgQOaOHGifHx81K9fP0eHBwAFxpkzZ3TgwAHNmzdPp06d4kKpTmLatGmSpLvvvlvXrl3T999/rw8++EBPP/00SX0AAADARvr166eWLVuqXLlyio2N1cyZM7V//35NnTrV0aG5JBL7QCFUvHhx7dixQ3PmzNGFCxfk6+ursLAwTZgwQQEBAY4ODwAKjDVr1qhPnz4qV66cpk+fbl6gKS8Mw7jpha/c3NysLvaUF6mpqUpNTc2xj7t7wfrI6O3trcmTJ+vIkSNKSkpShQoV9Oqrr2rs2LGSbP+aAwAAwL5SUlKUU9ESi8UiNzc3m8eR28+ZBdXFixf18ssv68yZMypatKjuu+8+ffPNN+b1Mgrjd5PbQSkeAAAAJ5Z2Gm5O5s2bp969e9/S9nv37q0FCxbk2KewfVy09WsOAAAA+6pUqZKOHj2a7fqmTZsqOjra5nHwOTNnfDfJGxL7AAAATuzixYs6cOBAjn2Cg4NVpkyZW9r+kSNHdPbs2Rz7NGjQ4Ja27aps/ZoDAADAvvbs2aOkpKRs15csWVI1atSweRx8zswZ303yhsQ+AAAAAAAAAAAupIijAwAAAAAAAAAAALnH1QaykJqaqpMnT6pkyZJcFA2ASzAMQxcvXlRQUJCKFOE3W3vjuAHAlXDMyB3GdgCupKCP7YzJAFyNPcZlEvtZOHnypMqXL+/oMAAgz44fP6677rrL0WEUOhw3ALgijhk5Y2wH4IoK6tjOmAzAVdlyXCaxn4WSJUtKuvHC+/j4ODgaALi5hIQElS9f3hy/YF8cNwC4Eo4ZucPYDsCVFPSxnTEZgKuxx7hMYj8Laad1+fj4cMAA4FI4LdUxOG4AcEUcM3LG2A7AFRXUsZ0xGYCrsuW4XPAKrwEAAAAAAAAAUICR2AcAAAAAAAAAwIWQ2AcAAAAAAAAAwIWQ2AcAAAAAAAAAwIWQ2AcAFAiRkZGyWCwaNmyY2WYYhsLDwxUUFKRixYopLCxMe/futXpcUlKShgwZorJly6p48eJq3769Tpw4YefoAQAAAAAAco/EPgDA5W3fvl2zZs1SSEiIVfvEiRMVFRWladOmafv27QoMDFTLli118eJFs8+wYcO0YsUKLVmyRD/++KMSExPVrl07paSk2Hs3AAAAAAAAcoXEPgDApSUmJqpHjx6aPXu2SpcubbYbhqEpU6ZozJgx6ty5s+rUqaMFCxbo8uXLWrx4sSQpPj5ec+bM0aRJk9SiRQvde++9WrRokfbs2aONGzc6apcAAAAAAAByRGIfAODSBg0apLZt26pFixZW7TExMYqNjVWrVq3MNk9PTzVt2lRbtmyRJP3666+6du2aVZ+goCDVqVPH7JOVpKQkJSQkWN0AAAAAAADsxd3RAQAAcKuWLFminTt3avv27ZnWxcbGSpICAgKs2gMCAnT06FGzj4eHh9VM/7Q+aY/PSmRkpMaNG3e74QMAAAAAANwSZuwDAFzS8ePH9eKLL2rRokXy8vLKtp/FYrFaNgwjU1tGN+szatQoxcfHm7fjx4/nLXgAAAAAAIDbQGIfAOCSfv31V50+fVr169eXu7u73N3dtXnzZn3wwQdyd3c3Z+pnnHl/+vRpc11gYKCSk5N1/vz5bPtkxdPTUz4+PlY3AAAAAAAAeyGxDwBwSc2bN9eePXu0a9cu89agQQP16NFDu3btUuXKlRUYGKgNGzaYj0lOTtbmzZvVuHFjSVL9+vVVtGhRqz7//vuv/vjjD7MPAAAAAACAs6HGPgDAJZUsWVJ16tSxaitevLjKlCljtg8bNkwRERGqVq2aqlWrpoiICHl7e6t79+6SJF9fX/Xr108vvfSSypQpIz8/P7388suqW7dupovxAgAAAAAAOAsS+wCAAmvkyJG6cuWKBg4cqPPnz6thw4Zav369SpYsafaZPHmy3N3d9eSTT+rKlStq3ry55s+fLzc3NwdGDkhz587VwoULzeWePXuqb9++DowIAHA7UlJStHv3bsXFxcnPz08hISF83gAAB0pOTtaqVat08uRJBQUFqUOHDvLw8HB0WECuWQzDMBwdhLNJSEiQr6+v4uPjqZsMwCUwbjkWrz/yW1hYWLbroqOj7RYHCibGrNzhdUJ++uGHHzR9+nSra/8EBgZq4MCBatKkiQMjQ0HhzGPW9evXFR4ers8++0yxsbEqV66cevfurbFjx6pIkdxViHbm/YNrmjlzppYtW6aUlBSzzc3NTV26dNGAAQMcGBkKCnuMW9TYBwAAcCIZk/oZPwTmlPQHADifH374QW+++aYqV66sjz76SN98840++ugjVa5cWW+++aZ++OEHR4cI2NS7776rmTNnatq0adq/f78mTpyo9957Tx9++KGjQ0MhNXPmTC1ZskQ+Pj56+eWX9eWXX+rll1+Wj4+PlixZopkzZzo6RCBXSOwDAAA4iblz55r3R4wYoejoaH311VeKjo7WiBEjsuwHAHBeKSkpmj59ukJDQzV+/HjVrl1b3t7eql27tsaPH6/Q0FDNmDHDasYoUNBs3bpVHTp0UNu2bVWpUiU98cQTatWqlXbs2OHo0FAIJScna9myZSpdurSWLVumdu3aqUyZMmrXrp1Ve3JysqNDBW6KGvtwqKtXr+rYsWOODgN2UKFCBXl5eTk6DABwaulr6rdv395qXfv27RUVFWX2o94+ADi/3bt3KzY2Vq+//nqmkiNFihRRjx49NGjQIO3evVv33nuvg6IEbOvBBx/UzJkzdfDgQVWvXl2///67fvzxR02ZMiXbxyQlJSkpKclcTkhIsEOkKAxWrVqllJQU9evXT+7u1mlRd3d39e3bV5MmTdKqVavUpUsXB0UJ5A6JfTjUsWPH9Nxzzzk6DNjBrFmzVL16dUeHAQAuIbsajMWLF9elS5fsHA0A4FbFxcVJkoKDg7Ncn9ae1g8oiF599VXFx8fr7rvvlpubm1JSUjRhwgR169Yt28dERkZq3LhxdowShcXJkyclSaGhoVmuT2tP6wc4MxL7cKgKFSpo1qxZjg7Dbo4ePaoJEyZozJgxqlixoqPDsasKFSo4OgQAcBnZzUojqQ8ArsXPz0+SFBMTo9q1a2daHxMTY9UPKIiWLl2qRYsWafHixapdu7Z27dqlYcOGKSgoSL169cryMaNGjbIqQ5iQkKDy5cvbK2QUYEFBQZJulIhq165dpvVbt2616gc4MxL7cCgvL69COYu7YsWKhXK/AQA569mzp1mO56uvvrIqx/PVV19Z9QMAOL+QkBAFBgbqs88+0/jx463K8aSmpuqzzz5TuXLlFBIS4sAoAdt65ZVX9Nprr6lr166SpLp16+ro0aOKjIzMNrHv6ekpT09Pe4aJQqJDhw6aOXOm5syZozZt2liV47l+/brmzp0rNzc3dejQwYFRArnDxXMBAACcRPq6+VFRUQoLC1Pbtm0VFhZm1tfP2A8A4Lzc3Nw0cOBAbd26VWPHjtXevXt1+fJl7d27V2PHjtXWrVv1wgsvyM3NzdGhAjZz+fLlTNeYcHNzU2pqqoMiQmHm4eGhLl266Pz58+rSpYu+/vprnT17Vl9//bVVu4eHh6NDBW6KGfsAAABOJDo6WmFhYeZyxvI70dHR9g0IAHBbmjRponHjxmn69OkaNGiQ2V6uXDmNGzdOTZo0cWB0gO099thjmjBhgipUqKDatWvrt99+U1RUFBMV4DADBgyQJC1btkyTJk0y293c3NS1a1dzPeDsSOwDAAA4mejoaM2dO9csyyPdKL/DF2AAcE1NmjTRAw88oN27dysuLk5+fn4KCQlhpj4KhQ8//FCvv/66Bg4cqNOnTysoKEjPP/+83njjDUeHhkJswIAB6tu3r1atWqWTJ08qKChIHTp0YKY+XAqJfQAAACfUt29fEvkAUIC4ubnp3nvvdXQYgN2VLFlSU6ZM0ZQpUxwdCmAlrSwP4KqosQ8AAAAAAAAAgAshsQ8AAOCEDh48qLCwMPN28OBBR4cEAAAAAHASlOIBAABwMukvnpvmueeek8TFcwEAAAAAzNgHAABwKumT+kWKFFHXrl1VpEiRLNcDAAAAAAonZuwDAAA4ifTldhYuXKgKFSpIkgYMGKBjx46pZ8+eZr/q1as7JEYAAAAAgOMxYx8AAMBJpJXbKVKkiJnUT1OhQgVz5n5aPwAAAABA4URiHwAAwMk8+eSTWbZ36tTJzpEAAAAAAJwRiX0AAAAn88UXX2TZvmLFCjtHAgAAAABwRiT2AQAAnMSsWbMkSampqTp27JjVumPHjik1NdWqHwAAAACgcOLiuQAAAE4i/QVxe/bsqSJFiqhTp05asWKFmdTP2A8AAAAAUPgwYx8AAMCJREdHm/dTU1P15ZdfWiX1068HAAAAABROJPYBAACcTHR0dKZyO7NmzSKpDwAAAACQRCkeAAAAp1S9enUS+QAAAACALDFjHwAAAAAAAAAAF0JiHwAAAAAAAAAAF0JiHwAAAAAAAAAAF0JiHwAAAAAAAAAAF+JUif3w8HBZLBarW2BgoLneMAyFh4crKChIxYoVU1hYmPbu3Wu1jaSkJA0ZMkRly5ZV8eLF1b59e504ccLeuwIAAAAAAAAAgE04VWJfkmrXrq1///3XvO3Zs8dcN3HiREVFRWnatGnavn27AgMD1bJlS128eNHsM2zYMK1YsUJLlizRjz/+qMTERLVr104pKSmO2B0AAAAAAAAAAPKVu6MDyMjd3d1qln4awzA0ZcoUjRkzRp07d5YkLViwQAEBAVq8eLGef/55xcfHa86cOfr000/VokULSdKiRYtUvnx5bdy4Ua1bt7brvgAAAAAAAAAAkN+cbsb+X3/9paCgIAUHB6tr1646fPiwJCkmJkaxsbFq1aqV2dfT01NNmzbVli1bJEm//vqrrl27ZtUnKChIderUMftkJSkpSQkJCVY3AAAAAPnHXmU3z58/r2eeeUa+vr7y9fXVM888owsXLthjFwEAAAC7carEfsOGDbVw4UJ9++23mj17tmJjY9W4cWOdO3dOsbGxkqSAgACrxwQEBJjrYmNj5eHhodKlS2fbJyuRkZHmB39fX1+VL18+n/cMAAAAgD3Kbnbv3l27du3SunXrtG7dOu3atUvPPPOMXfcTAAAAsDWnKsXzyCOPmPfr1q2r0NBQValSRQsWLFCjRo0kSRaLxeoxhmFkasvoZn1GjRqlESNGmMsJCQkk9wEAAIB8Zuuym/v379e6deu0bds2NWzYUJI0e/ZshYaG6sCBA6pRo4b9dhYAAACwIaeasZ9R8eLFVbduXf3111/mF4CMM+9Pnz5tzuIPDAxUcnKyzp8/n22frHh6esrHx8fqBgAAACB/2brs5tatW+Xr62sm9SWpUaNG8vX1zbE0p0R5TgAAALgWp07sJyUlaf/+/SpXrpyCg4MVGBioDRs2mOuTk5O1efNmNW7cWJJUv359FS1a1KrPv//+qz/++MPsAwAAAMD+7FF2MzY2VnfccUem577jjjtyLM0pUZ4TAAAArsWpSvG8/PLLeuyxx1ShQgWdPn1a48ePV0JCgnr16iWLxaJhw4YpIiJC1apVU7Vq1RQRESFvb291795dkuTr66t+/frppZdeUpkyZeTn56eXX35ZdevWNU/XBQAAAGB/9iq7mVX/3GyH8pwAAABwJU6V2D9x4oS6deums2fPyt/fX40aNdK2bdtUsWJFSdLIkSN15coVDRw4UOfPn1fDhg21fv16lSxZ0tzG5MmT5e7urieffFJXrlxR8+bNNX/+fLm5uTlqtwAAAABkkL7sZseOHSXdmHFfrlw5s092ZTfTz9o/ffq0eXZuYGCgTp06lem5zpw5k2NpTulG6R9PT8/b3S0AAADALpyqFM+SJUt08uRJJScn659//tGXX36pWrVqmestFovCw8P177//6urVq9q8ebPq1KljtQ0vLy99+OGHOnfunC5fvqyvv/6amTYAAACAk7FF2c3Q0FDFx8frl19+Mfv8/PPPio+PpzQnAAAAChSnmrEPAAAAoGCyR9nNmjVrqk2bNnr22Wf18ccfS5Kee+45tWvXTjVq1HDYvgMAAAD5jcQ+AAAAAJuzV9nNzz77TEOHDlWrVq0kSe3bt9e0adPsu7MAAACAjZHYBwAAAGBzS5YsyXF9WtnN8PDwbPukld388MMPs+3j5+enRYsW3WqYAAAAgEtwqhr7AAAAAAAAAAAgZyT2AQAAAAAAAABwIST2AQAuacaMGQoJCZGPj498fHwUGhqqtWvXmut79+4ti8VidWvUqJHVNpKSkjRkyBCVLVtWxYsXV/v27XXixAl77woAAAAAAECekNgHALik/8fenYdFWe//H3+NCAMoImhsR0Q8imVomhaCpphbpmJaWbnkVmqaReLxe8wW7KiY5XLScumYS2q2UnYqc0VzK5dITdMW1wTNRFAkMJjfH/2Y4wgoKsw9wzwf13VfZ+77fs8975tjM8OLz/25a9WqpcmTJ2vHjh3asWOH7r77bnXv3l3ff/+9teaee+5RWlqadfn8889tjhEfH6/k5GQtX75cmzZt0vnz59W1a1fl5+fb+3QAAAAAAABKjZvnAgCcUrdu3WzWJ06cqNmzZ2vbtm269dZbJUlms1lBQUHFPj8zM1Pz58/X22+/rfbt20uSlixZotDQUK1Zs0adOnUq3xMAAAAAAAC4TozYBwA4vfz8fC1fvlzZ2dmKjo62bk9JSVFAQIAiIiL0+OOP69SpU9Z9O3fu1MWLF9WxY0frtpCQEEVGRmrLli1XfL3c3FxlZWXZLAAAAAAAAPZCsA8AcFp79uxR1apVZTabNWzYMCUnJ6thw4aSpM6dO2vp0qVat26dpk6dqu3bt+vuu+9Wbm6uJCk9PV0eHh7y8/OzOWZgYKDS09Ov+LpJSUny9fW1LqGhoeVzggAAAAAAAMVgKh4AgNNq0KCBUlNTdfbsWX344Yfq37+/NmzYoIYNG+qhhx6y1kVGRqp58+YKCwvTZ599pp49e5Z4TIvFIpPJdMXXHTt2rEaNGmVdz8rKItwHAAAAAAB2Q7APAHBaHh4eqlevniSpefPm2r59u/79739r7ty5RWqDg4MVFhamH3/8UZIUFBSkvLw8ZWRk2IzaP3XqlGJiYq74umazWWazuQzPBAAAAAAAoPSYigcAUGFYLBbrVDuX+/3333Xs2DEFBwdLkpo1ayZ3d3etXr3aWpOWlqa9e/deNdgHAAAAAAAwEiP2AQBO6dlnn1Xnzp0VGhqqc+fOafny5UpJSdHKlSt1/vx5JSYm6v7771dwcLAOHz6sZ599VjVr1lSPHj0kSb6+vho8eLASEhJUo0YN+fv7a/To0WrUqJHat29v8NkBAAAAAACUjGAfAOCUTp48qX79+iktLU2+vr5q3LixVq5cqQ4dOignJ0d79uzR4sWLdfbsWQUHB6tt27Z699135ePjYz3G9OnTVblyZfXq1Us5OTlq166dFi5cKDc3NwPPDAAAAKg46tSpoyNHjhTZPnz4cL3++usGdAQAFQPBPgDAKc2fP7/EfV5eXvryyy+vegxPT0/NnDlTM2fOLMvWAAAAAPx/27dvV35+vnV979696tChgx588EEDuwIA50ewDwAAAAAAgHJx00032axPnjxZf//739WmTRuDOgKAioFgHwAAAAAAAOUuLy9PS5Ys0ahRo2QymUqsy83NVW5urnU9KyvLHu0BgFOpZHQDAAAAAAAAqPg+/vhjnT17VgMGDLhiXVJSknx9fa1LaGiofRoEACdCsA8AAAAAAIByN3/+fHXu3FkhISFXrBs7dqwyMzOty7Fjx+zUIQA4D6biAQAAAAAAQLk6cuSI1qxZo48++uiqtWazWWaz2Q5dAYDzYsQ+AAAAAAAAytWCBQsUEBCgLl26GN0KAFQIBPsAAAAAAAAoNwUFBVqwYIH69++vypWZPAIAygLBPgAAAAAAAMrNmjVrdPToUQ0aNMjoVgCgwuDPpAAAAAAAACg3HTt2lMViMboNAKhQGLEPAAAAAAAAAIATIdgHAABwQAcPHlRsbKx1OXjwoNEtAQAAAAAcBFPxAAAAOJjY2Ngi24YMGSJJSklJsW8zAAAAAACHw4h9AAAAB3JpqF+pUiU9/PDDqlSpUrH7AQAAAACuiRH7AAAADuLS6XYWL16s2rVrS5KGDRumo0eP6tFHH7XWRUREGNIjAAAAAMB4jNgHAABwEIXT7VSqVMka6heqXbu2deR+YR0AAAAAwDUR7AMAADiYXr16Fbu9R48edu4EAAAAAOCICPYBAAAczHvvvVfs9uTkZDt3AgAAAABwRAT7AAAADmLevHmSpIKCAh09etRm39GjR1VQUGBTBwAAAABwTdw8FwAAwEFcekPcRx99VJUqVVKPHj2UnJxsDfUvrwMAAAAAuB5G7AMAADiQlJQU6+OCggJ9+OGHNqH+pfsBAAAAAK6JYB8AAMDBpKSkFJluZ968eYT6AAAAAABJTMUDAADgkCIiIgjyAQAAAADFYsQ+AAAAAAAAAABOhGAfAAAAAAAAAAAnQrAPAAAAAAAAAIATIdgHAAAAAAAAAMCJEOwDAAAAAAAAAOBECPYBAAAAAAAAAHAiBPsAAAAAAAAAADgRgn0AAAAAAAAAAJwIwT4AAAAAAAAAAE6EYB8AAAAAAAAAACdCsA8AAAAAAAAAgBMh2AcAAAAAAAAAwIkQ7AMAAAAAAAAA4EQI9gEAAAAAAAAAcCIE+wAAAAAAAAAAOBGCfQAAAAAAAAAAnAjBPgAAAAAAAAAAToRgHwAAAAAAAAAAJ0KwDwAAAAAAAACAEyHYBwAAAAAAAADAiRDsAwAAAAAAAADgRAj2AQBOafbs2WrcuLGqVaumatWqKTo6Wl988YV1v8ViUWJiokJCQuTl5aXY2Fh9//33NsfIzc3VyJEjVbNmTVWpUkVxcXE6fvy4vU8FAAAAAADgmhDsAwCcUq1atTR58mTt2LFDO3bs0N13363u3btbw/spU6Zo2rRpmjVrlrZv366goCB16NBB586dsx4jPj5eycnJWr58uTZt2qTz58+ra9euys/PN+q0AAAAAAAAropgHwDglLp166Z7771XERERioiI0MSJE1W1alVt27ZNFotFM2bM0Lhx49SzZ09FRkZq0aJFunDhgpYtWyZJyszM1Pz58zV16lS1b99eTZs21ZIlS7Rnzx6tWbPG4LMDAAAAAAAoGcE+AMDp5efna/ny5crOzlZ0dLQOHTqk9PR0dezY0VpjNpvVpk0bbdmyRZK0c+dOXbx40aYmJCREkZGR1pqS5ObmKisry2YBAAAAAACwF4J9AIDT2rNnj6pWrSqz2axhw4YpOTlZDRs2VHp6uiQpMDDQpj4wMNC6Lz09XR4eHvLz8yuxpiRJSUny9fW1LqGhoWV4VgAAAAAAAFdGsA8AcFoNGjRQamqqtm3bpieeeEL9+/fXvn37rPtNJpNNvcViKbLtcqWpGTt2rDIzM63LsWPHrv8kAAAAAAAArhHBPgDAaXl4eKhevXpq3ry5kpKSdNttt+nf//63goKCJKnIyPtTp05ZR/EHBQUpLy9PGRkZJdaUxGw2q1q1ajYLAAAAAACAvRDsAwAqDIvFotzcXIWHhysoKEirV6+27svLy9OGDRsUExMjSWrWrJnc3d1tatLS0rR3715rDQAAAAAAgCMi2AcAOKVnn31WX331lQ4fPqw9e/Zo3LhxSklJUZ8+fWQymRQfH69JkyYpOTlZe/fu1YABA+Tt7a3evXtLknx9fTV48GAlJCRo7dq1+vbbb9W3b181atRI7du3N/jsAAAAgIrj119/Vd++fVWjRg15e3urSZMm2rlzp9FtAYBTc+hgPykpyRrOFLJYLEpMTFRISIi8vLwUGxur77//3uZ5ubm5GjlypGrWrKkqVaooLi5Ox48ft3P3AIDydPLkSfXr108NGjRQu3bt9PXXX2vlypXq0KGDJGnMmDGKj4/X8OHD1bx5c/36669atWqVfHx8rMeYPn267rvvPvXq1UstW7aUt7e3Pv30U7m5uRl1WgAAAECFkpGRoZYtW8rd3V1ffPGF9u3bp6lTp6p69epGtwYATq2y0Q2UZPv27Zo3b54aN25ss33KlCmaNm2aFi5cqIiICE2YMEEdOnTQgQMHrGFNfHy8Pv30Uy1fvlw1atRQQkKCunbtqp07dxLWAEAFMX/+/CvuN5lMSkxMVGJiYok1np6emjlzpmbOnFnG3QEAAACQpJdfflmhoaFasGCBdVudOnWMawgAKgiHHLF//vx59enTR2+++ab8/Pys2y0Wi2bMmKFx48apZ8+eioyM1KJFi3ThwgUtW7ZMkpSZman58+dr6tSpat++vZo2baolS5Zoz549WrNmjVGnBAAAAOAS5Xl1bkZGhvr16ydfX1/5+vqqX79+Onv2rB3OCgBwuRUrVqh58+Z68MEHFRAQoKZNm+rNN9+84nNyc3OVlZVlswAAbDlksD9ixAh16dKlyBzHhw4dUnp6ujp27GjdZjab1aZNG23ZskWStHPnTl28eNGmJiQkRJGRkdaay/GBAQAAANjP1a7OnTVrlrZv366goCB16NBB586ds9bEx8crOTlZy5cv16ZNm3T+/Hl17dpV+fn51prevXsrNTVVK1eu1MqVK5Wamqp+/frZ7fwAAP/zyy+/aPbs2apfv76+/PJLDRs2TE899ZQWL15c4nOSkpKsf5z19fVVaGioHTsGAOfgcMH+8uXLtWvXLiUlJRXZl56eLkkKDAy02R4YGGjdl56eLg8PD5uR/pfXXI4PDAAAAMA+yvvq3P3792vlypX6z3/+o+joaEVHR+vNN9/Uf//7Xx04cMCQcwYAV1ZQUKDbb79dkyZNUtOmTTV06FA9/vjjmj17donPGTt2rDIzM63LsWPH7NgxADgHhwr2jx07pqefflpLliyRp6dniXUmk8lm3WKxFNl2uSvV8IEBAAAA2Ed5X527detW+fr6KioqylrTokUL+fr6lngFr8RVvABQXoKDg9WwYUObbbfccouOHj1a4nPMZrOqVatmswAAbDlUsL9z506dOnVKzZo1U+XKlVW5cmVt2LBBr732mipXrmwdqX/5yPtTp05Z9wUFBSkvL08ZGRkl1lyODwwAAACg/Nnj6tz09HQFBAQUOX5AQECJV/BKXMULAOWlZcuWRa6YOnjwoMLCwgzqCAAqBocK9tu1a6c9e/YoNTXVujRv3lx9+vRRamqq6tatq6CgIK1evdr6nLy8PG3YsEExMTGSpGbNmsnd3d2mJi0tTXv37rXWAAAAALAve16dW1z91Y7DVbwAUD6eeeYZbdu2TZMmTdJPP/2kZcuWad68eRoxYoTRrQGAU6tsdAOX8vHxUWRkpM22KlWqqEaNGtbt8fHxmjRpkurXr6/69etr0qRJ8vb2Vu/evSVJvr6+Gjx4sBISElSjRg35+/tr9OjRatSoUZHLfQEAAADYx6VX5xbKz8/Xxo0bNWvWLOtozvT0dAUHB1trSro699JR+6dOnbIO4gkKCtLJkyeLvP5vv/1W4hW80l9X8ZrN5hs7SQBAEXfccYeSk5M1duxYvfTSSwoPD9eMGTPUp08fo1sDAKfmUMF+aYwZM0Y5OTkaPny4MjIyFBUVpVWrVsnHx8daM336dFWuXFm9evVSTk6O2rVrp4ULF8rNzc3AzgEAAADXVXh17qUGDhyom2++Wf/3f/9nc3Vu06ZNJf3v6tyXX35Zku3Vub169ZL0v6tzp0yZIkmKjo5WZmamvvnmG915552SpK+//lqZmZlcwQsABunatau6du1qdBsAUKE4fLCfkpJis24ymZSYmKjExMQSn+Pp6amZM2dq5syZ5dscAAAAgFKx19W5t9xyi+655x49/vjjmjt3riRpyJAh6tq1qxo0aGDHMwYAAADKj8MH+wAAAABcQ1ldnbt06VI99dRT6tixoyQpLi5Os2bNsvv5AICzy8nJkcVikbe3tyTpyJEjSk5OVsOGDa3vsQAAYxDsAwAAADBEeV2d6+/vryVLlpRRlwDgurp3766ePXtq2LBhOnv2rKKiouTu7q7Tp09r2rRpeuKJJ4xuEQBcViWjGwAAAAAAAIDj2bVrl+666y5J0gcffKDAwEAdOXJEixcv1muvvWZwdwDg2gj2AQAAAAAAUMSFCxes06GtWrVKPXv2VKVKldSiRQsdOXLE4O4AwLUR7AMAAAAAAKCIevXq6eOPP9axY8f05ZdfWufVP3XqlKpVq2ZwdwDg2gj2AQAAAAAAUMQLL7yg0aNHq06dOrrzzjsVHR0t6a/R+02bNjW4OwBwbdw8FwAAAAAAAEU88MADatWqldLS0nTbbbdZt7dr1049evQwsDMAACP2AQAAAAAAUKygoCD5+Pho9erVysnJkSTdcccduvnmmw3uDABcG8E+AAAAAAAAivj999/Vrl07RURE6N5771VaWpok6bHHHlNCQoLB3QGAayPYBwAAAAAAQBHPPPOM3N3ddfToUXl7e1u3P/TQQ1q5cqWBnQEAmGMfAAAAAAAARaxatUpffvmlatWqZbO9fv36OnLkiEFdAQAkRuwDAAAAAACgGNnZ2TYj9QudPn1aZrPZgI4AAIUI9gEAAAAAAFBE69attXjxYuu6yWRSQUGBXnnlFbVt29bAzgAATMUDAAAAAACAIl555RXFxsZqx44dysvL05gxY/T999/rzJkz2rx5s9HtAYBLY8Q+AAAAAAAAimjYsKF2796tO++8Ux06dFB2drZ69uypb7/9Vn//+9+Nbg8AXBoj9gEAAAAAAFCsoKAgjR8/3ug2AACXYcQ+AAAAAAAAiliwYIHef//9Itvff/99LVq0yICOAACFCPYBAAAAAABQxOTJk1WzZs0i2wMCAjRp0iQDOgIAFCLYBwAAAAAAQBFHjhxReHh4ke1hYWE6evSoAR0BAAoR7AMAAAAAAKCIgIAA7d69u8j27777TjVq1DCgIwBAIYJ9AAAAAAAAFPHwww/rqaee0vr165Wfn6/8/HytW7dOTz/9tB5++GGj2wMAl1bZ6AYAAAAAAADgeCZMmKAjR46oXbt2qlz5rwipoKBAjz76KHPsA4DBCPYBAAAAAABQhIeHh959913961//0nfffScvLy81atRIYWFhRrcGAC6PYB8AAAAAAAAlioiIUEREhNFtAAAuQbAPAADggI4fP67HHntMubm5MpvN+s9//qNatWoZ3RYAAHAxx48f14oVK3T06FHl5eXZ7Js2bZpBXQEACPYBAAAcTLt27ZSfn29d/+OPP9S3b1+5ublp7dq1BnYGAABcydq1axUXF6fw8HAdOHBAkZGROnz4sCwWi26//Xaj2wMAl1bJ6AYAAADwP5eG+tWqVVNCQoKqVasmScrPz1e7du2MbA8AALiQsWPHKiEhQXv37pWnp6c+/PBDHTt2TG3atNGDDz5odHsA4NIYsQ8AAOAgjh8/bg31P/jgA9WsWVOS1K1bN50+fVoPPPCA8vPzdfz4cablAQAA5W7//v165513JEmVK1dWTk6Oqlatqpdeekndu3fXE088YXCHAOC6GLEPAADgIB577DFJf43ULwz1C9WsWVM+Pj42dQAAAOWpSpUqys3NlSSFhITo559/tu47ffq0UW0BAESwDwAA4DAKf3F+/PHHi90/cOBAmzoAAIDy1KJFC23evFmS1KVLFyUkJGjixIkaNGiQWrRoYXB3AODaCPYBAAAchNlsliS9+eabxe5fsGCBTR0AAEB5mjZtmqKioiRJiYmJ6tChg959912FhYVp/vz5BncHAK6NYB8AYFeLFy8udrRxXl6eFi9ebEBHgOP4z3/+I0nKysoqcnn76dOnde7cOZs6AACA8lS3bl01btxYkuTt7a033nhDu3fv1kcffaSwsDCDuwMA18bNcwEAdjVw4EDdc889CggIsNl+7tw5DRw4UI8++qhBnQHGq1Wrltzc3JSfn68HHnhAPj4+GjhwoBYsWGAN9d3c3LhxLgAAsKsdO3Zo//79MplMuuWWW9SsWTOjWwIAl0ewDwCwK4vFIpPJVGT78ePH5evra0BHgGNZu3at2rVrp/z8fJ07d06vvfaadZ+bm5vWrl1rYHcAAMCVHD9+XI888og2b96s6tWrS5LOnj2rmJgYvfPOOwoNDTW2QQBwYUzFAwCwi6ZNm+r222+XyWRSu3btdPvtt1uX2267TXfddZfat29f6uMlJSXpjjvukI+PjwICAnTffffpwIEDNjUDBgyQyWSyWS6/yVdubq5GjhypmjVrqkqVKoqLi9Px48fL5JyB67V27VotWbJEnp6eMplM8vT01JIlSwj1AQCAXQ0aNEgXL17U/v37debMGZ05c0b79++XxWLR4MGDjW4PAFwaI/YBAHZx3333SZJSU1PVqVMnVa1a1brPw8NDderU0f3331/q423YsEEjRozQHXfcoT///FPjxo1Tx44dtW/fPlWpUsVad88991hvOFr4WpeKj4/Xp59+quXLl6tGjRpKSEhQ165dtXPnTrm5uV3n2QI3rlatWlq5cqXRbQAAABf21VdfacuWLWrQoIF1W4MGDTRz5ky1bNnSwM4AAAT7AAC7ePHFFyVJderU0cMPPyyz2XxDx7s88FywYIECAgK0c+dOtW7d2rrdbDYrKCio2GNkZmZq/vz5evvtt61XCyxZskShoaFas2aNOnXqdEM9AgAAAM6sdu3aunjxYpHtf/75p/72t78Z0BEAoBBT8QAA7Oruu+/Wb7/9Zl3/5ptvFB8fr3nz5t3QcTMzMyVJ/v7+NttTUlIUEBCgiIgIPf744zp16pR1386dO3Xx4kV17NjRui0kJESRkZHasmVLia+Vm5urrKwsmwUAAACoaKZMmaKRI0dqx44dslgskv66ke7TTz+tV1991eDuAMC1EewDAOyqd+/eWr9+vSQpPT1d7du31zfffKNnn31WL7300nUd02KxaNSoUWrVqpUiIyOt2zt37qylS5dq3bp1mjp1qrZv3667775bubm51tf38PCQn5+fzfECAwOVnp5e4uslJSXJ19fXunDTMAAAAFREAwYMUGpqqqKiouTp6Smz2ayoqCjt2rVLgwYNkr+/v3UBANgXU/EAAOxq7969uvPOOyVJ7733nho1aqTNmzdr1apVGjZsmF544YVrPuaTTz6p3bt3a9OmTTbbH3roIevjyMhINW/eXGFhYfrss8/Us2fPEo9nsVhkMplK3D927FiNGjXKup6VlUW4DwAAgApnxowZRrcAACgBwT4AwK4uXrxonV9/zZo1iouLkyTdfPPNSktLu+bjjRw5UitWrNDGjRtVq1atK9YGBwcrLCxMP/74oyQpKChIeXl5ysjIsBm1f+rUKcXExJR4HLPZfMP3CAAAAAAcXf/+/Y1uAQBQAqbiAQDY1a233qo5c+boq6++0urVq3XPPfdIkk6cOKEaNWqU+jgWi0VPPvmkPvroI61bt07h4eFXfc7vv/+uY8eOKTg4WJLUrFkzubu7a/Xq1daatLQ07d2794rBPgAAAOAKdu3apT179ljXP/nkE91333169tlnlZeXV6pjJCYmymQy2SxBQUHl1TIAuAyCfQCAXb388suaO3euYmNj9cgjj+i2226TJK1YscI6RU9pjBgxQkuWLNGyZcvk4+Oj9PR0paenKycnR5J0/vx5jR49Wlu3btXhw4eVkpKibt26qWbNmurRo4ckydfXV4MHD1ZCQoLWrl2rb7/9Vn379lWjRo3Uvn37sj95AAAAwIkMHTpUBw8elCT98ssveuihh+Tt7a33339fY8aMKfVxbr31VqWlpVmXS/9YAAC4PkzFAwCwq9jYWJ0+fVpZWVk2098MGTJE3t7epT7O7Nmzrce71IIFCzRgwAC5ublpz549Wrx4sc6ePavg4GC1bdtW7777rnx8fKz106dPV+XKldWrVy/l5OSoXbt2Wrhwodzc3G7sRAEAAAAnd/DgQTVp0kSS9P7776tNmzZatmyZNm/erIcffrjUc/BXrlz5mkbp5+bmKjc317qelZV1LW0DgEsg2AcA2J2bm5tNqC9JderUuaZjWCyWK+738vLSl19+edXjeHp6aubMmZo5c+Y1vT4AAABQ0VksFhUUFEj66/5YXbt2lSSFhobq9OnTpT7Ojz/+qJCQEJnNZkVFRWnSpEmqW7duifVJSUkaP378jTUPABUcwT4AoNzdfvvtWrt2rfz8/NS0aVOZTKYSa3ft2mXHzgAAAACUpHnz5powYYLat2+vDRs2WK+aPXTokAIDA0t1jKioKC1evFgRERE6efKkJkyYoJiYGH3//fcl3mNr7NixGjVqlHU9KytLoaGhN35CAFCBEOwDAMpd9+7dZTabJUn33Xefsc0AAAAAKJUZM2aoT58++vjjjzVu3DjVq1dPkvTBBx8oJiamVMfo3Lmz9XGjRo0UHR2tv//971q0aJFNeH8ps9ls/f0BAFA8gn0AQLl78cUXi30MAAAAwHE1bty42BvdvvLKKzb3pHrnnXcUFxenKlWqXPWYVapUUaNGjfTjjz+Waa8A4GoqGd0AAAAAilqxYoViY2Oty4oVK4xuCQAAQNJf96lyd3e3rg8dOlQnT54s1XNzc3O1f/9+BQcHl1d7AOASGLEPACh3fn5+V5xX/1Jnzpwp524AxxcbG1tk27Rp0zRt2jSlpKTYvR8AAIArsVgsJe4bPXq0unXrptq1a+vUqVOaMGGCsrKy1L9/fzt2CAAVD8E+AKDczZgxw+gWAKdxeahfq1YtHT9+3GY/4T4AAHAWx48f1yOPPKLTp0/rpptuUosWLbRt2zaFhYUZ3RoAODWCfQBAubue0TiTJ0/WsGHDVL169bJvCHBQl06389xzz6l9+/bW9TVr1mjChAnWuri4OLv3BwAAcK2WL19udAsAUCExxz4AwCFNmjSJaXngcqZNm2Z9fGmof/n6pXUAAAAAANdDsA8AcEhXmqcTqOhq1apV7PbAwEA7dwIAAAAAcEQE+wAAAA7m0jn1L3Xy5Ek7dwIAAHB1YWFhcnd3N7oNAHApBPsAAAAOYtSoUdbHa9assdl36fqldQAAAEbbu3evQkNDjW4DAFwKN88FAABwEHFxcdb58ydMmKAJEyYoMDCwyEh9bpwLAADswc/PTyaTqch2k8kkT09P1atXTwMGDNDAgQMN6A4AXBsj9gEAABxISkqKzfrlof7l+wEAAMrLCy+8oEqVKqlLly4aP368EhMT1aVLF1WqVEkjRoxQRESEnnjiCb355ptGtwoALocR+wAAh3TXXXfJy8vL6DYAQ6SkpGjFihXW0fvSX9PvMFIfAADY06ZNmzRhwgQNGzbMZvvcuXO1atUqffjhh2rcuLFee+01Pf744wZ1CQCuiWAfAGBXWVlZxW43mUwym83y8PCQJH3++ef2bAtwOHFxcQT5AADAUF9++aVefvnlItvbtWunhIQESdK9996rf/7zn/ZuDQBcHlPxAADsqnr16vLz8yuyVK9eXV5eXgoLC9OLL76ogoICo1sFAAAAXJq/v78+/fTTIts//fRT+fv7S5Kys7Pl4+Nj79YAwOUxYh8AYFcLFy7UuHHjNGDAAN15552yWCzavn27Fi1apOeee06//fabXn31VZnNZj377LNGtwsY5vjx43rssceUm5srs9ms//znP6pVq5bRbQEAABfy/PPP64knntD69et15513ymQy6ZtvvtHnn3+uOXPmSJJWr16tNm3aGNwpALgegn0AgF0tWrRIU6dOVa9evazb4uLi1KhRI82dO1dr165V7dq1NXHiRIJ9uKx27dopPz/fuv7HH3+ob9++cnNz09q1aw3sDAAAuJLHH39cDRs21KxZs/TRRx/JYrHo5ptv1oYNGxQTEyNJ1il5AAD2RbAPALCrrVu3Wkf3XKpp06baunWrJKlVq1Y6evSovVsDHMLlof6l8vPz1a5dO8J9AABgNy1btlTLli2NbgMAcBmCfQCAXdWqVUvz58/X5MmTbbbPnz9foaGhkqTff/9dfn5+RrQHGOr48eMlhvqF8vPzdfz4cablAQAAdlFQUKCffvpJp06dKnIfrNatWxvUFQCAYB8AYFevvvqqHnzwQX3xxRe64447ZDKZtH37dv3www/64IMPJEnbt2/XQw89ZHCngP317dvX+njQoEF69NFHreuLFy/WW2+9Za1LSUmxd3sAAMDFbNu2Tb1799aRI0dksVhs9plMpqsOSAAAlB+CfQCAXcXFxenAgQOaM2eODh48KIvFos6dO+vjjz9WnTp1JElPPPGEsU0CDuDSUL9wvTDYBwAAsIdhw4apefPm+uyzzxQcHCyTyWR0SwCA/49gHwBgd3Xq1CkyFQ8AAAAAx/Ljjz/qgw8+UL169YxuBQBwmUpGN3Cp2bNnq3HjxqpWrZqqVaum6OhoffHFF9b9FotFiYmJCgkJkZeXl2JjY/X999/bHCM3N1cjR45UzZo1VaVKFcXFxen48eP2PhUAwBWcPXtWq1at0pIlS7R48WKbBcBfTp8+fcV1AACA8hYVFaWffvrJ6DYAAMVwqBH7tWrV0uTJk61/CV60aJG6d++ub7/9VrfeequmTJmiadOmaeHChYqIiNCECRPUoUMHHThwQD4+PpKk+Ph4ffrpp1q+fLlq1KihhIQEde3aVTt37pSbm5uRpwcAkPTpp5+qT58+ys7Olo+Pj83lvCaTqcj0I4Ar6dy5s3VQwwMPPCAfHx8NHDhQCxYs0Llz52zqAAAAytvIkSOVkJCg9PR0NWrUSO7u7jb7GzdubFBnAACHGrHfrVs33XvvvYqIiFBERIQmTpyoqlWratu2bbJYLJoxY4bGjRunnj17KjIyUosWLdKFCxe0bNkySVJmZqbmz5+vqVOnqn379mratKmWLFmiPXv2aM2aNQafHQBAkhISEjRo0CCdO3dOZ8+eVUZGhnU5c+aM0e0Bhvq///s/m/Vz587ptddeswn1i6sDnIG9rs7NyMhQv3795OvrK19fX/Xr109nz561xykCQIVz//33a//+/Ro0aJDuuOMONWnSRE2bNrX+LwDAOA4V7F8qPz9fy5cvV3Z2tqKjo3Xo0CGlp6erY8eO1hqz2aw2bdpoy5YtkqSdO3fq4sWLNjUhISGKjIy01hQnNzdXWVlZNgsAoHz8+uuveuqpp+Tt7W10K4BDSklJuaH9gKMqvDp3x44d2rFjh+6++251797dGt4XXp07a9Ysbd++XUFBQerQoYPNH7bi4+OVnJys5cuXa9OmTTp//ry6du2q/Px8a03v3r2VmpqqlStXauXKlUpNTVW/fv3sfr4AUBEcOnSoyPLLL79Y/xcAYByHmopHkvbs2aPo6Gj98ccfqlq1qpKTk9WwYUNrMB8YGGhTHxgYqCNHjkiS0tPT5eHhIT8/vyI16enpJb5mUlKSxo8fX8ZnAgAoTqdOnbRjxw7VrVvX6FYAAHbUrVs3m/WJEydq9uzZ2rZtmxo2bGhzda7017ScgYGBWrZsmYYOHWq9Ovftt99W+/btJUlLlixRaGio1qxZo06dOmn//v1auXKltm3bpqioKEnSm2++qejoaB04cEANGjSw70kDgJMLCwszugUAQAkcLthv0KCBUlNTdfbsWX344Yfq37+/NmzYYN1/6VzM0l+X7F6+7XJXqxk7dqxGjRplXc/KylJoaOh1ngEA4Eq6dOmif/zjH9q3b1+x83TGxcUZ1BngGGJjY23W27RpY/NdKDY2llH7cHr5+fl6//33S3117tChQ696dW6nTp20detW+fr6WkN9SWrRooV8fX21ZcuWKwb7ubm5ys3Nta5zFS8AV7VixQp17txZ7u7uWrFixRVr+e4OAMZxuGDfw8PDevPc5s2ba/v27fr3v/9tnUs2PT1dwcHB1vpTp05ZR/EHBQUpLy9PGRkZNqP2T506pZiYmBJf02w2y2w2l8fpAAAu8/jjj0uSXnrppSL7TCaTzXQKgKvZtWuX9fEbb7yhhg0bWtf37dun4cOHW+tuv/12u/cH3Kjyvjo3PT1dAQEBRV43ICDgilfwSlzFCwCF7rvvPuv76X333VdiHd/dAcBYDjvHfiGLxaLc3FyFh4crKChIq1evtu7Ly8vThg0brKF9s2bN5O7ublOTlpamvXv3XjHYBwDYT0FBQYkLvxjA1V16BeGlof7l65fWAc6k8Orcbdu26YknnlD//v21b98+6/6yuDq3uPrSHGfs2LHKzMy0LseOHSvNKQFAhVNQUGD9Iynf3QHAcTnUiP1nn31WnTt3VmhoqM6dO6fly5crJSVFK1eulMlkUnx8vCZNmqT69eurfv36mjRpkry9vdW7d29Jkq+vrwYPHqyEhATVqFFD/v7+Gj16tBo1amSdhxMAAMDRtWnTptjtMTEx1pHNgDMq76tzg4KCdPLkySKv+9tvvxW5GuByXMULAEUdO3asxKmKt23bphYtWti5IwBAIYcK9k+ePKl+/fopLS1Nvr6+aty4sVauXKkOHTpIksaMGaOcnBwNHz5cGRkZioqK0qpVq+Tj42M9xvTp01W5cmX16tVLOTk5ateunRYuXCg3NzejTgsAXN5rr72mIUOGyNPTU6+99toVa5966ik7dQU4rkvn1L8UoT4qmuKuzm3atKmk/12d+/LLL0uyvTq3V69ekv53de6UKVMkSdHR0crMzNQ333yjO++8U5L09ddfKzMzkyt4AeA6dOjQQZs3b1aNGjVstm/evFldunTR2bNnjWkMAOBYwf78+fOvuN9kMikxMVGJiYkl1nh6emrmzJmaOXNmGXcHALhe06dPV58+feTp6anp06eXWGcymQj24dKmTZtmnWZn3759RebYv7QOcDb2uDr3lltu0T333KPHH39cc+fOlSQNGTJEXbt2veKNcwEAxbvrrrvUsWNHpaSkWAdVbty4Ud26dbtiNgMAKH8OFewDACqmQ4cOFfsYgK1Lb4hbeKPc4qbf4ca5cEb2ujp36dKleuqpp9SxY0dJUlxcnGbNmmXfkwWACmLevHl68MEH1aVLF61atUpbt25VXFycJkyYoKefftro9gDApZksFovlRg9St25dbd++vcilWWfPntXtt9+uX3755UZfwq6ysrLk6+urzMxMVatWzeh2UIEcPHhQQ4YM0bx58xQREWF0O6hAnOl966WXXtLo0aPl7e1tsz0nJ0evvPKKXnjhBYM6u37O9POHc4iNjS1xX0pKit36QMXEe1bp8HMC4EzK8z3r4sWL6tKli7Kzs7V7924lJSXpySefLNPXuBrekwE4G3u8b1Uqi4McPny42Luh5+bm6tdffy2LlwAAVBDjx4/X+fPni2y/cOGCxo8fb0BHAAAAAArt3r3bZtm/f79efPFFHTt2TH379lXr1q2t+wAAxrmhqXhWrFhhffzll1/K19fXup6fn6+1a9eqTp06N/ISAIAKxmKxyGQyFdn+3Xffyd/f34COAMdy6Wj9SpUqqVevXnrvvfdUUFBg3c+ofQAAUF6aNGkik8mkSyd4KFyfO3eu5s2bZ/1OX9wgTwCAfdxQsH/fffdJ+usNvn///jb73N3dVadOHU2dOvVGXgIAUEH4+fnJZDLJZDIpIiLCJtzPz8/X+fPnNWzYMAM7BIx38OBB6+PFixerdu3akqRhw4bp6NGjevTRR611TOkGAADKA/fEAgDncEPBfuHIsfDwcG3fvl01a9Ysk6YAABXPjBkzZLFYNGjQII0fP97mKi8PDw/VqVNH0dHRBnYIGG/IkCGS/hqpXxjqF6pdu7YqVaqkgoICDRkyhFH7AACgXISFhUn6a279IUOG6Pnnn1fdunUN7goAcLkbCvYL8ddcAMDVFF7ZFR4erpiYGLm7uxvcEeC4evXqVez2Hj166MMPP7RzNwAAwBW5u7srOTlZzz//vNGtAACKUSbBviStXbtWa9eu1alTp6wj+Qu99dZbZfUyAAAnlJWVZb0LfNOmTZWTk6OcnJxia8vrbvGAM3nvvfeKnZoqOTnZgG4AAICr6tGjhz7++GONGjXK6FYAAJcpk2B//Pjxeumll9S8eXMFBwcXe1NEAIDr8vPzU1pamgICAlS9evViPye4ARcgzZs3T0OGDFFBQYGOHj1qMx3P0aNHrYMn5s2bZ1SLAADAhdSrV0//+te/tGXLFjVr1kxVqlSx2f/UU08Z1BkAoEyC/Tlz5mjhwoXq169fWRwOAFDBrFu3Tv7+/pKk9evXG9wN4LguvSHuo48+qkqVKqlHjx5KTk62uSKSG+fCnvLz87Vp0yY1btxYfn5+RrcDALCj//znP6pevbp27typnTt32uwzmUwE+wBgoDIJ9vPy8hQTE1MWhwIAVEBt2rQp9vGNSEpK0kcffaQffvhBXl5eiomJ0csvv6wGDRpYaywWi8aPH6958+YpIyNDUVFRev3113Xrrbdaa3JzczV69Gi98847ysnJUbt27fTGG2+oVq1aZdIncK1SUlIUGxsrSSooKCgypz43zYW9ubm5qVOnTtq/fz/BPgC4GO6pCACOq1JZHOSxxx7TsmXLyuJQAAAXceHCBf3www/avXu3zVJaGzZs0IgRI7Rt2zatXr1af/75pzp27Kjs7GxrzZQpUzRt2jTNmjVL27dvV1BQkDp06KBz585Za+Lj45WcnKzly5dr06ZNOn/+vLp27cqUQDBUSkpKkel25s2bR6gPwzRq1Ei//PKL0W0AAAAA+P/KZMT+H3/8oXnz5mnNmjVq3Lix3N3dbfZPmzatLF4GAFAB/Pbbbxo4cKC++OKLYveXNlBfuXKlzfqCBQsUEBCgnTt3qnXr1rJYLJoxY4bGjRunnj17SpIWLVqkwMBALVu2TEOHDlVmZqbmz5+vt99+W+3bt5ckLVmyRKGhoVqzZo06depU7Gvn5uYqNzfXup6VlVWqnoFrERERQZAPhzFx4kSNHj1a//rXv4qdY5kbnwNAxXX8+HGtWLFCR48eVV5ens0+8h4AME6ZBPu7d+9WkyZNJEl79+612ceNdAEAl4qPj1dGRoa2bdumtm3bKjk5WSdPntSECRM0derU6z5uZmamJFnn8j906JDS09PVsWNHa43ZbFabNm20ZcsWDR06VDt37tTFixdtakJCQhQZGaktW7aUGOwnJSVp/Pjx190rADibe+65R5IUFxdn8/2eG58DQMW2du1axcXFKTw8XAcOHFBkZKQOHz4si8Wi22+/3ej2AMCllUmwz40QAQCltW7dOn3yySe64447VKlSJYWFhalDhw6qVq2akpKS1KVLl2s+psVi0ahRo9SqVStFRkZKktLT0yVJgYGBNrWBgYE6cuSItcbDw6PInNGBgYHW5xdn7NixGjVqlHU9KytLoaGh19w3ADgLvu8DgGsaO3asEhIS9NJLL8nHx0cffvihAgIC1KdPH+sffa9VUlKSnn32WT399NOaMWNG2TYMAC6kTIL9Qj/99JN+/vlntW7dWl5eXtYRPAAAFMrOzlZAQICkv0bX//bbb4qIiFCjRo20a9eu6zrmk08+qd27d2vTpk1F9l3+OVSaz6ar1ZjNZpnN5uvqFQCcUVnd+BwA4Fz279+vd955R5JUuXJl5eTkqGrVqnrppZfUvXt3PfHEE9d0vO3bt2vevHlq3LhxebQLAC6lTIL933//Xb169dL69etlMpn0448/qm7dunrsscdUvXr1G5paAQBQsTRo0EAHDhxQnTp11KRJE82dO1d16tTRnDlzFBwcfM3HGzlypFasWKGNGzeqVq1a1u1BQUGS/hqVf+lxT506ZR3FHxQUpLy8PGVkZNiM2j916pRiYmKu9xSBMpGfn6/du3frzJkz8vf3V+PGjeXm5mZ0W3Ah13JDcwIaAKiYqlSpYr23VEhIiH7++WfdeuutkqTTp09f07HOnz+vPn366M0339SECRPKvFcAcDVlEuw/88wzcnd319GjR3XLLbdYtz/00EN65plnCPYBAFbx8fFKS0uTJL344ovq1KmTli5dKg8PDy1cuLDUx7FYLBo5cqSSk5OVkpKi8PBwm/3h4eEKCgrS6tWr1bRpU0lSXl6eNmzYoJdfflmS1KxZM7m7u2v16tXq1auXJCktLU179+7VlClTyuBsgeuzceNGvfHGGzZTQgUFBWn48OFq3bq1gZ3BlTRp0kQmk6lUVzoxxz4AVEwtWrTQ5s2b1bBhQ3Xp0kUJCQnas2ePPvroI7Vo0eKajjVixAh16dJF7du3v2qwn5uba/2DgvTX1JcAAFtlEuyvWrVKX375pc1ISUmqX7++dR5jAAAkqU+fPtbHTZs21eHDh/XDDz+odu3aqlmzZqmPM2LECC1btkyffPKJfHx8rAGor6+vvLy8ZDKZFB8fr0mTJql+/fqqX7++Jk2aJG9vb/Xu3dtaO3jwYCUkJKhGjRry9/fX6NGj1ahRI7Vv375sTxwopY0bN+rFF19UdHS0nn/+eYWHh+vQoUNaunSpXnzxRY0fP55wH3Zx6NAh6+Nvv/1Wo0eP1j/+8Q9FR0dLkrZu3aqpU6fyh1AAqMCmTZum8+fPS5ISExN1/vx5vfvuu6pXr56mT59e6uMsX75cu3bt0vbt20tVn5SUpPHjx19XzwDgKsok2M/Ozpa3t3eR7adPn2YOYgCAjR9//FH169e3rnt7e+v222+/5uPMnj1bkhQbG2uzfcGCBRowYIAkacyYMcrJydHw4cOVkZGhqKgorVq1Sj4+Ptb66dOnq3LlyurVq5dycnLUrl07LVy4kClPYIj8/Hy98cYbio6O1oQJE1SpUiVJ0q233qoJEyboueee0+zZs9WyZUv+jaLchYWFWR8/+OCDeu2113TvvfdatzVu3FihoaF6/vnndd999xnQIQCgvNWtW9f62NvbW2+88cY1H+PYsWN6+umntWrVKnl6epbqOWPHjtWoUaOs61lZWQoNDb3m1waAiqxMgv3WrVtr8eLF+te//iXprxsVFhQU6JVXXlHbtm3L4iUAABVEgwYNFBwcrDZt2qhNmzaKjY1VgwYNrvk4FovlqjUmk0mJiYlKTEwsscbT01MzZ87UzJkzr7kHoKzt3r1b6enpev75562hfqFKlSqpT58+GjFihHbv3m2dYgqwhz179hSZ8kz6a9qzffv2GdARAMCeduzYof3798tkMumWW25Rs2bNSv3cnTt36tSpUzbPyc/P18aNGzVr1izl5uYWGbBgNpsZKAoAV1Emwf4rr7yi2NhY7dixQ3l5eRozZoy+//57nTlzRps3by6LlwAAVBBpaWlat26dNmzYoOnTp+uJJ55QYGCgNeQfNmyY0S0Chjlz5owkFRugXrq9sA6wl1tuuUUTJkzQ/PnzraMtc3NzNWHCBJt7bAEAKpbjx4/rkUce0ebNm1W9enVJ0tmzZxUTE6N33nmnVKPo27Vrpz179thsGzhwoG6++Wb93//9H1chAsB1KpNgv2HDhtq9e7dmz54tNzc3ZWdnq2fPnhoxYoSCg4PL4iUAABVEYGCgHnnkET3yyCOSpJ9++kkTJkzQ0qVL9f777xPsw6X5+/tL+mtu86+//lqLFy+27nv00UcVFRVlUwfYy5w5c9StWzeFhobqtttukyR99913MplM+u9//2twdwCA8jJo0CBdvHhR+/fvt15le+DAAQ0aNEiDBw/WqlWrrnoMHx8fRUZG2myrUqWKatSoUWQ7AKD0yiTYl6SgoCBubAIAuKrz589r06ZNSklJ0YYNG5SamqpbbrlFI0eOVJs2bYxuDzBU48aNFRQUpBEjRhTZt3jxYi1evFjBwcFq3LixAd3Bld155506dOiQlixZoh9++EEWi0UPPfSQevfurSpVqhjdHgCgnHz11VfasmWLzdSZDRo00MyZM9WyZUsDOwMAlEmwv3v37mK3m0wmeXp6qnbt2syNBgCQJPn5+cnf31/9+vXTc889p1atWsnX19fotgCH4ObmpvT0dJttPj4+OnfunHU9LS2NS9ZhCG9vb7Vq1Uq1a9dWXl6eJGnt2rWSpLi4OCNbAwCUk9q1a+vixYtFtv/555/629/+dt3HTUlJuYGuAABSGQX7TZo0kclkkvS/mxkWrkuSu7u7HnroIc2dO7fUd0AHAFRMXbp00aZNm/T222/r2LFjOnr0qGJjY5mjGZD01ltvWR9Xq1ZNWVlZ1lC/cL2wbtCgQYb0CNf0yy+/qEePHtqzZ49MJpMsFovN9/38/HwDuwMAlJcpU6Zo5MiRev3119WsWTOZTCbt2LFDTz/9tF599VWj2wMAl1apLA6SnJys+vXra968efruu++UmpqqefPmqUGDBlq2bJnmz5+vdevW6bnnniuLlwMAOLGPP/5Yp0+f1urVq9WqVSutXbtWsbGxCgoK0sMPP2x0e4ChLp1T//z58zb7Ll2/tA6wh6efflrh4eE6efKkvL29tXfvXm3YsEHNmzdn1CUAVGADBgxQamqqoqKi5OnpKbPZrKioKO3atUuDBg2Sv7+/dQEA2FeZjNifOHGi/v3vf6tTp07WbY0bN1atWrX0/PPP65tvvlGVKlWUkJDAX3QBAJL++pzIz8/XxYsXlZubq5UrV+qjjz4yui3AYVSrVk0dO3ZUSEiITpw4oVWrVuns2bNGtwUXtXXrVq1bt0433XSTKlWqJDc3N7Vq1UpJSUl66qmn9O233xrdIgCgHMyYMcPoFgAAJSiTYH/Pnj0KCwsrsj0sLEx79uyR9Nd0PWlpaWXxcgAAJzZ9+nSlpKToq6++0rlz59SkSRO1adNGQ4cOVevWrY1uD3AYnp6eeu+996zrQUFBBnYDV5efn6+qVatKkmrWrKkTJ06oQYMGCgsL04EDBwzuDgBQXvr371+qusmTJ+vs2bOqXr16+TYEALAqk6l4br75Zk2ePNl6Ey1JunjxoiZPnqybb75ZkvTrr78qMDCwLF4OAODEli5dqvr162vx4sX6/ffftX37dr366qvq2rWrqlWrZnR7gKGaNWtmfezt7a3XX39dn3/+uV5//XV5e3sXWwfYQ2RkpHbv3i1JioqK0pQpU7R582a99NJLqlu3rsHdAQCMNmnSJJ05c8boNgDApZTJiP3XX39dcXFxqlWrlho3biyTyaTdu3crPz9f//3vfyX9dcOt4cOHl8XLAQCc2I4dO0pVN3z4cL300kuqWbNmOXcEOI7Q0FDt3LlT0l/fnUaMGKEqVaooOzu7SB1gT88995z13+GECRPUtWtX3XXXXapRo4beffddg7sDABjNYrEY3QIAuJwyCfZjYmJ0+PBhLVmyRAcPHpTFYtEDDzyg3r17y8fHR5LUr1+/sngpAICLWLJkiUaPHk2wD5d3eagPGOHSe2nVrVtX+/bt05kzZ+Tn5yeTyWRgZwAAAIBrKpOpeCSpatWqat26tTp27Ki2bdsqODhY69ev14oVK8rqJQAALoRRP3BFt9xyiySpevXqiomJsdkXExNjnbe2sA4wkr+/P6E+AAAAYJAyGbH/yy+/qEePHtqzZ49MJpMsFovNl/z8/PyyeBkAAIAKLSAgQJJ09uxZbdmyxWbfpeuFdQAAAAAA11QmI/affvpphYeH6+TJk/L29tbevXu1YcMGNW/eXCkpKWXxEgAAABVe48aNy7QOAAAAAFAxlUmwv3XrVr300ku66aabVKlSJbm5ualVq1ZKSkrSU089VRYvAQAAUOGtX7++TOsAAACu159//qlFixYpPT39qrV33XWXvLy87NAVAKBQmQT7+fn5qlq1qiSpZs2aOnHihCQpLCxMBw4cKIuXAAAAqPAmTJhQpnUAAADXq3LlynriiSeUm5t71drPP/9cwcHBdugKAFCoTObYj4yM1O7du1W3bl1FRUVpypQp8vDw0Lx581S3bt2yeAkAgIvp27evqlWrZnQbAAAAgMuKiopSamqqwsLCjG4FAHCZMgn2n3vuOWVnZ0v6awRZ165dddddd6lGjRp69913y+IlAAAVyNmzZ/XNN9/o1KlTKigosNn36KOPSpJmz55tRGuAw+nUqZO+/PJLo9sAAAAuaPjw4Ro1apSOHTumZs2aqUqVKjb7ue8PABinTIL9Tp06WR/XrVtX+/bt05kzZ+Tn5yeTyVQWLwEAqCA+/fRT9enTR9nZ2fLx8bH5nDCZTNZgH3B1Tz31lHr27ClJGjt2rD766CO99tprBncFAABcyUMPPSRJNvdPNJlMslgsMplMys/PN6o1AHB5ZRLsF8ff37+8Dg0AcGIJCQkaNGiQJk2aJG9vb6PbARzWa6+9ptdee03h4eE6dOiQ0e0AAAAXxHcQAHBc5RbsAwBQnF9//VVPPfUUoT5QSvxCDQAAjMLc+gDguAj2AQB21alTJ+3YsYObqwMAAABOYt++fTp69Kjy8vJstsfFxRnUEQCAYB8AYFddunTRP/7xD+3bt0+NGjWSu7u7zX5+OYAre+2112zmsL1SHQAAQHn75Zdf1KNHD+3Zs8c6t74k632ymGMfAIxDsA8AsKvHH39ckvTSSy8V2ccNuODqGjduXKZ1AAAAN+Lpp59WeHi41qxZo7p16+qbb77R77//roSEBL366qtGtwcALq2S0Q0AAFxLQUFBiQuhPiClpKTc0H4AAICysnXrVr300ku66aabVKlSJVWqVEmtWrVSUlJSqa4yBACUH4J9AAAAB7Jx40aZTCbdeuutNttvvfVWmUwmbdy40aDOAACAq8nPz1fVqlUlSTVr1tSJEyck/XVT3QMHDhjZGgC4PKbiAQCUu9dee01DhgyRp6fnVecGZ+QPXFl+fr7eeOMNRURE6PTp0zb7Tp8+rYiICM2ePVstW7aUm5ubQV0CAABXERkZqd27d6tu3bqKiorSlClT5OHhoXnz5qlu3bpGtwcALo1g3wGdPHlSmZmZRreBcnDkyBGb/0XF5Ovrq8DAQKPbcCjTp09Xnz595OnpqenTp5dYZzKZCPbh0nbv3q309HSlp6crJiZGL7zwgsLDw3Xo0CEtXbpUW7ZssdY1bdrU4G4BAEBF99xzzyk7O1uSNGHCBHXt2lV33XWXatSooXfffdfg7gDAtRHsO5iTJ0+qb79HdTEv1+hWUI4mTpxodAsoR+4eZi15ezHh/iUOHTpU7GMAtgpH6UdFRSk2NlYjRoyw7nv22WeVn5+vr7/+ushofgAAgPLQqVMn6+O6detq3759OnPmjPz8/GQymQzsDABAsO9gMjMzdTEvVzl126jA09fodgBco0p/ZEq/bFBmZibB/g2qVq2aUlNTucQXLuXs2bOSpK+//lpff/21zb5JkyYVqQMAAChPmZmZys/Pl7+/v3Wbv7+/zpw5o8qVK6tatWoGdgcAro1g30EVePqqoEpNo9sAAMNYLBajWwDsrnr16kW2RURE6ODBg1etAwAAKGsPP/ywunXrpuHDh9tsf++997RixQp9/vnnBnUGAKhkdAMAAAD4y48//mh9XLt2bUmyhvqF65fXAQAAlJevv/5abdu2LbI9Nja2yNWFAAD7ItgHAABwEO+995718dGjR232Xbp+aR0AAEB5yc3N1Z9//llk+8WLF5WTk2NARwCAQgT7AAAADiwsLMzoFgAAgIu64447NG/evCLb58yZo2bNmhnQEQCgEHPsAwAckslkMroFwFCFN6Y7cuSIzToAAIC9TJw4Ue3bt9d3332ndu3aSZLWrl2r7du3a9WqVQZ3BwCujWAfAOCQuHkuXF18fLx8fHx05swZ+fv769y5c3rhhReMbgsAALiQli1bauvWrXrllVf03nvvycvLS40bN9b8+fNVv359o9sDAJdGsA8AMFR+fr727NmjsLAw+fn5Wbd/8cUX+tvf/mZgZ4CxCkP88PBwHTp0yOBuAACAq2rSpImWLl16xZrJkydr2LBhql69un2aAgAwxz4AwL7i4+M1f/58SX+F+m3atNHtt9+u0NBQpaSkWOtatWols9lsUJeA4yDUBwAAjm7SpElMGQgAdkawDwCwqw8++EC33XabJOnTTz/VoUOH9MMPPyg+Pl7jxo0zuDvAWJMmTSrTOgAAAHtgGk0AsD+CfQCAXZ0+fVpBQUGSpM8//1wPPvigIiIiNHjwYO3Zs8fg7gBjxcTEFNl28803l6oOAAAAAOA6CPYBAHYVGBioffv2KT8/XytXrlT79u0lSRcuXJCbm5vB3QHGysvLK/LfwQ8//GCz7ubmpry8PHu2BQAAAABwMAT7AAC7GjhwoHr16qXIyEiZTCZ16NBBkvT1118XOzIZcCWffPKJ8vPzNXr0aMXHx9vsi4+PV0JCgvLz8/XJJ58Y0yAAAAAAwCFUNroBAIBrSUxMVGRkpI4dO6YHH3zQeoNcNzc3/fOf/zS4O8BYJ06ckCS9+uqrRfbNmDGjSB0AAAAAwDUxYh8AYFeHDh3SAw88oGeeeUa1atWybu/fv7+6d+9+TcfauHGjunXrppCQEJlMJn388cc2+wcMGCCTyWSztGjRwqYmNzdXI0eOVM2aNVWlShXFxcXp+PHj131+wI0ICQmxWff29tbIkSPl7e19xToAAAAj3XXXXfLy8jK6DQBwKYzYBwDYVb169dS6dWsNHjxYDzzwgDw9Pa/7WNnZ2brttts0cOBA3X///cXW3HPPPVqwYIF13cPDw2Z/fHy8Pv30Uy1fvlw1atRQQkKCunbtqp07dzLnP+yuWbNm1sfLli2zBvj333+/Tpw4od69exepAwAAKEtZWVmlrq1WrZok6fPPPy+vdgAAJSDYBwDY1Xfffae33npLCQkJevLJJ/XQQw9p8ODBuvPOO6/5WJ07d1bnzp2vWGM2mxUUFFTsvszMTM2fP19vv/229Sa+S5YsUWhoqNasWaNOnToV+7zc3Fzl5uZa16/llx/gSoYOHWp9XBjil1S3evVqe7QEAABcTPXq1WUymUpVm5+fX87dAOUnJydHc+fO1fHjx1WrVi0NHTqUK0/gVJiKBwBgV5GRkZo2bZp+/fVXLViwQOnp6WrVqpVuvfVWTZs2Tb/99luZvl5KSooCAgIUERGhxx9/XKdOnbLu27lzpy5evKiOHTtat4WEhCgyMlJbtmwp8ZhJSUny9fW1LqGhoWXaM1zXxYsXy7QOAADgWq1fv17r1q3TunXr9NZbbykgIEBjxoxRcnKykpOTNWbMGAUGBuqtt94q1fFmz56txo0bq1q1aqpWrZqio6P1xRdflPNZAFc2btw4de7cWR9//LF27Nihjz/+WJ07d9a4ceOMbg0oNYcK9pOSknTHHXfIx8dHAQEBuu+++3TgwAGbGovFosTERIWEhMjLy0uxsbH6/vvvbWqYLxkAHF/lypXVo0cPvffee3r55Zf1888/a/To0apVq5YeffRRpaWl3fBrdO7cWUuXLtW6des0depUbd++XXfffbd1tH16ero8PDzk5+dn87zAwEClp6eXeNyxY8cqMzPTuhw7duyGewUkyd3dvci2qlWrlqoOAACgLLRp08a6LF68WNOmTVNSUpLi4uIUFxenpKQkvfrqqzbTXV5JrVq1NHnyZO3YsUM7duzQ3Xffre7duxfJcgB7GTdunDZv3ix3d3f17t1bS5YsUe/eveXu7q7NmzcT7sNpOFSwv2HDBo0YMULbtm3T6tWr9eeff6pjx47Kzs621kyZMkXTpk3TrFmztH37dgUFBalDhw46d+6ctSY+Pl7Jyclavny5Nm3apPPnz6tr165cIgYADmTHjh0aPny4goODNW3aNI0ePVo///yz1q1bp19//fWab6RbnIceekhdunRRZGSkunXrpi+++EIHDx7UZ599dsXnWSyWK15+bDabrSOOChegLAwcOND6eMyYMUpJSdF///tfpaSkaMyYMcXWAc7CnoN4MjIy1K9fP+uVVf369dPZs2fL+xQBoMLZunWrmjdvXmR78+bN9c0335TqGN26ddO9996riIgIRUREaOLEiapataq2bdtW1u0CV5WTk2MN9T/77DMNGTJEtWrV0pAhQ/TZZ59Zw/2cnByjWwWuyqGC/ZUrV2rAgAG69dZbddttt2nBggU6evSodu7cKemvL/ozZszQuHHj1LNnT0VGRmrRokW6cOGCli1bJul/8yVPnTpV7du3V9OmTbVkyRLt2bNHa9asMfL0AACSpk2bpkaNGikmJkYnTpzQ4sWLdeTIEU2YMEHh4eFq2bKl5s6dq127dpX5awcHByssLEw//vijJCkoKEh5eXnKyMiwqTt16pQCAwPL/PWBq5k3b5718ZQpU3Tvvfdq+fLluvfeezVlypRi6wBnYc9BPL1791ZqaqpWrlyplStXKjU1Vf369bPr+QJARRAaGqo5c+YU2T537tzrmo4yPz9fy5cvV3Z2tqKjo0usy83NVVZWls0ClIW5c+dKkh588EF5eHjY7PPw8NADDzxgUwc4Moe+eW5mZqYkyd/fX5J06NAhpaen28yFbDab1aZNG23ZskVDhw696nzJxd0IkZsgAoD9zJ49W4MGDdLAgQNLvKlt7dq1NX/+/DJ/7d9//13Hjh1TcHCwJKlZs2Zyd3fX6tWr1atXL0lSWlqa9u7daxOiAka5cOFCsb9MA85o5cqVNusLFixQQECAdu7cqdatWxcZxCNJixYtUmBgoJYtW6ahQ4eW6qbn+/fv18qVK7Vt2zZFRUVJkt58801FR0frwIEDatCggX1PHACc2PTp03X//ffryy+/VIsWLSRJ27Zt088//6wPP/yw1MfZs2ePoqOj9ccff6hq1apKTk5Ww4YNS6xPSkrS+PHjb7h/4HKFV/nde++9xe6/99579c477zClN5yCQ43Yv5TFYtGoUaPUqlUrRUZGSpJ1vuPLR1FeOhfy9cyXzE0QAcB+fvzxR40dO7bEUF/6a6RE//79r3qs8+fPKzU1VampqZL++gNwamqqjh49qvPnz2v06NHaunWrDh8+rJSUFHXr1k01a9ZUjx49JEm+vr4aPHiwEhIStHbtWn377bfq27evGjVqZA2MAKPUrFnziuuAs7vWQTxS6W56vnXrVvn6+lpDfUlq0aKFfH19r3hjdEaHAkBR9957rw4ePKi4uDidOXNGv//+u7p3766DBw+WGIwWp0GDBkpNTdW2bdv0xBNPqH///tq3b1+J9dzTCuWlVq1akqTPP/+82P2F2wvrAEfmsCP2n3zySe3evVubNm0qsu/yeY+vNhfy1WrGjh2rUaNGWdezsrII9wGgnF24cEFHjx5VXl6ezfbGjRuX+hg7duxQ27ZtreuF7+X9+/fX7NmztWfPHi1evFhnz55VcHCw2rZtq3fffVc+Pj7W50yfPl2VK1dWr169lJOTo3bt2mnhwoVyc3O7wTMErt1zzz2nCRMmSJI8PT31+uuvKzw8XIcOHVJSUpJNHeDMrnUQz5EjR6w1VxvEk56eroCAgCKvGRAQcMUbozM6FACKFxoaqkmTJt3QMTw8PFSvXj1Jf83Pv337dv373/8ucboTs9kss9l8Q68JFGfo0KH6+OOP9f7772vAgAE20/Hk5eXpgw8+sNYBjs4hg/2RI0dqxYoV2rhxo81fyApHd6anp1unUZBs50K+dL7kS7/wnzp1SjExMcW+Hh8YAGA/v/32mwYMGFBkSoZC13Kj89jYWFkslhL3f/nll1c9hqenp2bOnKmZM2eW+nWB8tK2bVtrsH/8+HGNGDHCGuxfXgc4s/IexFNc/dWOw2AfACjeV199pblz5+qXX37R+++/r7/97W96++23FR4erlatWl3XMS0Wi82UyIC9eHl5qWXLltq8ebO6dOmiBx54QPfee68+//xzffDBB7p48aJatmwpLy8vo1sFrsqhpuKxWCx68skn9dFHH2ndunUKDw+32R8eHq6goCCtXr3aui0vL08bNmywhvaXzpdcqHC+5JKCfQCA/cTHx+vs2bPatm2bvLy8tHLlSi1atEj169fXihUrjG4PMNTu3buLbLs81C+pDnAWhYN41q9fX+IgnkuVNIjnSjUnT54s8rq//fbbFW+MbjabVa1aNZsFAFzdhx9+qE6dOsnLy0u7du2yhvHnzp0r9Sj+Z599Vl999ZUOHz6sPXv2aNy4cUpJSVGfPn3Ks3WgRBMnTlTLli118eJFvfPOO+rXr5/eeecda6g/ceJEo1sESsWhgv0RI0ZoyZIlWrZsmXx8fJSenq709HTl5ORI+mvkTXx8vCZNmqTk5GTt3btXAwYMkLe3t3r37i2J+ZIBwNGtW7dO06dP1x133KFKlSopLCxMffv21ZQpU2ymGgFc0ZkzZyT9Nbfn5dPtPPfcc9Y5PwvrAGdir0E80dHRyszM1DfffGOt+frrr5WZmclAHwC4RhMmTNCcOXP05ptvyt3d3bo9JiZGu3btKtUxTp48qX79+qlBgwZq166dvv76a61cuVIdOnQor7aBq5o4caK++OIL3XfffWrevLnuu+8+ffHFF4T6cCoONRXP7NmzJf01tcKlFixYoAEDBkiSxowZo5ycHA0fPlwZGRmKiorSqlWrmC8ZAJxEdna2de5jf39//fbbb4qIiFCjRo1K/csBUFFdehPR9u3bFxmU8P3339vUAc5kxIgRWrZsmT755BPrIB7pr4E5Xl5eNoN46tevr/r162vSpEklDuKpUaOG/P39NXr0aJtBPLfccovuuecePf7449a5m4cMGaKuXbuqQYMGxpw8ADipAwcOqHXr1kW2V6tWTWfPni3VMebPn1/GXQFlw8vLS/Hx8Ua3AVw3hwr2rzRPciGTyaTExEQlJiaWWMN8yQDguBo0aKADBw6oTp06atKkiebOnas6depozpw5NvdPAVxR48aNFRQUpKVLl2rChAmqVOl/F1cWFBRo6dKlCg4OvqabTAOOwp6DeJYuXaqnnnpKHTt2lCTFxcVp1qxZ5XuCAFABBQcH66efflKdOnVstm/atEl169Y1pikAgCQHC/YBABVffHy80tLSJEkvvviiOnXqpCVLlsjDw0OLFi0yuDvAWG5ubho+fLhefPFFPffcc+rTp4/15rlLly7V1q1bNX78eK5ChFOy5yAef39/LVmy5HraBABcYujQoXr66af11ltvyWQy6cSJE9q6datGjx6tF154wej2AMClEewDAOzq0ptkNW3aVIcPH9YPP/yg2rVrq2bNmgZ2BjiG1q1ba/z48XrjjTc0YsQI6/bg4GCNHz++2MvhAQAAysOYMWOUmZmptm3b6o8//lDr1q1lNps1evRoPfnkk0a3BwAujWAfAFDuRo0aVeraadOmlWMngHNo3bq1WrZsqd27d+vMmTPy9/dX48aNGakPAADsJj8/X5s2bVJCQoLGjRunffv2qaCgQA0bNlTVqlWNbg8AXB7BPgCg3H377bc26zt37lR+fr71JoYHDx6Um5ubmjVrZkR7gENyc3NT06ZNjW4DAAC4KDc3N3Xq1En79++Xv7+/mjdvbnRLAIBLEOwDAMrd+vXrrY+nTZsmHx8fLVq0SH5+fpKkjIwMDRw4UHfddZdRLQIAAAC4TKNGjfTLL78oPDzc6FYAAJepZHQDAADXMnXqVCUlJVlDfUny8/PThAkTNHXqVAM7AwAAAHCpiRMnavTo0frvf/+rtLQ0ZWVl2SwAAOMwYh8AYFdZWVk6efKkbr31Vpvtp06d0rlz5wzqCgAAAMDl7rnnHklSXFycTCaTdbvFYpHJZFJ+fr5RrQGAyyPYBwDYVY8ePTRw4EBNnTpVLVq0kCRt27ZN//jHP9SzZ0+DuwMAAABQ6NIpNQEAjoVgHwBgV3PmzNHo0aPVt29fXbx4UZJUuXJlDR48WK+88orB3QEAAAAo1KZNG6NbAACUgGAfAGBX3t7eeuONN/TKK6/o559/lsViUb169VSlShWjWwMAAABc3u7duxUZGalKlSpp9+7dV6xt3LixnboCAFyOYB8AYIgqVarwiwBwBT/88IOGDRtmXZ8zZ45uvvlmAzsCAACuoEmTJkpPT1dAQICaNGkik8kki8VSpI459gHAWAT7AAAADiY2NrbItsKQPyUlxb7NAAAAl3Lo0CHddNNN1scAAMdEsA8AAOBALg31TSaTevbsqY8++sg6Ui42NpZwHwAAlJuwsLBiHwMAHAvBPgAAgIP44YcfrI8XLlyoOnXqSJJGjhypw4cPa8CAAdY6puUBAADlbfHixVfc/+ijj9qpEwDA5Qj2AQAAHEThdDsmk0nJycn65JNPrPu6d+9uneN22LBhjNoHAADl7umnn7ZZv3jxoi5cuCAPDw95e3sT7AOAgSoZ3QAAAABsWSwWm1Bfkj755JNib1wHAABQXjIyMmyW8+fP68CBA2rVqpXeeecdo9sDAJdGsA8AAAAAAIBSqV+/viZPnlxkND8AwL4I9gEAABxEmzZtyrQOAACgPLi5uenEiRNGtwEALo059gEAABzEhg0bimzz8/NTRkbGVesAAADK2ooVK2zWLRaL0tLSNGvWLLVs2dKgrgAAEsE+AACAQ7s81AcAALCX++67z2bdZDLppptu0t13362pU6ca0xQAQBLBPgAAgEOqUaOGfv/99xLXAQAAyltBQYHRLQAASsAc+wAAAA7o7NmzV1wHAAAAALguRuwDAAA4oPz8/CuuAwAAlLdRo0aVunbatGnl2AkA4HIE+wAAAA5i0KBBeuutt0pVBwAAUN6+/fZb7dq1S3/++acaNGggSTp48KDc3Nx0++23W+tMJpNRLQKAyyLYBwAAcBAXL14s0zoAAIAb0a1bN/n4+GjRokXy8/OTJGVkZGjgwIG66667lJCQYHCHAOC6mGMfAAAAAAAARUydOlVJSUnWUF+S/Pz8NGHCBE2dOtXAzgAABPsAAAAOol69etbH4eHhNvsuXb+0DgAAoLxkZWXp5MmTRbafOnVK586dM6AjAEAhgn0AAAAHsWDBAuvjQ4cO2ey7dP3SOgAAgPLSo0cPDRw4UB988IGOHz+u48eP64MPPtDgwYPVs2dPo9sDAJfGHPsAAAAO4vfffy/TOgAAgBsxZ84cjR49Wn379rXe46dy5coaPHiwXnnlFYO7AwDXRrAPAADgIEp7STuXvgMAAHvw9vbWG2+8oVdeeUU///yzLBaL6tWrpypVqhjdGgC4PKbiAQAAAAAAQInS0tKUlpamiIgIValSRRaLxeiWAMDlEewDAAAAAACgiN9//13t2rVTRESE7r33XqWlpUmSHnvsMSUkJBjcHQC4NoJ9AAAAAAAAFPHMM8/I3d1dR48elbe3t3X7Qw89pJUrVxrYGQCAOfYBAAAAAABQxKpVq/Tll1+qVq1aNtvr16+vI0eOGNQVAEBixD4AAAAAAACKkZ2dbTNSv9Dp06dlNpsN6AgAUIhgHwAAAAAAAEW0bt1aixcvtq6bTCYVFBTolVdeUdu2bQ3sDADAVDwAAAAOws/PTxkZGaWqAwAAKG+vvvqq2rRpox07digvL09jxozR999/rzNnzmjz5s1GtwcALo0R+wAAAA4iOjq6TOsAAACu18WLFzV8+HCtWLFCd955pzp06KDs7Gz17NlT3377rf7+978b3SIAuDRG7AMAADiI8PDwMq0DAAC4Xu7u7tq7d69q1Kih8ePHG90OAOAyjNgHADitjRs3qlu3bgoJCZHJZNLHH39ss99isSgxMVEhISHy8vJSbGysvv/+e5ua3NxcjRw5UjVr1lSVKlUUFxen48eP2/EsgP/54YcfyrQOAADgRjz66KOaP3++0W0AAIpBsA8AcFrZ2dm67bbbNGvWrGL3T5kyRdOmTdOsWbO0fft2BQUFqUOHDjp37py1Jj4+XsnJyVq+fLk2bdqk8+fPq2vXrsrPz7fXaQBWa9euLdM6AACAG5GXl6fZs2erWbNmGjp0qEaNGmWzAM4sJSVFsbGx1iUlJcXoloBrwlQ8AACn1blzZ3Xu3LnYfRaLRTNmzNC4cePUs2dPSdKiRYsUGBioZcuWaejQocrMzNT8+fP19ttvq3379pKkJUuWKDQ0VGvWrFGnTp3sdi4AAACAo9m7d69uv/12SdLBgwdt9plMplIdIykpSR999JF++OEHeXl5KSYmRi+//LIaNGhQ5v0CpRUbG1tkW2JioiQR8MNpEOwDACqkQ4cOKT09XR07drRuM5vNatOmjbZs2aKhQ4dq586dunjxok1NSEiIIiMjtWXLlhKD/dzcXOXm5lrXs7Kyyu9EAAAAAIOsX7/+ho+xYcMGjRgxQnfccYf+/PNPjRs3Th07dtS+fftUpUqVMugSuDaXh/oNGzbUvn37bPYT7sMZEOwDACqk9PR0SVJgYKDN9sDAQB05csRa4+HhIT8/vyI1hc8vTlJSEjcQAwAAAEph5cqVNusLFixQQECAdu7cqdatWxvUFVzVpYH95MmT1aJFC+v6tm3b9M9//tNaV9yofsCRMMc+AKBCu/wSYYvFctXLhq9WM3bsWGVmZlqXY8eOlUmvAAAAQEWXmZkpSfL39y+xJjc3V1lZWTYLUBYKp9uRZBPqX75+aR3gqAj2AQAVUlBQkCQVGXl/6tQp6yj+oKAg5eXlKSMjo8Sa4pjNZlWrVs1mAQAAAHBlFotFo0aNUqtWrRQZGVliXVJSknx9fa1LaGioHbuEK2jYsGGx2+vXr2/nToDrR7APAKiQwsPDFRQUpNWrV1u35eXlacOGDYqJiZEkNWvWTO7u7jY1aWlp2rt3r7UGAAAAQNl48skntXv3br3zzjtXrOMKWZS3S+fUv9SPP/5o506A60ewDwBwWufPn1dqaqpSU1Ml/XXD3NTUVB09elQmk0nx8fGaNGmSkpOTtXfvXg0YMEDe3t7q3bu3JMnX11eDBw9WQkKC1q5dq2+//VZ9+/ZVo0aN1L59ewPPDAAAAKhYRo4cqRUrVmj9+vWqVavWFWu5Qhbl5dIpdrZt22az79J1puKBM+DmuQAAp7Vjxw61bdvWuj5q1ChJUv/+/bVw4UKNGTNGOTk5Gj58uDIyMhQVFaVVq1bJx8fH+pzp06ercuXK6tWrl3JyctSuXTstXLhQbm5udj8fAAAAoKKxWCwaOXKkkpOTlZKSovDwcKNbggu79Ia4hTfKrV+/fpGR+tw4F86AYB8A4LRiY2NlsVhK3G8ymZSYmHjF0Raenp6aOXOmZs6cWQ4dAgAAAK5txIgRWrZsmT755BP5+PhY74Hl6+srLy8vg7uDK0pJSbEJ7i8P9VNSUuzbEHCdmIoHAAAAAAAA5WL27NnKzMxUbGysgoODrcu7775rdGtwYSkpKUUGgCUmJhLqw6kwYh8AAAAAAADl4kpX2AJGio2NJciHU2PEPgAAAAAAAAAAToRgHwAAAAAAAAAAJ0KwDwAA4CCioqLKtA4AAAAAUDER7AMAADiI3377rUzrAAAAAAAVE8E+AACAg/jll1/KtA4AAAAAUDER7AMAAAAAAAAA4EQI9gEAAAAAAAAAcCIE+wAAAA7I3d39iusAAAAAANdFsA8AAOCALl68eMV1AAAAAIDrItgHAABwEOHh4WVaBwAAAAComAj2AQAAHISfn1+Z1gEAAAAAKiaCfQAAAAexa9euMq0DAAAAAFRMBPsAAAAAAAAAADgRgn0AAAAAAAAAAJwIwT4AAAAAAAAAAE6EYB8AAAAAAAAAACficMH+xo0b1a1bN4WEhMhkMunjjz+22W+xWJSYmKiQkBB5eXkpNjZW33//vU1Nbm6uRo4cqZo1a6pKlSqKi4vT8ePH7XgWAAAAAC5nr+/6GRkZ6tevn3x9feXr66t+/frp7Nmz5Xx2AAAAgP04XLCfnZ2t2267TbNmzSp2/5QpUzRt2jTNmjVL27dvV1BQkDp06KBz585Za+Lj45WcnKzly5dr06ZNOn/+vLp27ar8/Hx7nQYAAACAy9jru37v3r2VmpqqlStXauXKlUpNTVW/fv3K/fwAAAAAe6lsdAOX69y5szp37lzsPovFohkzZmjcuHHq2bOnJGnRokUKDAzUsmXLNHToUGVmZmr+/Pl6++231b59e0nSkiVLFBoaqjVr1qhTp052OxcAAAAA/2OP7/r79+/XypUrtW3bNkVFRUmS3nzzTUVHR+vAgQNq0KCBfU4WAAAAKEcON2L/Sg4dOqT09HR17NjRus1sNqtNmzbasmWLJGnnzp26ePGiTU1ISIgiIyOtNZfLzc1VVlaWzQIAAADAfsrqu/7WrVvl6+trDfUlqUWLFvL19S3x9wGJ3wkAAADgXJwq2E9PT5ckBQYG2mwPDAy07ktPT5eHh4f8/PxKrLlcUlKSdf5NX19fhYaGlkP3AAAAV1arVq0yrQOcSVl9109PT1dAQECR4wcEBJT4+4DE7wQAAABwLk4V7BcymUw26xaLpci2y12pZuzYscrMzLQux44dK7NeAQAASuvyG4DeaB3gjMriu35x9Vc7Dr8TAAAAwJk4VbAfFBQkSUVG2pw6dco6sicoKEh5eXnKyMgoseZyZrNZ1apVs1kAAAAA2E9ZfdcPCgrSyZMnixz/t99+K/H3AYnfCQAAAOBcnCrYDw8PV1BQkFavXm3dlpeXpw0bNigmJkaS1KxZM7m7u9vUpKWlae/evdYaAAAAAI6lrL7rR0dHKzMzU99884215uuvv1ZmZia/DwAAAKDCqGx0A5c7f/68fvrpJ+v6oUOHlJqaKn9/f9WuXVvx8fGaNGmS6tevr/r162vSpEny9vZW7969JUm+vr4aPHiwEhISVKNGDfn7+2v06NFq1KiR2rdvb9RpAQAAAC7PHt/1b7nlFt1zzz16/PHHNXfuXEnSkCFD1LVrVzVo0MD+Jw0AAACUA4cL9nfs2KG2bdta10eNGiVJ6t+/vxYuXKgxY8YoJydHw4cPV0ZGhqKiorRq1Sr5+PhYnzN9+nRVrlxZvXr1Uk5Ojtq1a6eFCxfKzc3N7ucDAAAA4C/2+q6/dOlSPfXUU+rYsaMkKS4uTrNmzbLTWQIAAADlz2SxWCxGN+FosrKy5Ovrq8zMTLvPrXnw4EENGTJE2Q3jVFClpl1fG8CNq5R9WlX2rdC8efMUERFht9c18n0L/PxRdmJjY0tdm5KSUm59oGLjPat0+DkBcCYV/T2rop8fgIrHHu9bTjXHPgAAAAAAAAAAro5gHwAAAAAAAAAAJ0KwDwAAAAAAAACAEyHYBwAAAAAAAADAiRDsAwAAAAAAAADgRAj2AQAAAAAAAABwIgT7AAAAAAAAAAA4EYJ9AAAAAAAAAACcCME+AAAAAAAAAABOhGAfAAAAAAAAAAAnQrAPAAAAAAAAAIATIdgHAAAAAAAAAMCJEOwDAAAAAAAAAOBECPYBAAAAAAAAAHAiBPsAgAorMTFRJpPJZgkKCrLut1gsSkxMVEhIiLy8vBQbG6vvv//ewI7h6ipVKt1Xs9LWAQAAAChebGxskQVwJvxWCACo0G699ValpaVZlz179lj3TZkyRdOmTdOsWbO0fft2BQUFqUOHDjp37pyBHcOV+fn5lWkdAACAI9i4caO6deumkJAQmUwmffzxx0a3BBdXUohPuA9nQrAPAKjQKleurKCgIOty0003SfprtP6MGTM0btw49ezZU5GRkVq0aJEuXLigZcuWGdw1XJWnp2eZ1gEAADiC7Oxs3XbbbZo1a5bRrQBXDe8J9+EsKhvdAAAA5enHH39USEiIzGazoqKiNGnSJNWtW1eHDh1Senq6OnbsaK01m81q06aNtmzZoqFDh5Z4zNzcXOXm5lrXs7KyyvUc4Dp+/fXXMq0DAABwBJ07d1bnzp2NbgMoEtqnpKQUuy82NtZmH+CIGLEPAKiwoqKitHjxYn355Zd68803lZ6erpiYGP3+++9KT0+XJAUGBto8JzAw0LqvJElJSfL19bUuoaGh5XYOAAAAgKvJzc1VVlaWzQKUtcuDe4J8OBuCfQBAhdW5c2fdf//9atSokdq3b6/PPvtMkrRo0SJrjclksnmOxWIpsu1yY8eOVWZmpnU5duxY2TcPAAAAuCgG0gDA1RHsAwBcRpUqVdSoUSP9+OOPCgoKkqQio/NPnTpVZBT/5cxms6pVq2azAAAAACgbDKQBgKsj2AcAuIzc3Fzt379fwcHBCg8PV1BQkFavXm3dn5eXpw0bNigmJsbALgEAAADXxkAa2MPl8+1z01w4G26eCwCosEaPHq1u3bqpdu3aOnXqlCZMmKCsrCz1799fJpNJ8fHxmjRpkurXr6/69etr0qRJ8vb2Vu/evY1uHQAAAABQxlJSUorcJLekOsDREewDACqs48eP65FHHtHp06d10003qUWLFtq2bZvCwsIkSWPGjFFOTo6GDx+ujIwMRUVFadWqVfLx8TG4cwAAAKDiOH/+vH766Sfr+qFDh5Samip/f3/Vrl3bwM7gii4P94vbDzgDgn0AQIW1fPnyK+43mUxKTExUYmKifRoCAAAAXNCOHTvUtm1b6/qoUaMkSf3799fChQsN6gqurKRwn1AfzoRgHwAAAAAAAOUmNjZWFovF6DYAG4T4cHYE+wAAAAAAlLO8vDx98sknOnHihEJCQtS9e3d5eHgY3RYAAHBSBPsAAAAAAJSjOXPm6P3331d+fr7NtgcffFDDhg0zsDMAAOCsCPYBAAAAACgnc+bM0fLly+Xn56fBgwcrOjpaW7du1fz58633AyLcBwAA16qS0Q0AAAAAAFAR5eXl6f3335efn5/ef/99de3aVTVq1FDXrl1ttufl5RndKgAAcDIE+wAAAAAAlINPPvlE+fn5Gjx4sCpXtr1gvnLlyho0aJDy8/P1ySefGNQhAABwVkzFAwAAAABAOThx4oQkKTo6utib50ZHR9vUAQAAlBbBPgAAAAAA5SAkJESSNHnyZO3cuVMFBQXWfbNnz9btt99uUwcAAFBaTMUDAAAAAEA56N69u0wmk7Zv324T6ktSQUGBduzYIZPJpO7duxvUIQAAcFYE+wAAAAAAlBOLxXJD+wEAAIpDsA8AAAAAQDlITk4u0zoAAIBCBPsAAAAAAJSD3bt3S5L8/f2L3V+4vbAOAACgtAj2AQAAAAAoB3/88Yck6cyZM8XuL9xeWAcAAFBaBPsAAAAAAJSDv//972VaBwAAUIhgHwAAAACAcnD69OkyrQMAAChEsA8AAAAAQDlYt25dmdYBAAAUItgHAAAAAAAAAMCJEOwDAAAAAAAAAOBECPYBAAAAAAAAAHAiBPsAAAAAAAAAADgRgn0AAAAAAAAAAJwIwT4AAAAAAAAAAE6EYB8AAAAAAAAAACdCsA8AAAAAAAAAgBMh2AcAAAAAAAAAwIkQ7AMAAAAAAAAA4EQI9gEAAAAAAAAAcCIE+wAAAAAAAAAAOBGCfQAAAAAAAAAAnEhloxsAAAAAALimP/74Q0ePHjW6DYdw8OBBo1soV7Vr15anp6fRbQAAUGEQ7AMAAAAADHH06FENGTLE6DYcQkX/OcybN08RERFGtwEAQIVBsA8AAAAAMETt2rU1b948o9soN9cS1lfkn4P01//XAACg7BDsAwAAAAAM4enpySju/4+fAwAAuBbcPBcAAAAAgHKQkpJSpnUAAACFCPYBAAAAACgnVwvtCfUBAMD1YCoeB1Up56zRLQC4Dvy3CwAAbtTJkyeVmZlpdBsoQ/PmzSt2vv158+bp4MGDBnSE8uTr66vAwECj2wAAVHAE+w7K69BGo1sAAAAAYGcnT55U336P6mJertGtwA6u5ea6cB7uHmYteXsx4T4AoFwR7DuonPDWKvCqbnQbAK5RpZyz/GEOAABct8zMTF3My1VO3TYq8PQ1uh0A16jSH5nSLxuUmZlJsA8AKFcE+w6qwKu6CqrUNLoNAAAAAEawWIzuAMD14L9dAICdEOw7qEp/MKcm4Iz4bxcAAJQFrgAEAADAlRDsOxhfX1+5e5ilXzYY3QqA6+TuYZavL5fOAwCA6/fH326XxaOq0W0AuEamvPPy/HWX0W0AAFwAwb6DCQwM1JK3Fyszk1G/FdGRI0c0ceJEjRs3TmFhYUa3g3Li6+vLfJoAAOC6WAf6EAwCTouBPgAAeyDYd0CBgYGEghVcWFiYIiIijG4DAACgQnvjjTf0yiuvKC0tTbfeeqtmzJihu+66y+i2roiBPhUbA31cAwN9AAD2QLAPAICcM/wBAJTs3XffVXx8vN544w21bNlSc+fOVefOnbVv3z7Vrl3b6PauiIE+FR8DfeCK+L4NAGWrktENlKc33nhD4eHh8vT0VLNmzfTVV18Z3RIAwAEVhj/jxo3Tt99+q7vuukudO3fW0aNHjW4NAHCdpk2bpsGDB+uxxx7TLbfcohkzZig0NFSzZ882ujUAcDl83waAsldhg30+NAAApUX4AwAVS15ennbu3KmOHTvabO/YsaO2bNlS7HNyc3OVlZVlswAAygbftwGg7FXYqXgu/dCQpBkzZujLL7/U7NmzlZSUZFObm5ur3Nxc6zpf4u3njz/+cKk/thw5csTmf11J7dq15enpaXQbQBGF4c8///lPm+1XC38c5XPjp59+0qFDhwx7fXu6cOGCfv75Z6PbcBjTpk0zuoVy8/e//13e3t5Gt2EX4eHhqlevntFtVDinT59Wfn5+kelsAgMDlZ6eXuxzkpKSNH78eHu0h0vw+4Dr4PcB18X3befB923XwfftiqFCBvvX+qHBl3jjHD16VEOGDDG6DbubOHGi0S3Y3bx585hHFA7J2cOfmTNn6rvvvjO6DRhgxYoVRreAMnDbbbfp3//+t9FtVFgmk8lm3WKxFNlWaOzYsRo1apR1PSsrS6GhoeXaH/h9wJXw+4Dr4vs2ACNV5O/bFTLYv9YPDb7EG6d27dqaN2+e0W3ADhz9JnWAs4Y/I0eOZARRBZKZmakNGzZcta5Nmzby9fW1Q0fGcLURRCh7NWvWlJubW5Hv/qdOnSrxprRms1lms9ke7eES/D7gOvh9AHzfdnyu8H0bf+H7dsVQIYP9QqX90OBLvHE8PT0ZtQHAUM4e/tSrV6/CXlboqtq2bSuLxVLifpPJ5DAj2ABH5eHhoWbNmmn16tXq0aOHdfvq1avVvXt3AzvD5fh9AKj4+L4NAOWjQt4893o+NAAArunS8OdSq1evVkxMjEFdwZWtX7++xNFrJpNJ69evt3NHgHMaNWqU/vOf/+itt97S/v379cwzz+jo0aMaNmyY0a0BgEvh+zYAlI8KOWKfEToAgGsxatQo9evXT82bN1d0dLTmzZtH+ANDrV+/XocPH9bgwYOVn58vNzc3zZ8/X3Xq1DG6NcBpPPTQQ/r999/10ksvKS0tTZGRkfr8888VFhZmdGsA4HL4vg0AZa9CBvsSHxoAgNIj/IEjqlOnjtauXWt0G4BTGz58uIYPH250GwDg8vi+DQBlr8IG+3xoAACuBeEPAAAAUH74vg0AZavCBvsSHxoAAAAAAAAAgIqnQt48FwAAAAAAAACAiopgHwAAAAAAAAAAJ0KwDwAAAAAAAACAEyHYBwAAAAAAAADAiRDsAwAAAAAAAADgRAj2AQAAAAAAAABwIgT7AAAAAAAAAAA4EYJ9AAAAAAAAAACcCME+AAAAAAAAAABOhGAfAAAAAAAAAAAnQrAPAAAAAAAAAIATIdgHAAAAAAAAAMCJVDa6AUdksVgkSVlZWQZ3AgClU/h+Vfj+BfvicwOAM+Ezo3R4bwfgTCr6ezvvyQCcjT3elwn2i3Hu3DlJUmhoqMGdAMC1OXfunHx9fY1uw+XwuQHAGfGZcWW8twNwRhX1vZ33ZADOqjzfl02Wivrn3BtQUFCgEydOyMfHRyaTyeh2UIFkZWUpNDRUx44dU7Vq1YxuBxWIxWLRuXPnFBISokqVmGXN3vjcQHnhcwPlgc+M0uG9HeWB93WUl4r+3s57MsoL78soL/Z4XybYB+woKytLvr6+yszM5AMDAHBVfG4AQMXC+zoAOBbel+HMKt6fcQEAAAAAAAAAqMAI9gEAAAAAAAAAcCIE+4Admc1mvfjiizKbzUa3AgBwAnxuAEDFwvs6ADgW3pfhzJhjHwAAAAAAAAAAJ8KIfQAAAAAAAAAAnAjBPgAAAAAAAAAAToRgHwAAAAAAAAAAJ0KwDwAAAAAAAACAEyHYBwAAAAAAAADAiRDsAwAAAAAAAADgRAj2AQAAAAAAAABwIgT7AAAAAAAAAAA4EYJ9AAAAAAAAAACcCMF+KSxcuFAmk8lmuemmmxQbG6v//ve/RrdnVadOHQ0YMOCan3fhwgUlJiYqJSWlzHs6fPiwunTpIn9/f5lMJsXHx5dYO2nSJH388cfX/VonTpxQYmKiUlNTr/sYKSkpMplM5fKzkK7t5+EsTCaTEhMT7f7ciqos/h0DAAAAAACgYqtsdAPOZMGCBbr55ptlsViUnp6uWbNmqVu3blqxYoW6detmdHvX7cKFCxo/frwkKTY2tkyP/cwzz+jrr7/WW2+9paCgIAUHB5dYO2nSJD3wwAO67777ruu1Tpw4ofHjx6tOnTpq0qTJ9TVczq7l5+Estm7dqlq1ahndRoXhDP+OAQAAAAAAYCyC/WsQGRmp5s2bW9fvuece+fn56Z133nHqYL887d27V3feeed1h/UVTUX8ebRo0cLQ17dYLPrjjz/k5eVlaB8AAAAAAACAvTAVzw3w9PSUh4eH3N3dbbafOXNGw4cP19/+9jd5eHiobt26GjdunHJzcyVJf/zxh5o2bap69eopMzPT+rz09HQFBQUpNjZW+fn5kqQBAwaoatWq+v7779WuXTtVqVJFN910k5588klduHDhqj0ePXpUffv2VUBAgMxms2655RZNnTpVBQUFkv6aGuamm26SJI0fP9461dDVpvS52nELp7T56aef9MUXX1iPe/jw4WKPZzKZlJ2drUWLFllrL716YO/everevbv8/Pzk6empJk2aaNGiRdb9KSkpuuOOOyRJAwcOtB6jcJqXHTt26OGHH1adOnXk5eWlOnXq6JFHHtGRI0eu+jMsjbL+eVxu3bp1io2NVY0aNeTl5aXatWvr/vvvt/4bOHz4sEwmk6ZMmaKJEyeqdu3a8vT0VPPmzbV27doix/vxxx/Vu3dvm35ff/31InVnz55VQkKC6tatK7PZrICAAN1777364YcfrDWXT6fz22+/afjw4WrYsKGqVq2qgIAA3X333frqq6+u4SdaMpPJpCeffFJz5szRLbfcIrPZbP23UNrz+uGHH3TPPffI29tbNWvW1LBhw/Tpp58WmYappOmtYmNji1zdkpWVpdGjRys8PFweHh7629/+pvj4eGVnZ9vUvf/++4qKipKvr6+8vb1Vt25dDRo0SNLV/x3/8ssvevjhhxUSEiKz2azAwEC1a9eOaXsAAAAAAABcDCP2r0F+fr7+/PNPWSwWnTx5Uq+88oqys7PVu3dva80ff/yhtm3b6ueff9b48ePVuHFjffXVV0pKSlJqaqo+++wzeXp66r333lOzZs00aNAgffjhhyooKFCfPn1ksVj0zv9r787DtSoLvfF/H4a9GYStgKgobjma4mxqeqQUECnRJm3Q6ihx8OrV7JjTcciOUxYOaekxp1LSn2V5WVnaoKagOaaJL05pGTIkmoDuDZogm/X7o4v9ugVkUFjPgs/nup5L11r3s9b3edisP7775l433JDOnTu3n/PNN9/MAQcckP/zf/5PTjnllNx///0555xzMnXq1Nxyyy3LzPvyyy9nyJAhWbBgQb7xjW9kiy22yK233poTTzwxzz33XC677LJssskm+d3vfpf9998/Y8eOzRFHHJEk7WX/qp531113zQMPPJCDDjooW265Zb797W8nyTKXnnnggQey7777Zvjw4fmf//mfJEnv3r2TJM8880yGDBmS/v3755JLLknfvn1z/fXX54tf/GJeeumlnHTSSdl1110zfvz4jBkzJl//+tdz4IEHJkn7EjHPP/98ttlmmxx66KHp06dPZs6cmcsvvzwf+MAH8tRTT6Vfv37L/fNfk9/HWy1el3/vvffONddck/XXXz9///vf87vf/S4LFixIjx492sdeeumlaW5uzne/+90sWrQo559/fkaNGpW77747e+21V5LkqaeeypAhQ7L55pvnwgsvzMYbb5zbbrstxxxzTGbNmpUzzjgjSTJ37tx86EMfyvPPP5+TTz45e+65Z+bNm5d77rknM2fOzODBg5ead86cOUmSM844IxtvvHHmzZuXX/ziFxk2bFjuvPPO92S5p5tvvjl/+MMfcvrpp2fjjTdO//79V/hzvfTSSxk6dGi6du2ayy67LBtttFF+9KMf5Stf+coq53n99dczdOjQzJgxI1/72tey00475cknn8zpp5+exx9/PL///e9Tq9XywAMP5JBDDskhhxySM888M926dcvUqVNz1113Jclyf44POOCAtLW15fzzz8/mm2+eWbNm5f7778+rr7767r5QAAAAAKqlYLnGjx9fJFni1djYWFx22WUdxl5xxRVFkuLGG2/ssP+8884rkhS33357+76f/vSnRZLiu9/9bnH66acXnTp16nC8KIpi9OjRRZLi4osv7rD/m9/8ZpGkuPfee9v3NTc3F6NHj27fPuWUU4okxUMPPdThvUcddVRRq9WKZ555piiKonj55ZeLJMUZZ5yxQt/Hip53caYDDzxwhc7bs2fPDvkXO/TQQ4vGxsZi2rRpHfaPGjWq6NGjR/Hqq68WRVEUDz/8cJGkGD9+/HKvtXDhwmLevHlFz549O3y3EyZMKJIUEyZMWKHMRbH6vo/FbrrppiJJ8dhjjy1zzJQpU4okxYABA4p//vOf7ftbW1uLPn36FPvtt1/7vo985CPFZpttVrS0tHQ4x1e+8pWiW7duxZw5c4qiKIqzzz67SFLccccd75hveT87CxcuLN58881ixIgRxUEHHbRS713W9ZqamtpzLrain+vkk08uarXaEt/nyJEjl/izf/vfqcWGDh1aDB06tH173LhxRadOnYqHH364w7jFf3a/+c1viqIoim9/+9tFkvaf2aVZ1s/xrFmz2u8XAAAAAKzbLMWzEq677ro8/PDDefjhh/Pb3/42o0ePztFHH51LL720fcxdd92Vnj175tOf/nSH9y5ezuOty6J89rOfzVFHHZX//u//zjnnnJOvfe1rGTly5FKv/YUvfKHD9uJ/JTBhwoRl5r3rrruy3XbbZY899lgiS1EU7bOEV9bqOu87XW/EiBEZOHDgEtd7/fXX88ADDyz3HPPmzcvJJ5+crbbaKl26dEmXLl2y3nrr5bXXXsvTTz/9rvOtzu9jl112SUNDQ770pS/l2muvzd/+9rdljj344IPTrVu39u1evXrlYx/7WO655560tbXljTfeyJ133pmDDjooPXr0yMKFC9tfBxxwQN6/rOXEAAA270lEQVR44408+OCDSZLf/va32XrrrbPffvutdOYrrrgiu+66a7p165YuXbqka9euufPOO9/1d73Yvvvumw022KB9e2U+14QJE7L99ttn55137nDOt/7Lm5V16623Zocddsguu+zS4dof+chHOizvs3iZnc9+9rO58cYb8/e//32Fr9GnT59sueWWueCCC3LRRRdl0qRJ7Us9AQAAALBuUeyvhG233Ta77757dt999+y///658sor8+EPfzgnnXRS+1IYs2fPzsYbb5xardbhvf3790+XLl0ye/bsDvv/8z//M2+++Wa6dOmSY445ZqnX7dKlS/r27dth38Ybb9x+vWWZPXv2Upd6GTBgwHLf+05W13lX5/U+//nP59JLL80RRxyR2267LX/84x/z8MMPZ8MNN8w///nP0vO9ky233DK///3v079//xx99NHZcssts+WWW+biiy9eYuzin4u371uwYEHmzZuX2bNnZ+HChfnf//3fdO3atcPrgAMOSJLMmjUryb+WGFq8BMzKuOiii3LUUUdlzz33zM9+9rM8+OCDefjhh7P//vu/6+96sbd/3yvzuRb/HX27pe1bUS+99FImT568xLV79eqVoijar73PPvvk5ptvzsKFC3P44Ydns802yw477JAbbrhhudeo1Wq5884785GPfCTnn39+dt1112y44YY55phjMnfu3FXODgAAAED1WGP/Xdppp51y22235dlnn80ee+yRvn375qGHHkpRFB3K/X/84x9ZuHBhh7XcX3vttRx22GHZeuut89JLL+WII47IL3/5yyWusXDhwsyePbtDuf/iiy8myRKF/1v17ds3M2fOXGL/Cy+8kCSrvK786jrv6rpeS0tLbr311pxxxhk55ZRT2vfPnz+/fT34MvOtiL333jt777132tra8sgjj+R///d/c+yxx2ajjTbKoYce2j5u8c/FW7344otpaGjIeuutl65du6Zz58457LDDcvTRRy/1WoMGDUryr+cszJgxY6WzXn/99Rk2bFguv/zyDvvfy/L57b8422CDDVb4c/Xt23eZ39PbdevWrf2h1281a9asDn+u/fr1S/fu3XPNNdcs9dpvHfuJT3win/jEJzJ//vw8+OCDGTduXD7/+c9niy22aH8OwrI0Nzfn6quvTpI8++yzufHGG3PmmWdmwYIFueKKK97xvQAAAACsPczYf5cee+yxJP/vYbMjRozIvHnzcvPNN3cYd91117UfX+zII4/MtGnT8vOf/zxXX311fvWrX+U73/nOUq/zox/9qMP2j3/84yR5xweRjhgxIk899VQeffTRJbLUarUMHz48SdLY2JgkKzybekXPu7IaGxuXmmHEiBG566672ovyt16vR48e+fd///f29ydLfo5arZaiKNqPL/aDH/wgbW1tq5T17flWx/exNJ07d86ee+6Z733ve0myxDV//vOf54033mjfnjt3bm655Zbsvffe6dy5c3r06JHhw4dn0qRJ2Wmnndr/BcpbX4t/WTRq1Kg8++yzK72UUK1WW+K7njx58gotmbSqVuZzDR8+PE8++WT+7//9vx3Osfjv1FttscUWmTx5cod9zz77bJ555pkO+z760Y/mueeeS9++fZd67S222GKJczc2Nmbo0KE577zzkiSTJk1q358s/+/j1ltvna9//evZcccdl/g5AAAAAGDtZsb+SnjiiSeycOHCJP9azuPnP/957rjjjhx00EHts4EPP/zwfO9738vo0aPz/PPPZ8cdd8y9996bb33rWznggAPa1yv/wQ9+kOuvvz7jx4/P9ttvn+233z5f+cpXcvLJJ+eDH/xgh/XaGxoacuGFF2bevHn5wAc+kPvvvz/nnHNORo0alQ996EPLzHvcccfluuuuy4EHHpizzz47zc3N+fWvf53LLrssRx11VLbeeusk/1qHvbm5Ob/85S8zYsSI9OnTJ/369VtqGbky511ZO+64YyZOnJhbbrklm2yySXr16pVtttkmZ5xxRm699dYMHz48p59+evr06ZMf/ehH+fWvf53zzz8/TU1NSf61ZE337t3zox/9KNtuu23WW2+9DBgwIAMGDMg+++yTCy64oP1z3X333bn66quz/vrrr1LWNfF9LHbFFVfkrrvuyoEHHpjNN988b7zxRvvM8Levf9+5c+eMHDkyxx9/fBYtWpTzzjsvra2tOeuss9rHXHzxxfnQhz6UvffeO0cddVS22GKLzJ07N3/9619zyy23tBf5xx57bH7605/mE5/4RE455ZTsscce+ec//5m77747H/3oR5f5C4uPfvSj+cY3vpEzzjgjQ4cOzTPPPJOzzz47gwYNav/7szqszOe65pprcuCBB+acc87JRhttlB/96Ef585//vMQ5DzvssPzHf/xHvvzlL+dTn/pUpk6dmvPPP7/9F3mLHXvssfnZz36WffbZJ8cdd1x22mmnLFq0KNOmTcvtt9+eE044IXvuuWdOP/30zJgxIyNGjMhmm22WV199NRdffHG6du2aoUOHJln2z/GsWbPyla98JZ/5zGfyvve9Lw0NDbnrrrsyefLkDv8SBQAAAIB1QJlP7q2K8ePHF0k6vJqamopddtmluOiii4o33nijw/jZs2cXRx55ZLHJJpsUXbp0KZqbm4tTTz21fdzkyZOL7t27F6NHj+7wvjfeeKPYbbfdii222KJ45ZVXiqIoitGjRxc9e/YsJk+eXAwbNqzo3r170adPn+Koo44q5s2b1+H9zc3NS5xz6tSpxec///mib9++RdeuXYttttmmuOCCC4q2trYO437/+98X73//+4vGxsYiyRLnebsVPW9zc3Nx4IEHvuO5FnvssceKD37wg0WPHj2KJMXQoUPbjz3++OPFxz72saKpqaloaGgodt5552L8+PFLnOOGG24oBg8eXHTt2rVIUpxxxhlFURTFjBkzik996lPFBhtsUPTq1avYf//9iyeeeGKJ72zChAlFkmLChAkrlHl1fh+LPfDAA8VBBx1UNDc3F42NjUXfvn2LoUOHFr/61a/ax0yZMqVIUpx33nnFWWedVWy22WZFQ0ND8f73v7+47bbbljjnlClTiv/8z/8sNt1006Jr167FhhtuWAwZMqQ455xzOox75ZVXiq9+9avF5ptvXnTt2rXo379/ceCBBxZ//vOf28e89XsuiqKYP39+ceKJJxabbrpp0a1bt2LXXXctbr755mL06NFFc3Nzh/O//b0rIklx9NFHL/XYin6up556qhg5cmTRrVu3ok+fPsXYsWOLX/7yl0v82S9atKg4//zzi3/7t38runXrVuy+++7FXXfdVQwdOrTDz2dRFMW8efOKr3/968U222xTNDQ0FE1NTcWOO+5YHHfcccWLL75YFEVR3HrrrcWoUaOKTTfdtGhoaCj69+9fHHDAAcUf/vCHDuda2s/xSy+9VHzxi18sBg8eXPTs2bNYb731ip122qn4zne+UyxcuHClvkMAAAAAqq1WFEVRxi8UWDFf/OIXc9NNN2XevHllR6GOPf/88xk0aFAuuOCCnHjiiWXHqaSJEydm+PDhmTBhwjsucQUAAAAAZbPGPgAAAAAAVIg19mEZiqJY7sN1O3funFqttsrXaGtryzv9o5larZbOnTuv8vmrZHnr73fq1CmdOvldJAAAAABYigeWYfHSLO9k/Pjx+eIXv7jK19hiiy0yderUZR4fOnRoJk6cuMrnr5Ll/YJk9OjR+eEPf7hmwgAAAABAHTNjH5Zht912y8MPP/yOYwYNGvSurnHLLbdk/vz5yzzeq1evd3X+Klned92vX781lAQAAAAA6psZ+wAAAAAAUCFm7C/FokWL8sILL6RXr17vav10gDWlKIrMnTs3AwYM8CwCAAAAgLWcYn8pXnjhhQwcOLDsGAArbfr06dlss83KjgEAAADAaqTYX4rF65pPnz49vXv3LjkNwPK1trZm4MCB69RzGQAAAADWVYr9pVi8/E7v3r0V+0ClWD4MAAAAYO1nIWYAAAAAAKgQxT4AAAAAAFSIYh8AAAAAACpEsQ8AAAAAABWi2AcAAAAAgApR7AMAAAAAQIUo9gEAAAAAoEIU+wAAAAAAUCGKfQAAAAAAqBDFPgAAAAAAVIhiHwAAAAAAKkSxDwAAAAAAFaLYBwAAAACAClHswxryk5/8JMOGDWt//eQnPyk7EgAAAABQQWtlsX/mmWemVqt1eG288cZlx2IdNmzYsFxxxRUd9l1xxRUZNmxYOYEAAAAAgMpaK4v9JNl+++0zc+bM9tfjjz9ediTWUW8v7/v27fuOxwEAAAAA3kmXsgOsLl26dDFLn9K9dbmdk08+OaNGjWrf/u1vf5vzzjuvfdyhhx66xvMBAAAAANWz1s7Y/8tf/pIBAwZk0KBBOfTQQ/O3v/1tmWPnz5+f1tbWDi94L7x1+Z23lvpv3377Mj0AAAAAAMuyVhb7e+65Z6677rrcdttt+f73v58XX3wxQ4YMyezZs5c6fty4cWlqamp/DRw4cA0nZm339uV3Flt//fXXbBAAAAAAoPLWymJ/1KhR+dSnPpUdd9wx++23X379618nSa699tqljj/11FPT0tLS/po+ffqajMs6YFm/VHr11VfXbBAAAAAAoPLWymL/7Xr27Jkdd9wxf/nLX5Z6vLGxMb179+7wgvfCkUce2f7/v/3tbzsce+v2W8cBAAAAALyTWlEURdkhVrf58+dnyy23zJe+9KWcfvrpyx3f2tqapqamtLS0KPl514YNG9Zhe/31119ipv7EiRPXWB7WTu5bAAAAAOuOtXLG/oknnpi77747U6ZMyUMPPZRPf/rTaW1tzejRo8uOxjro7aW9Uh8AAAAAeDfWymJ/xowZ+dznPpdtttkmBx98cBoaGvLggw+mubm57GisoyZOnLjEcjtHHnmkUh8AAAAAWGnrxFI8K8uSFkDVuG8BAAAArDvWyhn7AAAAAACwtlLsAwAAAABAhSj2AQAAAACgQhT7AAAAAABQIYp9AAAAAACoEMU+AAAAAABUiGIfAAAAAAAqRLEPAAAAAAAVotgHAAAAAIAKUewDAAAAAECFKPYBAAAAAKBCFPsAAAAAAFAhin0AAAAAAKgQxT4AAAAAAFSIYh8AAAAAACpEsQ8AAAAAABWi2AcAAAAAgApR7AMAAAAAQIUo9gEAAAAAoEIU+wAAAAAAUCGKfQAAAAAAqBDFPgAAAAAAVIhiHwAAAAAAKkSxDwAAAAAAFaLYBwAAAACAClHsAwAAAABAhSj2AQAAAACgQhT7AAAAAABQIYp9AAAAAACoEMU+AAAAAABUiGIfAAAAAAAqRLEPAAAAAAAVotgHAAAAAIAKUewDAAAAAECFKPYBAAAAAKBCFPsAAAAAAFAhin0AAAAAAKgQxT4AAAAAAFSIYh8AAAAAACpEsQ8AAAAAABWi2AcAAAAAgApR7AMAAAAAQIUo9gEAAAAAoEIU+wAAAAAAUCGKfQAAAAAAqBDFPgAAAAAAVIhiHwAAAAAAKkSxDwAAAAAAFaLYBwAAAACAClHsAwAAAABAhSj2AQAAAACgQhT7AAAAAABQIYp9AAAAAACoEMU+AAAAAABUiGIfAAAAAAAqRLEPAAAAAAAVotgHAAAAAIAKUewDAAAAAECFKPYBAAAAAKBCFPsAAAAAAFAhin0AAAAAAKgQxT4AAAAAAFSIYh8AAAAAACpEsQ8AAAAAABWi2AcAAAAAgApR7AMAAAAAQIUo9gEAAAAAoEIU+wAAAAAAUCGKfQAAAAAAqBDFPgAAAAAAVIhiHwAAAAAAKkSxDwAAAAAAFaLYBwAAAACACulSdgBYVwwbNmyJfRMnTlzjOQAAAACAalsnZuyPGzcutVotxx57bNlRWEctrdR/p/0AAAAAAMuy1hf7Dz/8cK666qrstNNOZUdhHbW88l65DwAAAACsjLW62J83b16+8IUv5Pvf/3422GCDsuOwDnp7aT9x4sT21zuNAwAAAABYlrW62D/66KNz4IEHZr/99nvHcfPnz09ra2uHF7zX3l7mW18fAAAAAFgVa+3Dc3/yk5/k0UcfzcMPP7zcsePGjctZZ521BlIBAAAAAMC7s1bO2J8+fXq++tWv5vrrr0+3bt2WO/7UU09NS0tL+2v69OlrICUAAAAAAKy8tbLY/9Of/pR//OMf2W233dKlS5d06dIld999dy655JJ06dIlbW1tHcY3Njamd+/eHV7wXnv7OvrW1QcAAAAAVkWtKIqi7BDvtblz52bq1Kkd9o0ZMyaDBw/OySefnB122OEd39/a2pqmpqa0tLQo+XnXVqTAt94+75b7FgAAAMC6Y61cY79Xr15LlPc9e/ZM3759l1vqw3tt4sSJ71juK/UBAAAAgJWxVi7FA/VmWeW9Uh8AAAAAWFlr5VI875YlLYCqcd8CAAAAWHeYsQ8AAAAAABWi2AcAAAAAgApR7AMAAAAAQIUo9gEAAAAAoEIU+wAAAAAAUCGKfQAAAAAAqBDFPgAAAAAAVIhiHwAAAAAAKkSxDwAAAAAAFaLYBwAAAACAClHsAwAAAABAhSj2AQAAAACgQhT7AAAAAABQIYp9AAAAAACoEMU+AAAAAABUiGIfAAAAAAAqRLEPAAAAAAAVotgHAAAAAIAKUewDAAAAAECFKPYBAAAAAKBCFPsAAAAAAFAhin0AAAAAAKgQxT4AAAAAAFSIYh8AAAAAACpEsQ8AAAAAABWi2AcAAAAAgApR7AMAAAAAQIUo9gEAAAAAoEIU+wAAAAAAUCGKfQAAAAAAqBDFPgAAAAAAVIhiHwAAAAAAKkSxDwAAAAAAFaLYBwAAAACAClHsAwAAAABAhdR1sd/W1pbHHnssr7zyStlRAAAAAACgLtRVsX/sscfm6quvTvKvUn/o0KHZddddM3DgwEycOLHccAAAAAAAUAfqqti/6aabsvPOOydJbrnllkyZMiV//vOfc+yxx+a0004rOR0AAAAAAJSvror9WbNmZeONN06S/OY3v8lnPvOZbL311hk7dmwef/zxktMBAAAAAED56qrY32ijjfLUU0+lra0tv/vd77LffvslSV5//fV07ty55HQAAAAAAFC+LmUHeKsxY8bks5/9bDbZZJPUarWMHDkySfLQQw9l8ODBJacDAAAAAIDy1VWxf+aZZ2aHHXbI9OnT85nPfCaNjY1Jks6dO+eUU04pOR0AAAAAAJSvror96667Loccckh7ob/Y5z73ufzkJz8pKRUAAAAAANSPWlEURdkhFuvcuXNmzpyZ/v37d9g/e/bs9O/fP21tbWskR2tra5qamtLS0pLevXuvkWsCvBvuWwAAAADrjrp6eG5RFKnVakvsnzFjRpqamkpIBAAAAAAA9aUuluJ5//vfn1qtllqtlhEjRqRLl/8Xq62tLVOmTMn+++9fYkIAAAAAAKgPdVHsf/KTn0ySPPbYY/nIRz6S9dZbr/1YQ0NDtthii3zqU58qKR0AAAAAANSPuij2zzjjjCTJFltskUMPPXSJh+cCAAAAAAD/Uldr7O+77755+eWX27f/+Mc/5thjj81VV11VYioAAAAAAKgfdVXsf/7zn8+ECROSJC+++GL222+//PGPf8zXvva1nH322SWnAwAAAACA8tVVsf/EE09kjz32SJLceOON2XHHHXP//ffnxz/+cX74wx+WGw4AAAAAAOpAXRX7b775Zvv6+r///e/z8Y9/PEkyePDgzJw5s8xoAAAAAABQF+qq2N9+++1zxRVX5A9/+EPuuOOO7L///kmSF154IX379i05HQAAAAAAlK+uiv3zzjsvV155ZYYNG5bPfe5z2XnnnZMkv/rVr9qX6AEAAAAAgHVZrSiKouwQb9XW1pbW1tZssMEG7fuef/759OjRI/37918jGVpbW9PU1JSWlpb07t17jVwT4N1w3wIAAABYd9TVjP0kKYoif/rTn3LllVdm7ty5SZKGhob06NGj5GQAAAAAAFC+LmUHeKupU6dm//33z7Rp0zJ//vyMHDkyvXr1yvnnn5833ngjV1xxRdkRAQAAAACgVHU1Y/+rX/1qdt9997zyyivp3r17+/6DDjood955Z4nJAAAAAACgPtTVjP1777039913XxoaGjrsb25uzt///veSUgEAAAAAQP2oqxn7ixYtSltb2xL7Z8yYkV69epWQCAAAAAAA6ktdFfsjR47Md7/73fbtWq2WefPm5YwzzsgBBxxQXjAAAAAAAKgTtaIoirJDLPbCCy9k+PDh6dy5c/7yl79k9913z1/+8pf069cv99xzT/r3779GcrS2tqapqSktLS3p3bv3GrkmwLvhvgUAAACw7qirNfYHDBiQxx57LDfccEMeffTRLFq0KGPHjs0XvvCFDg/TBQAAAACAdVVdzdivF2a+AlXjvgUAAACw7qirGfvXXXfdOx4//PDD11ASAAAAAACoT3U1Y3+DDTbosP3mm2/m9ddfT0NDQ3r06JE5c+askRxmvgJV474FAAAAsO7oVHaAt3rllVc6vObNm5dnnnkmH/rQh3LDDTeUHQ8AAAAAAEpXV8X+0rzvfe/Lueeem69+9atlRwEAAAAAgNLVfbGfJJ07d84LL7xQdgwAAAAAAChdXT0891e/+lWH7aIoMnPmzFx66aX54Ac/WFIqAAAAAACoH3VV7H/yk5/ssF2r1bLhhhtm3333zYUXXlhOKAAAAAAAqCN1VewvWrSo7AgAAAAAAFDX6qrYh7XZsGHDltg3ceLENZ4DAAAAAKi2uir2jz/++BUee9FFFy3z2OWXX57LL788zz//fJJk++23z+mnn55Ro0a924iwSpZW6i/er9wHAAAAAFZGXRX7kyZNyqOPPpqFCxdmm222SZI8++yz6dy5c3bdddf2cbVa7R3Ps9lmm+Xcc8/NVlttlSS59tpr84lPfCKTJk3K9ttvv/o+ACzFskr9tx5X7gMAAAAAK6pWFEVRdojFLrrookycODHXXnttNthggyTJK6+8kjFjxmTvvffOCSecsMrn7tOnTy644IKMHTt2uWNbW1vT1NSUlpaW9O7de5WvCW8v9d9a4L/TMVhZ7lsAAAAA645OZQd4qwsvvDDjxo1rL/WTZIMNNsg555yTCy+8cJXO2dbWlp/85Cd57bXXstdeey11zPz589Pa2trhBe+1txf3inwAAAAAYFXUVbHf2tqal156aYn9//jHPzJ37tyVOtfjjz+e9dZbL42NjTnyyCPzi1/8Itttt91Sx44bNy5NTU3tr4EDB65SfgAAAAAAWN3qqtg/6KCDMmbMmNx0002ZMWNGZsyYkZtuuiljx47NwQcfvFLn2mabbfLYY4/lwQcfzFFHHZXRo0fnqaeeWurYU089NS0tLe2v6dOnvxcfBwAAAAAA3nN1tcb+66+/nhNPPDHXXHNN3nzzzSRJly5dMnbs2FxwwQXp2bPnKp97v/32y5Zbbpkrr7xyuWOtVc17xRr7rCnuWwAAAADrjroq9hd77bXX8txzz6Uoimy11VbvqtBfbMSIERk4cGB++MMfLnesgoz30tsL/KVR6vNuuW8BAAAArDvqaimexWbOnJmZM2dm6623Ts+ePbOyv3v42te+lj/84Q95/vnn8/jjj+e0007LxIkT84UvfGE1JYZlW15pr9QHAAAAAFZGXRX7s2fPzogRI7L11lvngAMOyMyZM5MkRxxxRE444YQVPs9LL72Uww47LNtss01GjBiRhx56KL/73e8ycuTI1RUd3tGyynulPgAAAACwsrqUHeCtjjvuuHTt2jXTpk3Ltttu277/kEMOyXHHHZcLL7xwhc5z9dVXr66IsMqU+AAAAADAe6Guiv3bb789t912WzbbbLMO+9/3vvdl6tSpJaUCAAAAAID6UVdL8bz22mvp0aPHEvtnzZqVxsbGEhIBAAAAAEB9qatif5999sl1113Xvl2r1bJo0aJccMEFGT58eInJAAAAAACgPtTVUjwXXHBBhg0blkceeSQLFizISSedlCeffDJz5szJfffdV3Y8AAAAAAAoXV3N2N9uu+0yefLk7LHHHhk5cmRee+21HHzwwZk0aVK23HLLsuMBAAAAAEDp6mbG/ptvvpkPf/jDufLKK3PWWWeVHQcAAAAAAOpS3czY79q1a5544onUarWyowAAAAAAQN2qm2I/SQ4//PBcffXVZccAAAAAAIC6VTdL8STJggUL8oMf/CB33HFHdt999/Ts2bPD8YsuuqikZAAAAAAAUB/qqth/4oknsuuuuyZJnn322Q7HLNEDAAAAAAB1VuxPmDBhhcbNmDEjAwYMSKdOdbWSEAAAAAAArHaVbMa32267PP/882XHAAAAAACANa6SxX5RFGVHAAAAAACAUlSy2AcAAAAAgHWVYh8AAAAAACpEsQ8AAAAAABVSyWK/VquVHQEAAAAAAEpRyWLfw3MBAAAAAFhXdSk7wKp46qmnMmDAgLJjAAAAAADAGld6sX/wwQev8Nif//znSZKBAweurjgAAAAAAFDXSi/2m5qayo4AAAAAAACVUXqxP378+LIjAAAAAABAZVTy4bkAAAAAALCuKn3G/tvddNNNufHGGzNt2rQsWLCgw7FHH320pFQAAAAAAFAf6mrG/iWXXJIxY8akf//+mTRpUvbYY4/07ds3f/vb3zJq1Kiy4wEAAAAAQOnqqti/7LLLctVVV+XSSy9NQ0NDTjrppNxxxx055phj0tLSUnY8AAAAAAAoXV0V+9OmTcuQIUOSJN27d8/cuXOTJIcddlhuuOGGMqMBAAAAAEBdqKtif+ONN87s2bOTJM3NzXnwwQeTJFOmTElRFGVGAwAAAACAulBXxf6+++6bW265JUkyduzYHHfccRk5cmQOOeSQHHTQQSWnAwAAAACA8tWKOpoKv2jRoixatChdunRJktx444259957s9VWW+XII49MQ0PDGsnR2tqapqamtLS0pHfv3mvkmgDvhvsWAAAAwLqjror9eqEgA6rGfQsAAABg3dGl7ACTJ0/ODjvskE6dOmXy5MnvOHannXZaQ6kAAAAAAKA+lV7s77LLLnnxxRfTv3//7LLLLqnVakt9UG6tVktbW1sJCQEAAAAAoH6UXuxPmTIlG264Yfv/AwAAAAAAy1Z6sd/c3LzU/wcAAAAAAJbUqewAbzVu3Lhcc801S+y/5pprct5555WQCAAAAAAA6ktdFftXXnllBg8evMT+7bffPldccUUJiQAAAAAAoL7UVbH/4osvZpNNNlli/4YbbpiZM2eWkAgAAAAAAOpLXRX7AwcOzH333bfE/vvuuy8DBgwoIREAAAAAANSX0h+e+1ZHHHFEjj322Lz55pvZd999kyR33nlnTjrppJxwwgklpwMAAAAAgPLVVbF/0kknZc6cOfnyl7+cBQsWJEm6deuWk08+OaeeemrJ6QAAAAAAoHy1oiiKskO83bx58/L000+ne/fued/73pfGxsY1ev3W1tY0NTWlpaUlvXv3XqPXBlgV7lsAAAAA6466WmN/sRdffDFz5szJlltumcbGxtTh7x4AAAAAAKAUdVXsz549OyNGjMjWW2+dAw44IDNnzkzyr7X3rbEPAAAAAAB1Vuwfd9xx6dq1a6ZNm5YePXq07z/kkEPyu9/9rsRkAAAAAABQH+rq4bm33357brvttmy22WYd9r/vfe/L1KlTS0oFAAAAAAD1o65m7L/22msdZuovNmvWrDX+AF0AAAAAAKhHdVXs77PPPrnuuuvat2u1WhYtWpQLLrggw4cPLzEZAAAAAADUh7paiueCCy7IsGHD8sgjj2TBggU56aST8uSTT2bOnDm57777yo4HAAAAAAClq6sZ+9ttt10mT56cPfbYIyNHjsxrr72Wgw8+OJMmTcqWW25ZdjwAAAAAAChdrSiKouwQ9aa1tTVNTU1paWlJ7969y44DsFzuWwAAAADrjrpaiidJXnnllVx99dV5+umnU6vVsu2222bMmDHp06dP2dEAAAAAAKB0dbUUz913351BgwblkksuySuvvJI5c+bkkksuyaBBg3L33XeXHQ8AAAAAAEpXV0vx7LDDDhkyZEguv/zydO7cOUnS1taWL3/5y7nvvvvyxBNPrJEclrQAqsZ9CwAAAGDdUVcz9p977rmccMIJ7aV+knTu3DnHH398nnvuuRKTAQAAAABAfairYn/XXXfN008/vcT+p59+OrvsssuaDwQAAAAAAHWmrh6ee8wxx+SrX/1q/vrXv+bf//3fkyQPPvhgvve97+Xcc8/N5MmT28futNNOZcUEAAAAAIDS1NUa+506vfM/IKjVaimKIrVaLW1tbasth7Wqgapx3wIAAABYd9TVjP0pU6aUHQEAAAAAAOpaXRX7zc3NZUcAAAAAAIC6VlcPz7322mvz61//un37pJNOyvrrr58hQ4Zk6tSpJSYDAAAAAID6UFfF/re+9a107949SfLAAw/k0ksvzfnnn59+/frluOOOKzkdAAAAAACUr66W4pk+fXq22mqrJMnNN9+cT3/60/nSl76UD37wgxk2bFi54QAAAAAAoA7U1Yz99dZbL7Nnz06S3H777dlvv/2SJN26dcs///nPMqMBAAAAAEBdqKsZ+yNHjswRRxyR97///Xn22Wdz4IEHJkmefPLJbLHFFuWGAwAAAACAOlBXM/a/973vZa+99srLL7+cn/3sZ+nbt2+S5E9/+lM+97nPlZwOAAAAAADKVyuKoig7xMr68pe/nLPPPjv9+vVbLedvbW1NU1NTWlpa0rt379VyDYD3kvsWAAAAwLqjrmbsr6jrr78+ra2tZccAAAAAAIA1rpLFfgX/kQEAAAAAALwnKlnsAwAAAADAukqxDwAAAAAAFaLYBwAAAACAClHsAwAAAABAhZRe7B988MFpbW1Nklx33XWZP3/+ct/zH//xH+ndu/fqjgYAAAAAAHWn9GL/1ltvzWuvvZYkGTNmTFpaWpb7nssvvzz9+vVb5vFx48blAx/4QHr16pX+/fvnk5/8ZJ555pn3LDMAAAAAAJSlS9kBBg8enFNPPTXDhw9PURS58cYblzkb//DDD1+hc9599905+uij84EPfCALFy7Maaedlg9/+MN56qmn0rNnz/cyPgAAAAAArFG1oiiKMgPcf//9Of744/Pcc89lzpw56dWrV2q12hLjarVa5syZs0rXePnll9O/f//cfffd2WeffZY7vrW1NU1NTWlpabHkD1AJ7lsAAAAA647SZ+wPGTIkDz74YJKkU6dOefbZZ9O/f//39BqLl/fp06fPUo/Pnz+/w9r+i9f8Z/V74403Mm3atLJjsAZsvvnm6datW9kxAAAAAKDySi/232rKlCnZcMMN39NzFkWR448/Ph/60Ieyww47LHXMuHHjctZZZ72n12XFTJs2LV/60pfKjsEacNVVV2XrrbcuOwYAAAAAVF7pS/G83auvvpqrr746Tz/9dGq1WrbddtuMHTs2TU1Nq3S+o48+Or/+9a9z7733ZrPNNlvqmKXN2B84cKAlLdaAdW3G/tSpU/PNb34zp512Wpqbm8uOs0aZsb96WYoHAAAAYN1RVzP2H3nkkXzkIx9J9+7ds8cee6QoinznO9/Jt771rdx+++3ZddddV+p8//Vf/5Vf/epXueeee5ZZ6idJY2NjGhsb3218VkG3bt3WyVnczc3N6+TnBgAAAADevboq9o877rh8/OMfz/e///106fKvaAsXLswRRxyRY489Nvfcc88KnacoivzXf/1XfvGLX2TixIkZNGjQ6owNAAAAAABrTF0V+4888kiHUj9JunTpkpNOOim77777Cp/n6KOPzo9//OP88pe/TK9evfLiiy8mSZqamtK9e/f3PDcAAAAAAKwpncoO8Fa9e/de6nrr06dPT69evVb4PJdffnlaWloybNiwbLLJJu2vn/70p+9lXAAAAAAAWOPqasb+IYcckrFjx+bb3/52hgwZklqtlnvvvTf//d//nc997nMrfJ46ex4wAAAAAAC8Z+qq2P/2t7+dWq2Www8/PAsXLkySdO3aNUcddVTOPffcktMBAAAAAED56qrYb2hoyMUXX5xx48blueeeS1EU2WqrrdKjR48O42bMmJEBAwakU6e6WkkIAAAAAABWu7oq9hfr0aNHdtxxx2Ue32677fLYY4/l3/7t39ZgKgAAAAAAKF8lp7xbQx8AAAAAgHVVJYt9AAAAAABYVyn2AQAAAACgQhT7AAAAAABQIZUs9mu1WtkRAAAAAACgFJUs9j08FwAAAACAdVWXsgOsiqeeeioDBgwoOwYAAAAAAKxxpRf7Bx988AqP/fnPf54kGThw4OqKAwAAAAAAda30Yr+pqansCAAAAAAAUBmlF/vjx48vOwIAAAAAAFRGJR+eCwAAAAAA66rSZ+y/3U033ZQbb7wx06ZNy4IFCzoce/TRR0tKBQAAAAAA9aGuZuxfcsklGTNmTPr3759JkyZljz32SN++ffO3v/0to0aNKjseAAAAAACUrq6K/csuuyxXXXVVLr300jQ0NOSkk07KHXfckWOOOSYtLS1lxwMAAAAAgNLVVbE/bdq0DBkyJEnSvXv3zJ07N0ly2GGH5YYbbigzGgAAAAAA1IW6KvY33njjzJ49O0nS3NycBx98MEkyZcqUFEVRZjQAAAAAAKgLdVXs77vvvrnllluSJGPHjs1xxx2XkSNH5pBDDslBBx1UcjoAAAAAAChfl7IDvNVVV12VRYsWJUmOPPLI9OnTJ/fee28+9rGP5cgjjyw5HQAAAAAAlK+uiv0ZM2Zk4MCB7duf/exn89nPfjZFUWT69OnZfPPNS0wHAAAAAADlq6uleAYNGpSXX355if1z5szJoEGDSkgEAAAAAAD1pa6K/aIoUqvVltg/b968dOvWrYREAAAAAABQX+piKZ7jjz8+SVKr1fI///M/6dGjR/uxtra2PPTQQ9lll11KSgcAAAAAAPWjLor9SZMmJfnXjP3HH388DQ0N7ccaGhqy884758QTTywrHgAAAAAA1I26KPYnTJiQJBkzZkwuvvji9O7du+REAAAAAABQn+qi2F9s/Pjx7f8/Y8aM1Gq1bLrppiUmAgAAAACA+lJXD89dtGhRzj777DQ1NaW5uTmbb7551l9//XzjG9/IokWLyo4HAAAAAAClq6sZ+6eddlquvvrqnHvuufngBz+Yoihy33335cwzz8wbb7yRb37zm2VHBAAAAACAUtVVsX/ttdfmBz/4QT7+8Y+379t5552z6aab5stf/rJiHwAAAACAdV5dLcUzZ86cDB48eIn9gwcPzpw5c0pIBAAAAAAA9aWuiv2dd945l1566RL7L7300uy8884lJAIAAAAAgPpSV0vxnH/++TnwwAPz+9//PnvttVdqtVruv//+TJ8+Pb/5zW/KjgcAAAAAAKWrqxn7gwYNyrPPPpuDDjoor776aubMmZODDz44zzzzTJqbm8uOBwAAAAAApaurGfuDBg3KzJkzl3hI7uzZszNw4MC0tbWVlAwAAAAAAOpDXc3YL4piqfvnzZuXbt26reE0AAAAAABQf+pixv7xxx+fJKnVajn99NPTo0eP9mNtbW156KGHsssuu5SUDgAAAAAA6kddFPuTJk1K8q8Z+48//ngaGhrajzU0NGTnnXfOiSeeWFY8AAAAAACoG3VR7E+YMCFJMmbMmFx88cXp3bt3yYkAAAAAAKA+1UWxv9j48ePLjgAAAAAAAHWtrh6eCwAAAAAAvDPFPgAAAAAAVIhiHwAAAAAAKkSxDwAAAAAAFaLYBwAAAACAClHsAwAAAABAhSj2AQAAAACgQhT7AAAAAABQIYp9AAAAAACoEMU+AAAAAABUiGIfAAAAAAAqRLEPAAAAAAAVotgHAAAAAIAKUewDAAAAAECFKPYBAAAAAKBCFPsAAAAAAFAhin0AAAAAAKgQxT4AAAAAAFSIYh8AAAAAACpEsQ8AAAAAABWi2AcAAAAAgApR7AMAAAAAQIUo9gEAAAAAoEIU+wAAAAAAUCGKfQAAAAAAqBDFPgAAAAAAVIhiHwAAAAAAKkSxDwAAAAAAFaLYBwAAAACAClHsAwAAAABAhSj2AQAAAACgQhT7AAAAAABQIYp9AAAAAACokLWy2L/nnnvysY99LAMGDEitVsvNN99cdiQAAAAAAHhPrJXF/muvvZadd945l156adlRAAAAAADgPdWl7ACrw6hRozJq1KgVHj9//vzMnz+/fbu1tXV1xFphL730UlpaWkrNwOoxderUDv9l7dTU1JSNNtqo7BgAAAAArKXWymJ/ZY0bNy5nnXVW2TGS/KvU/4/DDs+bC+YvfzCV9c1vfrPsCKxGXRsac/3/d51yHwAAAIDVQrGf5NRTT83xxx/fvt3a2pqBAweWkqWlpSVvLpiff/7b0Czq1lRKBmDVdXqjJfnb3WlpaVHsAwAAALBaKPaTNDY2prGxsewYHSzq1pRFPfuVHQMAAAAAgDqzVj48FwAAAAAA1laKfQAAAAAAqJC1cimeefPm5a9//Wv79pQpU/LYY4+lT58+2XzzzUtMBgAAAAAA785aWew/8sgjGT58ePv24gfjjh49Oj/84Q9LSgUAAAAAAO/eWlnsDxs2LEVRlB0DAAAAAADec9bYBwAAAACAClHsAwAAAABAhSj2AQAAAACgQhT7AAAAAABQIYp9AAAAAACoEMU+AAAAAABUiGIfAAAAAAAqRLEPAAAAAAAVotgHAAAAAIAKUewDAAAAAECFKPYBAAAAAKBCFPsAAAAAAFAhin0AAAAAAKgQxT4AAAAAAFSIYh8AAAAAACpEsQ8AAAAAABWi2AcAAAAAgApR7AMAAAAAQIUo9gEAAAAAoEIU+wAAAAAAUCGKfQAAAAAAqBDFPgAAAAAAVIhiHwAAAAAAKkSxDwAAAAAAFaLYBwAAAACAClHsAwAAAABAhSj2AQAAAACgQhT7AAAAAABQIYp9AAAAAACoEMU+AAAAAABUiGIfAAAAAAAqRLEPAAAAAAAVotgHAAAAAIAKUewDAAAAAECFKPYBAAAAAKBCFPsAAAAAAFAhin0AAAAAAKgQxT4AAAAAAFSIYh8AAAAAACpEsQ8AAAAAABWi2AcAAAAAgApR7AMAAAAAQIUo9gEAAAAAoEIU+wAAAAAAUCGKfQAAAAAAqBDFPgAAAAAAVIhiHwAAAAAAKkSxDwAAAAAAFaLYBwAAAACAClHsAwAAAABAhSj2AQAAAACgQhT7AAAAAABQIYp9AAAAAACoEMU+AAAAAABUiGIfAAAAAAAqRLEPAAAAAAAVotgHAAAAAIAKUewDAAAAAECFKPYBAAAAAKBCFPsAAAAAAFAhin0AAAAAAKgQxT4AAAAAAFSIYh8AAAAAACpEsQ8AAAAAABWi2AcAAAAAgApR7AMAAAAAQIUo9gEAAAAAoEIU+wAAAAAAUCGKfQAAAAAAqBDFPgAAAAAAVIhiHwAAAAAAKkSxDwAAAAAAFaLYBwAAAACAClmri/3LLrssgwYNSrdu3bLbbrvlD3/4Q9mRAAAAAADgXVlri/2f/vSnOfbYY3Paaadl0qRJ2XvvvTNq1KhMmzat7GgAAAAAALDK1tpi/6KLLsrYsWNzxBFHZNttt813v/vdDBw4MJdffnnZ0QAAAAAAYJV1KTvA6rBgwYL86U9/yimnnNJh/4c//OHcf//9S4yfP39+5s+f377d2tq62jMuT+eWGen0z1fLjrH6FW2pLXi97BSsAUVDj6TWuewYq11twbyyIwAAAACwllsri/1Zs2alra0tG220UYf9G220UV588cUlxo8bNy5nnXXWmor3jpqamtKpU+d0+/ujZUcBVlGnTp3T1NRUdgwAAAAA1lJrZbG/WK1W67BdFMUS+5Lk1FNPzfHHH9++3dramoEDB672fEuz0UYb5bLLvpfp06eXcv017c0338ysWbPKjsEa0K9fv3Tt2rXsGGvEwIEDl/jFIgAAAAC8V9bKYr9fv37p3LnzErPz//GPfyy1bGtsbExjY+OairdcgwcPzuDBg8uOAQAAAABAHVorH57b0NCQ3XbbLXfccUeH/XfccUeGDBlSUioAAAAAAHj31soZ+0ly/PHH57DDDsvuu++evfbaK1dddVWmTZuWI488suxoAAAAAACwytbaYv+QQw7J7Nmzc/bZZ2fmzJnZYYcd8pvf/CbNzc1lRwMAAAAAgFVWK4qiKDtEvWltbU1TU1NaWlrSu3fvsuMALJf7FgAAAMC6Y61cYx8AAAAAANZWin0AAAAAAKgQxT4AAAAAAFSIYh8AAAAAACpEsQ8AAAAAABWi2AcAAAAAgApR7AMAAAAAQIUo9gEAAAAAoEIU+wAAAAAAUCGKfQAAAAAAqBDFPgAAAAAAVIhiHwAAAAAAKkSxDwAAAAAAFdKl7AD1qCiKJElra2vJSQBWzOL71eL7FwAAAABrL8X+UsydOzdJMnDgwJKTAKycuXPnpqmpqewYAAAAAKxGtcL0ziUsWrQoL7zwQnr16pVarVZ2HNYira2tGThwYKZPn57evXuXHYe1SFEUmTt3bgYMGJBOnayyBgAAALA2U+zDGtTa2pqmpqa0tLQo9gEAAACAVWJaJwAAAAAAVIhiHwAAAAAAKkSxD2tQY2NjzjjjjDQ2NpYdBQAAAACoKGvsAwAAAABAhZixDwAAAAAAFaLYBwAAAACAClHsAwAAAABAhSj2AQAAAACgQhT7AAAAAABQIYp9AAAAAACoEMU+AAAAAABUiGIfAAAAAAAq5P8Hfz+QQf/fL0gAAAAASUVORK5CYII=",
      "text/plain": [
       "<Figure size 1500x2500 with 17 Axes>"
      ]
     },
     "metadata": {},
     "output_type": "display_data"
    }
   ],
   "source": [
    "import math\n",
    "numeric_cols = df.select_dtypes(include=['number']).columns\n",
    "\n",
    "# Define rows and columns based on the number of numeric columns\n",
    "num_plots = len(numeric_cols)\n",
    "columns = 4\n",
    "rows = math.ceil(num_plots / columns)  # Calculate the number of rows needed\n",
    "\n",
    "# Create subplots grid\n",
    "fig, axes = plt.subplots(rows, columns, figsize=(15, 5 * rows), constrained_layout=True)\n",
    "\n",
    "# Flatten axes array for easy indexing\n",
    "axes = axes.flatten()\n",
    "\n",
    "# Plot each numeric column\n",
    "for i, col in enumerate(numeric_cols):\n",
    "    sns.boxplot(y=df[col], ax=axes[i])\n",
    "    axes[i].set_title(f\"Boxplot of {col}\")\n",
    "    axes[i].set_xlabel(\"\")  # Remove x-label for better spacing\n",
    "\n",
    "# Remove unused subplots\n",
    "for j in range(i + 1, len(axes)):\n",
    "    fig.delaxes(axes[j])  # Delete extra axes\n",
    "\n",
    "# Show the plots\n",
    "plt.show()"
   ]
  },
  {
   "cell_type": "markdown",
   "id": "5016f166-c444-4dfe-9a55-8870618d917e",
   "metadata": {},
   "source": [
    "### handling outliers"
   ]
  },
  {
   "cell_type": "markdown",
   "id": "d747920c-81d6-4d83-acbe-e579cff67137",
   "metadata": {},
   "source": [
    "#### country:\n",
    "Replace missing values with the most frequent country (`mode`) "
   ]
  },
  {
   "cell_type": "code",
   "execution_count": 27,
   "id": "3eb678a5-581e-4170-87c6-d64f8a6b2912",
   "metadata": {},
   "outputs": [],
   "source": [
    "df.fillna({'country': df['country'].mode()[0]}, inplace=True)"
   ]
  },
  {
   "cell_type": "markdown",
   "id": "efff14bb-ecfb-4dc3-b57e-d33dd7e7d54c",
   "metadata": {},
   "source": [
    "#### agent:\n",
    "\n",
    " Replace missing values with 0 if agent is numeric and missing values imply no agent."
   ]
  },
  {
   "cell_type": "code",
   "execution_count": 29,
   "id": "51504bf0-1521-42aa-9ca8-b4a1db6c1df1",
   "metadata": {},
   "outputs": [],
   "source": [
    "df.fillna({'agent': df['country'].mode()[0]}, inplace=True)"
   ]
  },
  {
   "cell_type": "code",
   "execution_count": 30,
   "id": "0e34e9bd-5e3d-4431-a906-91e482a6bacf",
   "metadata": {
    "scrolled": true
   },
   "outputs": [
    {
     "name": "stdout",
     "output_type": "stream",
     "text": [
      "hotel                             0\n",
      "is_canceled                       0\n",
      "lead_time                         0\n",
      "arrival_date_year                 0\n",
      "arrival_date_month                0\n",
      "arrival_date_week_number          0\n",
      "arrival_date_day_of_month         0\n",
      "stays_in_weekend_nights           0\n",
      "stays_in_week_nights              0\n",
      "adults                            0\n",
      "children                          4\n",
      "babies                            0\n",
      "meal                              0\n",
      "country                           0\n",
      "market_segment                    0\n",
      "distribution_channel              0\n",
      "is_repeated_guest                 0\n",
      "previous_cancellations            0\n",
      "previous_bookings_not_canceled    0\n",
      "reserved_room_type                0\n",
      "assigned_room_type                0\n",
      "booking_changes                   0\n",
      "deposit_type                      0\n",
      "agent                             0\n",
      "days_in_waiting_list              0\n",
      "customer_type                     0\n",
      "adr                               0\n",
      "required_car_parking_spaces       0\n",
      "total_of_special_requests         0\n",
      "reservation_status                0\n",
      "dtype: int64\n"
     ]
    }
   ],
   "source": [
    "print(df.isnull().sum())"
   ]
  },
  {
   "cell_type": "markdown",
   "id": "ed25b038-434c-47ce-9948-dd51513f2d67",
   "metadata": {},
   "source": [
    "#### Stays in Week Nights\n",
    "**Observation**: Outliers beyond 50 nights\\\n",
    "**Handling**:\n",
    "\n",
    "`Capping`: Replace extreme values above a reasonable threshold (e.g., 30 nights).\\\n",
    "`Segmentation`: Create categories (e.g., short, medium, long stays) for analysis."
   ]
  },
  {
   "cell_type": "code",
   "execution_count": 32,
   "id": "8712264b-bf74-41d4-8533-c2d10c288798",
   "metadata": {},
   "outputs": [],
   "source": [
    "# Cap stays_in_week_nights at 30 nights\n",
    "df['stays_in_week_nights'] = np.where(df['stays_in_week_nights'] > 30, 30, df['stays_in_week_nights'])"
   ]
  },
  {
   "cell_type": "markdown",
   "id": "b2f9ee36-62ad-485c-967a-eee1c006c3cc",
   "metadata": {},
   "source": [
    "#### Stays in Weekend Nights : \n",
    "**Observation**: Outliers exist beyond 17 nights.\\\n",
    "**Handling**:\n",
    "`Limit Values`: Filter or replace stays longer than 10 nights if they are unrealistic for weekend stays."
   ]
  },
  {
   "cell_type": "code",
   "execution_count": 34,
   "id": "27a9487a-611c-4b06-8d94-a25146984f2f",
   "metadata": {},
   "outputs": [],
   "source": [
    "# Cap stays_in_weekend_nights at 10 nights\n",
    "df['stays_in_weekend_nights'] = np.where(df['stays_in_weekend_nights'] > 10, 10, df['stays_in_weekend_nights'])\n"
   ]
  },
  {
   "cell_type": "markdown",
   "id": "cfccc593-5eaf-4a89-91eb-bf01d18cb1eb",
   "metadata": {},
   "source": [
    "####  Adults, Children, and Babies\n",
    "**Observation**: Extreme outliers (e.g., 50+ adults or 10+ children).\\\n",
    "**Handling**:\n",
    "\n",
    "`Filter Irregular Values`: Remove rows where adults, children, or babies exceed realistic values (e.g., adults > 10).\\\n",
    "`Replace Missing Values`: For children or babies, fill missing or zero values based on the booking context."
   ]
  },
  {
   "cell_type": "code",
   "execution_count": 36,
   "id": "f6776f5b-45f9-4e68-9f1d-d5e2be35b524",
   "metadata": {},
   "outputs": [],
   "source": [
    "df = df[(df['adults'] <= 10) & (df['children'] <= 10) & (df['babies'] <= 5)]\n",
    "\n",
    "df.fillna({'children': df['children'].median()}, inplace=True)\n",
    "df.fillna({'babies': 0}, inplace=True)\n",
    "\n"
   ]
  },
  {
   "cell_type": "markdown",
   "id": "c39f3167-3553-40db-8e7c-26a92115e71c",
   "metadata": {},
   "source": [
    "####  Previous Cancellations and Previous Bookings Not Canceled\n",
    "**Observation**: Outliers where cancellations or bookings exceed 20+.\\\n",
    "**Handling**:\n",
    "\n",
    "`Capping`: Limit these variables to a maximum reasonable value (e.g., 10).\\\n",
    "`Analyze Outliers`: Investigate if frequent cancellations are associated with specific customers."
   ]
  },
  {
   "cell_type": "code",
   "execution_count": 38,
   "id": "780eb331-5c13-46a1-8479-120cb32997d0",
   "metadata": {},
   "outputs": [],
   "source": [
    "# Cap values at a maximum of 10\n",
    "df['previous_cancellations'] = np.where(df['previous_cancellations'] > 10, 10, df['previous_cancellations'])\n",
    "df['previous_bookings_not_canceled'] = np.where(df['previous_bookings_not_canceled'] > 10, 10, df['previous_bookings_not_canceled'])\n"
   ]
  },
  {
   "cell_type": "markdown",
   "id": "76937162-c6de-4be9-b928-0052a89257c8",
   "metadata": {},
   "source": [
    "####  Booking Changes\n",
    "**Observation**: Some bookings have over 10 changes.\\\n",
    "**Handling**:\n",
    "\n",
    "`Limit Extreme Values`: Cap changes at a reasonable threshold (e.g., 5).\\\n",
    "`Investigate Cause`: Analyze if certain bookings are prone to excessive changes."
   ]
  },
  {
   "cell_type": "code",
   "execution_count": 40,
   "id": "24e8353b-ab11-441e-a616-50ed274c1f29",
   "metadata": {},
   "outputs": [],
   "source": [
    "# Cap booking_changes at 5\n",
    "df['booking_changes'] = np.where(df['booking_changes'] > 5, 5, df['booking_changes'])\n"
   ]
  },
  {
   "cell_type": "markdown",
   "id": "d949c0a6-1424-4af0-921d-277c40e0c6bb",
   "metadata": {},
   "source": [
    "#### Days in Waiting List\n",
    "**Observation**: Outliers beyond 300 days.\\\n",
    "**Handling**:\n",
    "\n",
    "`Limit Wait Times`: Cap at 100–200 days based on business logic.\\\n",
    "`Categorize`: Segment into short, medium, and long waiting periods for analysis."
   ]
  },
  {
   "cell_type": "code",
   "execution_count": 42,
   "id": "d4860a9a-c889-4349-9500-d69b611ff2dd",
   "metadata": {},
   "outputs": [],
   "source": [
    "# Cap days_in_waiting_list at 200\n",
    "df['days_in_waiting_list'] = np.where(df['days_in_waiting_list'] > 200, 200, df['days_in_waiting_list'])"
   ]
  },
  {
   "cell_type": "markdown",
   "id": "79cfb4df-824a-4fb8-83df-62dbacc35672",
   "metadata": {
    "jp-MarkdownHeadingCollapsed": true
   },
   "source": [
    "##### Findings of univariate analysis\r\n",
    "Findings of univariate analysis are as follows:\n",
    "\n",
    "• The distribution of cancelation meat respactive true and false rates \r\n",
    "\r\n",
    "• The target variablead timeurs is highly positively skewed.\r\n",
    "\r\n",
    "• Its distribution curve Platykurticurtic cuits central peak is lower and broader, and its tails are shorter and thinnertter.\r\n",
    "\r",
    "Lead Timen hours data values follow the lognormal distribution relatively closely as compared to normal distribution."
   ]
  },
  {
   "cell_type": "markdown",
   "id": "b9248e6b-71be-4f2a-8d7d-09b7c5cd2a2e",
   "metadata": {},
   "source": [
    "##### summary statistics of numerical columns\n"
   ]
  },
  {
   "cell_type": "code",
   "execution_count": 45,
   "id": "528a2221-58e9-447c-8691-34491ea9d899",
   "metadata": {},
   "outputs": [
    {
     "name": "stdout",
     "output_type": "stream",
     "text": [
      "           lead_time  arrival_date_year  arrival_date_week_number  \\\n",
      "count  119372.000000      119372.000000             119372.000000   \n",
      "mean      103.992452        2016.156720                 27.163916   \n",
      "std       106.842818           0.707394                 13.605375   \n",
      "min         0.000000        2015.000000                  1.000000   \n",
      "25%        18.000000        2016.000000                 16.000000   \n",
      "50%        69.000000        2016.000000                 28.000000   \n",
      "75%       160.000000        2017.000000                 38.000000   \n",
      "max       737.000000        2017.000000                 53.000000   \n",
      "\n",
      "       arrival_date_day_of_month  stays_in_weekend_nights  \\\n",
      "count              119372.000000            119372.000000   \n",
      "mean                   15.799023                 0.927018   \n",
      "std                     8.780806                 0.992496   \n",
      "min                     1.000000                 0.000000   \n",
      "25%                     8.000000                 0.000000   \n",
      "50%                    16.000000                 1.000000   \n",
      "75%                    23.000000                 2.000000   \n",
      "max                    31.000000                10.000000   \n",
      "\n",
      "       stays_in_week_nights         adults       children         babies  \\\n",
      "count         119372.000000  119372.000000  119372.000000  119372.000000   \n",
      "mean               2.499548       1.853492       0.103902       0.007791   \n",
      "std                1.896937       0.489673       0.398583       0.089339   \n",
      "min                0.000000       0.000000       0.000000       0.000000   \n",
      "25%                1.000000       2.000000       0.000000       0.000000   \n",
      "50%                2.000000       2.000000       0.000000       0.000000   \n",
      "75%                3.000000       2.000000       0.000000       0.000000   \n",
      "max               30.000000      10.000000      10.000000       2.000000   \n",
      "\n",
      "       previous_cancellations  previous_bookings_not_canceled  \\\n",
      "count           119372.000000                   119372.000000   \n",
      "mean                 0.072287                        0.101766   \n",
      "std                  0.468842                        0.786303   \n",
      "min                  0.000000                        0.000000   \n",
      "25%                  0.000000                        0.000000   \n",
      "50%                  0.000000                        0.000000   \n",
      "75%                  0.000000                        0.000000   \n",
      "max                 10.000000                       10.000000   \n",
      "\n",
      "       booking_changes  days_in_waiting_list            adr  \\\n",
      "count    119372.000000         119372.000000  119372.000000   \n",
      "mean          0.217203              2.177889     101.843981   \n",
      "std           0.602416             15.227723      50.527282   \n",
      "min           0.000000              0.000000      -6.380000   \n",
      "25%           0.000000              0.000000      69.290000   \n",
      "50%           0.000000              0.000000      94.620000   \n",
      "75%           0.000000              0.000000     126.000000   \n",
      "max           5.000000            200.000000    5400.000000   \n",
      "\n",
      "       required_car_parking_spaces  total_of_special_requests  \n",
      "count                119372.000000              119372.000000  \n",
      "mean                      0.062527                   0.571399  \n",
      "std                       0.245308                   0.792821  \n",
      "min                       0.000000                   0.000000  \n",
      "25%                       0.000000                   0.000000  \n",
      "50%                       0.000000                   0.000000  \n",
      "75%                       0.000000                   1.000000  \n",
      "max                       8.000000                   5.000000  \n"
     ]
    }
   ],
   "source": [
    "numeric_columns = df.select_dtypes(include=['float64', 'int64']).columns\n",
    "print(df[numeric_columns].describe())"
   ]
  },
  {
   "cell_type": "markdown",
   "id": "caeedf83-b610-4874-abed-368bb7d0a630",
   "metadata": {
    "jp-MarkdownHeadingCollapsed": true
   },
   "source": [
    " \n",
    "\n",
    "**lead_time**  \n",
    "- **The measures of central tendency**: are given by the mean (103.992460).  \n",
    "- **The measure of dispersion**: is given by the standard deviation (106.843265).  \n",
    "- **The IQR**: is the difference between the 75th and 25th percentiles. Hence, IQR = 160.00 - 18.000 = 142.00.  \n",
    "\n",
    "---\n",
    "\n",
    "**arrival_date_year**  \n",
    "- **The measures of central tendency**: are given by the mean (2016.15673).  \n",
    "- **The measure of dispersion**: is given by the standard deviation (0.70739).  \n",
    "- **The IQR**: is the difference between the 75th and 25th percentiles. Hence, IQR = 2017.000 - 2016.000 = 1.000.  \n",
    "\n",
    "---\n",
    "\n",
    "**arrival_date_week_number**  \n",
    "- **The measures of central tendency**: are given by the mean (27.163909).  \n",
    "- **The measure of dispersion**: is given by the standard deviation (13.605432).  \n",
    "- **The IQR**: is the difference between the 75th and 25th percentiles. Hence, IQR = 38.000 - 16.000 = 22.000.  \n",
    "\n",
    "---\n",
    "\n",
    "**arrival_date_day_of_month**  \n",
    "- **The measures of central tendency**: are given by the mean (15.799114).  \n",
    "- **The measure of dispersion**: is given by the standard deviation (8.780787).  \n",
    "- **The IQR**: is the difference between the 75th and 25th percentiles. Hence, IQR = 23.000 - 8.000 = 15.000.  \n",
    "\n",
    "---\n",
    "\n",
    "**stays_in_weekend_nights**  \n",
    "- **The measures of central tendency**: are given by the mean (0.927009).  \n",
    "- **The measure of dispersion**: is given by the standard deviation (0.992495).  \n",
    "- **The IQR**: is the difference between the 75th and 25th percentiles. Hence, IQR = 2.000 - 0.000 = 2.000.  \n",
    "\n",
    "---\n",
    "\n",
    "**stays_in_week_nights**  \n",
    "- **The measures of central tendency**: are given by the mean (2.499543).  \n",
    "- **The measure of dispersion**: is given by the standard deviation (1.896944).  \n",
    "- **The IQR**: is the difference between the 75th and 25th percentiles. Hence, IQR = 3.000 - 1.000 = 2.000.  \n",
    "\n",
    "---\n",
    "\n",
    "**adults**  \n",
    "- **The measures of central tendency**: are given by the mean (1.853490).  \n",
    "- **The measure of dispersion**: is given by the standard deviation (0.489675).  \n",
    "- **The IQR**: is the difference between the 75th and 25th percentiles. Hence, IQR = 2.000 - 2.000 = 0.000.  \n",
    "\n",
    "---\n",
    "\n",
    "**children**  \n",
    "- **The measures of central tendency**: are given by the mean (0.103895).  \n",
    "- **The measure of dispersion**: is given by the standard deviation (0.398576).  \n",
    "- **The IQR**: is the difference between the 75th and 25th percentiles. Hence, IQR = 0.000 - 0.000 = 0.000.  \n",
    "\n",
    "---\n",
    "\n",
    "**babies**  \n",
    "- **The measures of central tendency**: are given by the mean (0.007791).  \n",
    "- **The measure of dispersion**: is given by the standard deviation (0.089339).  \n",
    "- **The IQR**: is the difference between the 75th and 25th percentiles. Hence, IQR = 0.000 - 0.000 = 0.000.  \n",
    "\n",
    "---\n",
    "\n",
    "**previous_cancellations**  \n",
    "- **The measures of central tendency**: are given by the mean (0.072287).  \n",
    "- **The measure of dispersion**: is given by the standard deviation (0.468844).  \n",
    "- **The IQR**: is the difference between the 75th and 25th percentiles. Hence, IQR = 0.000 - 0.000 = 0.000.  \n",
    "\n",
    "---\n",
    "\n",
    "**previous_bookings_not_canceled**  \n",
    "- **The measures of central tendency**: are given by the mean (0.101767).  \n",
    "- **The measure of dispersion**: is given by the standard deviation (0.786306).  \n",
    "- **The IQR**: is the difference between the 75th and 25th percentiles. Hence, IQR = 0.000 - 0.000 = 0.000.  \n",
    "\n",
    "---\n",
    "\n",
    "**booking_changes**  \n",
    "- **The measures of central tendency**: are given by the mean (0.217205).  \n",
    "- **The measure of dispersion**: is given by the standard deviation (0.602418).  \n",
    "- **The IQR**: is the difference between the 75th and 25th percentiles. Hence, IQR = 0.000 - 0.000 = 0.000.  \n",
    "\n",
    "---\n",
    "\n",
    "**agent**  \n",
    "- **The measures of central tendency**: are given by the mean (86.695063).  \n",
    "- **The measure of dispersion**: is given by the standard deviation (110.778603).  \n",
    "- **The IQR**: is the difference between the 75th and 25th percentiles. Hence, IQR = 229.000 - 9.000 = 220.000.  \n",
    "\n",
    "---\n",
    "\n",
    "**days_in_waiting_list**  \n",
    "- **The measures of central tendency**: are given by the mean (2.177908).  \n",
    "- **The measure of dispersion**: is given by the standard deviation (15.227786).  \n",
    "- **The IQR**: is the difference between the 75th and 25th percentiles. Hence, IQR = 0.000 - 0.000 = 0.000.  \n",
    "\n",
    "---\n",
    "\n",
    "**required_car_parking_spaces**  \n",
    "- **The measures of central tendency**: are given by the mean (0.062519).  \n",
    "- **The measure of dispersion**: is given by the standard deviation (0.245294).  \n",
    "- **The IQR**: is the difference between the 75th and 25th percentiles. Hence, IQR = 0.000 - 0.000 = 0.000.  \n",
    "\n",
    "---\n",
    "\n",
    "**total_of_special_requests**  \n",
    "- **The measures of central tendency**: are given by the mean (0.571387).  \n",
    "- **The measure of dispersion**: is given by the standard deviation (0.792814).  nd 25th percentiles. Hence, IQR = 1.000 - 0.000 = 1.000.  \n",
    "\n",
    "--- "
   ]
  },
  {
   "cell_type": "markdown",
   "id": "ab9665e0-9442-40a0-aa21-81400c14e737",
   "metadata": {},
   "source": [
    "##### **central tendency**  :  \r\n",
    " "
   ]
  },
  {
   "cell_type": "code",
   "execution_count": null,
   "id": "63de3c1c-08b0-4bef-8caf-1f6033914aff",
   "metadata": {},
   "outputs": [],
   "source": [
    "numeric_columns = df.select_dtypes(include=['float64', 'int64']).columns\n",
    "\n",
    "# Calculate the number of rows and columns needed\n",
    "num_plots = len(numeric_columns)\n",
    "cols = 3  # Fixed number of columns\n",
    "rows = int(np.ceil(num_plots / cols))  # Dynamically calculate the number of rows\n",
    "\n",
    "plt.figure(figsize=(12, rows * 4), dpi=300)  # Adjust figure height based on rows\n",
    "for i, col in enumerate(numeric_columns, 1):\n",
    "    plt.subplot(rows, cols, i)\n",
    "    sns.histplot(df[col], kde=True, bins=20, color='Purple', stat='density', linewidth=0)\n",
    "    plt.title(f'{col}')\n",
    "    plt.tight_layout()\n",
    "\n",
    "plt.show()\n"
   ]
  },
  {
   "cell_type": "markdown",
   "id": "5bb64b68-99df-42b2-9dab-d408290b5f42",
   "metadata": {},
   "source": [
    "**Lead Time**\n",
    "The distribution of lead time is right-skewed, indicating that most bookings are made closer to the arrival date, while a few are made significantly in advance. This suggests that while most guests plan their stays on short notice, there are outliers who plan well ahead.\n",
    "\n",
    "**Arrival Date Year**\n",
    "The arrival date year distribution shows a concentration around specific years, with a slight increase over time. This could indicate a growing trend in bookings or seasonal variations in travel patterns.\n",
    "\n",
    "**Stays in Weekend Nights**\n",
    "The distribution of stays in weekend nights is right-skewed, with most guests staying for a short duration during weekends. A few guests extend their weekend stays significantly, which could indicate special occasions or longer vacations.\n",
    "\n",
    "**Stays in Week Nights**\n",
    "Similar to weekend nights, the distribution of stays in week nights is also right-skewed. Most guests prefer shorter stays during the week, with a few opting for extended periods, possibly for business or leisure purposes.\n",
    "\n",
    "**Adults, Children, and Babies**\n",
    "The distribution of the number of adults, children, and babies per booking shows that most bookings are for adults only, with fewer bookings including children or babies. This suggests that the majority of guests are either couples or solo travelers.\n",
    "\n",
    "**Previous Cancellations and Bookings Not Canceled**\n",
    "The distribution of previous cancellations and bookings not canceled is right-skewed, indicating that most guests have a clean booking history with few cancellations. However, a small number of guests have a higher rate of cancellations, which could be an area of concern for revenue management.\n",
    "\n",
    "**Booking Changes**\n",
    "The distribution of booking changes is also right-skewed, with most guests making few or no changes to their bookings. A small number of guests make multiple changes, which could indicate uncertainty or flexibility in travel plans.\n",
    "\n",
    "**Key Takeaways ⤵**\n",
    "\n",
    "The skewness in lead time and stays suggests that most guests prefer shorter, more spontaneous trips.\n",
    "\n",
    "The presence of outliers in stays and booking changes indicates a need for targeted marketing or flexible booking policies.\n",
    "\n",
    "The distribution of adults, children, and babies highlights the importance of catering primarily to adult travelers while also considering family-friendly options.\n",
    "\n",
    "**Summary of Histogram Interpretations**\n",
    "\n",
    "Positively Skewed: Features like lead time and stays have a small number of higher values pulling the distribution rightward.\n",
    "\n",
    "Normal Distribution: Features like arrival date year show a more even spread around the middle.\n",
    "\n",
    "Bimodal: Features like previous cancellations and bookings not canceled have distinct peaks, indicating different booking behaviors.\n",
    "\n"
   ]
  },
  {
   "cell_type": "code",
   "execution_count": null,
   "id": "14917862-cab8-4db9-b7d4-18b1ed2b81c5",
   "metadata": {},
   "outputs": [],
   "source": [
    "df['arrival_date_month'].value_counts()"
   ]
  },
  {
   "cell_type": "code",
   "execution_count": null,
   "id": "f40b940f-8fe2-4288-af78-a7cfa0dfaf15",
   "metadata": {},
   "outputs": [],
   "source": [
    "df['arrival_date_month'].value_counts().plot(kind = 'bar', figsize=(10,5))\n",
    "plt.title('Booking count in various months')\n",
    "plt.xlabel('month')\n",
    "plt.legend()\n",
    "plt.show()"
   ]
  },
  {
   "cell_type": "markdown",
   "id": "0f64e774-0052-4672-ab3e-78fb373edaf0",
   "metadata": {},
   "source": [
    "**Observations**:\n",
    "\n",
    "`Peak Booking Periods`:\\\n",
    "August has the highest booking count, followed closely by July and May. These months could represent a peak season, possibly due to summer holidays or specific events driving higher demand.\n",
    "\n",
    "`Moderate Activity`:\\\n",
    "Months like October, April, and June show relatively steady and moderate booking counts, indicating consistent demand but not peak activity.\n",
    "\n",
    "`Lower Booking Periods`:\\\n",
    "January has the lowest booking count, followed by December and November. These months might represent off-peak seasons, potentially due to colder weather, holidays, or other factors reducing activity."
   ]
  },
  {
   "cell_type": "markdown",
   "id": "849b2c84-1a7b-4670-a928-158d81aeeb61",
   "metadata": {},
   "source": [
    "##### **range on skewness values**\r\n"
   ]
  },
  {
   "cell_type": "code",
   "execution_count": null,
   "id": "04a298fb-fb67-4aa2-b180-68fe3d918d5d",
   "metadata": {},
   "outputs": [],
   "source": [
    "numeric_columns = df.select_dtypes(include=['float64', 'int64']).columns\n",
    "\n",
    "df[numeric_columns].skew()\n"
   ]
  },
  {
   "cell_type": "markdown",
   "id": "7e920649-034d-4175-87f4-2ceebebd9871",
   "metadata": {},
   "source": [
    "###### Interpretation of skewness\n",
    "\r\n"
   ]
  },
  {
   "cell_type": "markdown",
   "id": "2574536d-b655-4744-b32e-8eddaa08ee1f",
   "metadata": {},
   "source": [
    "**Lead Time (1.347)**\n",
    "The distribution is right-skewed, indicating that most bookings have a shorter lead time, but there are some bookings made significantly in advance.\n",
    "\n",
    "**Arrival Date Year (-0.233)****\n",
    "The distribution is slightly left-skewed, suggesting that there are more recent years represented in the data compared to earlier years.\n",
    "\n",
    "**Arrival Date Week Number (-0.010)**\n",
    "The distribution is almost symmetric, indicating that bookings are evenly spread across the weeks of the year.\n",
    "\n",
    "**Arrival Date Day of Month (-0.002)**\n",
    "The distribution is nearly symmetric, showing that bookings are evenly distributed across the days of the month.\n",
    "\n",
    "**Stays in Weekend Nights (1.181)**\n",
    "The distribution is right-skewed, meaning most guests stay for a short duration during weekends, with a few staying longer.\n",
    "\n",
    "**Stays in Week Nights (2.592)**\n",
    "The distribution is highly right-skewed, indicating that most guests have short stays during the week, with a few having extended stays.\n",
    "\n",
    "**Adults (-0.426)**\n",
    "The distribution is slightly left-skewed, suggesting that most bookings are for a smaller number of adults, with fewer bookings for larger groups.\n",
    "\n",
    "**Children (4.113)**\n",
    "The distribution is highly right-skewed, indicating that most bookings do not include children, but a few bookings have a significant number of children.\n",
    "\n",
    "**Babies (11.721)**\n",
    "The distribution is extremely right-skewed, showing that very few bookings include babies.\n",
    "\n",
    "**Previous Cancellations (15.616)**\n",
    "The distribution is extremely right-skewed, meaning most guests have no previous cancellations, but a few have many.\n",
    "\n",
    "**Previous Bookings Not Canceled (10.105)**\n",
    "The distribution is highly right-skewed, indicating that most guests have few previous bookings not canceled, but some have many.\n",
    "\n",
    "**Booking Changes (3.685)**\n",
    "The distribution is highly right-skewed, suggesting that most guests make few or no changes to their bookings, but a few make many changes.\n",
    "\n",
    "**Agent (1.089)**\n",
    "The distribution is right-skewed, indicating that most bookings are made through a few agents, with some bookings made through many different agents.\n",
    "\n",
    "**Days in Waiting List (9.134)**\n",
    "The distribution is highly right-skewed, meaning most bookings have no waiting time, but a few have long waiting periods.\n",
    "\n",
    "**Required Car Parking Spaces (4.163)**\n",
    "The distribution is highly right-skewed, indicating that most bookings do not require car parking spaces, but a few require multiple spaces.\n",
    "\n",
    "**Total of Special Requests (1.349)**\n",
    "The distribution is right-skewed, suggesting that most bookings have few or no special requests, but some have many.\n",
    "\n",
    "**Key Takeaways ⤵**\\\n",
    "Right-Skewed Distributions: Variables like lead time, stays, children, babies, previous cancellations, and booking changes indicate that most data points are clustered at lower values with a few extreme high values.\n",
    "\n",
    "`Left-Skewed Distributions:` Variables like arrival_date_year and adults show a slight left skew, indicating a concentration of data points at higher values with fewer low values.\n",
    "\n",
    "`Symmetric Distributions:` Variables like arrival_date_week_number and arrival_date_day_of_month are nearly symmetric, indicating an even spread of data points.\n",
    "\n",
    "**Summary of Skewness Interpretations**\\\n",
    "`Positively Skewed:` Most variables are right-skewed, indicating the presence of outliers or extreme values on the higher end.\n",
    "\n",
    "`Negatively Skewed:` A few variables are left-skewed, showing a concentration of data points on the higher end.\n",
    "\n",
    "`Symmetric:` Some variables show a balanced distribution, indicating an even spread of data points."
   ]
  },
  {
   "cell_type": "markdown",
   "id": "eb617a81-b76d-46c6-95ca-04c7d3cd0a15",
   "metadata": {},
   "source": [
    "##### range on kurtosis value\n"
   ]
  },
  {
   "cell_type": "code",
   "execution_count": null,
   "id": "85964df9-8753-4445-908e-12b2ff80ff90",
   "metadata": {},
   "outputs": [],
   "source": [
    "from scipy.stats import kurtosis\n",
    "kurtosis_values = df.select_dtypes(include='number').apply(kurtosis, fisher=True)  # fisher=True for excess kurtosis\n",
    "print(kurtosis_values)"
   ]
  },
  {
   "cell_type": "markdown",
   "id": "013eb830-0054-439e-be25-182eba0b073f",
   "metadata": {},
   "source": [
    "###### Interpretation of kurtosis\n"
   ]
  },
  {
   "cell_type": "markdown",
   "id": "160f4ce4-1311-43d1-89f8-46320e630ce3",
   "metadata": {},
   "source": [
    "`lead_time (1.699096)`: Platykurtic. The distribution has lighter tails and is flatter than a normal distribution.\\\n",
    "`arrival_date_year (-0.994145)`: Extremely platykurtic. Suggests a very flat distribution with negligible tails.\\\n",
    "`arrival_date_week_number (-0.986084)`: Similar to the year variable, extremely flat and light tails.\\\n",
    "`arrival_date_day_of_month (-1.187120)`: Even more platykurtic, indicating a uniform-like distribution.\\\n",
    "`stays_in_weekend_nights (3.614038)`: Leptokurtic. The distribution is peaked with heavier tails.\\\n",
    "`stays_in_week_nights (17.023148)`: Highly leptokurtic. Very peaked with significant outliers or heavy tails.\\\n",
    "`adults (1.945071)`: Platykurtic. Indicates lighter tails.\\\n",
    "`children (18.670161)`: Highly leptokurtic. Suggests outliers with extreme values or heavy tails.\\\n",
    "`babies (142.780804)`: Extremely leptokurtic. Indicates very sharp peaks with extreme values influencing the distribution.\\\n",
    "`previous_cancellations (309.972650)`: Extremely leptokurtic, which implies a high concentration around specific values with outliers.\\\n",
    "`previous_bookings_not_canceled (111.549730)`: Highly leptokurtic. Significant concentration at the mean with heavier tails.\\\n",
    "`booking_changes (17.083096)`: Highly leptokurtic. Indicates a peaked distribution with outliers.\\\n",
    "`days_in_waiting_list (95.541517)`: Highly leptokurtic. Outliers or heavy tails are likely.\\\n",
    "`required_car_parking_spaces (29.991781)`: Highly leptokurtic. Extreme values likely dominate the distribution.\\\n",
    "`total_of_special_requests (1.492250)`: Platykurtic. Lighter tails and flatter than normal.\\."
   ]
  },
  {
   "cell_type": "markdown",
   "id": "f07e3345-2617-432d-b034-9f7d31184dfa",
   "metadata": {},
   "source": [
    "##### **Bivariaty analysis** : "
   ]
  },
  {
   "cell_type": "markdown",
   "id": "4d3a3078-f357-47dd-a515-fb2ca7e9d3a5",
   "metadata": {},
   "source": [
    "###### **exploarying the busisest booking period**"
   ]
  },
  {
   "cell_type": "markdown",
   "id": "a337b3ac-3539-4beb-96f7-09c619ef4f65",
   "metadata": {},
   "source": [
    "###### **Arrival date month**"
   ]
  },
  {
   "cell_type": "code",
   "execution_count": null,
   "id": "41f9db48-bf63-4be9-a17a-e9f90959ef17",
   "metadata": {},
   "outputs": [],
   "source": [
    "df['arrival_date_month'].value_counts()"
   ]
  },
  {
   "cell_type": "code",
   "execution_count": null,
   "id": "4e88b70f-385f-47fc-bf90-380854fdc2a5",
   "metadata": {},
   "outputs": [],
   "source": [
    "df['arrival_date_month'].value_counts().plot(kind = 'bar', figsize=(10,5))\n",
    "plt.title('Booking count in diffrent monthes ')\n",
    "plt.ylabel('Booking Times ')\n",
    "plt.legend()\n",
    "plt.show()"
   ]
  },
  {
   "cell_type": "markdown",
   "id": "6ec8cf62-aa1f-4dce-a232-44b4019f8c56",
   "metadata": {},
   "source": [
    "**Observations:**\n",
    "\n",
    "`Peak Booking Periods`:\\\n",
    "August has the highest booking count, followed closely by July and May. These months could represent a peak season, possibly due to summer holidays or specific events driving higher demand.\n",
    "\n",
    "`Moderate Activity`:\\\n",
    "Months like October, April, and June show relatively steady and moderate booking counts, indicating consistent demand but not peak activity.\n",
    "\n",
    "`Lower Booking Periods`:\\\n",
    "January has the lowest booking count, followed by December and November. These months might represent off-peak seasons, potentially due to colder weather, holidays, or other factors reducing activity."
   ]
  },
  {
   "cell_type": "markdown",
   "id": "2db7450e-e92a-4be2-a506-34379fbcce56",
   "metadata": {},
   "source": [
    "`Similarly`, `Hotels`, `meal`, `country`, `market_segment`, `distribution_channel` are also categorical attributes. We can visualize their frequency distribution using the value_counts() method and visualize them :"
   ]
  },
  {
   "cell_type": "markdown",
   "id": "1259d839-5f46-454a-bc04-95234cdb3f6d",
   "metadata": {},
   "source": [
    "###### **Hotel Type :** "
   ]
  },
  {
   "cell_type": "code",
   "execution_count": null,
   "id": "a71941dd-ccf8-4f22-a32c-6450f3d0cf1a",
   "metadata": {},
   "outputs": [],
   "source": [
    "df['hotel'].value_counts()"
   ]
  },
  {
   "cell_type": "code",
   "execution_count": null,
   "id": "c71410e5-c43a-4cd8-ace8-fb7d34e50061",
   "metadata": {},
   "outputs": [],
   "source": [
    "df['hotel'].value_counts().plot(kind = 'bar', figsize=(10,5))\n",
    "plt.title('Booking count in city and resort Hotels  ')\n",
    "plt.ylabel('Booking Times ')\n",
    "plt.legend()\n",
    "plt.show()"
   ]
  },
  {
   "cell_type": "markdown",
   "id": "eb6d4563-11ba-4430-a47e-a62080a4c262",
   "metadata": {},
   "source": [
    "**Observations:**\n",
    "\n",
    "City Hotels significantly outnumber Resort Hotels in terms of bookings\n",
    "\n",
    "`City Hotels:`\n",
    "having around 80,000 bookings.\n",
    "\n",
    "`Resort Hotels:`\n",
    "show a much lower count, approximately 40,000 bookings."
   ]
  },
  {
   "cell_type": "markdown",
   "id": "7c27f806-2cb7-44bf-b618-e5f2cbfb42b7",
   "metadata": {},
   "source": [
    "###### **country**"
   ]
  },
  {
   "cell_type": "code",
   "execution_count": null,
   "id": "3e975dfd-d1e5-46bf-9e9e-197b76dd8b80",
   "metadata": {},
   "outputs": [],
   "source": [
    "df['country'].value_counts()"
   ]
  },
  {
   "cell_type": "code",
   "execution_count": null,
   "id": "7598e8a3-0bb8-4c33-acbe-f2069dba0567",
   "metadata": {},
   "outputs": [],
   "source": [
    "# Step 1: Count occurrences of each unique group\n",
    "group_counts = df['country'].value_counts()\n",
    "\n",
    "# Step 2: Calculate percentages\n",
    "total = group_counts.sum()\n",
    "group_percentages = (group_counts / total) * 100\n",
    "\n",
    "# Step 3: Filter groups greater than 1.1%\n",
    "other_countes = group_counts[group_percentages < 1.1]\n",
    "filtered_counts = group_counts[group_percentages >= 1.1]\n",
    "filtered_counts['other countries'] = other_countes.sum()\n",
    "filtered_percentages = (filtered_counts / total) * 100\n",
    "\n",
    "# Step 4: Prepare data for the pie chart\n",
    "labels = filtered_counts.index  # Labels for filtered groups\n",
    "sizes = filtered_counts.values  # Frequency for filtered groups\n",
    "colors = ['#ff9999', '#66b3ff', '#99ff99', '#ffcc99', '#c2c2f0', '#ffb3e6', '#c4e17f']  # Custom colors\n",
    "\n",
    "# Step 5: Plot the pie chart\n",
    "plt.figure(figsize=(10, 7))  # Adjust figure size\n",
    "wedges, texts, autotexts = plt.pie(\n",
    "    sizes,\n",
    "    labels=None,  # Suppress labels on the pie slices\n",
    "    autopct='%1.1f%%',  # Format percentages\n",
    "    pctdistance=1.1,    # Place percentages further out\n",
    "    startangle=140,     # Starting angle of the chart\n",
    "    colors=colors,      # Custom colors\n",
    "    wedgeprops={'edgecolor': 'black'}  # Add borders\n",
    ")\n",
    "\n",
    "# Add a legend for labels\n",
    "plt.legend(\n",
    "    labels,  # Use the labels\n",
    "    title=\"Country Groups\",\n",
    "    loc=\"center left\",  # Position on the left\n",
    "    bbox_to_anchor=(1, 0, 0.5, 1),  # Adjust positioning\n",
    "    fontsize=10\n",
    ")\n",
    "\n",
    "# Style percentages\n",
    "for autotext in autotexts:\n",
    "    autotext.set_color('black')  # Set text color to black\n",
    "    autotext.set_fontsize(10)  # Adjust font size\n",
    "\n",
    "# Add a title\n",
    "plt.title(\"Country Booking Distribution\", fontsize=14, fontweight='bold')\n",
    "\n",
    "# Adjust layout\n",
    "plt.tight_layout()  # Ensure everything fits within the figure\n",
    "plt.show()"
   ]
  },
  {
   "cell_type": "markdown",
   "id": "e3eae03b-d2ee-4d34-95cc-59431ac34c3b",
   "metadata": {
    "jp-MarkdownHeadingCollapsed": true
   },
   "source": [
    "**Observations:**\n",
    "\n",
    "\n",
    "`Dominant Country:`\n",
    "Portugal (PRT) accounts for the largest portion of bookings at 41.1%. This indicates a significant concentration of bookings from this country compared to others.\n",
    "\n",
    "\n",
    "\n",
    "`Other Notable Contributions:`\n",
    "Great Britain (GBR) follows, contributing 12.0% of the bookings.\n",
    "France (FRA) and Spain (ESP) also have notable shares at 10.2% and 8.7%, respectively.\n",
    "Other countries like Germany (DEU), Italy (ITA), and Ireland (IRL) account for 7.2%, 6.1%, and 2.8%, respectively.\n",
    "\n",
    "\n",
    "\n",
    "`Minor Contributions:`\n",
    "Several countries contribute smaller percentages, including the USA and Switzerland, which collectively represent 3.2% and 2.8%.\n",
    "The segment labeled \"other countries\" represents 1.4% combined, highlighting less significant markets."
   ]
  },
  {
   "cell_type": "markdown",
   "id": "6b4e6bb9-b86f-47a0-9613-cfd322a347ac",
   "metadata": {},
   "source": [
    "###### **Distribution of cancelation**"
   ]
  },
  {
   "cell_type": "code",
   "execution_count": null,
   "id": "3eb42ca0-2cc7-46e4-afa6-73640d6eb76d",
   "metadata": {},
   "outputs": [],
   "source": [
    "print(df['is_canceled'].describe())"
   ]
  },
  {
   "cell_type": "markdown",
   "id": "ceefd0d9-2f1e-433b-ad05-4a98f7f25530",
   "metadata": {
    "jp-MarkdownHeadingCollapsed": true
   },
   "source": [
    "**Interpretation** : \n",
    "\n",
    "`True Cancellatio` :(4422)\\\r",
    "`\n",
    "False Cancellati` :(7516)"
   ]
  },
  {
   "cell_type": "markdown",
   "id": "9a631fb5-44d6-40f4-b913-81ddb7f67c73",
   "metadata": {},
   "source": [
    "###### **Distribution channels**"
   ]
  },
  {
   "cell_type": "code",
   "execution_count": null,
   "id": "7f8d4556-df71-4f3a-9405-695d887dc86d",
   "metadata": {},
   "outputs": [],
   "source": [
    "df['distribution_channel'].value_counts()"
   ]
  },
  {
   "cell_type": "code",
   "execution_count": null,
   "id": "700b3105-a231-49bc-ae9e-fcd6f7c626bc",
   "metadata": {},
   "outputs": [],
   "source": [
    "#hide the undefined rows :\n",
    "df = pd.read_csv('hotel_booking.csv')\n",
    "df = df[df['distribution_channel'] != 'Undefined']\n",
    "\n",
    "df['distribution_channel'].value_counts().plot( kind = 'bar', figsize=(10,5))\n",
    "plt.title('Booking count in diffrent distribution channels ')\n",
    "plt.ylabel('Booking Times ')\n",
    "plt.xlabel('channels')\n",
    "\n",
    "plt.legend()\n",
    "plt.show()"
   ]
  },
  {
   "cell_type": "markdown",
   "id": "390eab04-f905-4005-8127-d5f2765ad6d0",
   "metadata": {},
   "source": [
    "**Observations:**\n",
    "\n",
    "`TA/TO Dominates the Bookings:`\n",
    "\n",
    "The TA/TO channel has the highest booking count, with close to 100,000 bookings. This suggests that Travel Agents and Tour Operators play a critical role in driving the majority of bookings.\n",
    "Direct Bookings Are Second:\n",
    "\n",
    "`Direct bookings :` \n",
    "come next, although significantly lower than TA/TO. This indicates a preference or tendency for customers to book through intermediaries rather than directly with the provider.\n",
    "Corporate and GDS Channels Are Minimal:\n",
    "\n",
    "The Corporate channel has some traction but is a small fraction compared to TA/TO and Direct.\n",
    "\n",
    "The` GDS `channel has the lowest count, suggesting that this method is not as widely used or targeted."
   ]
  },
  {
   "cell_type": "markdown",
   "id": "f050e4ec-c4af-4876-8f21-e42ffa49b26c",
   "metadata": {},
   "source": [
    "###### **Market segment**"
   ]
  },
  {
   "cell_type": "code",
   "execution_count": null,
   "id": "3355f831-10cc-4adc-9630-6bd6906834f7",
   "metadata": {},
   "outputs": [],
   "source": [
    "df['market_segment'].value_counts()"
   ]
  },
  {
   "cell_type": "code",
   "execution_count": null,
   "id": "6124aaa5-90f0-4c0e-be3c-b2e4e666da04",
   "metadata": {},
   "outputs": [],
   "source": [
    "df['market_segment'].value_counts().plot( kind = 'bar', figsize=(10,5))\n",
    "plt.title('Booking count in diffrent Market segments ')\n",
    "plt.ylabel('Booking Times ')\n",
    "plt.xlabel('Segments')\n",
    "\n",
    "plt.legend()\n",
    "plt.show()"
   ]
  },
  {
   "cell_type": "markdown",
   "id": "c4f1bc0f-de27-4824-baf5-f2d58e708ff8",
   "metadata": {},
   "source": [
    "**Observations:**\n",
    "\n",
    "`Leading Segment:`\\\n",
    "Online Travel Agents (Online TA) dominate the bookings with over 50,000 instances. This indicates a strong reliance on digital platforms for reservations.\n",
    "\n",
    "`Secondary Segment:`\\\n",
    "Offline Travel Agents (Offline TA/TO) are the next significant contributor, with around 30,000 bookings. This suggests that traditional travel agencies still play a vital role alongside online platforms."
   ]
  },
  {
   "cell_type": "markdown",
   "id": "22650162-5761-43dd-8974-a8bc8c39ae59",
   "metadata": {},
   "source": [
    "**Findings of bivariate analysis**\n",
    "\n",
    "• TAugust has the highest booking countsurs\n",
    "\n",
    "• City Hotels significantly outnumber Resort Hotels in terms of bookin time .\n",
    "\n",
    "• August has the highest booking count.\n",
    "\n",
    "• Portugal (PRT) accounts for the largest portion of bookings at 41.1%ur. Online Travel Agents (Online TA) dominate the bookings with over 50,000 instances anf TA/TO channels are the most dominantes channel ours.\n"
   ]
  },
  {
   "cell_type": "markdown",
   "id": "68e52a72-182d-404b-84bb-78e03b81b4a3",
   "metadata": {},
   "source": [
    "**muitli Viraity analysis** :"
   ]
  },
  {
   "cell_type": "markdown",
   "id": "dcc2bcf6-469e-483e-8ef6-52074116e43d",
   "metadata": {},
   "source": [
    "**Factores effecting Avrage daily rate** \n",
    "(diagnostic Analysis)"
   ]
  },
  {
   "cell_type": "code",
   "execution_count": null,
   "id": "516da41b-0f9e-45d2-8ed0-7bac63a77f3d",
   "metadata": {},
   "outputs": [],
   "source": [
    "numeric_columns = df.select_dtypes(include=['float64', 'int64']).columns\n",
    "correlation = df[numeric_columns].corr()\n",
    "correlation['adr'].sort_values(ascending=False)"
   ]
  },
  {
   "cell_type": "markdown",
   "id": "d5f0d69e-fad2-4322-816d-d14702d97d49",
   "metadata": {},
   "source": [
    " **Summary**:\n",
    " \n",
    "- `Positive Correlations`: Variables like `children`, `adults`, and `total_of_special_requests` have the strongest positive correlations with `adr`, indicating that these factors are associated with higher daily rates.\n",
    "- `Negative Correlations`: Variables like `is_repeated_guest`, `previous_bookings_not_canceled`, and `lead_time` have the strongest negative correlations with `adr`, suggesting that these factors are associated with lower daily rates."
   ]
  },
  {
   "cell_type": "code",
   "execution_count": null,
   "id": "b26d5690-92a3-4815-9046-32fc64524cff",
   "metadata": {},
   "outputs": [],
   "source": [
    "# Group by 'arrival_date_year', 'arrival_date_month', and 'arrival_date_day_of_month', then calculate the mean of 'adr'\n",
    "daily_adr = df.groupby(['arrival_date_year', 'arrival_date_month'])['adr'].mean().reset_index()\n",
    "\n",
    "month_order = [\n",
    "    'January', 'February', 'March', 'April', 'May', 'June', \n",
    "    'July', 'August', 'September', 'October', 'November', 'December'\n",
    "]\n",
    "daily_adr['arrival_date_month'] = pd.Categorical(\n",
    "    daily_adr['arrival_date_month'], categories=month_order, ordered=True\n",
    ")\n",
    "daily_adr = daily_adr.sort_values(['arrival_date_year', 'arrival_date_month'])\n",
    "\n",
    "# Create a combined x-axis label (Year + Month)\n",
    "daily_adr['year_month_day'] = (\n",
    "    daily_adr['arrival_date_year'].astype(str) + ' ' + \n",
    "    daily_adr['arrival_date_month'].astype(str) \n",
    ")\n",
    "\n",
    "# Plot the line plot with detailed days for each month and year\n",
    "plt.figure(figsize=(25, 8))\n",
    "sns.lineplot(\n",
    "    x='year_month_day', \n",
    "    y='adr', \n",
    "    data=daily_adr, \n",
    "    marker='o', \n",
    "    color='blue'\n",
    ")\n",
    "\n",
    "plt.xticks(rotation=90, fontsize=8)  # Rotate x-axis labels and set font size\n",
    "plt.xlabel('Year, Month', fontsize=12)  # Increase x-axis label font size\n",
    "plt.ylabel('Average Daily Rate (ADR)', fontsize=12)  # Increase y-axis label font size\n",
    "plt.title('Average Daily Rate (ADR) by Month for each Year', fontsize=14)  # Increase title font size\n",
    "\n",
    "# Add gridlines\n",
    "plt.grid(True, linestyle='--', alpha=0.6)  # Add dashed gridlines with transparency\n",
    "\n",
    "# Adjust layout for better spacing\n",
    "plt.tight_layout()\n",
    "\n",
    "# Show the plot\n",
    "plt.show()"
   ]
  },
  {
   "cell_type": "markdown",
   "id": "22756fc2-1bb9-40f9-b345-2470afc780a7",
   "metadata": {},
   "source": [
    "\n",
    "**Average Daily Rate (ADR) by Month for Each Year**\n",
    "This visual shows the **ADR trends across months for different years**. Here’s the interpretation:\n",
    "\n",
    "1. **Seasonality**:\n",
    "   - The ADR tends to vary significantly across months, indicating **seasonal trends**.\n",
    "   - For example, higher ADR values might be observed during **peak travel seasons** (e.g., summer months, holidays) due to increased demand.\n",
    "   - Lower ADR values might occur during **off-peak seasons** (e.g., winter months in some regions) due to reduced demand.\n",
    "\n",
    "2. **Yearly Trends**:\n",
    "   - The ADR might show an **upward or downward trend** over the years, reflecting changes in pricing strategies, market conditions, or inflation.\n",
    "   - If the ADR increases over the years, it could indicate **rising demand** or **inflationary pressures**.\n",
    "   - If the ADR decreases, it might suggest **increased competition** or **economic downturns**.\n",
    "\n",
    "3. **Monthly Variations**:\n",
    "   - Certain months might consistently show higher or lower ADR values across years, indicating **recurring patterns** (e.g., higher ADR in December due to holiday travel)."
   ]
  },
  {
   "cell_type": "code",
   "execution_count": null,
   "id": "aa521246-a7e8-43d0-8589-79be6f2cb4a9",
   "metadata": {},
   "outputs": [],
   "source": [
    "# Group by 'arrival_date_day_of_month' and calculate the mean of 'adr'\n",
    "daily_mean_adr = df.groupby('arrival_date_day_of_month')['adr'].mean().reset_index()\n",
    "\n",
    "plt.figure(figsize=(12, 6))\n",
    "sns.lineplot(\n",
    "    x='arrival_date_day_of_month', \n",
    "    y='adr', \n",
    "    data=daily_mean_adr, \n",
    "    marker='o', \n",
    "    color='blue'\n",
    ")\n",
    "\n",
    "# Add labels and title\n",
    "plt.xlabel('Day of the Month', fontsize=12)\n",
    "plt.ylabel('Average Daily Rate (ADR)', fontsize=12)\n",
    "plt.title('Mean Average Daily Rate (ADR) by Day of the Month (Aggregated Across All Years and Months)', fontsize=14)\n",
    "\n",
    "# Add gridlines\n",
    "plt.grid(True, linestyle='--', alpha=0.6)\n",
    "\n",
    "plt.tight_layout()\n",
    "plt.show()"
   ]
  },
  {
   "cell_type": "markdown",
   "id": "1335567c-b9ed-4294-a46c-73dde5dcef2f",
   "metadata": {},
   "source": [
    "\n",
    "**Mean Average Daily Rate (ADR) by Day of the Month (Aggregated Across All Years and Months)**\n",
    "This visual shows the **mean ADR for each day of the month**, aggregated across all years and months. Here’s the interpretation:\n",
    "\n",
    "1. **Day of the Month Trends**:\n",
    "   - The ADR might vary across days of the month, with certain days consistently showing higher or lower ADR values.\n",
    "   - For example:\n",
    "     - **Higher ADR on weekends**: If weekends (e.g., Fridays, Saturdays) show higher ADR, it could indicate **leisure travel** or **weekend getaways**.\n",
    "     - **Lower ADR on weekdays**: If weekdays (e.g., Mondays to Thursdays) show lower ADR, it might reflect **business travel** patterns or lower demand.\n",
    "\n",
    "2. **Peaks and Troughs**:\n",
    "   - **Peaks**: Days with higher ADR might correspond to **paydays**, **long weekends**, or **special events**.\n",
    "   - **Troughs**: Days with lower ADR might correspond to **mid-month lulls** or **less popular travel days**.ends.\n"
   ]
  },
  {
   "cell_type": "markdown",
   "id": "3a0084e6-17df-4fee-92e0-12799bc81e16",
   "metadata": {},
   "source": [
    "**Summary:** \n",
    "\n",
    "`Demand Drivers:` Children, adults, special requests, and seasonal trends significantly increase ADR.\\\n",
    "`Price Sensitivity:` Previous cancellations, non-canceled bookings, and longer lead times decrease ADR.\\\n",
    "`Seasonality:` ADR is higher during peak months and weekends."
   ]
  },
  {
   "cell_type": "markdown",
   "id": "ea155aa5-9c6e-455e-9a98-28c546d4355c",
   "metadata": {},
   "source": [
    "\n",
    "### **1. Leverage Demand Drivers**\n",
    "- **Children & Adults:**  \n",
    "  - **Family Packages:** Create bundled offers for families (e.g., \"Stay 3 nights, get 1 child free\" or \"Family breakfast included\").  \n",
    "  - **Upselling:** Offer add-ons like kid-friendly activities, babysitting services, or family suites to increase revenue per booking.  \n",
    "  - **Targeted Marketing:** Promote family-friendly amenities (e.g., pools, play areas) during school holidays or weekends.\n",
    "\n",
    "- **Special Requests:**  \n",
    "  - **Personalization:** Use special requests (e.g., room preferences, dietary needs) to tailor offers and upsell premium services.  \n",
    "  - **Loyalty Programs:** Reward guests who make special requests with discounts or perks for future stays.\n",
    "\n",
    "- **Seasonal Trends:**  \n",
    "  - **Dynamic Pricing:** Adjust rates during peak seasons (e.g., holidays, festivals) to maximize revenue.  \n",
    "  - **Promotions:** Offer early-bird discounts or limited-time packages during off-peak periods to attract more bookings.\n",
    "\n",
    "---\n",
    "\n",
    "### **2. Address Price Sensitivity**\n",
    "- **Previous Cancellations:**  \n",
    "  - **Flexible Policies:** Introduce tiered cancellation policies (e.g., non-refundable rates at a discount vs. flexible rates at a premium).  \n",
    "  - **Incentives:** Offer discounts or perks for guests who rebook after a cancellation.\n",
    "\n",
    "- **Non-Canceled Bookings:**  \n",
    "  - **Reward Loyalty:** Provide loyalty points, room upgrades, or complimentary services for guests with a history of non-canceled bookings.  \n",
    "  - **Prepaid Discounts:** Encourage non-refundable bookings by offering lower rates for prepaid reservations.\n",
    "\n",
    "- **Longer Lead Times:**  \n",
    "  - **Early-Bird Discounts:** Attract guests who book in advance with discounted rates or added perks (e.g., free breakfast, late checkout).  \n",
    "  - **Dynamic Pricing:** Gradually increase rates as the booking date approaches to capture last-minute bookings at higher rates.\n",
    "\n",
    "---\n",
    "\n",
    "### **3. Optimize for Seasonality**\n",
    "- **Peak Months & Weekends:**  \n",
    "  - **Premium Pricing:** Increase ADR during high-demand periods (e.g., holidays, weekends) using dynamic pricing strategies.  \n",
    "  - **Packages:** Offer exclusive weekend packages (e.g., \"Romantic Getaway\" or \"Weekend Adventure\") to justify higher rates.  \n",
    "  - **Events & Partnerships:** Collaborate with local events or attractions to create value-added experiences for guests.\n",
    "\n",
    "- **Off-Peak Periods:**  \n",
    "  - **Targeted Campaigns:** Attract business travelers or retirees with midweek discounts or extended-stay offers.  \n",
    "  - **Local Promotions:** Partner with local businesses to offer discounts or perks, encouraging stays during slower periods.\n",
    "\n",
    "---\n",
    "\n",
    "### **4. General Strategies for ADR Optimization**\n",
    "- **Upselling & Cross-Selling:**  \n",
    "  - Promote room upgrades, dining packages, spa services, or local tours during the booking process or at check-in.  \n",
    "  - Use data analytics to identify high-value guests and tailor offers to their preferences.\n",
    "\n",
    "- **Revenue Management Tools:**  \n",
    "  - Implement revenue management software to analyze demand patterns, adjust pricing dynamically, and forecast occupancy.\n",
    "\n",
    "- **Guest Experience:**  \n",
    "  - Invest in amenities and services that justify higher rates (e.g., premium bedding, personalized concierge services).  \n",
    "  - Collect and act on guest feedback to improve satisfaction and encourage repeat bookings.\n",
    "\n",
    "- **Competitor Analysis:**  \n",
    "  - Regularly benchmark your rates against competitors and adjust pricing strategies to remain competitive while maximizing revenue.\n"
   ]
  },
  {
   "cell_type": "markdown",
   "id": "af0d5b59-2a03-485c-b31f-2963702b82f4",
   "metadata": {},
   "source": [
    " **Discover patterns and relationships**"
   ]
  },
  {
   "cell_type": "markdown",
   "id": "a1166637-4e10-4c24-b618-a6435238eefb",
   "metadata": {},
   "source": [
    "`Correlation Heat Map`\n"
   ]
  },
  {
   "cell_type": "code",
   "execution_count": null,
   "id": "779b5269-6db8-482d-ae6e-092379ce5d0d",
   "metadata": {},
   "outputs": [],
   "source": [
    "cor = df[numeric_columns].corr()\n",
    "\n",
    "plt.figure(figsize=(16,12))\n",
    "plt.title('Correlation heatmap ')\n",
    "a = sns.heatmap(cor, square=True, annot=True, fmt='.2f', linecolor='white')\n",
    "a.set_xticklabels(a.get_xticklabels(), rotation=90)\n",
    "a.set_yticklabels(a.get_yticklabels(), rotation=30)           \n",
    "plt.show()"
   ]
  },
  {
   "cell_type": "markdown",
   "id": "e412f491-5750-40ea-b6a4-fb4d3fcde81f",
   "metadata": {},
   "source": [
    "## Cancellation variables Factores"
   ]
  },
  {
   "cell_type": "code",
   "execution_count": null,
   "id": "3b79114c-d27c-40cb-906c-630c62e90f08",
   "metadata": {},
   "outputs": [],
   "source": [
    "plt.figure(figsize = (8,4))\n",
    "ax = sns.countplot(x = 'hotel', hue = 'is_canceled',data=df, palette= 'Blues')\n",
    "legend_labels,_ = ax. get_legend_handles_labels()\n",
    "plt.title('Reservation status in different hotels', size=20)\n",
    "plt.xlabel('hotel')\n",
    "plt.ylabel('number of reservations')\n",
    "plt.legend(['not_canceled','canceled'])\n",
    "plt.show()"
   ]
  },
  {
   "cell_type": "code",
   "execution_count": null,
   "id": "716bbf61-b7c5-415f-a828-4324a639c359",
   "metadata": {},
   "outputs": [],
   "source": [
    "# Function to calculate proportions\n",
    "def calculate_proportions(df, category_column, binary_column):\n",
    "    proportions = df.groupby(category_column)[binary_column].mean().reset_index()\n",
    "    proportions.columns = [category_column, 'Proportion']\n",
    "    return proportions\n",
    "\n",
    "# Calculate proportions for each variable\n",
    "market_segment_prop = calculate_proportions(df, 'market_segment', 'is_canceled')\n",
    "deposit_type_prop = calculate_proportions(df, 'deposit_type', 'is_canceled')\n",
    "reservation_status_prop = calculate_proportions(df, 'reservation_status', 'is_canceled')\n",
    "\n",
    "# Set up the figure and axes\n",
    "plt.figure(figsize=(18, 6))\n",
    "\n",
    "# Plot for market_segment\n",
    "plt.subplot(1, 3, 1)\n",
    "sns.barplot(x='market_segment', y='Proportion', hue='market_segment', data=market_segment_prop, palette='viridis', legend=False)\n",
    "plt.title('Cancellation Proportion by Market Segment')\n",
    "plt.xticks(rotation=45)\n",
    "\n",
    "# Plot for deposit_type\n",
    "plt.subplot(1, 3, 2)\n",
    "sns.barplot(x='deposit_type', y='Proportion', hue='deposit_type', data=deposit_type_prop, palette='viridis', legend=False)\n",
    "plt.title('Cancellation Proportion by Deposit Type')\n",
    "plt.xticks(rotation=45)\n",
    "\n",
    "# Plot for reservation_status\n",
    "plt.subplot(1, 3, 3)\n",
    "sns.barplot(x='reservation_status', y='Proportion', hue='reservation_status', data=reservation_status_prop, palette='viridis', legend=False)\n",
    "plt.title('Cancellation Proportion by Reservation Status')\n",
    "plt.xticks(rotation=45)\n",
    "\n",
    "plt.tight_layout()\n",
    "plt.show()"
   ]
  },
  {
   "cell_type": "markdown",
   "id": "b4666ba6-9616-40be-bd65-45ba022fe5f1",
   "metadata": {},
   "source": [
    "**1. Cancellation Proportion by Market Segment**\n",
    "- **Proportion**: The cancellation rate varies across different market segments.\n",
    "  - The highest cancellation rate is **0.6**, indicating that one market segment has a 60% cancellation rate.\n",
    "  - The lowest cancellation rate is **0.0**, meaning some market segments have no cancellations.\n",
    "- **Key Insight**: \n",
    "  - Market segments with higher cancellation rates (e.g., 0.6) may indicate issues such as:\n",
    "    - Lack of customer loyalty.\n",
    "    - Poor targeting or mismatched customer expectations.\n",
    "    - Competitive pricing or better offers from competitors.\n",
    "  - Market segments with low cancellation rates (e.g., 0.0) may represent loyal customers or effective retention strategies.\n",
    "\n",
    "---\n",
    "\n",
    "**2. Cancellation Proportion by Deposit Type**\n",
    "- **Proportion**: The cancellation rate varies significantly based on the deposit type.\n",
    "  - The highest cancellation rate is **0.7**, indicating that one deposit type has a 70% cancellation rate.\n",
    "  - The lowest cancellation rate is **0.0**, meaning some deposit types have no cancellations.\n",
    "- **Key Insight**:\n",
    "  - Deposit types with high cancellation rates (e.g., 0.7) may suggest:\n",
    "    - Customers are unwilling to commit to non-refundable deposits.\n",
    "    - Lack of flexibility in deposit policies.\n",
    "  - Deposit types with low cancellation rates (e.g., 0.0) may indicate:\n",
    "    - Refundable or flexible deposit policies that encourage customers to follow through with bookings.\n",
    "\n",
    "---\n",
    "\n",
    "**3. Cancellation Proportion by Reservation Status**\n",
    "- **Proportion**: The cancellation rate varies based on the reservation status.\n",
    "  - The highest cancellation rate is **0.9**, indicating that one reservation status has a 90% cancellation rate.\n",
    "  - The lowest cancellation rate is **0.0**, meaning some reservation statuses have no cancellations.\n",
    "- **Key Insight**:\n",
    "  - Reservation statuses with high cancellation rates (e.g., 0.9) may indicate:\n",
    "    - Last-minute changes or no-shows.\n",
    "    - Poor communication or follow-up with customers.\n",
    "  - Reservation statuses with low cancellation rates (e.g., 0.0) may represent confirmed bookings or effective pre-arrival engagement.\n",
    "\n",
    "---\n",
    "\n",
    " **Key Factors Affecting Cancellation Rate**\n",
    "1. **Market Segment**:\n",
    "   - Certain market segments (e.g., online travel agencies, corporate bookings) may have higher cancellation rates due to:\n",
    "     - Lack of commitment or flexibility in booking policies.\n",
    "     - Competitive pricing or better offers elsewhere.\n",
    "\n",
    "2. **Deposit Type**:\n",
    "   - Non-refundable deposits may lead to higher cancellations if customers feel locked into a booking.\n",
    "   - Refundable or flexible deposit policies can reduce cancellations by giving customers peace of mind.\n",
    "\n",
    "3. **Reservation Status**:\n",
    "   - Reservations that are not confirmed or lack follow-up communication may have higher cancellation rates.\n",
    "   - Proactive engagement (e.g., reminders, personalized offers) can reduce cancellations.\n",
    "\n",
    "---\n",
    "\n",
    "**Recommendations to Reduce Cancellation Rates**\n",
    "1. **Target High-Risk Market Segments**:\n",
    "   - Analyze the characteristics of market segments with high cancellation rates and tailor marketing strategies to improve retention.\n",
    "\n",
    "2. **Revise Deposit Policies**:\n",
    "   - Offer more flexible deposit options (e.g., partial refunds, free cancellations within a certain period) to reduce cancellations.\n",
    "\n",
    "3. **Improve Reservation Management**:\n",
    "   - Implement automated reminders and follow-ups to reduce no-shows and last-minute cancellations.\n",
    "   - Provide incentives for customers to confirm their bookings (e.g., discounts, upgrades).\n",
    "\n",
    "4. **Enhance Customer Experience**:\n",
    "   - Address pain points in the booking process (e.g., unclear policies, lack of transparency) to build trust and reduce cancellations.\n"
   ]
  },
  {
   "cell_type": "code",
   "execution_count": null,
   "id": "31a91a61-5335-4526-8d00-522f1ffcfb9c",
   "metadata": {},
   "outputs": [],
   "source": [
    "# Import necessary libraries\n",
    "from sklearn.compose import ColumnTransformer\n",
    "from sklearn.preprocessing import StandardScaler, OneHotEncoder\n",
    "from sklearn.model_selection import train_test_split\n",
    "\n",
    "# Separate features (X) and target (y)\n",
    "X = df.drop(columns=[\"is_canceled\"])\n",
    "y = df[\"is_canceled\"]\n",
    "\n",
    "# Define categorical and numerical columns\n",
    "categorical_cols = [\"market_segment\", \"deposit_type\", \"customer_type\"]  # Add others\n",
    "numerical_cols = [\"lead_time\", \"adr\", \"total_of_special_requests\"]       # Add others\n",
    "\n",
    "# Preprocessing pipeline\n",
    "preprocessor = ColumnTransformer(\n",
    "    transformers=[\n",
    "        (\"num\", StandardScaler(), numerical_cols),\n",
    "        (\"cat\", OneHotEncoder(handle_unknown=\"ignore\"), categorical_cols),\n",
    "    ]\n",
    ")\n",
    "\n",
    "# Split data into train/test sets\n",
    "X_train, X_test, y_train, y_test = train_test_split(X, y, test_size=0.2, random_state=42)\n",
    "\n",
    "# Apply preprocessing\n",
    "X_train_processed = preprocessor.fit_transform(X_train)\n",
    "X_test_processed = preprocessor.transform(X_test)"
   ]
  },
  {
   "cell_type": "code",
   "execution_count": null,
   "id": "479132ba-9d46-47d1-bfb4-4a958ec36527",
   "metadata": {},
   "outputs": [],
   "source": [
    "from imblearn.over_sampling import SMOTE\n",
    "\n",
    "smote = SMOTE(random_state=42)\n",
    "X_train_balanced, y_train_balanced = smote.fit_resample(X_train_processed, y_train)"
   ]
  },
  {
   "cell_type": "code",
   "execution_count": null,
   "id": "a93a866b-5a86-4ab2-b40f-ae194c98d5d6",
   "metadata": {},
   "outputs": [],
   "source": [
    "from sklearn.ensemble import RandomForestClassifier\n",
    "\n",
    "# Train a model (e.g., RandomForestClassifier)\n",
    "model = RandomForestClassifier(random_state=42)\n",
    "model.fit(X_train_processed, y_train)\n",
    "\n",
    "# Get feature names from OneHotEncoder\n",
    "cat_encoder = preprocessor.named_transformers_[\"cat\"]\n",
    "cat_features = cat_encoder.get_feature_names_out(categorical_cols)\n",
    "all_features = numerical_cols + list(cat_features)\n",
    "\n",
    "# Plot feature importance\n",
    "feature_importance = pd.DataFrame({\n",
    "    \"Feature\": all_features,\n",
    "    \"Importance\": model.feature_importances_\n",
    "}).sort_values(by=\"Importance\", ascending=False)\n",
    "\n",
    "plt.figure(figsize=(10, 6))\n",
    "sns.barplot(x=\"Importance\", y=\"Variables\", data=feature_importance.head(10))\n",
    "plt.title(\"Top 10 Features Influencing Cancellations\")\n",
    "plt.show()\n"
   ]
  },
  {
   "cell_type": "markdown",
   "id": "0667f274-f9b7-491f-bf07-420ba1ef7b7b",
   "metadata": {},
   "source": [
    "**Key Factors Affecting Cancellations (Based on Model)**\n",
    "\n",
    "`Lead Time`: Longer lead times often correlate with higher cancellations.\n",
    "\n",
    "`Deposit Type`: Non-refundable deposits may increase cancellations.\n",
    "\n",
    "`Market Segment`: Specific segments (e.g., online travel agencies) may have higher cancellation rates.\n",
    "\n",
    "`Average Daily Rate`: Higher prices might lead to more cancellations.\n",
    "\n",
    "`Special Requests`: Fewer requests may indicate lower commitment."
   ]
  },
  {
   "cell_type": "markdown",
   "id": "593a5ca0-4d5f-4fa3-b872-0fe27749ac32",
   "metadata": {},
   "source": [
    "### Actionable plan to reduce cancellations rate :\n"
   ]
  },
  {
   "cell_type": "markdown",
   "id": "b7129c7f-a875-4d53-b2ac-a7875edcb880",
   "metadata": {},
   "source": [
    "\n",
    "**1. Reduce Lead Time**\n",
    "- **Issue**: Long lead times increase cancellations.\n",
    "- **Solution**:\n",
    "  - Offer **last-minute discounts**.\n",
    "  - Allow **free rescheduling** for early bookings.\n",
    "\n",
    "---\n",
    "\n",
    "**2. Flexible Deposit Policies**\n",
    "- **Issue**: Non-refundable deposits deter customers.\n",
    "- **Solution**:\n",
    "  - Introduce **partially refundable deposits**.\n",
    "  - Provide **free cancellation windows** (e.g., 48 hours before arrival).\n",
    "\n",
    "---\n",
    "\n",
    "**3. Target High-Risk Segments**\n",
    "- **Issue**: Certain segments (e.g., online, corporate) cancel more.\n",
    "- **Solution**:\n",
    "  - Use **personalized offers** for high-risk groups.\n",
    "  - Partner with trusted agencies for online bookings.\n",
    "\n",
    "---\n",
    "\n",
    "**4. Optimize Pricing**\n",
    "- **Issue**: High prices lead to cancellations.\n",
    "- **Solution**:\n",
    "  - Implement **dynamic pricing**.\n",
    "  - Offer **early-bird discounts** or value-added packages.\n",
    "\n",
    "---\n",
    "\n",
    "**5. Encourage Special Requests**\n",
    "- **Issue**: Fewer requests correlate with higher cancellations.\n",
    "- **Solution**:\n",
    "  - Prompt customers to add preferences during booking.\n",
    "  - Use requests to personalize stays and increase engagement.\n",
    "\n",
    "---\n",
    "\n",
    "**6. Improve Communication**\n",
    "- **Issue**: Lack of post-booking engagement.\n",
    "- **Solution**:\n",
    "  - Send **automated reminders** with useful info.\n",
    "  - Offer **pre-arrival upsells** (e.g., spa, dining).\n"
   ]
  }
 ],
 "metadata": {
  "kernelspec": {
   "display_name": "Python 3 (ipykernel)",
   "language": "python",
   "name": "python3"
  },
  "language_info": {
   "codemirror_mode": {
    "name": "ipython",
    "version": 3
   },
   "file_extension": ".py",
   "mimetype": "text/x-python",
   "name": "python",
   "nbconvert_exporter": "python",
   "pygments_lexer": "ipython3",
   "version": "3.12.3"
  }
 },
 "nbformat": 4,
 "nbformat_minor": 5
}
